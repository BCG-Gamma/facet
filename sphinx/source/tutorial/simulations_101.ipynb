{
 "cells": [
  {
   "cell_type": "raw",
   "metadata": {
    "raw_mimetype": "text/html"
   },
   "source": [
    "<img src=\"../_static/Gamma_Facet_Logo_RGB_LB.svg\" width=\"500\" style=\"padding-bottom: 70px; padding-top: 70px; margin: auto; display: block\">"
   ]
  },
  {
   "cell_type": "markdown",
   "metadata": {},
   "source": [
    "# *Name of tutorial* with FACET\n",
    "\n",
    "***\n",
    "\n",
    "**Robust and impactful Data Science with FACET**\n",
    "\n",
    "FACET enables us to perform several critical steps in best practice Data Science work flow easily, efficiently and reproducibly:\n",
    "\n",
    "1. Create a robust pipeline for learner selection using LearnerRanker and cross-validation.\n",
    "\n",
    "2. Enhance our model inspection to understand drivers of predictions using local explanations of features via [SHAP values](http://papers.nips.cc/paper/7062-a-unified-approach-to-interpreting-model-predictions) by applying a novel methodology that decomposes SHAP values into measures of synergy, redundancy, and independence between each pair of features.\n",
    "\n",
    "3. Quickly apply historical simulation to gain key insights into feature values that minimize or maximize the predicted outcome.\n",
    "\n",
    "***\n",
    "\n",
    "**Context**\n",
    "\n",
    "This tutorial aims to provide a step by step explanation about the simultion capabilities of Facet\n",
    "\n",
    "1. The tutorial will answer several quesitons such as: How does a simulation work? or When can I/can't I use it?\n",
    "2. Drilling a water well is very dangerous and costly. The costs of such drilling are driven by the time it takes to finalize a well in order to start pumping water from it. To reduce those costs, drillers are usually incentivized to drill at a faster pace—measured as the Rate of Penetration (ROP). Depending on soil characteristics, day rates can range from 30,000 to \\$250,000. But there is a trade-off: Drilling faster increases the risk of incidents, such as a formation collapse or a gas infiltration. We will therefore built a machine-learning model to understand the impact of drilling speed on the incident risk, in the context of other risk factors. \n",
    "\n",
    "For the sake of clarity, we use a simplified dataset for this example. The dataset contains 500 observations, with each row representing a drilling operation of the past, along with a binary indicator of whether or not a well-drilling incident happened in the operation. \n",
    "\n",
    "\n",
    "***\n",
    "\n",
    "**Tutorial outline**\n",
    "\n",
    "1. [Required imports](#Required-imports)\n",
    "2. [*Your sections*](#Your-sections)  \n",
    "... *more of your sections*\n",
    "\n",
    "3. [Summary](#Summary)\n",
    "4. [What can you do next?](#What-can-you-do-next?)\n",
    "5. [Appendix](#Appendix)\n",
    "\n",
    "#TODO repeat the nb with UnivariateUpliftSimulator or UnivariateTargetSimulator"
   ]
  },
  {
   "cell_type": "code",
   "execution_count": 1,
   "metadata": {},
   "outputs": [
    {
     "name": "stdout",
     "output_type": "stream",
     "text": [
      "working dir is '/Users/grisard_malo/PycharmProjects/githubFacet/facet'\n",
      "added `/Users/grisard_malo/PycharmProjects/githubFacet/pytools/src` to python paths\n",
      "added `/Users/grisard_malo/PycharmProjects/githubFacet/facet/src` to python paths\n",
      "added `/Users/grisard_malo/PycharmProjects/githubFacet/sklearndf/src` to python paths\n"
     ]
    }
   ],
   "source": [
    "# this cell's metadata contains\n",
    "# \"nbsphinx\": \"hidden\" so it is hidden by nbsphinx\n",
    "\n",
    "\n",
    "def _set_paths() -> None:\n",
    "    # set the correct path when launched from within PyCharm\n",
    "\n",
    "    module_paths = [\"pytools\", \"facet\", \"sklearndf\"]\n",
    "\n",
    "    import sys\n",
    "    import os\n",
    "\n",
    "    if \"cwd\" not in globals():\n",
    "        # noinspection PyGlobalUndefined\n",
    "        global cwd\n",
    "        cwd = os.path.join(os.getcwd(), os.pardir, os.pardir, os.pardir)\n",
    "        os.chdir(cwd)\n",
    "    print(f\"working dir is '{os.getcwd()}'\")\n",
    "    for module_path in module_paths:\n",
    "        if module_path not in sys.path:\n",
    "            sys.path.insert(0, os.path.abspath(f\"{cwd}/{os.pardir}/{module_path}/src\"))\n",
    "        print(f\"added `{sys.path[0]}` to python paths\")\n",
    "\n",
    "\n",
    "def _ignore_warnings():\n",
    "    # ignore irrelevant warnings that would affect the output of this tutorial notebook\n",
    "\n",
    "    # ignore a useless LGBM warning\n",
    "    import warnings\n",
    "\n",
    "    warnings.filterwarnings(\"ignore\", category=UserWarning, message=r\".*Xcode_8\\.3\\.3\")\n",
    "\n",
    "\n",
    "_set_paths()\n",
    "_ignore_warnings()\n",
    "\n",
    "del _set_paths, _ignore_warnings\n",
    "\n",
    "\n",
    "import matplotlib.pyplot as plt\n",
    "\n",
    "\n",
    "def _configure_matplotlib():\n",
    "    # set global options for matplotlib\n",
    "\n",
    "    import matplotlib\n",
    "\n",
    "    matplotlib.rcParams[\"figure.figsize\"] = (16.0, 8.0)\n",
    "    matplotlib.rcParams[\"figure.dpi\"] = 72\n",
    "\n",
    "\n",
    "_configure_matplotlib()\n",
    "\n",
    "del _configure_matplotlib"
   ]
  },
  {
   "cell_type": "markdown",
   "metadata": {},
   "source": [
    "# Required imports"
   ]
  },
  {
   "cell_type": "markdown",
   "metadata": {},
   "source": [
    "In order to run this notebook, we will import not only the FACET package, but also other packages useful to solve this task. Overall, we can break down the imports into three categories: \n",
    "\n",
    "1. Common packages (pandas, matplotlib, etc.)\n",
    "2. Required FACET classes (inspection, selection, validation, simulation, etc.)\n",
    "3. Other BCG Gamma packages which simplify pipelining (sklearndf, see on [GitHub](https://github.com/BCG-Gamma/sklearndf/)) and support visualization (pytools, see on [GitHub](https://github.com/BCG-Gamma/pytools)) when using FACET"
   ]
  },
  {
   "cell_type": "markdown",
   "metadata": {},
   "source": [
    "**Common package imports**"
   ]
  },
  {
   "cell_type": "code",
   "execution_count": 2,
   "metadata": {},
   "outputs": [],
   "source": [
    "# list your usual imports here such as pandas, numpy and others \n",
    "# not covered by FACET, sklearndf or pytools\n",
    "import numpy as np\n",
    "import pandas as pd\n",
    "import seaborn as sns"
   ]
  },
  {
   "cell_type": "markdown",
   "metadata": {},
   "source": [
    "**Gamma FACET imports**"
   ]
  },
  {
   "cell_type": "code",
   "execution_count": 3,
   "metadata": {},
   "outputs": [],
   "source": [
    "from facet.data import Sample\n",
    "from facet.validation import BootstrapCV\n",
    "from facet.simulation.partition import (ContinuousRangePartitioner, \n",
    "IntegerRangePartitioner, CategoryPartitioner)\n",
    "from facet.simulation import UnivariateProbabilitySimulator\n",
    "from facet.simulation.viz import SimulationDrawer\n",
    "from facet.crossfit import LearnerCrossfit"
   ]
  },
  {
   "cell_type": "markdown",
   "metadata": {},
   "source": [
    "**sklearndf imports**\n",
    "\n",
    "Instead of using the \"regular\" scikit-learn package, we are going to use sklearndf (see on [GitHub](https://github.com/orgs/BCG-Gamma/sklearndf/)). sklearndf is an open source library designed to address a common issue with scikit-learn: the outputs of transformers are numpy arrays, even when the input is a data frame. However, to inspect a model it is essential to keep track of the feature names. sklearndf retains all the functionality available through scikit-learn plus the feature traceability and usability associated with Pandas data frames. Additionally, the names of all your favourite scikit-learn functions are the same except for `DF` on the end. For example, the standard scikit-learn import:\n",
    "\n",
    "`from sklearn.pipeline import Pipeline`\n",
    "\n",
    "becomes:\n",
    "\n",
    "`from sklearndf.pipeline import PipelineDF`"
   ]
  },
  {
   "cell_type": "code",
   "execution_count": 4,
   "metadata": {},
   "outputs": [],
   "source": [
    "from sklearndf.pipeline import ClassifierPipelineDF\n",
    "from sklearndf.classification.extra import LGBMClassifierDF"
   ]
  },
  {
   "cell_type": "markdown",
   "metadata": {},
   "source": [
    "**pytools imports**\n",
    "\n",
    "pytools (see on [GitHub](https://github.com/BCG-Gamma/pytools)) is an open source library containing general machine learning and visualization utilities, some of which are useful for visualising the advanced model inspection capabilities of FACET."
   ]
  },
  {
   "cell_type": "code",
   "execution_count": 5,
   "metadata": {},
   "outputs": [],
   "source": [
    "# list your pytools imports here"
   ]
  },
  {
   "cell_type": "markdown",
   "metadata": {},
   "source": [
    "# *Your sections*\n",
    "\n",
    "1. *Your text providing an overview of this section.*\n",
    "2. *Use as many sections as you need to provide a good high-level structure to the tutorial, such as preprocessing, classifier development or model inspection*\n",
    "\n",
    "Based on the water well drilling tutorial, we select a feature set allmost linearly independent with the ROP (Rate of Penetration)"
   ]
  },
  {
   "cell_type": "code",
   "execution_count": 6,
   "metadata": {},
   "outputs": [],
   "source": [
    "df = pd.read_csv(\n",
    "    \"sphinx/source/tutorial/water_drill_data_classification.csv\",\n",
    "    sep=\";\",\n",
    "    encoding=\"utf-8\",\n",
    ")\n",
    "\n",
    "feature_set = ['Weight on bit (kg)', 'Rotation speed (rpm)',\n",
    "               'Depth of operation (m)', 'Mud density (kg/L)',\n",
    "               'Rate of Penetration (ft/h)', 'Hole diameter (m)']\n",
    "drilling_obs = Sample(observations=df, \n",
    "                      target_name=\"Incident\", \n",
    "                      feature_names=feature_set)"
   ]
  },
  {
   "cell_type": "code",
   "execution_count": 7,
   "metadata": {
    "scrolled": true
   },
   "outputs": [
    {
     "data": {
      "text/html": [
       "<div>\n",
       "<style scoped>\n",
       "    .dataframe tbody tr th:only-of-type {\n",
       "        vertical-align: middle;\n",
       "    }\n",
       "\n",
       "    .dataframe tbody tr th {\n",
       "        vertical-align: top;\n",
       "    }\n",
       "\n",
       "    .dataframe thead th {\n",
       "        text-align: right;\n",
       "    }\n",
       "</style>\n",
       "<table border=\"1\" class=\"dataframe\">\n",
       "  <thead>\n",
       "    <tr style=\"text-align: right;\">\n",
       "      <th>feature</th>\n",
       "      <th>Weight on bit (kg)</th>\n",
       "      <th>Rotation speed (rpm)</th>\n",
       "      <th>Depth of operation (m)</th>\n",
       "      <th>Mud density (kg/L)</th>\n",
       "      <th>Rate of Penetration (ft/h)</th>\n",
       "      <th>Hole diameter (m)</th>\n",
       "    </tr>\n",
       "    <tr>\n",
       "      <th>observation</th>\n",
       "      <th></th>\n",
       "      <th></th>\n",
       "      <th></th>\n",
       "      <th></th>\n",
       "      <th></th>\n",
       "      <th></th>\n",
       "    </tr>\n",
       "  </thead>\n",
       "  <tbody>\n",
       "    <tr>\n",
       "      <th>0</th>\n",
       "      <td>306.141821</td>\n",
       "      <td>9849.952938</td>\n",
       "      <td>927.968837</td>\n",
       "      <td>2.902467</td>\n",
       "      <td>10.000000</td>\n",
       "      <td>6.373932</td>\n",
       "    </tr>\n",
       "    <tr>\n",
       "      <th>1</th>\n",
       "      <td>324.039405</td>\n",
       "      <td>10744.516916</td>\n",
       "      <td>1106.187754</td>\n",
       "      <td>2.106770</td>\n",
       "      <td>32.898796</td>\n",
       "      <td>7.507640</td>\n",
       "    </tr>\n",
       "    <tr>\n",
       "      <th>2</th>\n",
       "      <td>345.377055</td>\n",
       "      <td>5393.241061</td>\n",
       "      <td>898.168085</td>\n",
       "      <td>3.909455</td>\n",
       "      <td>22.723761</td>\n",
       "      <td>6.180673</td>\n",
       "    </tr>\n",
       "    <tr>\n",
       "      <th>3</th>\n",
       "      <td>356.709497</td>\n",
       "      <td>6776.865696</td>\n",
       "      <td>769.165223</td>\n",
       "      <td>2.473607</td>\n",
       "      <td>25.168914</td>\n",
       "      <td>5.368265</td>\n",
       "    </tr>\n",
       "    <tr>\n",
       "      <th>4</th>\n",
       "      <td>328.437275</td>\n",
       "      <td>6024.116387</td>\n",
       "      <td>215.202605</td>\n",
       "      <td>3.033681</td>\n",
       "      <td>18.921436</td>\n",
       "      <td>2.092908</td>\n",
       "    </tr>\n",
       "  </tbody>\n",
       "</table>\n",
       "</div>"
      ],
      "text/plain": [
       "feature      Weight on bit (kg)  Rotation speed (rpm)  Depth of operation (m)  \\\n",
       "observation                                                                     \n",
       "0                    306.141821           9849.952938              927.968837   \n",
       "1                    324.039405          10744.516916             1106.187754   \n",
       "2                    345.377055           5393.241061              898.168085   \n",
       "3                    356.709497           6776.865696              769.165223   \n",
       "4                    328.437275           6024.116387              215.202605   \n",
       "\n",
       "feature      Mud density (kg/L)  Rate of Penetration (ft/h)  Hole diameter (m)  \n",
       "observation                                                                     \n",
       "0                      2.902467                   10.000000           6.373932  \n",
       "1                      2.106770                   32.898796           7.507640  \n",
       "2                      3.909455                   22.723761           6.180673  \n",
       "3                      2.473607                   25.168914           5.368265  \n",
       "4                      3.033681                   18.921436           2.092908  "
      ]
     },
     "execution_count": 7,
     "metadata": {},
     "output_type": "execute_result"
    }
   ],
   "source": [
    "drilling_obs.features.head()"
   ]
  },
  {
   "cell_type": "markdown",
   "metadata": {},
   "source": [
    "# Partitioning\n",
    "\n",
    "The first step to simulate feature effects on the target is to set the scope of the study for the feature we want to simulate. Depending on the feature observations distribution, a partitioner object will set lower and upper boundaries to fix the simulation scope.\n",
    "\n",
    "The partitioner creates a set of partition values $v_j \\in V$ that are later used one after the other in simulation.\n",
    "\n",
    "Facet has three variations of partitioner available depending on the feature type, ContinuousRangePartitioner, IntegerRangePartitioner and CategoryPartitioner\n",
    "-\tIf the feature is categorical, the partitioner will create a partition for each unique value $v_j$\n",
    "\n",
    "\n",
    "-\tIf the feature is numerical (continuous), the partitioner will subdivide feature range of values into equidistant sub-ranges. Each partition will be represented by the central value of the sub-range. Each partition is represented by the central value of that partition $v_j$.\n",
    "\n",
    "\n",
    "-\tIf the feature is numerical  (integer), the partitioner will subdivide feature range of values into almost equidistant sub-ranges keeping the bin boundaries integers. Each partition will be represented by the central value of the sub-range potentially disrupting sub-ranges. Each partition is represented by the central value of that partition $v_j$."
   ]
  },
  {
   "cell_type": "code",
   "execution_count": 8,
   "metadata": {},
   "outputs": [],
   "source": [
    "SIM_FEATURE = \"Rate of Penetration (ft/h)\""
   ]
  },
  {
   "cell_type": "markdown",
   "metadata": {},
   "source": [
    "## Observing the data distribution\n",
    "\n",
    "The plot below shows that the ROP values $O_i$ of the dataset are centered around 24 ft/hr with a variance around 22ft/h."
   ]
  },
  {
   "cell_type": "code",
   "execution_count": 9,
   "metadata": {},
   "outputs": [
    {
     "data": {
      "text/plain": [
       "<matplotlib.axes._subplots.AxesSubplot at 0x7fb49a43dd10>"
      ]
     },
     "execution_count": 9,
     "metadata": {},
     "output_type": "execute_result"
    },
    {
     "data": {
      "image/png": "[encoded data removed]",
      "text/plain": [
       "<Figure size 1152x576 with 1 Axes>"
      ]
     },
     "metadata": {
      "needs_background": "light"
     },
     "output_type": "display_data"
    }
   ],
   "source": [
    "sns.distplot(drilling_obs.features[SIM_FEATURE], rug=True)"
   ]
  },
  {
   "cell_type": "markdown",
   "metadata": {},
   "source": [
    "## Partitioning the data\n",
    "\n",
    "The ROP is a continuous variable (measured in ft/h) hence we should use the *ContinuousRangePartitioner* object."
   ]
  },
  {
   "cell_type": "code",
   "execution_count": 10,
   "metadata": {},
   "outputs": [
    {
     "data": {
      "text/plain": [
       "True"
      ]
     },
     "execution_count": 10,
     "metadata": {},
     "output_type": "execute_result"
    }
   ],
   "source": [
    "# Instantiate the partitioner\n",
    "rop_bins = ContinuousRangePartitioner()\n",
    "\n",
    "# Fit the partitioner on the observations' distribution\n",
    "rop_bins.fit(drilling_obs.features[SIM_FEATURE])\n",
    "rop_bins.is_fitted()"
   ]
  },
  {
   "cell_type": "code",
   "execution_count": 11,
   "metadata": {},
   "outputs": [
    {
     "data": {
      "text/plain": [
       "[(14.5, 15.5),\n",
       " (15.5, 16.5),\n",
       " (16.5, 17.5),\n",
       " (17.5, 18.5),\n",
       " (18.5, 19.5),\n",
       " (19.5, 20.5),\n",
       " (20.5, 21.5),\n",
       " (21.5, 22.5),\n",
       " (22.5, 23.5),\n",
       " (23.5, 24.5),\n",
       " (24.5, 25.5),\n",
       " (25.5, 26.5),\n",
       " (26.5, 27.5),\n",
       " (27.5, 28.5),\n",
       " (28.5, 29.5),\n",
       " (29.5, 30.5),\n",
       " (30.5, 31.5),\n",
       " (31.5, 32.5),\n",
       " (32.5, 33.5)]"
      ]
     },
     "execution_count": 11,
     "metadata": {},
     "output_type": "execute_result"
    }
   ],
   "source": [
    "# One can observe that bounds are continuous, try changing the partitioner\n",
    "# to an IntegerRangePartitioner and observe that partition become integers\n",
    "rop_bins.partition_bounds_"
   ]
  },
  {
   "cell_type": "markdown",
   "metadata": {},
   "source": [
    "The partition set $V$ can be seen below"
   ]
  },
  {
   "cell_type": "code",
   "execution_count": 12,
   "metadata": {},
   "outputs": [
    {
     "data": {
      "text/plain": [
       "[15.0,\n",
       " 16.0,\n",
       " 17.0,\n",
       " 18.0,\n",
       " 19.0,\n",
       " 20.0,\n",
       " 21.0,\n",
       " 22.0,\n",
       " 23.0,\n",
       " 24.0,\n",
       " 25.0,\n",
       " 26.0,\n",
       " 27.0,\n",
       " 28.0,\n",
       " 29.0,\n",
       " 30.0,\n",
       " 31.0,\n",
       " 32.0,\n",
       " 33.0]"
      ]
     },
     "execution_count": 12,
     "metadata": {},
     "output_type": "execute_result"
    }
   ],
   "source": [
    "rop_bins.partitions_"
   ]
  },
  {
   "cell_type": "markdown",
   "metadata": {},
   "source": [
    "# Simulating one partition\n",
    "\n",
    "For each partition value $v_j$, we will compute several simulations to get a sense of how and how much the feature value impacts the target. \n",
    "\n",
    "Two pre-requisites are needed to run the simulation:\n",
    "- Have the sample of observations\n",
    "- Have a parametrized model\n",
    "\n",
    "Steps to run a simulation for ROP=$v_j$\n",
    "- Step 1: set up cross-fit method, for simulations it is standard to use bootstrap as a cross validation with a relatively large number of resamples (~1000)\n",
    "\n",
    "## Pre-requisites\n",
    "From the water drilling tutorial classifiers' experiment, we know that the best model is an LGBM classifier, hence we choose this model for our simulation."
   ]
  },
  {
   "cell_type": "code",
   "execution_count": 13,
   "metadata": {},
   "outputs": [],
   "source": [
    "# light gradient boosting learner\n",
    "lgbm_clf = ClassifierPipelineDF(\n",
    "    classifier=LGBMClassifierDF(random_state=42, min_data_in_leaf=15),\n",
    ")"
   ]
  },
  {
   "cell_type": "markdown",
   "metadata": {},
   "source": [
    "## Step 1: Set up crossfit\n",
    "\n",
    "The crossfit is built by using a cross-validation method to fit several learners (all using the model parametrized), each using a specific split.\n",
    "\n",
    "Below is an example with 3 splits. One can observe the random resampling from bootstrappiing, the first observation ($O_0$) would be in the test set of two folds while the third observation ($O_2$) would never occur in the test set."
   ]
  },
  {
   "cell_type": "code",
   "execution_count": 14,
   "metadata": {},
   "outputs": [
    {
     "name": "stdout",
     "output_type": "stream",
     "text": [
      "TRAIN: [6 3 7 4 6 9 2 6 7 4] TEST: [0 1 5 8]\n",
      "TRAIN: [3 7 7 2 5 4 1 7 5 1] TEST: [0 6 8 9]\n",
      "TRAIN: [4 0 9 5 8 0 9 2 6 3] TEST: [1 7]\n"
     ]
    }
   ],
   "source": [
    "# EXAMPLE CELL\n",
    "# Instantiate cross validation method\n",
    "cv = BootstrapCV(n_splits=3, random_state=42)\n",
    "\n",
    "# Take a small sub-sample from the dataset (to show an example)\n",
    "example_sample = drilling_obs.subsample(iloc=range(10))\n",
    "\n",
    "for train_index, test_index in cv.split(example_sample.features, example_sample.target):\n",
    "    print(\"TRAIN:\", train_index, \"TEST:\", test_index)"
   ]
  },
  {
   "cell_type": "code",
   "execution_count": 19,
   "metadata": {},
   "outputs": [],
   "source": [
    "# Instantiate the crossfit\n",
    "boot_crossfit = LearnerCrossfit(\n",
    "    pipeline=lgbm_clf,\n",
    "    cv=BootstrapCV(n_splits=10, random_state=42),\n",
    "    n_jobs=1,\n",
    "    verbose=1,\n",
    ")"
   ]
  },
  {
   "cell_type": "markdown",
   "metadata": {},
   "source": [
    "One can observe that a model has been trained for each boostrap fold. "
   ]
  },
  {
   "cell_type": "code",
   "execution_count": 16,
   "metadata": {},
   "outputs": [
    {
     "name": "stderr",
     "output_type": "stream",
     "text": [
      "[Parallel(n_jobs=1)]: Using backend SequentialBackend with 1 concurrent workers.\n",
      "[Parallel(n_jobs=1)]: Done  10 out of  10 | elapsed:    2.6s finished\n"
     ]
    },
    {
     "data": {
      "text/plain": [
       "<facet.crossfit._crossfit.LearnerCrossfit at 0x7f9b44bf9c50>"
      ]
     },
     "execution_count": 16,
     "metadata": {},
     "output_type": "execute_result"
    }
   ],
   "source": [
    "# Fit the model\n",
    "boot_crossfit.fit(sample=drilling_obs)"
   ]
  },
  {
   "cell_type": "code",
   "execution_count": 24,
   "metadata": {},
   "outputs": [
    {
     "name": "stdout",
     "output_type": "stream",
     "text": [
      "Check learner is fitted: ClassifierPipelineDF(classifier=LGBMClassifierDF(min_data_in_leaf=15,\n",
      "                                                 random_state=42)), is fitted: True\n",
      "Check learner is fitted: ClassifierPipelineDF(classifier=LGBMClassifierDF(min_data_in_leaf=15,\n",
      "                                                 random_state=42)), is fitted: True\n",
      "Check learner is fitted: ClassifierPipelineDF(classifier=LGBMClassifierDF(min_data_in_leaf=15,\n",
      "                                                 random_state=42)), is fitted: True\n",
      "Check learner is fitted: ClassifierPipelineDF(classifier=LGBMClassifierDF(min_data_in_leaf=15,\n",
      "                                                 random_state=42)), is fitted: True\n",
      "Check learner is fitted: ClassifierPipelineDF(classifier=LGBMClassifierDF(min_data_in_leaf=15,\n",
      "                                                 random_state=42)), is fitted: True\n",
      "Check learner is fitted: ClassifierPipelineDF(classifier=LGBMClassifierDF(min_data_in_leaf=15,\n",
      "                                                 random_state=42)), is fitted: True\n",
      "Check learner is fitted: ClassifierPipelineDF(classifier=LGBMClassifierDF(min_data_in_leaf=15,\n",
      "                                                 random_state=42)), is fitted: True\n",
      "Check learner is fitted: ClassifierPipelineDF(classifier=LGBMClassifierDF(min_data_in_leaf=15,\n",
      "                                                 random_state=42)), is fitted: True\n",
      "Check learner is fitted: ClassifierPipelineDF(classifier=LGBMClassifierDF(min_data_in_leaf=15,\n",
      "                                                 random_state=42)), is fitted: True\n",
      "Check learner is fitted: ClassifierPipelineDF(classifier=LGBMClassifierDF(min_data_in_leaf=15,\n",
      "                                                 random_state=42)), is fitted: True\n"
     ]
    }
   ],
   "source": [
    "for learner in boot_crossfit.models():\n",
    "    print(f\"Check learner is fitted: {learner}, is fitted: {learner.is_fitted}\")"
   ]
  },
  {
   "cell_type": "markdown",
   "metadata": {},
   "source": [
    "## Calibrate simulation\n",
    "\n",
    "As our model is a classifier (the model estimates a probability to have an incident), we will use a UnivariateProbabilitySimulator. \n",
    "\n"
   ]
  },
  {
   "cell_type": "code",
   "execution_count": 25,
   "metadata": {},
   "outputs": [
    {
     "name": "stderr",
     "output_type": "stream",
     "text": [
      "at least 999 bootstrap splits are recommended for reliable results with arg confidence_level=0.95, but arg crossfit.cv has only 10 splits\n"
     ]
    }
   ],
   "source": [
    "# Instantiate simulator\n",
    "rop_simulator = UnivariateProbabilitySimulator(crossfit=boot_crossfit, \n",
    "                                               n_jobs=-3)"
   ]
  },
  {
   "cell_type": "code",
   "execution_count": 26,
   "metadata": {},
   "outputs": [
    {
     "name": "stdout",
     "output_type": "stream",
     "text": [
      "Actual frequency of incidents: 57.2%\n"
     ]
    }
   ],
   "source": [
    "print(f\"Actual frequency of incidents: {round(rop_simulator.baseline()*100, 1)}%\")"
   ]
  },
  {
   "cell_type": "markdown",
   "metadata": {},
   "source": [
    "For each test split $\\mathrm{T}_i$ in this simulator's\n",
    "crossfit, predict the outputs for all test samples given their actual\n",
    "feature values, and calculate the absolute deviation from the mean of all actual\n",
    "outputs of the entire sample\n",
    "$\\frac{1}{n}\\sum_{j \\in \\mathrm{T}_i}\\hat y_j - \\bar y$\n",
    "\n",
    "The spread and offset of these deviations can serve as an indication of how the\n",
    "bias of the model contributes to the uncertainty of simulations produced with\n",
    "method `.simulate_features`."
   ]
  },
  {
   "cell_type": "code",
   "execution_count": 27,
   "metadata": {},
   "outputs": [
    {
     "data": {
      "text/plain": [
       "split\n",
       "0   -0.026460\n",
       "1   -0.006757\n",
       "2   -0.012040\n",
       "3   -0.011975\n",
       "4    0.016514\n",
       "5    0.028354\n",
       "6   -0.022461\n",
       "7    0.028944\n",
       "8    0.005299\n",
       "9    0.038380\n",
       "Name: output, dtype: float64"
      ]
     },
     "execution_count": 27,
     "metadata": {},
     "output_type": "execute_result"
    }
   ],
   "source": [
    "# Determine the mean predicted probability of the positive class (incident happening)\n",
    "actual_distribution = rop_simulator.simulate_actuals()\n",
    "actual_distribution"
   ]
  },
  {
   "cell_type": "code",
   "execution_count": 28,
   "metadata": {},
   "outputs": [
    {
     "name": "stdout",
     "output_type": "stream",
     "text": [
      "Median: -0.0007289918789958327\n",
      "lower bound: -0.02556043283465851\n",
      "upper bound: 0.03625656039962846\n"
     ]
    }
   ],
   "source": [
    "print(f\"Median: {np.median(actual_distribution)}\")\n",
    "print(f\"lower bound: {np.percentile(actual_distribution, 2.5)}\")\n",
    "print(f\"upper bound: {np.percentile(actual_distribution, 97.5)}\")"
   ]
  },
  {
   "cell_type": "markdown",
   "metadata": {},
   "source": [
    "In our case, the model's deviation does not exceed 6% of the target"
   ]
  },
  {
   "cell_type": "markdown",
   "metadata": {},
   "source": [
    "# Simulation\n",
    "\n",
    "All classifiers of the LearnerCrossfit are used in turn to each predict the positive class probabilities for all observations, and the mean probability across all observations is calculated for each classifier and value $v_j$. The simulation result is a set of n distributions of mean predicted probabilities across all classifiers – one distribution for each $v_j$."
   ]
  },
  {
   "cell_type": "code",
   "execution_count": 29,
   "metadata": {},
   "outputs": [],
   "source": [
    "rop_simulation = rop_simulator.simulate_feature(feature_name=SIM_FEATURE, \n",
    "                                                partitioner=rop_bins)"
   ]
  },
  {
   "cell_type": "code",
   "execution_count": 30,
   "metadata": {},
   "outputs": [
    {
     "data": {
      "text/html": [
       "<div>\n",
       "<style scoped>\n",
       "    .dataframe tbody tr th:only-of-type {\n",
       "        vertical-align: middle;\n",
       "    }\n",
       "\n",
       "    .dataframe tbody tr th {\n",
       "        vertical-align: top;\n",
       "    }\n",
       "\n",
       "    .dataframe thead th {\n",
       "        text-align: right;\n",
       "    }\n",
       "</style>\n",
       "<table border=\"1\" class=\"dataframe\">\n",
       "  <thead>\n",
       "    <tr style=\"text-align: right;\">\n",
       "      <th>partition</th>\n",
       "      <th>15.0</th>\n",
       "      <th>16.0</th>\n",
       "      <th>17.0</th>\n",
       "      <th>18.0</th>\n",
       "      <th>19.0</th>\n",
       "      <th>20.0</th>\n",
       "      <th>21.0</th>\n",
       "      <th>22.0</th>\n",
       "      <th>23.0</th>\n",
       "      <th>24.0</th>\n",
       "      <th>25.0</th>\n",
       "      <th>26.0</th>\n",
       "      <th>27.0</th>\n",
       "      <th>28.0</th>\n",
       "      <th>29.0</th>\n",
       "      <th>30.0</th>\n",
       "      <th>31.0</th>\n",
       "      <th>32.0</th>\n",
       "      <th>33.0</th>\n",
       "    </tr>\n",
       "    <tr>\n",
       "      <th>split</th>\n",
       "      <th></th>\n",
       "      <th></th>\n",
       "      <th></th>\n",
       "      <th></th>\n",
       "      <th></th>\n",
       "      <th></th>\n",
       "      <th></th>\n",
       "      <th></th>\n",
       "      <th></th>\n",
       "      <th></th>\n",
       "      <th></th>\n",
       "      <th></th>\n",
       "      <th></th>\n",
       "      <th></th>\n",
       "      <th></th>\n",
       "      <th></th>\n",
       "      <th></th>\n",
       "      <th></th>\n",
       "      <th></th>\n",
       "    </tr>\n",
       "  </thead>\n",
       "  <tbody>\n",
       "    <tr>\n",
       "      <th>0</th>\n",
       "      <td>0.101664</td>\n",
       "      <td>0.102129</td>\n",
       "      <td>0.102129</td>\n",
       "      <td>0.127051</td>\n",
       "      <td>0.289950</td>\n",
       "      <td>0.318046</td>\n",
       "      <td>0.376368</td>\n",
       "      <td>0.391437</td>\n",
       "      <td>0.414414</td>\n",
       "      <td>0.642005</td>\n",
       "      <td>0.712186</td>\n",
       "      <td>0.759170</td>\n",
       "      <td>0.788929</td>\n",
       "      <td>0.790189</td>\n",
       "      <td>0.790853</td>\n",
       "      <td>0.759104</td>\n",
       "      <td>0.800065</td>\n",
       "      <td>0.869275</td>\n",
       "      <td>0.860593</td>\n",
       "    </tr>\n",
       "    <tr>\n",
       "      <th>1</th>\n",
       "      <td>0.101009</td>\n",
       "      <td>0.101009</td>\n",
       "      <td>0.101009</td>\n",
       "      <td>0.120365</td>\n",
       "      <td>0.330684</td>\n",
       "      <td>0.388922</td>\n",
       "      <td>0.404168</td>\n",
       "      <td>0.410661</td>\n",
       "      <td>0.452702</td>\n",
       "      <td>0.638327</td>\n",
       "      <td>0.757588</td>\n",
       "      <td>0.738819</td>\n",
       "      <td>0.736709</td>\n",
       "      <td>0.798288</td>\n",
       "      <td>0.821636</td>\n",
       "      <td>0.781306</td>\n",
       "      <td>0.815064</td>\n",
       "      <td>0.851109</td>\n",
       "      <td>0.851109</td>\n",
       "    </tr>\n",
       "    <tr>\n",
       "      <th>2</th>\n",
       "      <td>0.110277</td>\n",
       "      <td>0.123668</td>\n",
       "      <td>0.123668</td>\n",
       "      <td>0.223646</td>\n",
       "      <td>0.286837</td>\n",
       "      <td>0.302374</td>\n",
       "      <td>0.324577</td>\n",
       "      <td>0.371927</td>\n",
       "      <td>0.470678</td>\n",
       "      <td>0.554602</td>\n",
       "      <td>0.748958</td>\n",
       "      <td>0.771619</td>\n",
       "      <td>0.811980</td>\n",
       "      <td>0.809153</td>\n",
       "      <td>0.801599</td>\n",
       "      <td>0.790892</td>\n",
       "      <td>0.797951</td>\n",
       "      <td>0.797951</td>\n",
       "      <td>0.834546</td>\n",
       "    </tr>\n",
       "    <tr>\n",
       "      <th>3</th>\n",
       "      <td>0.061717</td>\n",
       "      <td>0.168085</td>\n",
       "      <td>0.176332</td>\n",
       "      <td>0.230813</td>\n",
       "      <td>0.315849</td>\n",
       "      <td>0.388079</td>\n",
       "      <td>0.426965</td>\n",
       "      <td>0.459117</td>\n",
       "      <td>0.471895</td>\n",
       "      <td>0.588239</td>\n",
       "      <td>0.671992</td>\n",
       "      <td>0.695215</td>\n",
       "      <td>0.763153</td>\n",
       "      <td>0.774555</td>\n",
       "      <td>0.794486</td>\n",
       "      <td>0.759805</td>\n",
       "      <td>0.759280</td>\n",
       "      <td>0.773171</td>\n",
       "      <td>0.859550</td>\n",
       "    </tr>\n",
       "    <tr>\n",
       "      <th>4</th>\n",
       "      <td>0.152520</td>\n",
       "      <td>0.152520</td>\n",
       "      <td>0.152520</td>\n",
       "      <td>0.168394</td>\n",
       "      <td>0.192480</td>\n",
       "      <td>0.350494</td>\n",
       "      <td>0.426593</td>\n",
       "      <td>0.472164</td>\n",
       "      <td>0.549988</td>\n",
       "      <td>0.570377</td>\n",
       "      <td>0.721708</td>\n",
       "      <td>0.774074</td>\n",
       "      <td>0.818288</td>\n",
       "      <td>0.817001</td>\n",
       "      <td>0.807597</td>\n",
       "      <td>0.784455</td>\n",
       "      <td>0.776444</td>\n",
       "      <td>0.921845</td>\n",
       "      <td>0.913441</td>\n",
       "    </tr>\n",
       "    <tr>\n",
       "      <th>5</th>\n",
       "      <td>0.060084</td>\n",
       "      <td>0.060084</td>\n",
       "      <td>0.281207</td>\n",
       "      <td>0.295678</td>\n",
       "      <td>0.312003</td>\n",
       "      <td>0.400356</td>\n",
       "      <td>0.435540</td>\n",
       "      <td>0.418291</td>\n",
       "      <td>0.477011</td>\n",
       "      <td>0.557922</td>\n",
       "      <td>0.722761</td>\n",
       "      <td>0.735247</td>\n",
       "      <td>0.731292</td>\n",
       "      <td>0.803879</td>\n",
       "      <td>0.806768</td>\n",
       "      <td>0.790442</td>\n",
       "      <td>0.837780</td>\n",
       "      <td>0.837780</td>\n",
       "      <td>0.835786</td>\n",
       "    </tr>\n",
       "    <tr>\n",
       "      <th>6</th>\n",
       "      <td>0.049345</td>\n",
       "      <td>0.060440</td>\n",
       "      <td>0.213390</td>\n",
       "      <td>0.221309</td>\n",
       "      <td>0.311740</td>\n",
       "      <td>0.320203</td>\n",
       "      <td>0.344023</td>\n",
       "      <td>0.340998</td>\n",
       "      <td>0.448189</td>\n",
       "      <td>0.575730</td>\n",
       "      <td>0.708830</td>\n",
       "      <td>0.754628</td>\n",
       "      <td>0.803818</td>\n",
       "      <td>0.802395</td>\n",
       "      <td>0.804438</td>\n",
       "      <td>0.801614</td>\n",
       "      <td>0.807524</td>\n",
       "      <td>0.833926</td>\n",
       "      <td>0.844954</td>\n",
       "    </tr>\n",
       "    <tr>\n",
       "      <th>7</th>\n",
       "      <td>0.163666</td>\n",
       "      <td>0.163666</td>\n",
       "      <td>0.294607</td>\n",
       "      <td>0.303359</td>\n",
       "      <td>0.334971</td>\n",
       "      <td>0.406674</td>\n",
       "      <td>0.421306</td>\n",
       "      <td>0.415510</td>\n",
       "      <td>0.534773</td>\n",
       "      <td>0.615535</td>\n",
       "      <td>0.683221</td>\n",
       "      <td>0.826958</td>\n",
       "      <td>0.818042</td>\n",
       "      <td>0.825430</td>\n",
       "      <td>0.824047</td>\n",
       "      <td>0.740006</td>\n",
       "      <td>0.852791</td>\n",
       "      <td>0.865144</td>\n",
       "      <td>0.865144</td>\n",
       "    </tr>\n",
       "    <tr>\n",
       "      <th>8</th>\n",
       "      <td>0.224033</td>\n",
       "      <td>0.224033</td>\n",
       "      <td>0.267626</td>\n",
       "      <td>0.227299</td>\n",
       "      <td>0.295125</td>\n",
       "      <td>0.381797</td>\n",
       "      <td>0.409408</td>\n",
       "      <td>0.437694</td>\n",
       "      <td>0.412925</td>\n",
       "      <td>0.605707</td>\n",
       "      <td>0.769121</td>\n",
       "      <td>0.796929</td>\n",
       "      <td>0.779921</td>\n",
       "      <td>0.869482</td>\n",
       "      <td>0.869877</td>\n",
       "      <td>0.864421</td>\n",
       "      <td>0.852819</td>\n",
       "      <td>0.873765</td>\n",
       "      <td>0.873765</td>\n",
       "    </tr>\n",
       "    <tr>\n",
       "      <th>9</th>\n",
       "      <td>0.109506</td>\n",
       "      <td>0.101260</td>\n",
       "      <td>0.144021</td>\n",
       "      <td>0.145103</td>\n",
       "      <td>0.339273</td>\n",
       "      <td>0.394851</td>\n",
       "      <td>0.434761</td>\n",
       "      <td>0.435116</td>\n",
       "      <td>0.412272</td>\n",
       "      <td>0.679208</td>\n",
       "      <td>0.735071</td>\n",
       "      <td>0.740741</td>\n",
       "      <td>0.845401</td>\n",
       "      <td>0.847668</td>\n",
       "      <td>0.848673</td>\n",
       "      <td>0.814707</td>\n",
       "      <td>0.817862</td>\n",
       "      <td>0.924376</td>\n",
       "      <td>0.924376</td>\n",
       "    </tr>\n",
       "  </tbody>\n",
       "</table>\n",
       "</div>"
      ],
      "text/plain": [
       "partition      15.0      16.0      17.0      18.0      19.0      20.0  \\\n",
       "split                                                                   \n",
       "0          0.101664  0.102129  0.102129  0.127051  0.289950  0.318046   \n",
       "1          0.101009  0.101009  0.101009  0.120365  0.330684  0.388922   \n",
       "2          0.110277  0.123668  0.123668  0.223646  0.286837  0.302374   \n",
       "3          0.061717  0.168085  0.176332  0.230813  0.315849  0.388079   \n",
       "4          0.152520  0.152520  0.152520  0.168394  0.192480  0.350494   \n",
       "5          0.060084  0.060084  0.281207  0.295678  0.312003  0.400356   \n",
       "6          0.049345  0.060440  0.213390  0.221309  0.311740  0.320203   \n",
       "7          0.163666  0.163666  0.294607  0.303359  0.334971  0.406674   \n",
       "8          0.224033  0.224033  0.267626  0.227299  0.295125  0.381797   \n",
       "9          0.109506  0.101260  0.144021  0.145103  0.339273  0.394851   \n",
       "\n",
       "partition      21.0      22.0      23.0      24.0      25.0      26.0  \\\n",
       "split                                                                   \n",
       "0          0.376368  0.391437  0.414414  0.642005  0.712186  0.759170   \n",
       "1          0.404168  0.410661  0.452702  0.638327  0.757588  0.738819   \n",
       "2          0.324577  0.371927  0.470678  0.554602  0.748958  0.771619   \n",
       "3          0.426965  0.459117  0.471895  0.588239  0.671992  0.695215   \n",
       "4          0.426593  0.472164  0.549988  0.570377  0.721708  0.774074   \n",
       "5          0.435540  0.418291  0.477011  0.557922  0.722761  0.735247   \n",
       "6          0.344023  0.340998  0.448189  0.575730  0.708830  0.754628   \n",
       "7          0.421306  0.415510  0.534773  0.615535  0.683221  0.826958   \n",
       "8          0.409408  0.437694  0.412925  0.605707  0.769121  0.796929   \n",
       "9          0.434761  0.435116  0.412272  0.679208  0.735071  0.740741   \n",
       "\n",
       "partition      27.0      28.0      29.0      30.0      31.0      32.0  \\\n",
       "split                                                                   \n",
       "0          0.788929  0.790189  0.790853  0.759104  0.800065  0.869275   \n",
       "1          0.736709  0.798288  0.821636  0.781306  0.815064  0.851109   \n",
       "2          0.811980  0.809153  0.801599  0.790892  0.797951  0.797951   \n",
       "3          0.763153  0.774555  0.794486  0.759805  0.759280  0.773171   \n",
       "4          0.818288  0.817001  0.807597  0.784455  0.776444  0.921845   \n",
       "5          0.731292  0.803879  0.806768  0.790442  0.837780  0.837780   \n",
       "6          0.803818  0.802395  0.804438  0.801614  0.807524  0.833926   \n",
       "7          0.818042  0.825430  0.824047  0.740006  0.852791  0.865144   \n",
       "8          0.779921  0.869482  0.869877  0.864421  0.852819  0.873765   \n",
       "9          0.845401  0.847668  0.848673  0.814707  0.817862  0.924376   \n",
       "\n",
       "partition      33.0  \n",
       "split                \n",
       "0          0.860593  \n",
       "1          0.851109  \n",
       "2          0.834546  \n",
       "3          0.859550  \n",
       "4          0.913441  \n",
       "5          0.835786  \n",
       "6          0.844954  \n",
       "7          0.865144  \n",
       "8          0.873765  \n",
       "9          0.924376  "
      ]
     },
     "execution_count": 30,
     "metadata": {},
     "output_type": "execute_result"
    }
   ],
   "source": [
    "rop_simulation.outputs"
   ]
  },
  {
   "cell_type": "code",
   "execution_count": 31,
   "metadata": {},
   "outputs": [
    {
     "data": {
      "image/png": "[encoded data removed]",
      "text/plain": [
       "<Figure size 1152x576 with 2 Axes>"
      ]
     },
     "metadata": {
      "needs_background": "light"
     },
     "output_type": "display_data"
    }
   ],
   "source": [
    "SimulationDrawer().draw(data=rop_simulation, title=SIM_FEATURE)"
   ]
  },
  {
   "cell_type": "markdown",
   "metadata": {},
   "source": [
    "# Summary\n",
    "\n",
    "*This section should list the key conclusions/takeaways from the tutorial.*"
   ]
  },
  {
   "cell_type": "markdown",
   "metadata": {},
   "source": [
    "# What can you do next?\n",
    "\n",
    "*If applicable this section should note what readers of the tutorial can think about or do next to extend what was done or develop the skills taught further.*"
   ]
  },
  {
   "cell_type": "markdown",
   "metadata": {},
   "source": [
    "# Appendix\n",
    "\n",
    "*The Appendix should detail all relevant information to the tutorial not included in the main outline above. It should include at a minimum the two sections below.*"
   ]
  },
  {
   "cell_type": "markdown",
   "metadata": {},
   "source": [
    "## Data source and study cohort\n",
    "\n",
    "*This section should include all information relevant to obtaining the data used in the tutorial and reproducing the starting point for the tutorial. This could include things like:* \n",
    "\n",
    "1. *Detailed listings of data sources, including links and how to access*  \n",
    "2. *How the study population are defined, whether it be all transactions over a certain value or all patients above a certain age*  \n",
    "3. *If any features or the target require definitions in order to be derived from the data, such as the combination of levels in biomarkers*\n",
    "4. *Any other information pertinent to the reproducibility of the tutorial*"
   ]
  },
  {
   "cell_type": "markdown",
   "metadata": {},
   "source": [
    "## Exploratory Data Analysis (EDA)"
   ]
  },
  {
   "cell_type": "markdown",
   "metadata": {},
   "source": [
    "*This section should perform two functions:*  \n",
    "\n",
    "1. *To walk the reader through the EDA behind the tutorial, and*  \n",
    "2. *Provide a quick summary of EDA conclusions relevant to the tutorial which could include items such as identifying missingness, then need for transformations or outlier mitigation, basic associations between features and the target, etc*"
   ]
  },
  {
   "cell_type": "code",
   "execution_count": null,
   "metadata": {},
   "outputs": [],
   "source": []
  }
 ],
 "metadata": {
  "kernelspec": {
   "display_name": "facet-develop",
   "language": "python",
   "name": "facet-develop"
  },
  "language_info": {
   "codemirror_mode": {
    "name": "ipython",
    "version": 3
   },
   "file_extension": ".py",
   "mimetype": "text/x-python",
   "name": "python",
   "nbconvert_exporter": "python",
   "pygments_lexer": "ipython3",
   "version": "3.7.8"
  }
 },
 "nbformat": 4,
 "nbformat_minor": 4
}
