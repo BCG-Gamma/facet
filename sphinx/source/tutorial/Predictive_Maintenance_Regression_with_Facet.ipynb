{
 "cells": [
  {
   "cell_type": "code",
   "execution_count": 1,
   "metadata": {
    "ExecuteTime": {
     "end_time": "2020-08-27T13:10:09.283550Z",
     "start_time": "2020-08-27T13:10:09.276462Z"
    }
   },
   "outputs": [
    {
     "name": "stdout",
     "output_type": "stream",
     "text": [
      "working dir is '/Users/hemker konstantin/Documents/repos/Facet/facet'\n",
      "added `/Users/hemker konstantin/Documents/repos/Facet/pytools/src` to python paths\n",
      "added `/Users/hemker konstantin/Documents/repos/Facet/facet/src` to python paths\n",
      "added `/Users/hemker konstantin/Documents/repos/Facet/sklearndf/src` to python paths\n"
     ]
    }
   ],
   "source": [
    "# This cell is only required as long as the `facet` package is not public yet\n",
    "\n",
    "# this cell's metadata contains\n",
    "# \"nbsphinx\": \"hidden\" so it is hidden by nbsphinx\n",
    "\n",
    "def _set_paths() -> None:\n",
    "    # set the correct path when launched from within PyCharm\n",
    "\n",
    "    module_paths = [\"pytools\", \"facet\", \"sklearndf\"]\n",
    "\n",
    "    import sys\n",
    "    import os\n",
    "    \n",
    "    if 'cwd' not in globals():\n",
    "        # noinspection PyGlobalUndefined\n",
    "        global cwd\n",
    "        cwd = os.path.join(os.getcwd(), os.pardir, os.pardir, os.pardir)\n",
    "        os.chdir(cwd)   \n",
    "    print(f\"working dir is '{os.getcwd()}'\")\n",
    "    for module_path in module_paths:\n",
    "        if module_path not in sys.path:\n",
    "            sys.path.insert(0, os.path.abspath(f\"{cwd}/{os.pardir}/{module_path}/src\"))\n",
    "        print(f\"added `{sys.path[0]}` to python paths\")\n",
    "        \n",
    "def _ignore_warnings():\n",
    "    # ignore irrelevant warnings that would affect the output of this tutorial notebook\n",
    "    \n",
    "    # ignore a useless LGBM warning\n",
    "    import warnings\n",
    "    warnings.filterwarnings(\"ignore\", category=UserWarning, message=r\".*Xcode_8\\.3\\.3\")\n",
    "\n",
    "_set_paths()\n",
    "_ignore_warnings()\n",
    "\n",
    "del _set_paths, _ignore_warnings"
   ]
  },
  {
   "cell_type": "markdown",
   "metadata": {
    "ExecuteTime": {
     "end_time": "2020-08-27T13:10:25.031514Z",
     "start_time": "2020-08-27T13:10:25.029576Z"
    }
   },
   "source": [
    "# Required Imports"
   ]
  },
  {
   "cell_type": "markdown",
   "metadata": {},
   "source": [
    "In order to run this notebook, we will import not only the `facet` package, but also a number of other packages useful to solve this task. Overall, we can break down the imports into three categories: \n",
    "1. Common packages (pandas, matplotlib, etc.)\n",
    "2. Required `facet` classes (inpsection, selection, validation, simulation, etc.)\n",
    "3. Other `gamma` packages which simplify pipelining with `sklearn` and provide some visualization utils"
   ]
  },
  {
   "cell_type": "markdown",
   "metadata": {},
   "source": [
    "Conventional imports"
   ]
  },
  {
   "cell_type": "code",
   "execution_count": 4,
   "metadata": {
    "ExecuteTime": {
     "end_time": "2020-08-27T13:11:23.878883Z",
     "start_time": "2020-08-27T13:11:22.335850Z"
    }
   },
   "outputs": [],
   "source": [
    "import pandas as pd\n",
    "# from sklearn.impute import SimpleImputer\n",
    "import matplotlib.pyplot as plt\n",
    "from pathlib import Path"
   ]
  },
  {
   "cell_type": "markdown",
   "metadata": {},
   "source": [
    "Gamma Facet imports"
   ]
  },
  {
   "cell_type": "code",
   "execution_count": 5,
   "metadata": {
    "ExecuteTime": {
     "end_time": "2020-08-27T13:11:24.173281Z",
     "start_time": "2020-08-27T13:11:23.881163Z"
    }
   },
   "outputs": [],
   "source": [
    "from facet import Sample\n",
    "from facet.inspection import LearnerInspector\n",
    "from facet.selection import LearnerRanker, LearnerGrid\n",
    "from facet.validation import BootstrapCV\n",
    "from facet.simulation.partition import ContinuousRangePartitioner\n",
    "from facet.simulation import UnivariateUpliftSimulator\n",
    "from facet.simulation.viz import SimulationDrawer"
   ]
  },
  {
   "cell_type": "markdown",
   "metadata": {
    "ExecuteTime": {
     "end_time": "2020-08-18T14:15:20.686543Z",
     "start_time": "2020-08-18T14:15:20.683573Z"
    }
   },
   "source": [
    "Sklearndf imports\n",
    "\n",
    "Instead of using the \"regular\" scikit-learn package, we are using the `sklearndf` (see on [GitHub](https://github.com/orgs/BCG-Gamma/sklearndf/)) wrapper which keeps metadata such as column names when passing the data through the scikit-learn learners.  "
   ]
  },
  {
   "cell_type": "code",
   "execution_count": 43,
   "metadata": {
    "ExecuteTime": {
     "end_time": "2020-08-27T13:57:08.765699Z",
     "start_time": "2020-08-27T13:57:08.762543Z"
    }
   },
   "outputs": [],
   "source": [
    "# sklearndf\n",
    "from sklearndf.pipeline import PipelineDF, RegressorPipelineDF\n",
    "from sklearndf.regression import RandomForestRegressorDF\n",
    "from sklearndf.regression.extra import LGBMRegressorDF\n",
    "from sklearndf.transformation.extra import BorutaDF\n",
    "from sklearndf.transformation import SimpleImputerDF\n"
   ]
  },
  {
   "cell_type": "code",
   "execution_count": 7,
   "metadata": {
    "ExecuteTime": {
     "end_time": "2020-08-27T13:11:25.397756Z",
     "start_time": "2020-08-27T13:11:25.385369Z"
    }
   },
   "outputs": [],
   "source": [
    "from pytools.viz.dendrogram import DendrogramDrawer, DendrogramReportStyle\n",
    "from pytools.viz.distribution import ECDFDrawer\n",
    "from pytools.viz.matrix import MatrixDrawer"
   ]
  },
  {
   "cell_type": "markdown",
   "metadata": {
    "ExecuteTime": {
     "end_time": "2020-08-05T09:52:49.657925Z",
     "start_time": "2020-08-05T09:52:49.654773Z"
    }
   },
   "source": [
    "# Background"
   ]
  },
  {
   "cell_type": "markdown",
   "metadata": {},
   "source": [
    "## Dataset\n",
    "The dataset used in this example is available on [Kaggle](https://www.kaggle.com/elikplim/maintenance-of-naval-propulsion-plants-data-set) and contains data from experiments carried out by means of a numerical simulator of a naval vessel (Frigate) characterized by a **Gas Turbine propulsion plant**. In this release of the simulator it is also possible to take into account the performance decay over time of the GT components such as GT compressor and turbines.\n",
    "\n",
    "Each possible degradation state of the plant can be characterized by three parameters: \n",
    "- Ship speed (linear function of the lever position)\n",
    "- Compressor degradation coefficient kMc\n",
    "- Turbine degradation coefficient\n",
    "\n",
    "The degradation coefficients typically vary between [1; 0.95] for compressor and [1; 0.975] for the gas turbine. \n",
    "\n",
    "## Features\n",
    "One observation in this dataset represents the current decay states of the compresor and the gas turbine along with a number of sensor readings of the shipping vessels at that point in time. \n",
    "\n",
    "\n",
    "## Learning Problem\n",
    "For this learning problem, we have three key objectives: \n",
    "1. Predict the decay state of the gas turbine as accurately as possible\n",
    "2. Understand which parameters drive the decay state of the turbine\n",
    "3. Analyze how these drivers interact with each other and the target\n",
    "\n",
    "\n",
    "While we can solve questions 1 and parts of question 2 with commonly used machine learning packages, `facet` will enable us to make better inferences about the way some of the features share or complement information and help us to figure out the optimal settings of the vessel to minimize the equipment degradation at a variety of ship speeds.\n"
   ]
  },
  {
   "cell_type": "markdown",
   "metadata": {
    "ExecuteTime": {
     "end_time": "2020-08-26T10:51:26.391534Z",
     "start_time": "2020-08-26T10:51:26.389295Z"
    }
   },
   "source": [
    "# Loading data and EDA"
   ]
  },
  {
   "cell_type": "markdown",
   "metadata": {},
   "source": [
    "You can find the raw data used in this notebook both on the [UCI Machine Learning Data Archive](http://archive.ics.uci.edu/ml/datasets/condition+based+maintenance+of+naval+propulsion+plants) as well as in the `sphinx/source/tutorials/naval_propulsion/` folder in this repository. \n",
    "\n",
    "We start off by loading in the data, assigning human-readable labels to it as well as setting the turbine decay state coefficient as the `TARGET`. "
   ]
  },
  {
   "cell_type": "code",
   "execution_count": 30,
   "metadata": {
    "ExecuteTime": {
     "end_time": "2020-08-27T13:47:13.787950Z",
     "start_time": "2020-08-27T13:47:13.385215Z"
    }
   },
   "outputs": [],
   "source": [
    "data_root = Path(\"sphinx/source/tutorial/\")\n",
    "df = pd.read_csv(data_root.joinpath(\"naval_propulsion/data.txt\"), delim_whitespace=True)\n",
    "\n",
    "df.columns = ['Lever Position', \n",
    "              'Ship Speed', \n",
    "              'Turbine Shaft Torque (kN m)', \n",
    "              'Turbine Rate of Revolutions (rpm)', \n",
    "              'Generator Rate of Revolutions (rpm)', \n",
    "              'Starboard Propeller Torque (kN)', \n",
    "              'Port Propeller Torque (kN)', \n",
    "              'HP Turbine exit temp (C)', \n",
    "              'GT Compressor inlet air temp (C)', \n",
    "              'GT Compressor outlet air temp (C)', \n",
    "              'Turbine exit pressure (bar)', \n",
    "              'Compressor inlet air pressure (bar)', \n",
    "              'Compressor outlet air pressure (bar)', \n",
    "              'Turbine exhaust gas pressure (bar)', \n",
    "              'Turbine injection control', \n",
    "              'Fuel flow', \n",
    "              'GT Compressor decay state coeff',  \n",
    "              'GT Turbine decay state coeff']\n",
    "\n",
    "TARGET = \"GT Turbine decay state coeff\""
   ]
  },
  {
   "cell_type": "markdown",
   "metadata": {},
   "source": [
    "For easier management of the data we are using in this example, we are using `facet`'s `Sample` class, which allows to do a number of things: \n",
    "- Quickly access the target vs. features\n",
    "- Pass the sample into `sklearndf` data pipelines\n",
    "- Assign weight vectors to the sample which are propagated down to the learners (given that they support sample weighting)"
   ]
  },
  {
   "cell_type": "code",
   "execution_count": 31,
   "metadata": {
    "ExecuteTime": {
     "end_time": "2020-08-27T13:47:14.290123Z",
     "start_time": "2020-08-27T13:47:14.283851Z"
    }
   },
   "outputs": [],
   "source": [
    "# need to drop the other target\n",
    "df.drop(\"GT Compressor decay state coeff\", inplace=True, axis=1)\n",
    "sample = Sample(observations=df, target=TARGET)"
   ]
  },
  {
   "cell_type": "code",
   "execution_count": 32,
   "metadata": {
    "ExecuteTime": {
     "end_time": "2020-08-27T13:47:14.703255Z",
     "start_time": "2020-08-27T13:47:14.515755Z"
    }
   },
   "outputs": [
    {
     "data": {
      "image/png": "[encoded data removed]",
      "text/plain": [
       "<Figure size 432x288 with 1 Axes>"
      ]
     },
     "metadata": {
      "needs_background": "light"
     },
     "output_type": "display_data"
    }
   ],
   "source": [
    "ECDFDrawer().draw(sample.target)"
   ]
  },
  {
   "cell_type": "code",
   "execution_count": 33,
   "metadata": {
    "ExecuteTime": {
     "end_time": "2020-08-27T13:47:14.944921Z",
     "start_time": "2020-08-27T13:47:14.755733Z"
    }
   },
   "outputs": [
    {
     "data": {
      "image/png": "[encoded data removed]",
      "text/plain": [
       "<Figure size 432x288 with 1 Axes>"
      ]
     },
     "metadata": {
      "needs_background": "light"
     },
     "output_type": "display_data"
    }
   ],
   "source": [
    "ECDFDrawer().draw(sample.features[\"Lever Position\"])"
   ]
  },
  {
   "cell_type": "markdown",
   "metadata": {
    "ExecuteTime": {
     "end_time": "2020-08-05T10:40:59.547062Z",
     "start_time": "2020-08-05T10:40:59.544794Z"
    }
   },
   "source": [
    "# Building a simple pipeline"
   ]
  },
  {
   "cell_type": "markdown",
   "metadata": {},
   "source": [
    "Define the Boruta Feature selection"
   ]
  },
  {
   "cell_type": "code",
   "execution_count": 34,
   "metadata": {
    "ExecuteTime": {
     "end_time": "2020-08-27T13:47:15.463009Z",
     "start_time": "2020-08-27T13:47:15.459907Z"
    }
   },
   "outputs": [],
   "source": [
    "boruta = BorutaDF(\n",
    "    estimator = RandomForestRegressorDF(max_depth=5, random_state=42, n_jobs=3), \n",
    "    n_estimators=\"auto\",  \n",
    "    random_state=42, \n",
    "    verbose=1\n",
    ")"
   ]
  },
  {
   "cell_type": "code",
   "execution_count": 35,
   "metadata": {
    "ExecuteTime": {
     "end_time": "2020-08-27T13:47:15.669784Z",
     "start_time": "2020-08-27T13:47:15.666950Z"
    }
   },
   "outputs": [],
   "source": [
    "preprocessing_pipeline = PipelineDF(\n",
    "    steps = [\n",
    "        (\"impute\", SimpleImputerDF()),\n",
    "        (\"feature selection\", boruta)\n",
    "    ]\n",
    "\n",
    ")"
   ]
  },
  {
   "cell_type": "code",
   "execution_count": 36,
   "metadata": {
    "ExecuteTime": {
     "end_time": "2020-08-27T13:50:18.126479Z",
     "start_time": "2020-08-27T13:47:15.854207Z"
    }
   },
   "outputs": [
    {
     "name": "stdout",
     "output_type": "stream",
     "text": [
      "Iteration: 1 / 100\n",
      "Iteration: 2 / 100\n",
      "Iteration: 3 / 100\n",
      "Iteration: 4 / 100\n",
      "Iteration: 5 / 100\n",
      "Iteration: 6 / 100\n",
      "Iteration: 7 / 100\n",
      "Iteration: 8 / 100\n",
      "Iteration: 9 / 100\n",
      "Iteration: 10 / 100\n",
      "Iteration: 11 / 100\n",
      "Iteration: 12 / 100\n",
      "Iteration: 13 / 100\n",
      "Iteration: 14 / 100\n",
      "Iteration: 15 / 100\n",
      "Iteration: 16 / 100\n",
      "Iteration: 17 / 100\n",
      "Iteration: 18 / 100\n",
      "Iteration: 19 / 100\n",
      "Iteration: 20 / 100\n",
      "Iteration: 21 / 100\n",
      "Iteration: 22 / 100\n",
      "Iteration: 23 / 100\n",
      "Iteration: 24 / 100\n",
      "Iteration: 25 / 100\n",
      "Iteration: 26 / 100\n",
      "Iteration: 27 / 100\n",
      "Iteration: 28 / 100\n",
      "Iteration: 29 / 100\n",
      "Iteration: 30 / 100\n",
      "Iteration: 31 / 100\n",
      "Iteration: 32 / 100\n",
      "Iteration: 33 / 100\n",
      "Iteration: 34 / 100\n",
      "Iteration: 35 / 100\n",
      "Iteration: 36 / 100\n",
      "Iteration: 37 / 100\n",
      "Iteration: 38 / 100\n",
      "Iteration: 39 / 100\n",
      "Iteration: 40 / 100\n",
      "Iteration: 41 / 100\n",
      "Iteration: 42 / 100\n",
      "Iteration: 43 / 100\n",
      "Iteration: 44 / 100\n",
      "Iteration: 45 / 100\n",
      "Iteration: 46 / 100\n",
      "Iteration: 47 / 100\n",
      "Iteration: 48 / 100\n",
      "Iteration: 49 / 100\n",
      "Iteration: 50 / 100\n",
      "Iteration: 51 / 100\n",
      "Iteration: 52 / 100\n",
      "Iteration: 53 / 100\n",
      "Iteration: 54 / 100\n",
      "Iteration: 55 / 100\n",
      "Iteration: 56 / 100\n",
      "Iteration: 57 / 100\n",
      "Iteration: 58 / 100\n",
      "Iteration: 59 / 100\n",
      "Iteration: 60 / 100\n",
      "Iteration: 61 / 100\n",
      "Iteration: 62 / 100\n",
      "Iteration: 63 / 100\n",
      "Iteration: 64 / 100\n",
      "Iteration: 65 / 100\n",
      "Iteration: 66 / 100\n",
      "Iteration: 67 / 100\n",
      "Iteration: 68 / 100\n",
      "Iteration: 69 / 100\n",
      "Iteration: 70 / 100\n",
      "Iteration: 71 / 100\n",
      "Iteration: 72 / 100\n",
      "Iteration: 73 / 100\n",
      "Iteration: 74 / 100\n",
      "Iteration: 75 / 100\n",
      "Iteration: 76 / 100\n",
      "Iteration: 77 / 100\n",
      "Iteration: 78 / 100\n",
      "Iteration: 79 / 100\n",
      "Iteration: 80 / 100\n",
      "Iteration: 81 / 100\n",
      "Iteration: 82 / 100\n",
      "Iteration: 83 / 100\n",
      "Iteration: 84 / 100\n",
      "Iteration: 85 / 100\n",
      "Iteration: 86 / 100\n",
      "Iteration: 87 / 100\n",
      "Iteration: 88 / 100\n",
      "Iteration: 89 / 100\n",
      "Iteration: 90 / 100\n",
      "Iteration: 91 / 100\n",
      "Iteration: 92 / 100\n",
      "Iteration: 93 / 100\n",
      "Iteration: 94 / 100\n",
      "Iteration: 95 / 100\n",
      "Iteration: 96 / 100\n",
      "Iteration: 97 / 100\n",
      "Iteration: 98 / 100\n",
      "Iteration: 99 / 100\n",
      "\n",
      "\n",
      "BorutaPy finished running.\n",
      "\n",
      "Iteration: \t100 / 100\n",
      "Confirmed: \t9\n",
      "Tentative: \t0\n",
      "Rejected: \t6\n"
     ]
    },
    {
     "data": {
      "text/plain": [
       "PipelineDF(memory=None,\n",
       "           steps=[('impute',\n",
       "                   SimpleImputerDF(add_indicator=False, copy=True,\n",
       "                                   fill_value=None, missing_values=nan,\n",
       "                                   strategy='mean')),\n",
       "                  ('feature selection',\n",
       "                   BorutaDF(estimator=RandomForestRegressor(max_depth=5,\n",
       "                                                            n_estimators=89,\n",
       "                                                            n_jobs=3,\n",
       "                                                            random_state=<mtrand.RandomState object at 0x7fe208bf6cd0>),\n",
       "                            n_estimators='auto',\n",
       "                            random_state=<mtrand.RandomState object at 0x7fe208bf6cd0>,\n",
       "                            verbose=1))],\n",
       "           verbose=False)"
      ]
     },
     "execution_count": 36,
     "metadata": {},
     "output_type": "execute_result"
    }
   ],
   "source": [
    "preprocessing_pipeline.fit(X=sample.features, y=sample.target)"
   ]
  },
  {
   "cell_type": "code",
   "execution_count": 37,
   "metadata": {
    "ExecuteTime": {
     "end_time": "2020-08-27T13:50:18.131452Z",
     "start_time": "2020-08-27T13:50:18.128378Z"
    }
   },
   "outputs": [
    {
     "name": "stdout",
     "output_type": "stream",
     "text": [
      "Selected features: Turbine Shaft Torque (kN m), Turbine Rate of Revolutions (rpm), Generator Rate of Revolutions (rpm), HP Turbine exit temp (C), GT Compressor outlet air temp (C), Compressor outlet air pressure (bar), Turbine exhaust gas pressure (bar), Turbine injection control, Fuel flow\n"
     ]
    }
   ],
   "source": [
    "print(f\"Selected features: {', '.join(boruta.features_out)}\")"
   ]
  },
  {
   "cell_type": "markdown",
   "metadata": {
    "ExecuteTime": {
     "start_time": "2020-08-05T10:51:12.659Z"
    }
   },
   "source": [
    "We can see that Boruta accepted 9 features and rejected 6. We now select the relevant features from the feature selection."
   ]
  },
  {
   "cell_type": "code",
   "execution_count": 38,
   "metadata": {
    "ExecuteTime": {
     "end_time": "2020-08-27T13:50:18.137713Z",
     "start_time": "2020-08-27T13:50:18.133989Z"
    }
   },
   "outputs": [],
   "source": [
    "sample_selected = sample.keep(boruta.features_out)"
   ]
  },
  {
   "cell_type": "markdown",
   "metadata": {
    "ExecuteTime": {
     "start_time": "2020-08-05T10:53:26.316Z"
    }
   },
   "source": [
    "# Cross validation"
   ]
  },
  {
   "cell_type": "markdown",
   "metadata": {},
   "source": [
    "We will use a simple Bootstrap for the time series analysis here. Note that if we were given a time series dataset here (i.e. if we had timestamps of the GT readings) we could use a stationary bootstrap here using `StationaryBootstrapCV`)"
   ]
  },
  {
   "cell_type": "code",
   "execution_count": 39,
   "metadata": {
    "ExecuteTime": {
     "end_time": "2020-08-27T13:50:18.142518Z",
     "start_time": "2020-08-27T13:50:18.139981Z"
    }
   },
   "outputs": [],
   "source": [
    "cv = BootstrapCV(n_splits=10, random_state=42)"
   ]
  },
  {
   "cell_type": "markdown",
   "metadata": {
    "ExecuteTime": {
     "end_time": "2020-08-05T11:28:18.712303Z",
     "start_time": "2020-08-05T11:28:18.709820Z"
    }
   },
   "source": [
    "# Regressor Pipeline"
   ]
  },
  {
   "cell_type": "code",
   "execution_count": 40,
   "metadata": {
    "ExecuteTime": {
     "end_time": "2020-08-27T13:50:18.147200Z",
     "start_time": "2020-08-27T13:50:18.144415Z"
    }
   },
   "outputs": [],
   "source": [
    "rf_pipeline = RegressorPipelineDF(\n",
    "    regressor=RandomForestRegressorDF(n_estimators=500, random_state=42),\n",
    ")\n",
    "\n",
    "lgbm_pipeline = RegressorPipelineDF(\n",
    "    regressor=LGBMRegressorDF(random_state=42),\n",
    ")"
   ]
  },
  {
   "cell_type": "code",
   "execution_count": 41,
   "metadata": {
    "ExecuteTime": {
     "end_time": "2020-08-27T13:50:18.151815Z",
     "start_time": "2020-08-27T13:50:18.149039Z"
    }
   },
   "outputs": [],
   "source": [
    "grid = [\n",
    "    LearnerGrid(\n",
    "        pipeline=rf_pipeline, \n",
    "        learner_parameters={ \n",
    "            \"min_samples_leaf\": [8, 11, 15]\n",
    "        } \n",
    "        ),\n",
    "    LearnerGrid(\n",
    "        pipeline=lgbm_pipeline, \n",
    "        learner_parameters={ \n",
    "            \"min_data_in_leaf\": [8, 11, 15]\n",
    "        }\n",
    "    )\n",
    "    \n",
    "]"
   ]
  },
  {
   "cell_type": "markdown",
   "metadata": {
    "ExecuteTime": {
     "end_time": "2020-08-05T11:28:24.471628Z",
     "start_time": "2020-08-05T11:28:24.469412Z"
    }
   },
   "source": [
    "# Model Ranking"
   ]
  },
  {
   "cell_type": "code",
   "execution_count": 42,
   "metadata": {
    "ExecuteTime": {
     "end_time": "2020-08-27T13:54:11.003542Z",
     "start_time": "2020-08-27T13:50:18.153490Z"
    }
   },
   "outputs": [],
   "source": [
    "ranker = LearnerRanker(\n",
    "    grids=grid, cv=cv, n_jobs=-3\n",
    ").fit(sample=sample_selected)"
   ]
  },
  {
   "cell_type": "code",
   "execution_count": null,
   "metadata": {
    "ExecuteTime": {
     "end_time": "2020-08-27T13:22:17.522954Z",
     "start_time": "2020-08-27T13:15:39.993Z"
    }
   },
   "outputs": [],
   "source": [
    "ranker.best_model"
   ]
  },
  {
   "cell_type": "code",
   "execution_count": null,
   "metadata": {
    "ExecuteTime": {
     "end_time": "2020-08-27T13:22:17.524509Z",
     "start_time": "2020-08-27T13:15:40.141Z"
    }
   },
   "outputs": [],
   "source": [
    "ranker.summary_report()"
   ]
  },
  {
   "cell_type": "code",
   "execution_count": null,
   "metadata": {
    "ExecuteTime": {
     "end_time": "2020-08-27T13:22:17.525885Z",
     "start_time": "2020-08-27T13:15:40.601Z"
    }
   },
   "outputs": [],
   "source": [
    "ranker.best_model_crossfit"
   ]
  },
  {
   "cell_type": "markdown",
   "metadata": {
    "ExecuteTime": {
     "end_time": "2020-08-05T11:42:06.425585Z",
     "start_time": "2020-08-05T11:42:06.423740Z"
    }
   },
   "source": [
    "# Model inspection"
   ]
  },
  {
   "cell_type": "code",
   "execution_count": null,
   "metadata": {
    "ExecuteTime": {
     "end_time": "2020-08-27T13:22:17.527333Z",
     "start_time": "2020-08-27T13:15:41.641Z"
    }
   },
   "outputs": [],
   "source": [
    "inspector = RegressorInspector(n_jobs=-3)\n",
    "inspector.fit(crossfit=ranker.best_model_crossfit)"
   ]
  },
  {
   "cell_type": "markdown",
   "metadata": {
    "ExecuteTime": {
     "end_time": "2020-08-05T13:12:54.363503Z",
     "start_time": "2020-08-05T13:12:54.360977Z"
    }
   },
   "source": [
    "#### Feature redundancy"
   ]
  },
  {
   "cell_type": "code",
   "execution_count": null,
   "metadata": {
    "ExecuteTime": {
     "end_time": "2020-08-27T13:22:17.528561Z",
     "start_time": "2020-08-27T13:15:42.313Z"
    }
   },
   "outputs": [],
   "source": [
    "redundancy_matrix = inspector.feature_redundancy_matrix()\n",
    "MatrixDrawer(style=\"text\").draw(redundancy_matrix, title=\"Turbine Decay\")"
   ]
  },
  {
   "cell_type": "markdown",
   "metadata": {},
   "source": [
    "For reference, we can see that this uncovers very high redundancy which would not have been visible in a simple correlation matrix."
   ]
  },
  {
   "cell_type": "code",
   "execution_count": null,
   "metadata": {
    "ExecuteTime": {
     "end_time": "2020-08-27T13:22:17.529985Z",
     "start_time": "2020-08-27T13:15:43.081Z"
    }
   },
   "outputs": [],
   "source": [
    "sns.heatmap(sample_selected.features.corr())"
   ]
  },
  {
   "cell_type": "code",
   "execution_count": null,
   "metadata": {
    "ExecuteTime": {
     "end_time": "2020-08-27T13:22:17.531357Z",
     "start_time": "2020-08-27T13:15:43.258Z"
    }
   },
   "outputs": [],
   "source": [
    "redundant_features = [\"Fuel flow\", \"Turbine exhaust gas pressure\"]"
   ]
  },
  {
   "cell_type": "code",
   "execution_count": null,
   "metadata": {},
   "outputs": [],
   "source": []
  },
  {
   "cell_type": "code",
   "execution_count": null,
   "metadata": {
    "ExecuteTime": {
     "end_time": "2020-08-27T13:22:17.532722Z",
     "start_time": "2020-08-27T13:15:43.562Z"
    }
   },
   "outputs": [],
   "source": [
    "redundancy = inspector.feature_redundancy_linkage()\n",
    "\n",
    "DendrogramDrawer().draw(data=redundancy, title=\"Turbine Decay\")"
   ]
  },
  {
   "cell_type": "code",
   "execution_count": null,
   "metadata": {
    "ExecuteTime": {
     "end_time": "2020-08-27T13:22:17.533984Z",
     "start_time": "2020-08-27T13:15:43.721Z"
    }
   },
   "outputs": [],
   "source": [
    "synergy_matrix = inspector.feature_synergy_matrix()"
   ]
  },
  {
   "cell_type": "code",
   "execution_count": null,
   "metadata": {
    "ExecuteTime": {
     "end_time": "2020-08-27T13:22:17.535500Z",
     "start_time": "2020-08-27T13:15:43.898Z"
    }
   },
   "outputs": [],
   "source": [
    "MatrixDrawer(style=\"matplot%\").draw(synergy_matrix, title=\"Turbine Decay\")"
   ]
  },
  {
   "cell_type": "markdown",
   "metadata": {},
   "source": [
    "Removing the redundant features and retraining the pipeline"
   ]
  },
  {
   "cell_type": "code",
   "execution_count": null,
   "metadata": {
    "ExecuteTime": {
     "end_time": "2020-08-27T13:22:17.536857Z",
     "start_time": "2020-08-27T13:15:44.209Z"
    }
   },
   "outputs": [],
   "source": [
    "sample_revised = sample_selected.drop(redundant_features)"
   ]
  },
  {
   "cell_type": "code",
   "execution_count": null,
   "metadata": {
    "ExecuteTime": {
     "end_time": "2020-08-27T13:22:17.538370Z",
     "start_time": "2020-08-27T13:15:44.506Z"
    }
   },
   "outputs": [],
   "source": [
    "# Run the training pipeline again\n",
    "ranker_revised = LearnerRanker( \n",
    "    grids=grid, cv=cv, n_jobs=-3\n",
    ").fit(sample=sample_revised)"
   ]
  },
  {
   "cell_type": "code",
   "execution_count": null,
   "metadata": {
    "ExecuteTime": {
     "end_time": "2020-08-27T13:22:17.539838Z",
     "start_time": "2020-08-27T13:15:44.650Z"
    }
   },
   "outputs": [],
   "source": [
    "ranker_revised.best_model"
   ]
  },
  {
   "cell_type": "code",
   "execution_count": null,
   "metadata": {
    "ExecuteTime": {
     "end_time": "2020-08-27T13:22:17.541334Z",
     "start_time": "2020-08-27T13:15:44.818Z"
    }
   },
   "outputs": [],
   "source": [
    "ranker_revised.summary_report()"
   ]
  },
  {
   "cell_type": "markdown",
   "metadata": {},
   "source": [
    "# Simulation"
   ]
  },
  {
   "cell_type": "markdown",
   "metadata": {
    "ExecuteTime": {
     "end_time": "2020-08-07T15:56:26.709687Z",
     "start_time": "2020-08-07T15:56:26.682253Z"
    }
   },
   "source": [
    "From the synergy matrix, we can see that the Compressor outlet temperature has the highest synergy with most other features. Therefore, we would want to see how the target behaves if we simulate this feature such that each state had a constant outlet compressor temperature. \n",
    "\n",
    "First of all, let's see if this is also confirmed by the SHAP feature importances. "
   ]
  },
  {
   "cell_type": "code",
   "execution_count": null,
   "metadata": {
    "ExecuteTime": {
     "end_time": "2020-08-27T13:22:17.542711Z",
     "start_time": "2020-08-27T13:15:45.482Z"
    }
   },
   "outputs": [],
   "source": [
    "abs_shap_values = inspector.shap_values().abs().sum(axis=0).reset_index().rename({0: \"Sum of abs SHAP values\"}, axis=1)"
   ]
  },
  {
   "cell_type": "code",
   "execution_count": null,
   "metadata": {
    "ExecuteTime": {
     "end_time": "2020-08-27T13:22:17.544173Z",
     "start_time": "2020-08-27T13:15:45.762Z"
    }
   },
   "outputs": [],
   "source": [
    "abs_shap_values.sort_values(by=\"Sum of abs SHAP values\", ascending=False)"
   ]
  },
  {
   "cell_type": "code",
   "execution_count": null,
   "metadata": {},
   "outputs": [],
   "source": []
  },
  {
   "cell_type": "markdown",
   "metadata": {
    "ExecuteTime": {
     "end_time": "2020-08-07T16:01:58.630423Z",
     "start_time": "2020-08-07T16:01:58.625941Z"
    }
   },
   "source": [
    "We can see that the strong synergies with all other features of the Compressor outlet air temperature is also visible in the aboslute SHAP values. "
   ]
  },
  {
   "cell_type": "code",
   "execution_count": null,
   "metadata": {
    "ExecuteTime": {
     "end_time": "2020-08-27T13:22:17.545695Z",
     "start_time": "2020-08-27T13:15:46.730Z"
    }
   },
   "outputs": [],
   "source": [
    "sample.features.columns"
   ]
  },
  {
   "cell_type": "code",
   "execution_count": null,
   "metadata": {
    "ExecuteTime": {
     "end_time": "2020-08-27T13:22:17.546853Z",
     "start_time": "2020-08-27T13:15:46.938Z"
    }
   },
   "outputs": [],
   "source": [
    "SIM_FEATURE = 'GT Compressor outlet air temp [C]'"
   ]
  },
  {
   "cell_type": "code",
   "execution_count": null,
   "metadata": {
    "ExecuteTime": {
     "end_time": "2020-08-27T13:22:17.548263Z",
     "start_time": "2020-08-27T13:15:47.154Z"
    }
   },
   "outputs": [],
   "source": [
    "simulator = UnivariateUpliftSimulator(crossfit = ranker.best_model_crossfit, n_jobs=3)"
   ]
  },
  {
   "cell_type": "code",
   "execution_count": null,
   "metadata": {
    "ExecuteTime": {
     "end_time": "2020-08-27T13:22:17.549797Z",
     "start_time": "2020-08-27T13:15:47.347Z"
    }
   },
   "outputs": [],
   "source": [
    "simulation = simulator.simulate_feature(name=SIM_FEATURE, partitioner = ContinuousRangePartitioner())"
   ]
  },
  {
   "cell_type": "code",
   "execution_count": null,
   "metadata": {
    "ExecuteTime": {
     "end_time": "2020-08-27T13:22:17.551199Z",
     "start_time": "2020-08-27T13:15:47.547Z"
    }
   },
   "outputs": [],
   "source": [
    "ECDFDrawer().draw(\n",
    "    sample.features[SIM_FEATURE]\n",
    ")"
   ]
  },
  {
   "cell_type": "code",
   "execution_count": null,
   "metadata": {
    "ExecuteTime": {
     "end_time": "2020-08-27T13:22:17.552551Z",
     "start_time": "2020-08-27T13:15:47.762Z"
    },
    "scrolled": false
   },
   "outputs": [],
   "source": [
    "SimulationDrawer().draw(\n",
    "    data=simulation, title=SIM_FEATURE\n",
    ")"
   ]
  },
  {
   "cell_type": "markdown",
   "metadata": {
    "ExecuteTime": {
     "end_time": "2020-08-27T13:22:17.553905Z",
     "start_time": "2020-08-27T13:15:57.050Z"
    }
   },
   "source": [
    "# Next Steps"
   ]
  },
  {
   "cell_type": "code",
   "execution_count": null,
   "metadata": {},
   "outputs": [],
   "source": []
  },
  {
   "cell_type": "markdown",
   "metadata": {},
   "source": [
    "# Sources"
   ]
  },
  {
   "cell_type": "markdown",
   "metadata": {},
   "source": [
    "The dataset used in this example was provided by: \n",
    "\n",
    "[1] A. Coraddu, L. Oneto, A. Ghio, S. Savio, D. Anguita, M. Figari, Machine Learning Approaches for Improving Condition?Based Maintenance of Naval Propulsion Plants, Journal of Engineering for the Maritime Environment, 2014, DOI: 10.1177/1475090214540874, (In Press)"
   ]
  }
 ],
 "metadata": {
  "kernelspec": {
   "display_name": "Python 3",
   "language": "python",
   "name": "python3"
  },
  "language_info": {
   "codemirror_mode": {
    "name": "ipython",
    "version": 3
   },
   "file_extension": ".py",
   "mimetype": "text/x-python",
   "name": "python",
   "nbconvert_exporter": "python",
   "pygments_lexer": "ipython3",
   "version": "3.7.8"
  },
  "toc": {
   "base_numbering": 1,
   "nav_menu": {},
   "number_sections": true,
   "sideBar": true,
   "skip_h1_title": false,
   "title_cell": "Table of Contents",
   "title_sidebar": "Contents",
   "toc_cell": false,
   "toc_position": {},
   "toc_section_display": true,
   "toc_window_display": false
  }
 },
 "nbformat": 4,
 "nbformat_minor": 4
}
