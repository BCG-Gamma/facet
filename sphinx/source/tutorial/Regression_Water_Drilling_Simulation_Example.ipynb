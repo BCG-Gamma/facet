{
 "cells": [
  {
   "cell_type": "code",
   "execution_count": 2,
   "metadata": {
    "ExecuteTime": {
     "end_time": "2020-08-28T17:37:12.215520Z",
     "start_time": "2020-08-28T17:37:12.055656Z"
    }
   },
   "outputs": [
    {
     "name": "stdout",
     "output_type": "stream",
     "text": [
      "working dir is '/Users/hemker konstantin/Documents/repos/Facet/facet'\n",
      "added `/Users/hemker konstantin/Documents/repos/Facet/pytools/src` to python paths\n",
      "added `/Users/hemker konstantin/Documents/repos/Facet/facet/src` to python paths\n",
      "added `/Users/hemker konstantin/Documents/repos/Facet/sklearndf/src` to python paths\n"
     ]
    }
   ],
   "source": [
    "# this cell's metadata contains\n",
    "# \"nbsphinx\": \"hidden\" so it is hidden by nbsphinx\n",
    "\n",
    "def _set_paths() -> None:\n",
    "    # set the correct path when launched from within PyCharm\n",
    "\n",
    "    module_paths = [\"pytools\", \"facet\", \"sklearndf\"]\n",
    "\n",
    "    import sys\n",
    "    import os\n",
    "    \n",
    "    if 'cwd' not in globals():\n",
    "        # noinspection PyGlobalUndefined\n",
    "        global cwd\n",
    "        cwd = os.path.join(os.getcwd(), os.pardir, os.pardir, os.pardir)\n",
    "        os.chdir(cwd)   \n",
    "    print(f\"working dir is '{os.getcwd()}'\")\n",
    "    for module_path in module_paths:\n",
    "        if module_path not in sys.path:\n",
    "            sys.path.insert(0, os.path.abspath(f\"{cwd}/{os.pardir}/{module_path}/src\"))\n",
    "        print(f\"added `{sys.path[0]}` to python paths\")\n",
    "        \n",
    "def _ignore_warnings():\n",
    "    # ignore irrelevant warnings that would affect the output of this tutorial notebook\n",
    "    \n",
    "    # ignore a useless LGBM warning\n",
    "    import warnings\n",
    "    warnings.filterwarnings(\"ignore\", category=UserWarning, message=r\".*Xcode_8\\.3\\.3\")\n",
    "\n",
    "_set_paths()\n",
    "_ignore_warnings()\n",
    "\n",
    "del _set_paths, _ignore_warnings\n",
    "\n",
    "\n",
    "def _configure_matplotlib():\n",
    "    # set global options for matplotlib\n",
    "    \n",
    "    import matplotlib\n",
    "    \n",
    "    matplotlib.rcParams['figure.figsize'] = (16.0, 8.0)\n",
    "    matplotlib.rcParams['figure.dpi'] = 72\n",
    "\n",
    "_configure_matplotlib()\n",
    "\n",
    "del _configure_matplotlib"
   ]
  },
  {
   "cell_type": "code",
   "execution_count": 3,
   "metadata": {
    "ExecuteTime": {
     "end_time": "2020-08-28T17:37:13.022471Z",
     "start_time": "2020-08-28T17:37:13.005860Z"
    }
   },
   "outputs": [],
   "source": [
    "def data_sim(n=100,\n",
    "             intercept=-5,\n",
    "             linear_vars=10,\n",
    "             noise_vars=0,\n",
    "             corr_vars=0,\n",
    "             corr_type=\"AR1\",\n",
    "             corr_value=0,\n",
    "             mislabel=0,\n",
    "             surg_err=0.05,\n",
    "             bin_var_p=0,\n",
    "             bin_coef=0,\n",
    "             outcome=\"classification\",\n",
    "             regression_err=None,\n",
    "             ):\n",
    "    \"\"\"\n",
    "    This function is for the most part a direct translation of the twoClassSim function from the R package caret.\n",
    "    Full credit for the approach used for simulating binary classification data foes to the Authors and contributors\n",
    "    of caret.\n",
    "\n",
    "    There are some modifications from the R implementation:\n",
    "    1. The ordinal outcome option has not been translated\n",
    "    2. The addition of another linear feature that is a copy of another used in the linear predictor with a small amount\n",
    "    of noise has been added to allow for the study of variable surrogacy\n",
    "    3. Option for a binary predictor and surrogate has also been added\n",
    "    4. Toggle option for regression versus classification has also been added\n",
    "\n",
    "    Source:\n",
    "        Caret: Kuhn, M. (2008). Caret package. Journal of Statistical Software, 28(5)\n",
    "        https://rdrr.io/cran/caret/man/twoClassSim.html\n",
    "\n",
    "    :param n: number of observations\n",
    "    :param intercept: value for the intercept which can be modified to generate class imbalance\n",
    "    :param linear_vars: number of linear features\n",
    "    :param noise_vars: number of noise features (i.e., do not contribute to the linear predictor)\n",
    "    :param corr_vars: number of correlated noise features\n",
    "    :param corr_type: type of correlation (exchangeable or auto-regressive) for correlated noise features\n",
    "    :param corr_value: correlation for correlated noise features\n",
    "    :param mislabel: proportion of mis-labelling of target if required\n",
    "    :param surg_err: degree of noise added to first linear predictor\n",
    "    :param bin_var_p: prevalence for a binary feature to include in linear predictor\n",
    "    :param bin_coef: coefficient for the impact of binary feature on linear predictor\n",
    "    :param outcome: can be either classification for a binary outcome or regression for a continuous outcome\n",
    "    :param regression_err: the error to be used in simulating a regression outcome\n",
    "    :return: data frame containing the simulated features and target for classification\n",
    "\n",
    "    \"\"\"\n",
    "\n",
    "    # set seed\n",
    "    np.random.seed(seed=4763546)\n",
    "\n",
    "    # add two correlated normal features\n",
    "    sigma = np.array([[2, 1.3], [1.3, 2]])\n",
    "    mu = [0, 0]\n",
    "    tmp_data = pd.DataFrame(np.random.multivariate_normal(mu, sigma, size=n), columns=[\"TwoFactor1\", \"TwoFactor2\"])\n",
    "\n",
    "    # add linear features\n",
    "    if linear_vars > 0:\n",
    "        lin_cols = ['Linear' + str(x) for x in range(1, linear_vars + 1)]\n",
    "        tmp_data = pd.concat([tmp_data, pd.DataFrame(np.random.normal(size=(n, linear_vars)), columns=lin_cols)],\n",
    "                             axis=1)\n",
    "\n",
    "    # add features for non-linear terms\n",
    "    tmp_data['Nonlinear1'] = pd.Series(np.random.uniform(low=-1.0, high=1.0, size=n))\n",
    "    tmp_data = pd.concat([tmp_data, pd.DataFrame(np.random.uniform(size=(n, 2)), columns=['Nonlinear2', 'Nonlinear3'])],\n",
    "                         axis=1)\n",
    "\n",
    "    # add noise variables as needed\n",
    "    if noise_vars > 0:\n",
    "        noise_cols = ['Noise' + str(x) for x in range(1, noise_vars + 1)]\n",
    "        tmp_data = pd.concat([tmp_data, pd.DataFrame(np.random.normal(size=(n, noise_vars)), columns=noise_cols)],\n",
    "                             axis=1)\n",
    "\n",
    "    # add correlated noise features\n",
    "    if corr_vars > 0:\n",
    "        if corr_type == \"exch\":\n",
    "            vc = corr_value * np.ones((corr_vars, corr_vars))\n",
    "            np.fill_diagonal(vc, 1)\n",
    "\n",
    "        elif corr_type == \"AR1\":\n",
    "            vc_values = corr_value ** np.arange(corr_vars)\n",
    "            vc = toeplitz(vc_values)\n",
    "\n",
    "        corr_cols = ['Corr' + str(x) for x in range(1, corr_vars + 1)]\n",
    "        tmp_data = pd.concat([tmp_data,\n",
    "                              pd.DataFrame(np.random.multivariate_normal(np.zeros(corr_vars), vc, size=n),\n",
    "                                           columns=corr_cols)],\n",
    "                             axis=1)\n",
    "\n",
    "    # add a surrogate linear feature\n",
    "    if linear_vars > 0:\n",
    "        tmp_data['Linear1_prime'] = tmp_data['Linear1'] + np.random.normal(0, surg_err, size=n)\n",
    "\n",
    "    # add a binary feature\n",
    "    if bin_var_p > 0:\n",
    "        tmp_data['Binary1'] = np.where(np.random.uniform(size=n) <= bin_var_p, 0, 1)\n",
    "\n",
    "    # generate contributions to linear predictor 4, 4, 2\n",
    "    lp = intercept + 4 * tmp_data.TwoFactor1 + 4 * tmp_data.TwoFactor2 + 2 * tmp_data.TwoFactor1 * tmp_data.TwoFactor2 \\\n",
    "         + tmp_data.Nonlinear1 ** 3 + 2 * np.exp(-6 * (tmp_data.Nonlinear1 - 0.3) ** 2) + \\\n",
    "         2 * np.sin(np.pi * tmp_data.Nonlinear2 * tmp_data.Nonlinear3)\n",
    "        \n",
    "\n",
    "    if linear_vars > 0:\n",
    "        lin_coeff = np.linspace(10, 1, num=linear_vars) / 4\n",
    "        neg_idx = [_ for _ in range(1, linear_vars, 2)]\n",
    "        lin_coeff[neg_idx] = lin_coeff[neg_idx] * -1\n",
    "        lp = lp + tmp_data[lin_cols].dot(lin_coeff)\n",
    "\n",
    "    if bin_var_p > 0:\n",
    "        lp = lp + bin_coef * tmp_data['Binary1']\n",
    "        tmp_data['Binary1_prime'] = 1 - tmp_data['Binary1']\n",
    "\n",
    "    if outcome == 'classification':\n",
    "\n",
    "        # convert to a probability\n",
    "        prob = 1 / (1 + np.exp(-lp))\n",
    "\n",
    "        # add mislabelling if desired - TO DO: need to fix\n",
    "        if (mislabel > 0) and (mislabel < 1):\n",
    "            shuffle_rows = np.random.choice(n, np.floor(n * mislabel), replace=False)\n",
    "            prob[shuffle_rows] = 1 - prob[shuffle_rows]\n",
    "\n",
    "        # generate target\n",
    "        tmp_data['target'] = np.where(prob <= np.random.uniform(size=n), 0, 1)\n",
    "\n",
    "    elif outcome == 'regression':\n",
    "\n",
    "        # continuous outcome based on linear predictor\n",
    "        tmp_data['target'] = np.random.normal(lp, regression_err, size=n)\n",
    "\n",
    "    return tmp_data"
   ]
  },
  {
   "cell_type": "markdown",
   "metadata": {
    "ExecuteTime": {
     "end_time": "2020-08-28T17:21:45.452088Z",
     "start_time": "2020-08-28T17:21:45.450036Z"
    }
   },
   "source": [
    "# Imports"
   ]
  },
  {
   "cell_type": "markdown",
   "metadata": {
    "ExecuteTime": {
     "end_time": "2020-08-28T17:21:38.623408Z",
     "start_time": "2020-08-28T17:21:38.620085Z"
    }
   },
   "source": [
    "Conventional imports"
   ]
  },
  {
   "cell_type": "code",
   "execution_count": 4,
   "metadata": {
    "ExecuteTime": {
     "end_time": "2020-08-28T17:37:15.169042Z",
     "start_time": "2020-08-28T17:37:13.813219Z"
    }
   },
   "outputs": [],
   "source": [
    "import pandas as pd\n",
    "import numpy as np\n",
    "import matplotlib.pyplot as plt\n",
    "from pathlib import Path\n",
    "import seaborn as sns\n",
    "from typing import *\n",
    "from sklearn.preprocessing import MinMaxScaler"
   ]
  },
  {
   "cell_type": "markdown",
   "metadata": {},
   "source": [
    "Gamma Facet imports"
   ]
  },
  {
   "cell_type": "code",
   "execution_count": 5,
   "metadata": {
    "ExecuteTime": {
     "end_time": "2020-08-28T17:37:15.523061Z",
     "start_time": "2020-08-28T17:37:15.170999Z"
    }
   },
   "outputs": [],
   "source": [
    "from facet import Sample\n",
    "from facet.inspection import LearnerInspector\n",
    "from facet.selection import LearnerRanker, LearnerGrid\n",
    "from facet.validation import BootstrapCV\n",
    "from facet.simulation.partition import ContinuousRangePartitioner\n",
    "from facet.simulation import UnivariateUpliftSimulator\n",
    "from facet.simulation.viz import SimulationDrawer"
   ]
  },
  {
   "cell_type": "markdown",
   "metadata": {
    "ExecuteTime": {
     "end_time": "2020-08-18T14:15:20.686543Z",
     "start_time": "2020-08-18T14:15:20.683573Z"
    }
   },
   "source": [
    "Sklearndf imports\n",
    "\n",
    "Instead of using the \"regular\" scikit-learn package, we are using the `sklearndf` (see on [GitHub](https://github.com/orgs/BCG-Gamma/sklearndf/)) wrapper which keeps metadata such as column names when passing the data through the scikit-learn learners.  "
   ]
  },
  {
   "cell_type": "code",
   "execution_count": 6,
   "metadata": {
    "ExecuteTime": {
     "end_time": "2020-08-28T17:37:15.729040Z",
     "start_time": "2020-08-28T17:37:15.525645Z"
    }
   },
   "outputs": [
    {
     "name": "stderr",
     "output_type": "stream",
     "text": [
      "The sklearn.linear_model.stochastic_gradient module is  deprecated in version 0.22 and will be removed in version 0.24. The corresponding classes / functions should instead be imported from sklearn.linear_model. Anything that cannot be imported from sklearn.linear_model is now part of the private API.\n"
     ]
    }
   ],
   "source": [
    "# sklearndf\n",
    "from sklearndf.pipeline import PipelineDF, RegressorPipelineDF\n",
    "from sklearndf.regression import RandomForestRegressorDF\n",
    "from sklearndf.regression.extra import LGBMRegressorDF\n",
    "from sklearndf.transformation.extra import BorutaDF\n",
    "from sklearndf.transformation import SimpleImputerDF\n"
   ]
  },
  {
   "cell_type": "code",
   "execution_count": 7,
   "metadata": {
    "ExecuteTime": {
     "end_time": "2020-08-28T17:37:15.739050Z",
     "start_time": "2020-08-28T17:37:15.731468Z"
    }
   },
   "outputs": [],
   "source": [
    "from pytools.viz.dendrogram import DendrogramDrawer, DendrogramReportStyle\n",
    "from pytools.viz.distribution import ECDFDrawer\n",
    "from pytools.viz.matrix import MatrixDrawer"
   ]
  },
  {
   "cell_type": "code",
   "execution_count": 8,
   "metadata": {
    "ExecuteTime": {
     "end_time": "2020-08-28T17:37:15.744202Z",
     "start_time": "2020-08-28T17:37:15.740565Z"
    }
   },
   "outputs": [],
   "source": [
    "def scale_var(df: pd.DataFrame, \n",
    "              feature_name: str, \n",
    "              min_: Union[int, float] =0, \n",
    "              max_: Union[int, float]=1) -> np.array: \n",
    "    \"\"\"\n",
    "    Takes in a data frame and applies a min-max scaler to given bounds for a single column\n",
    "    \"\"\"\n",
    "    \n",
    "    scaler = MinMaxScaler(feature_range=(min_, max_))\n",
    "    scaled_arr = scaler.fit_transform(df[[feature_name]]).reshape(1, -1)[0]\n",
    "    return scaled_arr\n"
   ]
  },
  {
   "cell_type": "code",
   "execution_count": 9,
   "metadata": {
    "ExecuteTime": {
     "end_time": "2020-08-28T17:37:15.762785Z",
     "start_time": "2020-08-28T17:37:15.746424Z"
    }
   },
   "outputs": [],
   "source": [
    "df = data_sim(n=500,\n",
    "             intercept=0,\n",
    "             linear_vars=3,\n",
    "             noise_vars=1,\n",
    "             corr_vars=0,\n",
    "             corr_type=\"AR1\",\n",
    "             corr_value=0.4,\n",
    "             mislabel=0,\n",
    "             surg_err=0.05,\n",
    "             bin_var_p=0,\n",
    "             bin_coef=0,\n",
    "             outcome=\"regression\",\n",
    "             regression_err=0.2,\n",
    "             )"
   ]
  },
  {
   "cell_type": "code",
   "execution_count": 10,
   "metadata": {
    "ExecuteTime": {
     "end_time": "2020-08-28T17:37:15.768344Z",
     "start_time": "2020-08-28T17:37:15.764608Z"
    }
   },
   "outputs": [],
   "source": [
    "df.rename({ \n",
    "    \"TwoFactor1\": \"Weight on bit (kg)\", # higher weight --> higher weight will increase risks of danger \n",
    "    \"TwoFactor2\": \"Drill rate (m/s)\", # higher drill rate --> higher drill rate will provide less time for drilling engineers to observe real time data and adjust drilling parameter set up -> leading to a higher risk of incident (but more economic to drill faster)\n",
    "    \"Linear1\": \"Vertical depth of operation (m)\", # lower point of the well\n",
    "    \"Linear1_prime\": \"Bit depth (m)\", # current position of the drilling bit\n",
    "    \"Linear2\": \"Mud density (kg/m3)\", # need to have equal mud and soil density to avoid well collapse (formation falling in well and blocking pipe) or mud loss (mud flowing in the formation)\n",
    "    \"Linear3\": \"Hole diameter (m)\", # Diameter of the hole (diameter diminishes as depth increases)\n",
    "    \"Noise1\": \"Temperature (C)\", # Temperature at the drilling bit \n",
    "    \"target\": \"Failure likelihood (%)\"\n",
    "}, axis=1, inplace=True)\n",
    "\n"
   ]
  },
  {
   "cell_type": "code",
   "execution_count": 11,
   "metadata": {
    "ExecuteTime": {
     "end_time": "2020-08-28T17:37:15.777097Z",
     "start_time": "2020-08-28T17:37:15.771862Z"
    }
   },
   "outputs": [
    {
     "data": {
      "text/plain": [
       "Index(['Weight on bit (kg)', 'Drill rate (m/s)',\n",
       "       'Vertical depth of operation (m)', 'Mud density (kg/m3)',\n",
       "       'Hole diameter (m)', 'Nonlinear1', 'Nonlinear2', 'Nonlinear3',\n",
       "       'Temperature (C)', 'Bit depth (m)', 'Failure likelihood (%)'],\n",
       "      dtype='object')"
      ]
     },
     "execution_count": 11,
     "metadata": {},
     "output_type": "execute_result"
    }
   ],
   "source": [
    "df.columns"
   ]
  },
  {
   "cell_type": "code",
   "execution_count": 12,
   "metadata": {
    "ExecuteTime": {
     "end_time": "2020-08-28T17:37:15.813423Z",
     "start_time": "2020-08-28T17:37:15.779331Z"
    }
   },
   "outputs": [],
   "source": [
    "scaling_dict = { \n",
    "    'Weight on bit (kg)': [100, 500], \n",
    "    'Drill rate (m/s)': [0.1, 1],   \n",
    "    'Vertical depth of operation (m)': [0, 1500], \n",
    "    'Mud density (kg/m3)': [0.5, 4],\n",
    "    'Hole diameter (m)': [0.5, 10], \n",
    "    'Temperature (C)': [0, 40], \n",
    "    'Bit depth (m)': [0, 1500], \n",
    "    'Failure likelihood (%)': [0, 100]\n",
    "}\n",
    "\n",
    "for k,v in scaling_dict.items(): \n",
    "    df.loc[:, k] = scale_var(df, k, v[0], v[1])"
   ]
  },
  {
   "cell_type": "code",
   "execution_count": 13,
   "metadata": {
    "ExecuteTime": {
     "end_time": "2020-08-28T17:37:16.126198Z",
     "start_time": "2020-08-28T17:37:15.815206Z"
    }
   },
   "outputs": [
    {
     "data": {
      "text/plain": [
       "<matplotlib.axes._subplots.AxesSubplot at 0x7f88109cf3d0>"
      ]
     },
     "execution_count": 13,
     "metadata": {},
     "output_type": "execute_result"
    },
    {
     "data": {
      "image/png": "[encoded data removed]",
      "text/plain": [
       "<Figure size 432x288 with 2 Axes>"
      ]
     },
     "metadata": {
      "needs_background": "light"
     },
     "output_type": "display_data"
    }
   ],
   "source": [
    "sns.heatmap(df.corr())"
   ]
  },
  {
   "cell_type": "code",
   "execution_count": 14,
   "metadata": {
    "ExecuteTime": {
     "end_time": "2020-08-28T17:37:16.132894Z",
     "start_time": "2020-08-28T17:37:16.127736Z"
    }
   },
   "outputs": [],
   "source": [
    "sample = Sample(observations=df, target=\"Failure likelihood (%)\")"
   ]
  },
  {
   "cell_type": "code",
   "execution_count": 15,
   "metadata": {
    "ExecuteTime": {
     "end_time": "2020-08-28T17:37:16.299719Z",
     "start_time": "2020-08-28T17:37:16.135363Z"
    }
   },
   "outputs": [
    {
     "data": {
      "image/png": "[encoded data removed]",
      "text/plain": [
       "<Figure size 432x288 with 1 Axes>"
      ]
     },
     "metadata": {
      "needs_background": "light"
     },
     "output_type": "display_data"
    }
   ],
   "source": [
    "ECDFDrawer().draw(sample.target)"
   ]
  },
  {
   "cell_type": "markdown",
   "metadata": {
    "ExecuteTime": {
     "end_time": "2020-08-10T13:37:27.562800Z",
     "start_time": "2020-08-10T13:37:27.560459Z"
    }
   },
   "source": [
    "# Feature Selection"
   ]
  },
  {
   "cell_type": "code",
   "execution_count": 16,
   "metadata": {
    "ExecuteTime": {
     "end_time": "2020-08-28T17:37:16.704867Z",
     "start_time": "2020-08-28T17:37:16.701888Z"
    }
   },
   "outputs": [],
   "source": [
    "boruta = BorutaDF(\n",
    "    estimator = RandomForestRegressorDF(max_depth=5, random_state=42, n_jobs=3), \n",
    "    n_estimators=\"auto\",  \n",
    "    random_state=42, \n",
    "    verbose=0, \n",
    "    max_iter=100\n",
    ")"
   ]
  },
  {
   "cell_type": "code",
   "execution_count": 17,
   "metadata": {
    "ExecuteTime": {
     "end_time": "2020-08-28T17:37:16.847448Z",
     "start_time": "2020-08-28T17:37:16.844558Z"
    }
   },
   "outputs": [],
   "source": [
    "preprocessing_pipeline = PipelineDF(\n",
    "    steps = [\n",
    "        (\"impute\", SimpleImputerDF()),\n",
    "        (\"feature selection\", boruta)\n",
    "    ]\n",
    "\n",
    ")"
   ]
  },
  {
   "cell_type": "code",
   "execution_count": 18,
   "metadata": {
    "ExecuteTime": {
     "end_time": "2020-08-28T17:37:40.766900Z",
     "start_time": "2020-08-28T17:37:17.007985Z"
    }
   },
   "outputs": [
    {
     "data": {
      "text/plain": [
       "PipelineDF(memory=None,\n",
       "           steps=[('impute',\n",
       "                   SimpleImputerDF(add_indicator=False, copy=True,\n",
       "                                   fill_value=None, missing_values=nan,\n",
       "                                   strategy='mean')),\n",
       "                  ('feature selection',\n",
       "                   BorutaDF(estimator=RandomForestRegressor(max_depth=5,\n",
       "                                                            n_estimators=74,\n",
       "                                                            n_jobs=3,\n",
       "                                                            random_state=<mtrand.RandomState object at 0x7f8818553640>),\n",
       "                            n_estimators='auto',\n",
       "                            random_state=<mtrand.RandomState object at 0x7f8818553640>))],\n",
       "           verbose=False)"
      ]
     },
     "execution_count": 18,
     "metadata": {},
     "output_type": "execute_result"
    }
   ],
   "source": [
    "preprocessing_pipeline.fit(X=sample.features, y=sample.target)"
   ]
  },
  {
   "cell_type": "code",
   "execution_count": 19,
   "metadata": {
    "ExecuteTime": {
     "end_time": "2020-08-28T17:37:40.773522Z",
     "start_time": "2020-08-28T17:37:40.769305Z"
    }
   },
   "outputs": [
    {
     "name": "stdout",
     "output_type": "stream",
     "text": [
      "Selected features: ['Weight on bit (kg)', 'Drill rate (m/s)', 'Vertical depth of operation (m)', 'Mud density (kg/m3)', 'Nonlinear1', 'Bit depth (m)']\n"
     ]
    }
   ],
   "source": [
    "print(f\"Selected features: {list(preprocessing_pipeline.features_out)}\")\n",
    "sample_selected = sample.keep(preprocessing_pipeline.features_out)"
   ]
  },
  {
   "cell_type": "markdown",
   "metadata": {},
   "source": [
    "We can see that the key features that we would expect to effect the safety of the operation would are still being included after the feature selection. A working hypothesis of how these influence the target are: \n",
    "- **Weight on bit**: we expect higher weight to increase the likelihood of a failure due to heavier equipment wear\n",
    "- **Drill rate**: similarly to the above, a higher drill rate leads to more wear & tear of the equipment and thus we expect a positive effect\n",
    "- **Vertical depth of operation**: the deeper we dig, the more dense we expect the soil to be that we need to dig through, increasing the likelihood of either a collapse or equipment wear\n",
    "- **Bit depth**: Should contain similar information to the vertical depth of the operation"
   ]
  },
  {
   "cell_type": "markdown",
   "metadata": {
    "ExecuteTime": {
     "start_time": "2020-08-05T10:53:26.316Z"
    }
   },
   "source": [
    "# Cross validation"
   ]
  },
  {
   "cell_type": "markdown",
   "metadata": {},
   "source": [
    "We will use a simple Bootstrap for the time series analysis here. Note that if we were given a time series dataset here (i.e. if we had timestamps of the GT readings) we could use a stationary bootstrap here using `StationaryBootstrapCV`)"
   ]
  },
  {
   "cell_type": "code",
   "execution_count": 20,
   "metadata": {
    "ExecuteTime": {
     "end_time": "2020-08-28T17:37:40.779532Z",
     "start_time": "2020-08-28T17:37:40.776872Z"
    }
   },
   "outputs": [],
   "source": [
    "cv = BootstrapCV(n_splits=10, random_state=42)"
   ]
  },
  {
   "cell_type": "markdown",
   "metadata": {
    "ExecuteTime": {
     "end_time": "2020-08-05T11:28:18.712303Z",
     "start_time": "2020-08-05T11:28:18.709820Z"
    }
   },
   "source": [
    "# Regressor Pipeline"
   ]
  },
  {
   "cell_type": "code",
   "execution_count": 21,
   "metadata": {
    "ExecuteTime": {
     "end_time": "2020-08-28T17:37:40.785017Z",
     "start_time": "2020-08-28T17:37:40.781873Z"
    }
   },
   "outputs": [],
   "source": [
    "rf_pipeline = RegressorPipelineDF(\n",
    "    regressor=RandomForestRegressorDF(n_estimators=500, random_state=42),\n",
    ")\n",
    "\n",
    "lgbm_pipeline = RegressorPipelineDF(\n",
    "    regressor=LGBMRegressorDF(random_state=42),\n",
    ")"
   ]
  },
  {
   "cell_type": "code",
   "execution_count": 22,
   "metadata": {
    "ExecuteTime": {
     "end_time": "2020-08-28T17:37:40.789767Z",
     "start_time": "2020-08-28T17:37:40.786844Z"
    }
   },
   "outputs": [],
   "source": [
    "grid = [\n",
    "    LearnerGrid(\n",
    "        pipeline=rf_pipeline, \n",
    "        learner_parameters={ \n",
    "            \"min_samples_leaf\": [8, 11, 15]\n",
    "        } \n",
    "        ),\n",
    "    LearnerGrid(\n",
    "        pipeline=lgbm_pipeline, \n",
    "        learner_parameters={ \n",
    "            \"min_data_in_leaf\": [8, 11, 15]\n",
    "        }\n",
    "    )\n",
    "    \n",
    "]"
   ]
  },
  {
   "cell_type": "markdown",
   "metadata": {
    "ExecuteTime": {
     "end_time": "2020-08-05T11:28:24.471628Z",
     "start_time": "2020-08-05T11:28:24.469412Z"
    }
   },
   "source": [
    "# Model Ranking"
   ]
  },
  {
   "cell_type": "code",
   "execution_count": 23,
   "metadata": {
    "ExecuteTime": {
     "end_time": "2020-08-28T17:37:52.054400Z",
     "start_time": "2020-08-28T17:37:40.792010Z"
    }
   },
   "outputs": [],
   "source": [
    "ranker = LearnerRanker( \n",
    "    grids=grid, cv=cv, n_jobs=-3\n",
    ").fit(sample=sample_selected)"
   ]
  },
  {
   "cell_type": "code",
   "execution_count": 24,
   "metadata": {
    "ExecuteTime": {
     "end_time": "2020-08-28T17:37:52.064441Z",
     "start_time": "2020-08-28T17:37:52.056783Z"
    }
   },
   "outputs": [
    {
     "data": {
      "text/plain": [
       "RegressorPipelineDF(regressor=LGBMRegressorDF(min_data_in_leaf=8,\n",
       "                                              random_state=42))"
      ]
     },
     "execution_count": 24,
     "metadata": {},
     "output_type": "execute_result"
    }
   ],
   "source": [
    "ranker.best_model"
   ]
  },
  {
   "cell_type": "code",
   "execution_count": 25,
   "metadata": {
    "ExecuteTime": {
     "end_time": "2020-08-28T17:37:52.075079Z",
     "start_time": "2020-08-28T17:37:52.070525Z"
    }
   },
   "outputs": [
    {
     "name": "stdout",
     "output_type": "stream",
     "text": [
      "Rank  1:         LGBMRegressorDF, ranking_score=    0.923, scores_mean=    0.948, scores_std=   0.0126, parameters={regressor__min_data_in_leaf=8}\n",
      "\n",
      "Rank  2:         LGBMRegressorDF, ranking_score=    0.915, scores_mean=    0.942, scores_std=   0.0137, parameters={regressor__min_data_in_leaf=11}\n",
      "\n",
      "Rank  3:         LGBMRegressorDF, ranking_score=    0.903, scores_mean=    0.934, scores_std=   0.0156, parameters={regressor__min_data_in_leaf=15}\n",
      "\n",
      "Rank  4: RandomForestRegressorDF, ranking_score=    0.868, scores_mean=    0.908, scores_std=   0.0196, parameters={regressor__min_samples_leaf=8}\n",
      "\n",
      "Rank  5: RandomForestRegressorDF, ranking_score=    0.856, scores_mean=    0.894, scores_std=   0.0191, parameters={regressor__min_samples_leaf=11}\n",
      "\n",
      "Rank  6: RandomForestRegressorDF, ranking_score=    0.832, scores_mean=    0.877, scores_std=   0.0224, parameters={regressor__min_samples_leaf=15}\n",
      "\n"
     ]
    }
   ],
   "source": [
    "print(ranker.summary_report())"
   ]
  },
  {
   "cell_type": "markdown",
   "metadata": {
    "ExecuteTime": {
     "end_time": "2020-08-05T11:42:06.425585Z",
     "start_time": "2020-08-05T11:42:06.423740Z"
    }
   },
   "source": [
    "# Model inspection"
   ]
  },
  {
   "cell_type": "code",
   "execution_count": 27,
   "metadata": {
    "ExecuteTime": {
     "end_time": "2020-08-28T17:39:42.948320Z",
     "start_time": "2020-08-28T17:39:38.512878Z"
    }
   },
   "outputs": [
    {
     "data": {
      "text/plain": [
       "<facet.inspection._inspection.LearnerInspector at 0x7f8820509210>"
      ]
     },
     "execution_count": 27,
     "metadata": {},
     "output_type": "execute_result"
    }
   ],
   "source": [
    "inspector = LearnerInspector(n_jobs=-3)\n",
    "inspector.fit(crossfit=ranker.best_model_crossfit)"
   ]
  },
  {
   "cell_type": "code",
   "execution_count": 28,
   "metadata": {
    "ExecuteTime": {
     "end_time": "2020-08-28T17:39:42.952925Z",
     "start_time": "2020-08-28T17:39:42.950227Z"
    }
   },
   "outputs": [],
   "source": [
    "redundancy_matrix = inspector.feature_redundancy_matrix()\n",
    "synergy_matrix = inspector.feature_synergy_matrix()"
   ]
  },
  {
   "cell_type": "markdown",
   "metadata": {
    "ExecuteTime": {
     "end_time": "2020-08-11T15:12:46.059970Z",
     "start_time": "2020-08-11T15:12:46.055716Z"
    }
   },
   "source": [
    "#### Feature redundancy\n",
    "\n",
    "When plotting out the feature redundancy, we can see that there are some features which contain the same information to the model. In this case, these features are the vertical depth of the operation and the bit depth. \n",
    "Intuitively, we can see why these two features are redundant, as the bit depth will be in its most critical stages when it is drilling, i.e. at the vertical depth of operation. \n",
    "\n",
    "As we don't want either of the features to confuse the model inference during the simulation step, we should remove the bit depth for this example."
   ]
  },
  {
   "cell_type": "code",
   "execution_count": 29,
   "metadata": {
    "ExecuteTime": {
     "end_time": "2020-08-28T17:39:44.055874Z",
     "start_time": "2020-08-28T17:39:43.651580Z"
    }
   },
   "outputs": [
    {
     "data": {
      "image/png": "[encoded data removed]",
      "text/plain": [
       "<Figure size 432x288 with 2 Axes>"
      ]
     },
     "metadata": {
      "needs_background": "light"
     },
     "output_type": "display_data"
    }
   ],
   "source": [
    "MatrixDrawer(style=\"matplot%\").draw(redundancy_matrix, title=\"Redundancy\")"
   ]
  },
  {
   "cell_type": "code",
   "execution_count": 31,
   "metadata": {
    "ExecuteTime": {
     "end_time": "2020-08-28T17:40:02.470814Z",
     "start_time": "2020-08-28T17:40:02.467121Z"
    }
   },
   "outputs": [],
   "source": [
    "redundant_features = [\"Bit depth [m]\"]\n",
    "sample_selected = sample_selected.drop(redundant_features)"
   ]
  },
  {
   "cell_type": "markdown",
   "metadata": {
    "ExecuteTime": {
     "end_time": "2020-08-11T15:17:27.725770Z",
     "start_time": "2020-08-11T15:17:27.723200Z"
    },
    "pycharm": {
     "name": "#%% md\n"
    }
   },
   "source": [
    "#### Feature synergy\n",
    "When looking at the synergy matrix, we can easily figure out which of the features have an interaction effect on the target. We see that the weight on the bit and the drill rate in combination appear to have a high synergy. \n",
    "\n",
    "In hindsight, this appears obvious - drilling with both high bit weight and a high pace can have a disproportionally large impact on the wear of the equipment."
   ]
  },
  {
   "cell_type": "code",
   "execution_count": 32,
   "metadata": {
    "ExecuteTime": {
     "end_time": "2020-08-28T17:40:06.867086Z",
     "start_time": "2020-08-28T17:40:06.532998Z"
    },
    "pycharm": {
     "name": "#%%\n"
    }
   },
   "outputs": [
    {
     "data": {
      "image/png": "[encoded data removed]",
      "text/plain": [
       "<Figure size 432x288 with 2 Axes>"
      ]
     },
     "metadata": {
      "needs_background": "light"
     },
     "output_type": "display_data"
    }
   ],
   "source": [
    "MatrixDrawer(style=\"matplot%\").draw(synergy_matrix, title=\"Synergy\")"
   ]
  },
  {
   "cell_type": "code",
   "execution_count": 33,
   "metadata": {
    "ExecuteTime": {
     "end_time": "2020-08-28T17:40:07.865274Z",
     "start_time": "2020-08-28T17:40:07.843257Z"
    }
   },
   "outputs": [
    {
     "data": {
      "text/html": [
       "<div>\n",
       "<style scoped>\n",
       "    .dataframe tbody tr th:only-of-type {\n",
       "        vertical-align: middle;\n",
       "    }\n",
       "\n",
       "    .dataframe tbody tr th {\n",
       "        vertical-align: top;\n",
       "    }\n",
       "\n",
       "    .dataframe thead th {\n",
       "        text-align: right;\n",
       "    }\n",
       "</style>\n",
       "<table border=\"1\" class=\"dataframe\">\n",
       "  <thead>\n",
       "    <tr style=\"text-align: right;\">\n",
       "      <th>feature</th>\n",
       "      <th>Weight on bit (kg)</th>\n",
       "      <th>Drill rate (m/s)</th>\n",
       "      <th>Vertical depth of operation (m)</th>\n",
       "      <th>Mud density (kg/m3)</th>\n",
       "      <th>Nonlinear1</th>\n",
       "      <th>Bit depth (m)</th>\n",
       "    </tr>\n",
       "    <tr>\n",
       "      <th>feature</th>\n",
       "      <th></th>\n",
       "      <th></th>\n",
       "      <th></th>\n",
       "      <th></th>\n",
       "      <th></th>\n",
       "      <th></th>\n",
       "    </tr>\n",
       "  </thead>\n",
       "  <tbody>\n",
       "    <tr>\n",
       "      <th>Weight on bit (kg)</th>\n",
       "      <td>1.000000</td>\n",
       "      <td>0.228590</td>\n",
       "      <td>0.047436</td>\n",
       "      <td>0.042117</td>\n",
       "      <td>0.023487</td>\n",
       "      <td>0.049195</td>\n",
       "    </tr>\n",
       "    <tr>\n",
       "      <th>Drill rate (m/s)</th>\n",
       "      <td>0.228590</td>\n",
       "      <td>1.000000</td>\n",
       "      <td>0.069802</td>\n",
       "      <td>0.048652</td>\n",
       "      <td>0.032936</td>\n",
       "      <td>0.044492</td>\n",
       "    </tr>\n",
       "    <tr>\n",
       "      <th>Vertical depth of operation (m)</th>\n",
       "      <td>0.047436</td>\n",
       "      <td>0.069802</td>\n",
       "      <td>1.000000</td>\n",
       "      <td>0.071369</td>\n",
       "      <td>0.067288</td>\n",
       "      <td>0.050473</td>\n",
       "    </tr>\n",
       "    <tr>\n",
       "      <th>Mud density (kg/m3)</th>\n",
       "      <td>0.042117</td>\n",
       "      <td>0.048652</td>\n",
       "      <td>0.071369</td>\n",
       "      <td>1.000000</td>\n",
       "      <td>0.079053</td>\n",
       "      <td>0.081128</td>\n",
       "    </tr>\n",
       "    <tr>\n",
       "      <th>Nonlinear1</th>\n",
       "      <td>0.023487</td>\n",
       "      <td>0.032936</td>\n",
       "      <td>0.067288</td>\n",
       "      <td>0.079053</td>\n",
       "      <td>1.000000</td>\n",
       "      <td>0.070590</td>\n",
       "    </tr>\n",
       "    <tr>\n",
       "      <th>Bit depth (m)</th>\n",
       "      <td>0.049195</td>\n",
       "      <td>0.044492</td>\n",
       "      <td>0.050473</td>\n",
       "      <td>0.081128</td>\n",
       "      <td>0.070590</td>\n",
       "      <td>1.000000</td>\n",
       "    </tr>\n",
       "  </tbody>\n",
       "</table>\n",
       "</div>"
      ],
      "text/plain": [
       "feature                          Weight on bit (kg)  Drill rate (m/s)  \\\n",
       "feature                                                                 \n",
       "Weight on bit (kg)                         1.000000          0.228590   \n",
       "Drill rate (m/s)                           0.228590          1.000000   \n",
       "Vertical depth of operation (m)            0.047436          0.069802   \n",
       "Mud density (kg/m3)                        0.042117          0.048652   \n",
       "Nonlinear1                                 0.023487          0.032936   \n",
       "Bit depth (m)                              0.049195          0.044492   \n",
       "\n",
       "feature                          Vertical depth of operation (m)  \\\n",
       "feature                                                            \n",
       "Weight on bit (kg)                                      0.047436   \n",
       "Drill rate (m/s)                                        0.069802   \n",
       "Vertical depth of operation (m)                         1.000000   \n",
       "Mud density (kg/m3)                                     0.071369   \n",
       "Nonlinear1                                              0.067288   \n",
       "Bit depth (m)                                           0.050473   \n",
       "\n",
       "feature                          Mud density (kg/m3)  Nonlinear1  \\\n",
       "feature                                                            \n",
       "Weight on bit (kg)                          0.042117    0.023487   \n",
       "Drill rate (m/s)                            0.048652    0.032936   \n",
       "Vertical depth of operation (m)             0.071369    0.067288   \n",
       "Mud density (kg/m3)                         1.000000    0.079053   \n",
       "Nonlinear1                                  0.079053    1.000000   \n",
       "Bit depth (m)                               0.081128    0.070590   \n",
       "\n",
       "feature                          Bit depth (m)  \n",
       "feature                                         \n",
       "Weight on bit (kg)                    0.049195  \n",
       "Drill rate (m/s)                      0.044492  \n",
       "Vertical depth of operation (m)       0.050473  \n",
       "Mud density (kg/m3)                   0.081128  \n",
       "Nonlinear1                            0.070590  \n",
       "Bit depth (m)                         1.000000  "
      ]
     },
     "execution_count": 33,
     "metadata": {},
     "output_type": "execute_result"
    }
   ],
   "source": [
    "synergy_matrix"
   ]
  },
  {
   "cell_type": "markdown",
   "metadata": {
    "pycharm": {
     "name": "#%% md\n"
    }
   },
   "source": [
    "# Simulation"
   ]
  },
  {
   "cell_type": "markdown",
   "metadata": {
    "ExecuteTime": {
     "end_time": "2020-08-07T15:56:26.709687Z",
     "start_time": "2020-08-07T15:56:26.682253Z"
    }
   },
   "source": [
    "From the synergy matrix, we can see that the Compressor outlet temperature has the highest synergy with most other features. Therefore, we would want to see how the target behaves if we simulate this feature such that each state had a constant outlet compressor temperature. \n",
    "\n",
    "First of all, let's see if this is also confirmed by the SHAP feature importances. "
   ]
  },
  {
   "cell_type": "code",
   "execution_count": 34,
   "metadata": {
    "ExecuteTime": {
     "end_time": "2020-08-28T17:40:10.598572Z",
     "start_time": "2020-08-28T17:40:10.593126Z"
    },
    "pycharm": {
     "name": "#%%\n"
    }
   },
   "outputs": [],
   "source": [
    "feat_importance = synergy_matrix.sum(axis=0).reset_index().rename({0: \"Total Synergies\"}, axis=1)\n",
    "feat_importance[\"Total Synergies\"] -= 1"
   ]
  },
  {
   "cell_type": "code",
   "execution_count": 35,
   "metadata": {
    "ExecuteTime": {
     "end_time": "2020-08-28T17:40:12.235078Z",
     "start_time": "2020-08-28T17:40:12.227424Z"
    }
   },
   "outputs": [
    {
     "data": {
      "text/html": [
       "<div>\n",
       "<style scoped>\n",
       "    .dataframe tbody tr th:only-of-type {\n",
       "        vertical-align: middle;\n",
       "    }\n",
       "\n",
       "    .dataframe tbody tr th {\n",
       "        vertical-align: top;\n",
       "    }\n",
       "\n",
       "    .dataframe thead th {\n",
       "        text-align: right;\n",
       "    }\n",
       "</style>\n",
       "<table border=\"1\" class=\"dataframe\">\n",
       "  <thead>\n",
       "    <tr style=\"text-align: right;\">\n",
       "      <th></th>\n",
       "      <th>feature</th>\n",
       "      <th>Total Synergies</th>\n",
       "    </tr>\n",
       "  </thead>\n",
       "  <tbody>\n",
       "    <tr>\n",
       "      <th>1</th>\n",
       "      <td>Drill rate (m/s)</td>\n",
       "      <td>0.424472</td>\n",
       "    </tr>\n",
       "    <tr>\n",
       "      <th>0</th>\n",
       "      <td>Weight on bit (kg)</td>\n",
       "      <td>0.390824</td>\n",
       "    </tr>\n",
       "    <tr>\n",
       "      <th>3</th>\n",
       "      <td>Mud density (kg/m3)</td>\n",
       "      <td>0.322319</td>\n",
       "    </tr>\n",
       "    <tr>\n",
       "      <th>2</th>\n",
       "      <td>Vertical depth of operation (m)</td>\n",
       "      <td>0.306369</td>\n",
       "    </tr>\n",
       "    <tr>\n",
       "      <th>5</th>\n",
       "      <td>Bit depth (m)</td>\n",
       "      <td>0.295878</td>\n",
       "    </tr>\n",
       "    <tr>\n",
       "      <th>4</th>\n",
       "      <td>Nonlinear1</td>\n",
       "      <td>0.273354</td>\n",
       "    </tr>\n",
       "  </tbody>\n",
       "</table>\n",
       "</div>"
      ],
      "text/plain": [
       "                           feature  Total Synergies\n",
       "1                 Drill rate (m/s)         0.424472\n",
       "0               Weight on bit (kg)         0.390824\n",
       "3              Mud density (kg/m3)         0.322319\n",
       "2  Vertical depth of operation (m)         0.306369\n",
       "5                    Bit depth (m)         0.295878\n",
       "4                       Nonlinear1         0.273354"
      ]
     },
     "execution_count": 35,
     "metadata": {},
     "output_type": "execute_result"
    }
   ],
   "source": [
    "feat_importance.sort_values(by=\"Total Synergies\", ascending=False)"
   ]
  },
  {
   "cell_type": "markdown",
   "metadata": {
    "ExecuteTime": {
     "end_time": "2020-08-07T16:01:58.630423Z",
     "start_time": "2020-08-07T16:01:58.625941Z"
    },
    "pycharm": {
     "name": "#%% md\n"
    }
   },
   "source": [
    "We can see that the strong synergies with all other features of the Compressor outlet air temperature is also visible in the aboslute SHAP values. "
   ]
  },
  {
   "cell_type": "code",
   "execution_count": 36,
   "metadata": {
    "ExecuteTime": {
     "end_time": "2020-08-28T17:40:13.242523Z",
     "start_time": "2020-08-28T17:40:13.240162Z"
    },
    "pycharm": {
     "name": "#%%\n"
    }
   },
   "outputs": [],
   "source": [
    "simulator = UnivariateUpliftSimulator(crossfit = ranker.best_model_crossfit, n_jobs=3)"
   ]
  },
  {
   "cell_type": "code",
   "execution_count": 37,
   "metadata": {
    "ExecuteTime": {
     "end_time": "2020-08-28T17:40:13.660013Z",
     "start_time": "2020-08-28T17:40:13.656809Z"
    }
   },
   "outputs": [
    {
     "ename": "SyntaxError",
     "evalue": "invalid syntax (<ipython-input-37-b3e55313b8ed>, line 1)",
     "output_type": "error",
     "traceback": [
      "\u001B[0;36m  File \u001B[0;32m\"<ipython-input-37-b3e55313b8ed>\"\u001B[0;36m, line \u001B[0;32m1\u001B[0m\n\u001B[0;31m    We saw from the synergy analysis that the\u001B[0m\n\u001B[0m         ^\u001B[0m\n\u001B[0;31mSyntaxError\u001B[0m\u001B[0;31m:\u001B[0m invalid syntax\n"
     ]
    }
   ],
   "source": [
    "We saw from the synergy analysis that the "
   ]
  },
  {
   "cell_type": "code",
   "execution_count": 40,
   "metadata": {
    "ExecuteTime": {
     "end_time": "2020-08-28T17:40:27.407817Z",
     "start_time": "2020-08-28T17:40:25.103495Z"
    },
    "scrolled": false,
    "pycharm": {
     "name": "#%%\n"
    }
   },
   "outputs": [
    {
     "data": {
      "image/png": "[encoded data removed]",
      "text/plain": [
       "<Figure size 1080x720 with 2 Axes>"
      ]
     },
     "metadata": {
      "needs_background": "light"
     },
     "output_type": "display_data"
    }
   ],
   "source": [
    "SIM_FEATURE = 'Weight on bit (kg)'\n",
    "simulation = simulator.simulate_feature(name=SIM_FEATURE, partitioner = ContinuousRangePartitioner())\n",
    "\n",
    "fig, ax = plt.subplots(figsize=(15, 10))\n",
    "\n",
    "SimulationDrawer().draw(\n",
    "    data=simulation, title=SIM_FEATURE\n",
    ")"
   ]
  }
 ],
 "metadata": {
  "kernelspec": {
   "display_name": "Python 3",
   "language": "python",
   "name": "python3"
  },
  "language_info": {
   "codemirror_mode": {
    "name": "ipython",
    "version": 3
   },
   "file_extension": ".py",
   "mimetype": "text/x-python",
   "name": "python",
   "nbconvert_exporter": "python",
   "pygments_lexer": "ipython3",
   "version": "3.7.8"
  },
  "toc": {
   "base_numbering": 1,
   "nav_menu": {},
   "number_sections": true,
   "sideBar": true,
   "skip_h1_title": false,
   "title_cell": "Table of Contents",
   "title_sidebar": "Contents",
   "toc_cell": false,
   "toc_position": {},
   "toc_section_display": true,
   "toc_window_display": false
  }
 },
 "nbformat": 4,
 "nbformat_minor": 2
}