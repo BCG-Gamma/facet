{
 "cells": [
  {
   "cell_type": "markdown",
   "metadata": {},
   "source": [
    "**INSTRUCTIONS**:\n",
    "\n",
    "This template is for maintaining a consistent structure to FACET tutorials integrated into the FACET sphinx documentation. Please observe the following:\n",
    "1. In the cells below italics provide instructions/guidance on what is needed and can be deleted prior to finalizing the notebook\n",
    "2. Please retain the cell below which incorporates the FACET logo into the Sphinx documentation.\n",
    "3. When referring to FACET please use all capitals.\n",
    "4. Please ensure that coding style follows PEP8 and keywords are used for clarity.\n",
    "5. Finally, this cell can be deleted once the tutorial has been drafted."
   ]
  },
  {
   "cell_type": "raw",
   "metadata": {
    "raw_mimetype": "text/html"
   },
   "source": [
    "<img src=\"../_static/Gamma_Facet_Logo_RGB_LB.svg\" width=\"500\" style=\"padding-bottom: 70px; padding-top: 70px; margin: auto; display: block\">"
   ]
  },
  {
   "cell_type": "markdown",
   "metadata": {},
   "source": [
    "# *Name of tutorial* with FACET\n",
    "\n",
    "***\n",
    "\n",
    "**Robust and impactful Data Science with FACET**\n",
    "\n",
    "FACET enables us to perform a number of critical steps in best practice Data Science work flow easily, efficiently and reproducibly:\n",
    "\n",
    "1. Create a robust pipeline for learner selection using LearnerRanker and enabling the use of bootstrap cross-validation.\n",
    "\n",
    "2. Enhance our model inspection to understand drivers of predictions using local explanations of features via SHAP values by applying a novel methodology that decomposes SHAP values into measures of synergy, redundancy, and independence between each pair of features.\n",
    "\n",
    "3. Quickly apply historical simulation to gain key insights into feature values that minimize or maximize the predicted outcome.\n",
    "\n",
    "***\n",
    "\n",
    "**Context**\n",
    "\n",
    "*Please provide relevant context for the tutorial including:*\n",
    "\n",
    "*1. Question to answer*  \n",
    "*2. Data sources used*\n",
    "\n",
    "*This section should be kept brief and to the point. Further background information on the data, EDA, etc should be placed in the Appendix at the end of the notebook.*\n",
    "\n",
    "***\n",
    "\n",
    "**Tutorial outline**\n",
    "\n",
    "*The tutorial should have the following structure, and should always link to the same heading in the notebook:*\n",
    "\n",
    "1. [*Your sections*](#Your-sections)  \n",
    "... *more of your sections*\n",
    "\n",
    "2. [Summary](#Summary)\n",
    "3. [What can you do next?](#What-can-you-do-next?)\n",
    "4. [Appendix](#Appendix)"
   ]
  },
  {
   "cell_type": "markdown",
   "metadata": {},
   "source": [
    "# *Your sections*\n",
    "\n",
    "1. *Your text providing an overview of this section.*\n",
    "2. *Use as many sections as you need to provide a good high level structure to the tutorial, such as preprocessing, classifier development or model inspection*"
   ]
  },
  {
   "cell_type": "markdown",
   "metadata": {},
   "source": [
    "## *Your subsections*\n",
    "\n",
    "1. *Your text describing what the set-up for this section.*\n",
    "2. *Use subsections as need to ensure a section has a clear structure, for example under a section for model inspection you might include subsections for feature importance, SHAP feature interactions, synergy or redundancy*"
   ]
  },
  {
   "cell_type": "markdown",
   "metadata": {},
   "source": [
    "# Summary\n",
    "\n",
    "*This section should list the key conclusions/takeaways from the tutorial.*"
   ]
  },
  {
   "cell_type": "markdown",
   "metadata": {},
   "source": [
    "# What can you do next?\n",
    "\n",
    "*If applicable this section should note what readers of the tutorial can think about or do next to extend what was done or develop the skills taught further.*"
   ]
  },
  {
   "cell_type": "markdown",
   "metadata": {},
   "source": [
    "# Appendix\n",
    "\n",
    "*The Appendix should detail all relevant information to the tutorial not included in the main outline above. It should include at a minimum the two sections below.*"
   ]
  },
  {
   "cell_type": "markdown",
   "metadata": {},
   "source": [
    "## Data source and study cohort\n",
    "\n",
    "*This section should include all information relevant to obtaining the data used in the tutorial and reproducing the starting point for the tutorial. This could includes things like:* \n",
    "\n",
    "1. *Detailed listings of data sources, including links and how to access*  \n",
    "2. *How the study population are defined, whether it be all transactions over a certain value or all patients above a certain age*  \n",
    "3. *If any features or the target require definitions in order to be derived from the data, such as the combination of levels in biomarkers*\n",
    "4. *Any other information pertinent to the reproducibility of the tutorial*"
   ]
  },
  {
   "cell_type": "markdown",
   "metadata": {},
   "source": [
    "## Exploratory Data Analysis (EDA)"
   ]
  },
  {
   "cell_type": "markdown",
   "metadata": {},
   "source": [
    "*This section should perform two functions:*  \n",
    "\n",
    "1. *To walk the reader through the EDA behind the tutorial, and*  \n",
    "2. *Provide a quick summary of EDA conclusions relevant to the tutorial which could include items such as identifying missingness, then need for transformations or outlier mitigation, basic associations between features and the target, etc*"
   ]
  }
 ],
 "metadata": {
  "kernelspec": {
   "display_name": "Python 3",
   "language": "python",
   "name": "python3"
  },
  "language_info": {
   "codemirror_mode": {
    "name": "ipython",
    "version": 3
   },
   "file_extension": ".py",
   "mimetype": "text/x-python",
   "name": "python",
   "nbconvert_exporter": "python",
   "pygments_lexer": "ipython3",
   "version": "3.7.8"
  },
  "toc": {
   "base_numbering": 1,
   "nav_menu": {},
   "number_sections": false,
   "sideBar": true,
   "skip_h1_title": false,
   "title_cell": "Table of Contents",
   "title_sidebar": "Contents",
   "toc_cell": false,
   "toc_position": {},
   "toc_section_display": true,
   "toc_window_display": false
  }
 },
 "nbformat": 4,
 "nbformat_minor": 4
}
