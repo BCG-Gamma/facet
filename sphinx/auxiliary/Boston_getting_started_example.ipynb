{
 "cells": [
  {
   "cell_type": "markdown",
   "metadata": {},
   "source": [
    "\n"
   ]
  },
  {
   "cell_type": "markdown",
   "metadata": {},
   "source": [
    "\n",
    "\n"
   ]
  },
  {
   "cell_type": "markdown",
   "metadata": {},
   "source": [
    "\n",
    "\n"
   ]
  },
  {
   "attachments": {
    "Gamma_Facet_Logo_RGB_LB.svg": {
     "image/svg+xml": [
      "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"
     ]
    }
   },
   "cell_type": "markdown",
   "metadata": {},
   "source": [
    "![Gamma_Facet_Logo_RGB_LB.svg](attachment:Gamma_Facet_Logo_RGB_LB.svg)"
   ]
  },
  {
   "cell_type": "markdown",
   "metadata": {},
   "source": [
    "  \n"
   ]
  },
  {
   "cell_type": "markdown",
   "metadata": {},
   "source": [
    "\n",
    "\n",
    "\n"
   ]
  },
  {
   "cell_type": "markdown",
   "metadata": {},
   "source": [
    "\n"
   ]
  },
  {
   "cell_type": "markdown",
   "metadata": {},
   "source": [
    "FACET is composed of the following key components:\n",
    "\n",
    "- **Enhanced machine learning workflow**:\n",
    "    Facet delivers a robust and fail-safe pipelining\n",
    "    workflow which allows you to easily impute and select your features as well as\n",
    "    ranking a grid of different models \"competing\" against each other. Facet introduces\n",
    "    **sklearndf**, an augmented version of scikit-learn with enhanced support for pandas\n",
    "    data frames and pipelining.\n",
    "\n",
    "- **Model Inspection**:\n",
    "    Local explanations of features and their interactions make up a key\n",
    "    component of understanding feature importance as well as feature interactions.\n",
    "    This is based on a novel method which decomposes\n",
    "    [SHAP values](<https://shap.readthedocs.io/en/latest/>) into\n",
    "    two vectors representing **synergy** and **redundancy**.\n",
    "\n",
    "- **Model Simulation**:\n",
    "    Use your trained model and the insights from the model inspection\n",
    "    to conduct a historical simulation of any feature on your target in order to\n",
    "    identify local optima."
   ]
  },
  {
   "cell_type": "code",
   "execution_count": null,
   "metadata": {
    "delete_for_interactive": true,
    "nbsphinx": "hidden"
   },
   "outputs": [],
   "source": [
    "# this cell's metadata contains\n",
    "# \"nbsphinx\": \"hidden\" so it is hidden by nbsphinx\n",
    "\n",
    "\n",
    "def _set_paths() -> None:\n",
    "    # set the correct path when launched from within PyCharm\n",
    "\n",
    "    module_paths = [\"pytools\", \"facet\", \"sklearndf\"]\n",
    "\n",
    "    import sys\n",
    "    import os\n",
    "\n",
    "    if \"cwd\" not in globals():\n",
    "        # noinspection PyGlobalUndefined\n",
    "        global cwd\n",
    "        cwd = os.path.join(os.getcwd(), os.pardir, os.pardir, os.pardir)\n",
    "        os.chdir(cwd)\n",
    "    print(f\"working dir is '{os.getcwd()}'\")\n",
    "    for module_path in module_paths:\n",
    "        if module_path not in sys.path:\n",
    "            sys.path.insert(\n",
    "                0, os.path.abspath(f\"{cwd}/facet/{os.pardir}/{module_path}/src\")\n",
    "            )\n",
    "        print(f\"added `{sys.path[0]}` to python paths\")\n",
    "\n",
    "\n",
    "_set_paths()\n",
    "\n",
    "del _set_paths\n",
    "\n",
    "import warnings\n",
    "\n",
    "warnings.filterwarnings(\"ignore\")\n",
    "\n",
    "from matplotlib import pyplot as plt\n",
    "\n",
    "def _configure_matplotlib():\n",
    "    # set global options for matplotlib\n",
    "\n",
    "    import matplotlib\n",
    "\n",
    "    matplotlib.rcParams[\"figure.figsize\"] = (16.0, 8.0)\n",
    "    matplotlib.rcParams[\"figure.dpi\"] = 72\n",
    "\n",
    "\n",
    "_configure_matplotlib()\n",
    "\n",
    "del _configure_matplotlib"
   ]
  },
  {
   "cell_type": "markdown",
   "metadata": {},
   "source": [
    "# Pipelining & Model Ranking"
   ]
  },
  {
   "cell_type": "code",
   "execution_count": null,
   "metadata": {},
   "outputs": [],
   "source": [
    "# standard imports\n",
    "import pandas as pd\n",
    "from sklearn.datasets import load_boston\n",
    "from sklearn.model_selection import RepeatedKFold\n",
    "\n",
    "# some helpful imports from sklearndf\n",
    "from sklearndf.pipeline import RegressorPipelineDF\n",
    "from sklearndf.regression import RandomForestRegressorDF\n",
    "\n",
    "# relevant FACET imports\n",
    "from facet.data import Sample\n",
    "from facet.selection import LearnerRanker, LearnerGrid\n",
    "\n",
    "# load Boston housing dataset\n",
    "boston = load_boston()\n",
    "df = pd.DataFrame(data=boston.data, columns=boston.feature_names).assign(\n",
    "    MEDIAN_HOUSE_PRICE=boston.target\n",
    ")\n",
    "\n",
    "# create FCAET sample object\n",
    "boston_obs = Sample(observations=df, target_name=\"MEDIAN_HOUSE_PRICE\")\n",
    "\n",
    "# create pipeline for random forest regressor\n",
    "rforest_reg = RegressorPipelineDF(regressor=RandomForestRegressorDF(random_state=42))\n",
    "\n",
    "# define grid of models which are \"competing\" against each other\n",
    "rforest_grid = [\n",
    "    LearnerGrid(\n",
    "        pipeline=rforest_reg, learner_parameters={\"min_samples_leaf\": [8, 11, 15]}\n",
    "    )\n",
    "]\n",
    "\n",
    "# create repeated k-fold CV iterator\n",
    "rkf_cv = RepeatedKFold(n_splits=5, n_repeats=10, random_state=42)\n",
    "\n",
    "# rank your models by performance (default is variance explained)\n",
    "ranker = LearnerRanker(grids=rforest_grid, cv=rkf_cv, n_jobs=-3).fit(sample=boston_obs)\n",
    "\n",
    "# get summary report\n",
    "ranker.summary_report()"
   ]
  },
  {
   "cell_type": "markdown",
   "metadata": {},
   "source": [
    "# Model inspection\n",
    "\n",
    "Facet implements several model inspection methods for\n",
    "[scikit-learn](<https://scikit-learn.org/stable/index.html>) estimators.\n",
    "Fundamentally, facet enables post-hoc model inspection by breaking down the interaction\n",
    "effects of the variables that your model used for training:\n",
    "\n",
    "- **Redundancy**\n",
    "  represents how much information is shared between two features\n",
    "  contributions to the model predictionsFor example, temperature and pressure in a pressure cooker are\n",
    "  redundant features for predicting cooking time since pressure will rise relative to\n",
    "  the temperature, and vice versa. Therefore, knowing just one of either temperature or\n",
    "  pressure will likely enable the same predictive accuracy. Redundancy is expressed as\n",
    "  a percentage ranging from 0% (full uniqueness) to 100% (full redundancy).\n",
    "\n",
    "- **Synergy**\n",
    "  represents how much the combined information of two features contributes to\n",
    "  the model predictions. For example, given features X and Y as\n",
    "  coordinates on a chess board, the colour of a square can only be predicted when\n",
    "  considering X and Y in combination. Synergy is expressed as a\n",
    "  percentage ranging from 0% (full autonomy) to 100% (full synergy)"
   ]
  },
  {
   "cell_type": "code",
   "execution_count": null,
   "metadata": {},
   "outputs": [],
   "source": [
    "# fit the model inspector\n",
    "from facet.inspection import LearnerInspector\n",
    "inspector = LearnerInspector()\n",
    "inspector.fit(crossfit=ranker.best_model_crossfit)\n",
    "\n",
    "# visualise redundancy as a matrix\n",
    "from pytools.viz.matrix import MatrixDrawer\n",
    "redundancy_matrix = inspector.feature_redundancy_matrix()\n",
    "MatrixDrawer(style=\"matplot%\").draw(redundancy_matrix, title=\"Redundancy Matrix\")"
   ]
  },
  {
   "cell_type": "code",
   "execution_count": null,
   "metadata": {
    "delete_for_interactive": true,
    "nbsphinx": "hidden"
   },
   "outputs": [],
   "source": [
    "# save copy of plot to _static directories for documentation\n",
    "MatrixDrawer(style=\"matplot%\").draw(redundancy_matrix, title=\"Redundancy Matrix\")\n",
    "plt.savefig(\"facet/_static/redundancy_matrix.png\", bbox_inches=\"tight\", pad_inches=0)\n",
    "plt.savefig(\n",
    "    \"facet/sphinx/source/_static/redundancy_matrix.png\",\n",
    "    bbox_inches=\"tight\",\n",
    "    pad_inches=0,\n",
    ")"
   ]
  },
  {
   "cell_type": "markdown",
   "metadata": {},
   "source": [
    "We can also better visualize redundancy as a dendrogram so we can identify clusters of features with redundancy."
   ]
  },
  {
   "cell_type": "code",
   "execution_count": null,
   "metadata": {},
   "outputs": [],
   "source": [
    "# visualise redundancy using a dendrogram\n",
    "from pytools.viz.dendrogram import DendrogramDrawer\n",
    "redundancy = inspector.feature_redundancy_linkage()\n",
    "DendrogramDrawer().draw(data=redundancy, title=\"Redundancy Dendrogram\")"
   ]
  },
  {
   "cell_type": "code",
   "execution_count": null,
   "metadata": {
    "delete_for_interactive": true,
    "nbsphinx": "hidden"
   },
   "outputs": [],
   "source": [
    "# save copy of plot to _static directories for documentation\n",
    "DendrogramDrawer().draw(data=redundancy, title=\"Redundancy Dendrogram\")\n",
    "plt.savefig(\n",
    "    \"facet/_static/redundancy_dendrogram.png\", bbox_inches=\"tight\", pad_inches=0\n",
    ")\n",
    "plt.savefig(\n",
    "    \"facet/sphinx/source/_static/redundancy_dendrogram.png\",\n",
    "    bbox_inches=\"tight\",\n",
    "    pad_inches=0,\n",
    ")"
   ]
  },
  {
   "cell_type": "markdown",
   "metadata": {},
   "source": [
    "For feature synergy, we can get a similar picture"
   ]
  },
  {
   "cell_type": "code",
   "execution_count": null,
   "metadata": {},
   "outputs": [],
   "source": [
    "# visualise synergy as a matrix\n",
    "synergy_matrix = inspector.feature_synergy_matrix()\n",
    "MatrixDrawer(style=\"matplot%\").draw(synergy_matrix, title=\"Synergy Matrix\")"
   ]
  },
  {
   "cell_type": "code",
   "execution_count": null,
   "metadata": {
    "delete_for_interactive": true,
    "nbsphinx": "hidden"
   },
   "outputs": [],
   "source": [
    "# save copy of plot to _static directories for documentation\n",
    "MatrixDrawer(style=\"matplot%\").draw(synergy_matrix, title=\"Synergy Matrix\")\n",
    "plt.savefig(\"facet/_static/synergy_matrix.png\", bbox_inches=\"tight\", pad_inches=0)\n",
    "plt.savefig(\n",
    "    \"facet/sphinx/source/_static/synergy_matrix.png\", bbox_inches=\"tight\", pad_inches=0\n",
    ")"
   ]
  },
  {
   "cell_type": "markdown",
   "metadata": {},
   "source": [
    "Please see the API documentation for more detail."
   ]
  },
  {
   "cell_type": "markdown",
   "metadata": {},
   "source": [
    "# Simulation"
   ]
  },
  {
   "cell_type": "code",
   "execution_count": null,
   "metadata": {
    "scrolled": false
   },
   "outputs": [],
   "source": [
    "# FACET imports\n",
    "from facet.validation import BootstrapCV\n",
    "from facet.crossfit import LearnerCrossfit\n",
    "from facet.simulation import UnivariateUpliftSimulator\n",
    "from facet.simulation.partition import ContinuousRangePartitioner\n",
    "from facet.simulation.viz import SimulationDrawer\n",
    "\n",
    "# create bootstrap CV iterator\n",
    "bscv = BootstrapCV(n_splits=1000, random_state=42)\n",
    "\n",
    "# create a bootstrap CV crossfit for simulation using best model\n",
    "boot_crossfit = LearnerCrossfit(\n",
    "    pipeline=ranker.best_model.native_estimator,\n",
    "    cv=bscv,\n",
    "    n_jobs=-3,\n",
    "    verbose=False,\n",
    ").fit(sample=boston_obs)\n",
    "\n",
    "SIM_FEAT = \"LSTAT\"\n",
    "simulator = UnivariateUpliftSimulator(crossfit=ranker.best_model_crossfit, n_jobs=3)\n",
    "\n",
    "# split the simulation range into equal sized partitions\n",
    "partitioner = ContinuousRangePartitioner()\n",
    "\n",
    "# run the simulation\n",
    "simulation = simulator.simulate_feature(name=SIM_FEAT, partitioner=partitioner)\n",
    "\n",
    "# visualise results\n",
    "SimulationDrawer().draw(data=simulation, title=SIM_FEAT)"
   ]
  },
  {
   "cell_type": "code",
   "execution_count": null,
   "metadata": {
    "delete_for_interactive": true,
    "nbsphinx": "hidden"
   },
   "outputs": [],
   "source": [
    "# save copy of plot to _static directories for documentation\n",
    "SimulationDrawer().draw(data=simulation, title=SIM_FEAT)\n",
    "plt.savefig(\"facet/_static/simulation_output.png\", bbox_inches=\"tight\", pad_inches=0)\n",
    "plt.savefig(\n",
    "    \"facet/sphinx/source/_static/simulation_output.png\",\n",
    "    bbox_inches=\"tight\",\n",
    "    pad_inches=0,\n",
    ")"
   ]
  },
  {
   "cell_type": "code",
   "execution_count": null,
   "metadata": {},
   "outputs": [],
   "source": []
  }
 ],
 "metadata": {
  "kernelspec": {
   "display_name": "facet-develop",
   "language": "python",
   "name": "facet-develop"
  },
  "language_info": {
   "codemirror_mode": {
    "name": "ipython",
    "version": 3
   },
   "file_extension": ".py",
   "mimetype": "text/x-python",
   "name": "python",
   "nbconvert_exporter": "python",
   "pygments_lexer": "ipython3",
   "version": "3.7.8"
  },
  "toc": {
   "base_numbering": 1,
   "nav_menu": {},
   "number_sections": false,
   "sideBar": true,
   "skip_h1_title": false,
   "title_cell": "Table of Contents",
   "title_sidebar": "Contents",
   "toc_cell": false,
   "toc_position": {
    "height": "calc(100% - 180px)",
    "left": "10px",
    "top": "150px",
    "width": "191.594px"
   },
   "toc_section_display": true,
   "toc_window_display": false
  }
 },
 "nbformat": 4,
 "nbformat_minor": 4
}
