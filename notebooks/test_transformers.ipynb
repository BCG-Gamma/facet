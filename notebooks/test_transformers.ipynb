{
 "cells": [
  {
   "cell_type": "code",
   "execution_count": null,
   "metadata": {
    "ExecuteTime": {
     "end_time": "2019-08-01T08:50:38.523558Z",
     "start_time": "2019-08-01T08:50:37.598288Z"
    },
    "pycharm": {
     "is_executing": false
    }
   },
   "outputs": [],
   "source": [
    "import numpy as np\n",
    "import pandas as pd"
   ]
  },
  {
   "cell_type": "code",
   "execution_count": null,
   "metadata": {
    "ExecuteTime": {
     "end_time": "2019-08-01T08:50:39.648839Z",
     "start_time": "2019-08-01T08:50:38.525515Z"
    },
    "pycharm": {
     "is_executing": false,
     "name": "#%%\n"
    }
   },
   "outputs": [],
   "source": [
    "from gamma.sklearndf.transformation import KBinsDiscretizerDF, PolynomialFeaturesDF, PCADF, VarianceThresholdDF, LocallyLinearEmbeddingDF\n",
    "from gamma.sklearndf.pipeline import FeatureUnionDF"
   ]
  },
  {
   "cell_type": "code",
   "execution_count": null,
   "metadata": {
    "ExecuteTime": {
     "end_time": "2019-08-01T08:50:39.658792Z",
     "start_time": "2019-08-01T08:50:39.651791Z"
    },
    "pycharm": {
     "is_executing": false,
     "name": "#%%\n"
    }
   },
   "outputs": [],
   "source": [
    "np.random.seed(42)\n",
    "df = pd.DataFrame(data=np.random.randn(103, 5), columns=list('abcde'))"
   ]
  },
  {
   "cell_type": "markdown",
   "metadata": {},
   "source": [
    "## PCA (NNamedDimensionalityReductionWrapperDF)"
   ]
  },
  {
   "cell_type": "code",
   "execution_count": null,
   "metadata": {
    "ExecuteTime": {
     "end_time": "2019-08-01T08:50:39.691840Z",
     "start_time": "2019-08-01T08:50:39.681797Z"
    }
   },
   "outputs": [],
   "source": [
    "pcadf = PCADF(n_components=3)"
   ]
  },
  {
   "cell_type": "code",
   "execution_count": null,
   "metadata": {
    "ExecuteTime": {
     "end_time": "2019-08-01T08:50:39.749814Z",
     "start_time": "2019-08-01T08:50:39.693799Z"
    }
   },
   "outputs": [],
   "source": [
    "pcadf.fit(df)"
   ]
  },
  {
   "cell_type": "code",
   "execution_count": null,
   "metadata": {
    "ExecuteTime": {
     "end_time": "2019-08-01T08:50:39.779839Z",
     "start_time": "2019-08-01T08:50:39.752816Z"
    }
   },
   "outputs": [],
   "source": [
    "pcadf.transform(df).head()"
   ]
  },
  {
   "cell_type": "markdown",
   "metadata": {},
   "source": [
    "## LocallyLinearEmbeding (NComponentsDimensionalityReductionWrapperDF)"
   ]
  },
  {
   "cell_type": "code",
   "execution_count": null,
   "metadata": {
    "ExecuteTime": {
     "end_time": "2019-08-01T08:50:39.787827Z",
     "start_time": "2019-08-01T08:50:39.783823Z"
    }
   },
   "outputs": [],
   "source": [
    "loc_embedding_df = LocallyLinearEmbeddingDF(n_components=5)"
   ]
  },
  {
   "cell_type": "code",
   "execution_count": null,
   "metadata": {
    "ExecuteTime": {
     "end_time": "2019-08-01T08:50:39.825859Z",
     "start_time": "2019-08-01T08:50:39.790824Z"
    }
   },
   "outputs": [],
   "source": [
    "loc_embedding_df.fit(df)"
   ]
  },
  {
   "cell_type": "code",
   "execution_count": null,
   "metadata": {
    "ExecuteTime": {
     "end_time": "2019-08-01T08:50:39.856838Z",
     "start_time": "2019-08-01T08:50:39.827831Z"
    }
   },
   "outputs": [],
   "source": [
    "loc_embedding_df.transform(df).head()"
   ]
  },
  {
   "cell_type": "markdown",
   "metadata": {},
   "source": [
    "## VarianceThresholdDF (FeatureSelectionWrapperDF)"
   ]
  },
  {
   "cell_type": "code",
   "execution_count": null,
   "metadata": {
    "ExecuteTime": {
     "end_time": "2019-08-01T08:50:39.862841Z",
     "start_time": "2019-08-01T08:50:39.858839Z"
    }
   },
   "outputs": [],
   "source": [
    "var_df = VarianceThresholdDF(threshold=.8)"
   ]
  },
  {
   "cell_type": "code",
   "execution_count": null,
   "metadata": {
    "ExecuteTime": {
     "end_time": "2019-08-01T08:50:39.881844Z",
     "start_time": "2019-08-01T08:50:39.865842Z"
    }
   },
   "outputs": [],
   "source": [
    "var_df.fit(df)"
   ]
  },
  {
   "cell_type": "code",
   "execution_count": null,
   "metadata": {
    "ExecuteTime": {
     "end_time": "2019-08-01T08:50:40.535956Z",
     "start_time": "2019-08-01T08:50:40.527999Z"
    }
   },
   "outputs": [],
   "source": [
    "var_df.transform(df).head()"
   ]
  },
  {
   "cell_type": "markdown",
   "metadata": {
    "ExecuteTime": {
     "end_time": "2019-08-01T08:27:17.546172Z",
     "start_time": "2019-08-01T08:27:17.543175Z"
    }
   },
   "source": [
    "## KBinsDiscretizer"
   ]
  },
  {
   "cell_type": "code",
   "execution_count": null,
   "metadata": {
    "ExecuteTime": {
     "end_time": "2019-08-01T08:50:39.679811Z",
     "start_time": "2019-08-01T08:50:39.660791Z"
    },
    "pycharm": {
     "is_executing": false,
     "name": "#%%\n"
    }
   },
   "outputs": [],
   "source": [
    "try:\n",
    "    kbins = KBinsDiscretizerDF(n_bins=4)\n",
    "except NotImplementedError as ae:\n",
    "    print(ae)\n",
    "\n",
    "kbins = KBinsDiscretizerDF(n_bins=4, encode=\"onehot-dense\")\n",
    "kbins"
   ]
  },
  {
   "cell_type": "code",
   "execution_count": null,
   "metadata": {
    "ExecuteTime": {
     "end_time": "2019-08-01T08:50:43.694588Z",
     "start_time": "2019-08-01T08:50:43.682624Z"
    },
    "pycharm": {
     "is_executing": false,
     "name": "#%%\n"
    }
   },
   "outputs": [],
   "source": [
    "kbins.fit(df)"
   ]
  },
  {
   "cell_type": "code",
   "execution_count": null,
   "metadata": {
    "ExecuteTime": {
     "end_time": "2019-08-01T08:50:47.270498Z",
     "start_time": "2019-08-01T08:50:47.257496Z"
    },
    "pycharm": {
     "is_executing": false,
     "name": "#%%\n"
    },
    "scrolled": false
   },
   "outputs": [],
   "source": [
    "kbins.transform(df).mean().sample(5)"
   ]
  },
  {
   "cell_type": "markdown",
   "metadata": {
    "pycharm": {
     "name": "#%%\n"
    }
   },
   "source": [
    "## Polynomial\n",
    "\n"
   ]
  },
  {
   "cell_type": "code",
   "execution_count": null,
   "metadata": {
    "ExecuteTime": {
     "end_time": "2019-08-01T08:54:47.265477Z",
     "start_time": "2019-08-01T08:54:47.261512Z"
    }
   },
   "outputs": [],
   "source": [
    "pol = PolynomialFeaturesDF(degree=3)"
   ]
  },
  {
   "cell_type": "code",
   "execution_count": null,
   "metadata": {
    "ExecuteTime": {
     "end_time": "2019-08-01T08:54:47.836820Z",
     "start_time": "2019-08-01T08:54:47.829782Z"
    }
   },
   "outputs": [],
   "source": [
    "pol.fit(df)"
   ]
  },
  {
   "cell_type": "code",
   "execution_count": null,
   "metadata": {
    "ExecuteTime": {
     "end_time": "2019-08-01T08:54:48.499764Z",
     "start_time": "2019-08-01T08:54:48.471762Z"
    }
   },
   "outputs": [],
   "source": [
    "pol.transform(df).head()"
   ]
  },
  {
   "cell_type": "code",
   "execution_count": null,
   "metadata": {},
   "outputs": [],
   "source": [
    "try:\n",
    "    pol.columns_original\n",
    "except NotImplementedError as ae:\n",
    "    print(ae)"
   ]
  },
  {
   "cell_type": "markdown",
   "metadata": {
    "ExecuteTime": {
     "end_time": "2019-08-01T08:42:59.389741Z",
     "start_time": "2019-08-01T08:42:59.387740Z"
    }
   },
   "source": [
    "## Feature unions"
   ]
  },
  {
   "cell_type": "code",
   "execution_count": null,
   "metadata": {
    "ExecuteTime": {
     "end_time": "2019-08-01T08:50:47.912273Z",
     "start_time": "2019-08-01T08:50:47.908235Z"
    }
   },
   "outputs": [],
   "source": [
    "feature_union_df = FeatureUnionDF(transformer_list=[\n",
    "    ('variance_threshold', var_df),\n",
    "    ('kbins', kbins),\n",
    "    ('pca', pcadf)\n",
    "]                             \n",
    "                                 )"
   ]
  },
  {
   "cell_type": "code",
   "execution_count": null,
   "metadata": {
    "ExecuteTime": {
     "end_time": "2019-08-01T08:50:48.380051Z",
     "start_time": "2019-08-01T08:50:48.362054Z"
    }
   },
   "outputs": [],
   "source": [
    "feature_union_df.fit(df)"
   ]
  },
  {
   "cell_type": "code",
   "execution_count": null,
   "metadata": {
    "ExecuteTime": {
     "end_time": "2019-08-01T08:50:49.516897Z",
     "start_time": "2019-08-01T08:50:48.939756Z"
    }
   },
   "outputs": [],
   "source": [
    "try:\n",
    "    feature_union_df.columns_original\n",
    "except NotImplementedError as ni:\n",
    "    print(ni)"
   ]
  },
  {
   "cell_type": "code",
   "execution_count": null,
   "metadata": {
    "ExecuteTime": {
     "end_time": "2019-08-01T08:40:57.705756Z",
     "start_time": "2019-08-01T08:40:57.115789Z"
    }
   },
   "outputs": [],
   "source": [
    "feature_union_df.transform(df).head()"
   ]
  },
  {
   "cell_type": "markdown",
   "metadata": {
    "pycharm": {
     "name": "#%%\n"
    }
   },
   "source": [
    "## Polynomial\n",
    "\n"
   ]
  },
  {
   "cell_type": "code",
   "execution_count": null,
   "metadata": {
    "ExecuteTime": {
     "end_time": "2019-08-01T08:34:37.419194Z",
     "start_time": "2019-08-01T08:34:37.412195Z"
    }
   },
   "outputs": [],
   "source": [
    "df = pd.DataFrame(data=np.random.randn(103, 5), columns=list('abcde'))"
   ]
  },
  {
   "cell_type": "code",
   "execution_count": null,
   "metadata": {
    "ExecuteTime": {
     "end_time": "2019-08-01T08:34:37.431191Z",
     "start_time": "2019-08-01T08:34:37.421194Z"
    }
   },
   "outputs": [],
   "source": [
    "pol = PolynomialFeaturesDF(degree=3)"
   ]
  },
  {
   "cell_type": "code",
   "execution_count": null,
   "metadata": {
    "ExecuteTime": {
     "end_time": "2019-08-01T08:34:37.446194Z",
     "start_time": "2019-08-01T08:34:37.433192Z"
    }
   },
   "outputs": [],
   "source": [
    "pol.fit(df)"
   ]
  },
  {
   "cell_type": "code",
   "execution_count": null,
   "metadata": {
    "ExecuteTime": {
     "end_time": "2019-08-01T08:34:37.486186Z",
     "start_time": "2019-08-01T08:34:37.449192Z"
    }
   },
   "outputs": [],
   "source": [
    "pol.transform(df).head()"
   ]
  },
  {
   "cell_type": "code",
   "execution_count": null,
   "metadata": {
    "ExecuteTime": {
     "end_time": "2019-08-01T08:34:37.496185Z",
     "start_time": "2019-08-01T08:34:37.488187Z"
    }
   },
   "outputs": [],
   "source": [
    "df = pd.DataFrame(data=np.random.randn(103, 5))"
   ]
  },
  {
   "cell_type": "code",
   "execution_count": null,
   "metadata": {
    "ExecuteTime": {
     "end_time": "2019-08-01T08:34:37.508183Z",
     "start_time": "2019-08-01T08:34:37.498184Z"
    }
   },
   "outputs": [],
   "source": [
    "pol = PolynomialFeaturesDF(degree=3)"
   ]
  },
  {
   "cell_type": "code",
   "execution_count": null,
   "metadata": {
    "ExecuteTime": {
     "end_time": "2019-08-01T08:34:37.524181Z",
     "start_time": "2019-08-01T08:34:37.511185Z"
    }
   },
   "outputs": [],
   "source": [
    "pol.fit(df)"
   ]
  },
  {
   "cell_type": "code",
   "execution_count": null,
   "metadata": {
    "ExecuteTime": {
     "end_time": "2019-08-01T08:34:38.196097Z",
     "start_time": "2019-08-01T08:34:37.527183Z"
    }
   },
   "outputs": [],
   "source": [
    "pol.transform(df).head()"
   ]
  },
  {
   "cell_type": "code",
   "execution_count": null,
   "metadata": {
    "ExecuteTime": {
     "end_time": "2019-08-01T08:34:38.198102Z",
     "start_time": "2019-08-01T08:34:35.038Z"
    }
   },
   "outputs": [],
   "source": [
    "## Problem is that get_feature_names expect to have string columns"
   ]
  },
  {
   "cell_type": "code",
   "execution_count": null,
   "metadata": {},
   "outputs": [],
   "source": []
  }
 ],
 "metadata": {
  "kernelspec": {
   "display_name": "PyCharm (yield-engine)",
   "language": "python",
   "name": "pycharm-e8b24f33"
  },
  "language_info": {
   "codemirror_mode": {
    "name": "ipython",
    "version": 3
   },
   "file_extension": ".py",
   "mimetype": "text/x-python",
   "name": "python",
   "nbconvert_exporter": "python",
   "pygments_lexer": "ipython3",
   "version": "3.6.7"
  },
  "pycharm": {
   "stem_cell": {
    "cell_type": "raw",
    "metadata": {
     "collapsed": false
    },
    "source": []
   }
  },
  "toc": {
   "base_numbering": 1,
   "nav_menu": {},
   "number_sections": true,
   "sideBar": true,
   "skip_h1_title": false,
   "title_cell": "Table of Contents",
   "title_sidebar": "Contents",
   "toc_cell": false,
   "toc_position": {},
   "toc_section_display": true,
   "toc_window_display": false
  }
 },
 "nbformat": 4,
 "nbformat_minor": 1
}
