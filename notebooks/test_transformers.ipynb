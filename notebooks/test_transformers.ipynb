{
 "cells": [
  {
   "cell_type": "code",
   "execution_count": 1,
   "metadata": {
    "ExecuteTime": {
     "end_time": "2019-08-01T08:50:38.523558Z",
     "start_time": "2019-08-01T08:50:37.598288Z"
    },
    "pycharm": {
     "is_executing": false
    }
   },
   "outputs": [],
   "source": [
    "import numpy as np\n",
    "import pandas as pd"
   ]
  },
  {
   "cell_type": "code",
   "execution_count": 2,
   "metadata": {
    "ExecuteTime": {
     "end_time": "2019-08-01T08:50:39.648839Z",
     "start_time": "2019-08-01T08:50:38.525515Z"
    },
    "pycharm": {
     "is_executing": false,
     "name": "#%%\n"
    }
   },
   "outputs": [],
   "source": [
    "from sklearn.preprocessing import PolynomialFeatures\n",
    "from gamma.sklearndf.transformation import KBinsDiscretizerDF, PolynomialFeaturesDF, PCADF, VarianceThresholdDF, LocallyLinearEmbeddingDF\n",
    "from gamma.sklearndf.pipeline import FeatureUnionDF"
   ]
  },
  {
   "cell_type": "code",
   "execution_count": 3,
   "metadata": {
    "ExecuteTime": {
     "end_time": "2019-08-01T08:50:39.658792Z",
     "start_time": "2019-08-01T08:50:39.651791Z"
    },
    "pycharm": {
     "is_executing": false,
     "name": "#%%\n"
    }
   },
   "outputs": [],
   "source": [
    "df = pd.DataFrame(data=np.random.randn(103, 5), columns=list('abcde'))"
   ]
  },
  {
   "cell_type": "code",
   "execution_count": 4,
   "metadata": {
    "ExecuteTime": {
     "end_time": "2019-08-01T08:50:39.679811Z",
     "start_time": "2019-08-01T08:50:39.660791Z"
    },
    "pycharm": {
     "is_executing": false,
     "name": "#%%\n"
    }
   },
   "outputs": [
    {
     "name": "stderr",
     "output_type": "stream",
     "text": [
      "argument for encode is onehot which is not supported due to sparse matrices; onehot-dense will be used instead\n"
     ]
    }
   ],
   "source": [
    "kbins = KBinsDiscretizerDF(n_bins=4)"
   ]
  },
  {
   "cell_type": "markdown",
   "metadata": {},
   "source": [
    "## PCA (NNamedDimensionalityReductionWrapperDF)"
   ]
  },
  {
   "cell_type": "code",
   "execution_count": 5,
   "metadata": {
    "ExecuteTime": {
     "end_time": "2019-08-01T08:50:39.691840Z",
     "start_time": "2019-08-01T08:50:39.681797Z"
    }
   },
   "outputs": [],
   "source": [
    "pcadf = PCADF(n_components=3)"
   ]
  },
  {
   "cell_type": "code",
   "execution_count": 6,
   "metadata": {
    "ExecuteTime": {
     "end_time": "2019-08-01T08:50:39.749814Z",
     "start_time": "2019-08-01T08:50:39.693799Z"
    }
   },
   "outputs": [
    {
     "data": {
      "text/plain": [
       "PCADF(copy=True, iterated_power='auto', n_components=3, random_state=None,\n",
       "      svd_solver='auto', tol=0.0, whiten=False)"
      ]
     },
     "execution_count": 6,
     "metadata": {},
     "output_type": "execute_result"
    }
   ],
   "source": [
    "pcadf.fit(df)"
   ]
  },
  {
   "cell_type": "code",
   "execution_count": 7,
   "metadata": {
    "ExecuteTime": {
     "end_time": "2019-08-01T08:50:39.779839Z",
     "start_time": "2019-08-01T08:50:39.752816Z"
    }
   },
   "outputs": [
    {
     "data": {
      "text/html": [
       "<div>\n",
       "<style scoped>\n",
       "    .dataframe tbody tr th:only-of-type {\n",
       "        vertical-align: middle;\n",
       "    }\n",
       "\n",
       "    .dataframe tbody tr th {\n",
       "        vertical-align: top;\n",
       "    }\n",
       "\n",
       "    .dataframe thead th {\n",
       "        text-align: right;\n",
       "    }\n",
       "</style>\n",
       "<table border=\"1\" class=\"dataframe\">\n",
       "  <thead>\n",
       "    <tr style=\"text-align: right;\">\n",
       "      <th>column_out</th>\n",
       "      <th>x_0</th>\n",
       "      <th>x_1</th>\n",
       "      <th>x_2</th>\n",
       "    </tr>\n",
       "  </thead>\n",
       "  <tbody>\n",
       "    <tr>\n",
       "      <th>0</th>\n",
       "      <td>-1.277778</td>\n",
       "      <td>2.527272</td>\n",
       "      <td>0.630749</td>\n",
       "    </tr>\n",
       "    <tr>\n",
       "      <th>1</th>\n",
       "      <td>1.016805</td>\n",
       "      <td>0.791794</td>\n",
       "      <td>0.515288</td>\n",
       "    </tr>\n",
       "    <tr>\n",
       "      <th>2</th>\n",
       "      <td>-1.771006</td>\n",
       "      <td>-0.601164</td>\n",
       "      <td>-0.510219</td>\n",
       "    </tr>\n",
       "    <tr>\n",
       "      <th>3</th>\n",
       "      <td>1.686545</td>\n",
       "      <td>1.212034</td>\n",
       "      <td>0.193861</td>\n",
       "    </tr>\n",
       "    <tr>\n",
       "      <th>4</th>\n",
       "      <td>-0.834194</td>\n",
       "      <td>0.143731</td>\n",
       "      <td>-0.652902</td>\n",
       "    </tr>\n",
       "  </tbody>\n",
       "</table>\n",
       "</div>"
      ],
      "text/plain": [
       "column_out       x_0       x_1       x_2\n",
       "0          -1.277778  2.527272  0.630749\n",
       "1           1.016805  0.791794  0.515288\n",
       "2          -1.771006 -0.601164 -0.510219\n",
       "3           1.686545  1.212034  0.193861\n",
       "4          -0.834194  0.143731 -0.652902"
      ]
     },
     "execution_count": 7,
     "metadata": {},
     "output_type": "execute_result"
    }
   ],
   "source": [
    "pcadf.transform(df).head()"
   ]
  },
  {
   "cell_type": "markdown",
   "metadata": {},
   "source": [
    "## LocallyLinearEmbeding (AnonymousDimensionalityReductionWrapperDF)"
   ]
  },
  {
   "cell_type": "code",
   "execution_count": 8,
   "metadata": {
    "ExecuteTime": {
     "end_time": "2019-08-01T08:50:39.787827Z",
     "start_time": "2019-08-01T08:50:39.783823Z"
    }
   },
   "outputs": [],
   "source": [
    "loc_embedding_df = LocallyLinearEmbeddingDF(n_components=5)"
   ]
  },
  {
   "cell_type": "code",
   "execution_count": 9,
   "metadata": {
    "ExecuteTime": {
     "end_time": "2019-08-01T08:50:39.825859Z",
     "start_time": "2019-08-01T08:50:39.790824Z"
    }
   },
   "outputs": [
    {
     "data": {
      "text/plain": [
       "LocallyLinearEmbeddingDF(eigen_solver='auto', hessian_tol=0.0001, max_iter=100,\n",
       "                         method='standard', modified_tol=1e-12, n_components=5,\n",
       "                         n_jobs=None, n_neighbors=5, neighbors_algorithm='auto',\n",
       "                         random_state=None, reg=0.001, tol=1e-06)"
      ]
     },
     "execution_count": 9,
     "metadata": {},
     "output_type": "execute_result"
    }
   ],
   "source": [
    "loc_embedding_df.fit(df)"
   ]
  },
  {
   "cell_type": "code",
   "execution_count": 10,
   "metadata": {
    "ExecuteTime": {
     "end_time": "2019-08-01T08:50:39.856838Z",
     "start_time": "2019-08-01T08:50:39.827831Z"
    }
   },
   "outputs": [
    {
     "data": {
      "text/html": [
       "<div>\n",
       "<style scoped>\n",
       "    .dataframe tbody tr th:only-of-type {\n",
       "        vertical-align: middle;\n",
       "    }\n",
       "\n",
       "    .dataframe tbody tr th {\n",
       "        vertical-align: top;\n",
       "    }\n",
       "\n",
       "    .dataframe thead th {\n",
       "        text-align: right;\n",
       "    }\n",
       "</style>\n",
       "<table border=\"1\" class=\"dataframe\">\n",
       "  <thead>\n",
       "    <tr style=\"text-align: right;\">\n",
       "      <th>column_out</th>\n",
       "      <th>x_0</th>\n",
       "      <th>x_1</th>\n",
       "      <th>x_2</th>\n",
       "      <th>x_3</th>\n",
       "      <th>x_4</th>\n",
       "    </tr>\n",
       "  </thead>\n",
       "  <tbody>\n",
       "    <tr>\n",
       "      <th>0</th>\n",
       "      <td>0.141735</td>\n",
       "      <td>0.010093</td>\n",
       "      <td>-0.276156</td>\n",
       "      <td>-0.017312</td>\n",
       "      <td>-0.141620</td>\n",
       "    </tr>\n",
       "    <tr>\n",
       "      <th>1</th>\n",
       "      <td>0.022343</td>\n",
       "      <td>-0.014906</td>\n",
       "      <td>0.113940</td>\n",
       "      <td>-0.013306</td>\n",
       "      <td>-0.044176</td>\n",
       "    </tr>\n",
       "    <tr>\n",
       "      <th>2</th>\n",
       "      <td>0.086545</td>\n",
       "      <td>-0.205672</td>\n",
       "      <td>0.032464</td>\n",
       "      <td>0.180096</td>\n",
       "      <td>0.083136</td>\n",
       "    </tr>\n",
       "    <tr>\n",
       "      <th>3</th>\n",
       "      <td>0.020577</td>\n",
       "      <td>0.035385</td>\n",
       "      <td>0.130422</td>\n",
       "      <td>-0.048354</td>\n",
       "      <td>-0.041742</td>\n",
       "    </tr>\n",
       "    <tr>\n",
       "      <th>4</th>\n",
       "      <td>0.090436</td>\n",
       "      <td>-0.153661</td>\n",
       "      <td>0.009221</td>\n",
       "      <td>0.073736</td>\n",
       "      <td>0.020337</td>\n",
       "    </tr>\n",
       "  </tbody>\n",
       "</table>\n",
       "</div>"
      ],
      "text/plain": [
       "column_out       x_0       x_1       x_2       x_3       x_4\n",
       "0           0.141735  0.010093 -0.276156 -0.017312 -0.141620\n",
       "1           0.022343 -0.014906  0.113940 -0.013306 -0.044176\n",
       "2           0.086545 -0.205672  0.032464  0.180096  0.083136\n",
       "3           0.020577  0.035385  0.130422 -0.048354 -0.041742\n",
       "4           0.090436 -0.153661  0.009221  0.073736  0.020337"
      ]
     },
     "execution_count": 10,
     "metadata": {},
     "output_type": "execute_result"
    }
   ],
   "source": [
    "loc_embedding_df.transform(df).head()"
   ]
  },
  {
   "cell_type": "markdown",
   "metadata": {},
   "source": [
    "## VarianceThresholdDF (FeatureSelectionWrapperDF)"
   ]
  },
  {
   "cell_type": "code",
   "execution_count": 11,
   "metadata": {
    "ExecuteTime": {
     "end_time": "2019-08-01T08:50:39.862841Z",
     "start_time": "2019-08-01T08:50:39.858839Z"
    }
   },
   "outputs": [],
   "source": [
    "var_df = VarianceThresholdDF(threshold=.8)"
   ]
  },
  {
   "cell_type": "code",
   "execution_count": 12,
   "metadata": {
    "ExecuteTime": {
     "end_time": "2019-08-01T08:50:39.881844Z",
     "start_time": "2019-08-01T08:50:39.865842Z"
    }
   },
   "outputs": [
    {
     "data": {
      "text/plain": [
       "VarianceThresholdDF(threshold=0.8)"
      ]
     },
     "execution_count": 12,
     "metadata": {},
     "output_type": "execute_result"
    }
   ],
   "source": [
    "var_df.fit(df)"
   ]
  },
  {
   "cell_type": "code",
   "execution_count": 13,
   "metadata": {
    "ExecuteTime": {
     "end_time": "2019-08-01T08:50:40.535956Z",
     "start_time": "2019-08-01T08:50:40.527999Z"
    }
   },
   "outputs": [
    {
     "data": {
      "text/html": [
       "<div>\n",
       "<style scoped>\n",
       "    .dataframe tbody tr th:only-of-type {\n",
       "        vertical-align: middle;\n",
       "    }\n",
       "\n",
       "    .dataframe tbody tr th {\n",
       "        vertical-align: top;\n",
       "    }\n",
       "\n",
       "    .dataframe thead th {\n",
       "        text-align: right;\n",
       "    }\n",
       "</style>\n",
       "<table border=\"1\" class=\"dataframe\">\n",
       "  <thead>\n",
       "    <tr style=\"text-align: right;\">\n",
       "      <th>column_out</th>\n",
       "      <th>a</th>\n",
       "      <th>b</th>\n",
       "      <th>c</th>\n",
       "      <th>d</th>\n",
       "      <th>e</th>\n",
       "    </tr>\n",
       "  </thead>\n",
       "  <tbody>\n",
       "    <tr>\n",
       "      <th>0</th>\n",
       "      <td>-2.136858</td>\n",
       "      <td>0.844064</td>\n",
       "      <td>-1.178645</td>\n",
       "      <td>-1.182675</td>\n",
       "      <td>1.089610</td>\n",
       "    </tr>\n",
       "    <tr>\n",
       "      <th>1</th>\n",
       "      <td>0.333682</td>\n",
       "      <td>-1.182055</td>\n",
       "      <td>-1.971583</td>\n",
       "      <td>0.270978</td>\n",
       "      <td>0.492230</td>\n",
       "    </tr>\n",
       "    <tr>\n",
       "      <th>2</th>\n",
       "      <td>-0.915782</td>\n",
       "      <td>-0.907280</td>\n",
       "      <td>0.010541</td>\n",
       "      <td>-0.942667</td>\n",
       "      <td>-1.620768</td>\n",
       "    </tr>\n",
       "    <tr>\n",
       "      <th>3</th>\n",
       "      <td>1.001418</td>\n",
       "      <td>0.734019</td>\n",
       "      <td>-1.405382</td>\n",
       "      <td>0.395018</td>\n",
       "      <td>1.042348</td>\n",
       "    </tr>\n",
       "    <tr>\n",
       "      <th>4</th>\n",
       "      <td>-0.623028</td>\n",
       "      <td>-0.465809</td>\n",
       "      <td>-0.746449</td>\n",
       "      <td>-0.353904</td>\n",
       "      <td>-1.113391</td>\n",
       "    </tr>\n",
       "  </tbody>\n",
       "</table>\n",
       "</div>"
      ],
      "text/plain": [
       "column_out         a         b         c         d         e\n",
       "0          -2.136858  0.844064 -1.178645 -1.182675  1.089610\n",
       "1           0.333682 -1.182055 -1.971583  0.270978  0.492230\n",
       "2          -0.915782 -0.907280  0.010541 -0.942667 -1.620768\n",
       "3           1.001418  0.734019 -1.405382  0.395018  1.042348\n",
       "4          -0.623028 -0.465809 -0.746449 -0.353904 -1.113391"
      ]
     },
     "execution_count": 13,
     "metadata": {},
     "output_type": "execute_result"
    }
   ],
   "source": [
    "var_df.transform(df).head()"
   ]
  },
  {
   "cell_type": "markdown",
   "metadata": {
    "ExecuteTime": {
     "end_time": "2019-08-01T08:27:17.546172Z",
     "start_time": "2019-08-01T08:27:17.543175Z"
    }
   },
   "source": [
    "## KBinsDiscretizer"
   ]
  },
  {
   "cell_type": "code",
   "execution_count": 14,
   "metadata": {
    "ExecuteTime": {
     "end_time": "2019-08-01T08:50:42.796882Z",
     "start_time": "2019-08-01T08:50:42.791881Z"
    },
    "pycharm": {
     "is_executing": false,
     "name": "#%%\n"
    }
   },
   "outputs": [
    {
     "name": "stderr",
     "output_type": "stream",
     "text": [
      "argument for encode is onehot which is not supported due to sparse matrices; onehot-dense will be used instead\n"
     ]
    }
   ],
   "source": [
    "kbins = KBinsDiscretizerDF(n_bins=4)"
   ]
  },
  {
   "cell_type": "code",
   "execution_count": 15,
   "metadata": {
    "ExecuteTime": {
     "end_time": "2019-08-01T08:50:43.694588Z",
     "start_time": "2019-08-01T08:50:43.682624Z"
    },
    "pycharm": {
     "is_executing": false,
     "name": "#%%\n"
    }
   },
   "outputs": [
    {
     "data": {
      "text/plain": [
       "KBinsDiscretizerDF(encode='onehot-dense', n_bins=4, strategy='quantile')"
      ]
     },
     "execution_count": 15,
     "metadata": {},
     "output_type": "execute_result"
    }
   ],
   "source": [
    "kbins.fit(df)"
   ]
  },
  {
   "cell_type": "code",
   "execution_count": 16,
   "metadata": {
    "ExecuteTime": {
     "end_time": "2019-08-01T08:50:47.270498Z",
     "start_time": "2019-08-01T08:50:47.257496Z"
    },
    "pycharm": {
     "is_executing": false,
     "name": "#%%\n"
    },
    "scrolled": false
   },
   "outputs": [
    {
     "data": {
      "text/plain": [
       "column_out\n",
       "b_bin_2    0.252427\n",
       "a_bin_0    0.252427\n",
       "d_bin_1    0.242718\n",
       "d_bin_2    0.252427\n",
       "c_bin_2    0.252427\n",
       "dtype: float64"
      ]
     },
     "execution_count": 16,
     "metadata": {},
     "output_type": "execute_result"
    }
   ],
   "source": [
    "kbins.transform(df).mean().sample(5)"
   ]
  },
  {
   "cell_type": "markdown",
   "metadata": {
    "pycharm": {
     "name": "#%%\n"
    }
   },
   "source": [
    "## Polynomial\n",
    "\n"
   ]
  },
  {
   "cell_type": "code",
   "execution_count": 20,
   "metadata": {
    "ExecuteTime": {
     "end_time": "2019-08-01T08:54:47.265477Z",
     "start_time": "2019-08-01T08:54:47.261512Z"
    }
   },
   "outputs": [],
   "source": [
    "pol = PolynomialFeaturesDF(degree=3)"
   ]
  },
  {
   "cell_type": "code",
   "execution_count": 21,
   "metadata": {
    "ExecuteTime": {
     "end_time": "2019-08-01T08:54:47.836820Z",
     "start_time": "2019-08-01T08:54:47.829782Z"
    }
   },
   "outputs": [
    {
     "data": {
      "text/plain": [
       "PolynomialFeaturesDF(degree=3, include_bias=True, interaction_only=False,\n",
       "                     order='C')"
      ]
     },
     "execution_count": 21,
     "metadata": {},
     "output_type": "execute_result"
    }
   ],
   "source": [
    "pol.fit(df)"
   ]
  },
  {
   "cell_type": "code",
   "execution_count": 22,
   "metadata": {
    "ExecuteTime": {
     "end_time": "2019-08-01T08:54:48.499764Z",
     "start_time": "2019-08-01T08:54:48.471762Z"
    }
   },
   "outputs": [
    {
     "data": {
      "text/html": [
       "<div>\n",
       "<style scoped>\n",
       "    .dataframe tbody tr th:only-of-type {\n",
       "        vertical-align: middle;\n",
       "    }\n",
       "\n",
       "    .dataframe tbody tr th {\n",
       "        vertical-align: top;\n",
       "    }\n",
       "\n",
       "    .dataframe thead th {\n",
       "        text-align: right;\n",
       "    }\n",
       "</style>\n",
       "<table border=\"1\" class=\"dataframe\">\n",
       "  <thead>\n",
       "    <tr style=\"text-align: right;\">\n",
       "      <th>column_out</th>\n",
       "      <th>1</th>\n",
       "      <th>a</th>\n",
       "      <th>b</th>\n",
       "      <th>c</th>\n",
       "      <th>d</th>\n",
       "      <th>e</th>\n",
       "      <th>a^2</th>\n",
       "      <th>a b</th>\n",
       "      <th>a c</th>\n",
       "      <th>a d</th>\n",
       "      <th>...</th>\n",
       "      <th>c^3</th>\n",
       "      <th>c^2 d</th>\n",
       "      <th>c^2 e</th>\n",
       "      <th>c d^2</th>\n",
       "      <th>c d e</th>\n",
       "      <th>c e^2</th>\n",
       "      <th>d^3</th>\n",
       "      <th>d^2 e</th>\n",
       "      <th>d e^2</th>\n",
       "      <th>e^3</th>\n",
       "    </tr>\n",
       "  </thead>\n",
       "  <tbody>\n",
       "    <tr>\n",
       "      <th>0</th>\n",
       "      <td>1.0</td>\n",
       "      <td>-2.136858</td>\n",
       "      <td>0.844064</td>\n",
       "      <td>-1.178645</td>\n",
       "      <td>-1.182675</td>\n",
       "      <td>1.089610</td>\n",
       "      <td>4.566160</td>\n",
       "      <td>-1.803645</td>\n",
       "      <td>2.518597</td>\n",
       "      <td>2.527207</td>\n",
       "      <td>...</td>\n",
       "      <td>-1.637380</td>\n",
       "      <td>-1.642977</td>\n",
       "      <td>1.513692</td>\n",
       "      <td>-1.648594</td>\n",
       "      <td>1.518867</td>\n",
       "      <td>-1.399347</td>\n",
       "      <td>-1.654230</td>\n",
       "      <td>1.524059</td>\n",
       "      <td>-1.404131</td>\n",
       "      <td>1.293640</td>\n",
       "    </tr>\n",
       "    <tr>\n",
       "      <th>1</th>\n",
       "      <td>1.0</td>\n",
       "      <td>0.333682</td>\n",
       "      <td>-1.182055</td>\n",
       "      <td>-1.971583</td>\n",
       "      <td>0.270978</td>\n",
       "      <td>0.492230</td>\n",
       "      <td>0.111344</td>\n",
       "      <td>-0.394430</td>\n",
       "      <td>-0.657881</td>\n",
       "      <td>0.090420</td>\n",
       "      <td>...</td>\n",
       "      <td>-7.663823</td>\n",
       "      <td>1.053328</td>\n",
       "      <td>1.913367</td>\n",
       "      <td>-0.144771</td>\n",
       "      <td>-0.262976</td>\n",
       "      <td>-0.477696</td>\n",
       "      <td>0.019898</td>\n",
       "      <td>0.036144</td>\n",
       "      <td>0.065655</td>\n",
       "      <td>0.119263</td>\n",
       "    </tr>\n",
       "    <tr>\n",
       "      <th>2</th>\n",
       "      <td>1.0</td>\n",
       "      <td>-0.915782</td>\n",
       "      <td>-0.907280</td>\n",
       "      <td>0.010541</td>\n",
       "      <td>-0.942667</td>\n",
       "      <td>-1.620768</td>\n",
       "      <td>0.838656</td>\n",
       "      <td>0.830871</td>\n",
       "      <td>-0.009654</td>\n",
       "      <td>0.863277</td>\n",
       "      <td>...</td>\n",
       "      <td>0.000001</td>\n",
       "      <td>-0.000105</td>\n",
       "      <td>-0.000180</td>\n",
       "      <td>0.009367</td>\n",
       "      <td>0.016105</td>\n",
       "      <td>0.027691</td>\n",
       "      <td>-0.837674</td>\n",
       "      <td>-1.440249</td>\n",
       "      <td>-2.476282</td>\n",
       "      <td>-4.257577</td>\n",
       "    </tr>\n",
       "    <tr>\n",
       "      <th>3</th>\n",
       "      <td>1.0</td>\n",
       "      <td>1.001418</td>\n",
       "      <td>0.734019</td>\n",
       "      <td>-1.405382</td>\n",
       "      <td>0.395018</td>\n",
       "      <td>1.042348</td>\n",
       "      <td>1.002839</td>\n",
       "      <td>0.735060</td>\n",
       "      <td>-1.407375</td>\n",
       "      <td>0.395578</td>\n",
       "      <td>...</td>\n",
       "      <td>-2.775769</td>\n",
       "      <td>0.780199</td>\n",
       "      <td>2.058741</td>\n",
       "      <td>-0.219294</td>\n",
       "      <td>-0.578660</td>\n",
       "      <td>-1.526934</td>\n",
       "      <td>0.061638</td>\n",
       "      <td>0.162647</td>\n",
       "      <td>0.429183</td>\n",
       "      <td>1.132501</td>\n",
       "    </tr>\n",
       "    <tr>\n",
       "      <th>4</th>\n",
       "      <td>1.0</td>\n",
       "      <td>-0.623028</td>\n",
       "      <td>-0.465809</td>\n",
       "      <td>-0.746449</td>\n",
       "      <td>-0.353904</td>\n",
       "      <td>-1.113391</td>\n",
       "      <td>0.388164</td>\n",
       "      <td>0.290212</td>\n",
       "      <td>0.465059</td>\n",
       "      <td>0.220492</td>\n",
       "      <td>...</td>\n",
       "      <td>-0.415911</td>\n",
       "      <td>-0.197190</td>\n",
       "      <td>-0.620366</td>\n",
       "      <td>-0.093491</td>\n",
       "      <td>-0.294126</td>\n",
       "      <td>-0.925327</td>\n",
       "      <td>-0.044326</td>\n",
       "      <td>-0.139450</td>\n",
       "      <td>-0.438713</td>\n",
       "      <td>-1.380202</td>\n",
       "    </tr>\n",
       "  </tbody>\n",
       "</table>\n",
       "<p>5 rows × 56 columns</p>\n",
       "</div>"
      ],
      "text/plain": [
       "column_out    1         a         b         c         d         e       a^2  \\\n",
       "0           1.0 -2.136858  0.844064 -1.178645 -1.182675  1.089610  4.566160   \n",
       "1           1.0  0.333682 -1.182055 -1.971583  0.270978  0.492230  0.111344   \n",
       "2           1.0 -0.915782 -0.907280  0.010541 -0.942667 -1.620768  0.838656   \n",
       "3           1.0  1.001418  0.734019 -1.405382  0.395018  1.042348  1.002839   \n",
       "4           1.0 -0.623028 -0.465809 -0.746449 -0.353904 -1.113391  0.388164   \n",
       "\n",
       "column_out       a b       a c       a d  ...       c^3     c^2 d     c^2 e  \\\n",
       "0          -1.803645  2.518597  2.527207  ... -1.637380 -1.642977  1.513692   \n",
       "1          -0.394430 -0.657881  0.090420  ... -7.663823  1.053328  1.913367   \n",
       "2           0.830871 -0.009654  0.863277  ...  0.000001 -0.000105 -0.000180   \n",
       "3           0.735060 -1.407375  0.395578  ... -2.775769  0.780199  2.058741   \n",
       "4           0.290212  0.465059  0.220492  ... -0.415911 -0.197190 -0.620366   \n",
       "\n",
       "column_out     c d^2     c d e     c e^2       d^3     d^2 e     d e^2  \\\n",
       "0          -1.648594  1.518867 -1.399347 -1.654230  1.524059 -1.404131   \n",
       "1          -0.144771 -0.262976 -0.477696  0.019898  0.036144  0.065655   \n",
       "2           0.009367  0.016105  0.027691 -0.837674 -1.440249 -2.476282   \n",
       "3          -0.219294 -0.578660 -1.526934  0.061638  0.162647  0.429183   \n",
       "4          -0.093491 -0.294126 -0.925327 -0.044326 -0.139450 -0.438713   \n",
       "\n",
       "column_out       e^3  \n",
       "0           1.293640  \n",
       "1           0.119263  \n",
       "2          -4.257577  \n",
       "3           1.132501  \n",
       "4          -1.380202  \n",
       "\n",
       "[5 rows x 56 columns]"
      ]
     },
     "execution_count": 22,
     "metadata": {},
     "output_type": "execute_result"
    }
   ],
   "source": [
    "pol.transform(df).head()"
   ]
  },
  {
   "cell_type": "markdown",
   "metadata": {
    "ExecuteTime": {
     "end_time": "2019-08-01T08:42:59.389741Z",
     "start_time": "2019-08-01T08:42:59.387740Z"
    }
   },
   "source": [
    "## Feature unions"
   ]
  },
  {
   "cell_type": "code",
   "execution_count": 17,
   "metadata": {
    "ExecuteTime": {
     "end_time": "2019-08-01T08:50:47.912273Z",
     "start_time": "2019-08-01T08:50:47.908235Z"
    }
   },
   "outputs": [],
   "source": [
    "feature_union_df = FeatureUnionDF(transformer_list=[\n",
    "    ('variance_threshold', var_df),\n",
    "    ('kbins', kbins),\n",
    "    ('pca', pcadf)\n",
    "]                             \n",
    "                                 )"
   ]
  },
  {
   "cell_type": "code",
   "execution_count": 18,
   "metadata": {
    "ExecuteTime": {
     "end_time": "2019-08-01T08:50:48.380051Z",
     "start_time": "2019-08-01T08:50:48.362054Z"
    }
   },
   "outputs": [
    {
     "data": {
      "text/plain": [
       "FeatureUnionDF(n_jobs=None,\n",
       "               transformer_list=[('variance_threshold',\n",
       "                                  VarianceThresholdDF(threshold=0.8)),\n",
       "                                 ('kbins',\n",
       "                                  KBinsDiscretizerDF(encode='onehot-dense',\n",
       "                                                     n_bins=4,\n",
       "                                                     strategy='quantile')),\n",
       "                                 ('pca',\n",
       "                                  PCADF(copy=True, iterated_power='auto',\n",
       "                                        n_components=3, random_state=None,\n",
       "                                        svd_solver='auto', tol=0.0,\n",
       "                                        whiten=False))],\n",
       "               transformer_weights=None, verbose=False)"
      ]
     },
     "execution_count": 18,
     "metadata": {},
     "output_type": "execute_result"
    }
   ],
   "source": [
    "feature_union_df.fit(df)"
   ]
  },
  {
   "cell_type": "code",
   "execution_count": 19,
   "metadata": {
    "ExecuteTime": {
     "end_time": "2019-08-01T08:50:49.516897Z",
     "start_time": "2019-08-01T08:50:48.939756Z"
    }
   },
   "outputs": [
    {
     "name": "stdout",
     "output_type": "stream",
     "text": [
      "been here\n"
     ]
    },
    {
     "ename": "AttributeError",
     "evalue": "'FeatureUnion' object has no attribute 'columns_original'",
     "output_type": "error",
     "traceback": [
      "\u001b[1;31m---------------------------------------------------------------------------\u001b[0m",
      "\u001b[1;31mAttributeError\u001b[0m                            Traceback (most recent call last)",
      "\u001b[1;32m<ipython-input-19-345f63b05220>\u001b[0m in \u001b[0;36m<module>\u001b[1;34m\u001b[0m\n\u001b[1;32m----> 1\u001b[1;33m \u001b[0mfeature_union_df\u001b[0m\u001b[1;33m.\u001b[0m\u001b[0mcolumns_original\u001b[0m\u001b[1;33m\u001b[0m\u001b[1;33m\u001b[0m\u001b[0m\n\u001b[0m",
      "\u001b[1;32m~\\Documents\\projects\\yield-engine\\src\\gamma\\sklearndf\\_wrapper.py\u001b[0m in \u001b[0;36m__getattr__\u001b[1;34m(self, name)\u001b[0m\n\u001b[0;32m    211\u001b[0m             \u001b[1;32mraise\u001b[0m \u001b[0mAttributeError\u001b[0m\u001b[1;33m(\u001b[0m\u001b[0mname\u001b[0m\u001b[1;33m)\u001b[0m\u001b[1;33m\u001b[0m\u001b[1;33m\u001b[0m\u001b[0m\n\u001b[0;32m    212\u001b[0m         \u001b[1;32melse\u001b[0m\u001b[1;33m:\u001b[0m\u001b[1;33m\u001b[0m\u001b[1;33m\u001b[0m\u001b[0m\n\u001b[1;32m--> 213\u001b[1;33m             \u001b[1;32mreturn\u001b[0m \u001b[0mgetattr\u001b[0m\u001b[1;33m(\u001b[0m\u001b[0mself\u001b[0m\u001b[1;33m.\u001b[0m\u001b[0m_delegate_estimator\u001b[0m\u001b[1;33m,\u001b[0m \u001b[0mname\u001b[0m\u001b[1;33m)\u001b[0m\u001b[1;33m\u001b[0m\u001b[1;33m\u001b[0m\u001b[0m\n\u001b[0m\u001b[0;32m    214\u001b[0m \u001b[1;33m\u001b[0m\u001b[0m\n\u001b[0;32m    215\u001b[0m     \u001b[1;32mdef\u001b[0m \u001b[0m__setattr__\u001b[0m\u001b[1;33m(\u001b[0m\u001b[0mself\u001b[0m\u001b[1;33m,\u001b[0m \u001b[0mname\u001b[0m\u001b[1;33m:\u001b[0m \u001b[0mstr\u001b[0m\u001b[1;33m,\u001b[0m \u001b[0mvalue\u001b[0m\u001b[1;33m:\u001b[0m \u001b[0mAny\u001b[0m\u001b[1;33m)\u001b[0m \u001b[1;33m->\u001b[0m \u001b[0mAny\u001b[0m\u001b[1;33m:\u001b[0m\u001b[1;33m\u001b[0m\u001b[1;33m\u001b[0m\u001b[0m\n",
      "\u001b[1;31mAttributeError\u001b[0m: 'FeatureUnion' object has no attribute 'columns_original'"
     ]
    }
   ],
   "source": [
    "feature_union_df.columns_original"
   ]
  },
  {
   "cell_type": "code",
   "execution_count": null,
   "metadata": {
    "ExecuteTime": {
     "end_time": "2019-08-01T08:49:37.867174Z",
     "start_time": "2019-08-01T08:49:37.861171Z"
    }
   },
   "outputs": [],
   "source": [
    "list(feature_union_df.delegate_estimator._iter())"
   ]
  },
  {
   "cell_type": "code",
   "execution_count": null,
   "metadata": {
    "ExecuteTime": {
     "end_time": "2019-08-01T08:40:57.705756Z",
     "start_time": "2019-08-01T08:40:57.115789Z"
    }
   },
   "outputs": [],
   "source": [
    "feature_union_df.transform(df)"
   ]
  },
  {
   "cell_type": "markdown",
   "metadata": {
    "pycharm": {
     "name": "#%%\n"
    }
   },
   "source": [
    "## Polynomial\n",
    "\n"
   ]
  },
  {
   "cell_type": "code",
   "execution_count": null,
   "metadata": {
    "ExecuteTime": {
     "end_time": "2019-08-01T08:34:37.419194Z",
     "start_time": "2019-08-01T08:34:37.412195Z"
    }
   },
   "outputs": [],
   "source": [
    "df = pd.DataFrame(data=np.random.randn(103, 5), columns=list('abcde'))"
   ]
  },
  {
   "cell_type": "code",
   "execution_count": null,
   "metadata": {
    "ExecuteTime": {
     "end_time": "2019-08-01T08:34:37.431191Z",
     "start_time": "2019-08-01T08:34:37.421194Z"
    }
   },
   "outputs": [],
   "source": [
    "pol = PolynomialFeaturesDF(degree=3)"
   ]
  },
  {
   "cell_type": "code",
   "execution_count": null,
   "metadata": {
    "ExecuteTime": {
     "end_time": "2019-08-01T08:34:37.446194Z",
     "start_time": "2019-08-01T08:34:37.433192Z"
    }
   },
   "outputs": [],
   "source": [
    "pol.fit(df)"
   ]
  },
  {
   "cell_type": "code",
   "execution_count": null,
   "metadata": {
    "ExecuteTime": {
     "end_time": "2019-08-01T08:34:37.486186Z",
     "start_time": "2019-08-01T08:34:37.449192Z"
    }
   },
   "outputs": [],
   "source": [
    "pol.transform(df).head()"
   ]
  },
  {
   "cell_type": "code",
   "execution_count": null,
   "metadata": {},
   "outputs": [],
   "source": []
  },
  {
   "cell_type": "code",
   "execution_count": null,
   "metadata": {
    "ExecuteTime": {
     "end_time": "2019-08-01T08:34:37.496185Z",
     "start_time": "2019-08-01T08:34:37.488187Z"
    }
   },
   "outputs": [],
   "source": [
    "df = pd.DataFrame(data=np.random.randn(103, 5))"
   ]
  },
  {
   "cell_type": "code",
   "execution_count": null,
   "metadata": {
    "ExecuteTime": {
     "end_time": "2019-08-01T08:34:37.508183Z",
     "start_time": "2019-08-01T08:34:37.498184Z"
    }
   },
   "outputs": [],
   "source": [
    "pol = PolynomialFeaturesDF(degree=3)"
   ]
  },
  {
   "cell_type": "code",
   "execution_count": null,
   "metadata": {
    "ExecuteTime": {
     "end_time": "2019-08-01T08:34:37.524181Z",
     "start_time": "2019-08-01T08:34:37.511185Z"
    }
   },
   "outputs": [],
   "source": [
    "pol.fit(df)"
   ]
  },
  {
   "cell_type": "code",
   "execution_count": null,
   "metadata": {
    "ExecuteTime": {
     "end_time": "2019-08-01T08:34:38.196097Z",
     "start_time": "2019-08-01T08:34:37.527183Z"
    }
   },
   "outputs": [],
   "source": [
    "pol.transform(df).head()"
   ]
  },
  {
   "cell_type": "code",
   "execution_count": null,
   "metadata": {
    "ExecuteTime": {
     "end_time": "2019-08-01T08:34:38.198102Z",
     "start_time": "2019-08-01T08:34:35.038Z"
    }
   },
   "outputs": [],
   "source": [
    "## Problem is that get_feature_names expect to have string columns"
   ]
  },
  {
   "cell_type": "code",
   "execution_count": null,
   "metadata": {},
   "outputs": [],
   "source": []
  }
 ],
 "metadata": {
  "kernelspec": {
   "display_name": "Python 3",
   "language": "python",
   "name": "python3"
  },
  "language_info": {
   "codemirror_mode": {
    "name": "ipython",
    "version": 3
   },
   "file_extension": ".py",
   "mimetype": "text/x-python",
   "name": "python",
   "nbconvert_exporter": "python",
   "pygments_lexer": "ipython3",
   "version": "3.6.7"
  },
  "pycharm": {
   "stem_cell": {
    "cell_type": "raw",
    "metadata": {
     "collapsed": false
    },
    "source": []
   }
  },
  "toc": {
   "base_numbering": 1,
   "nav_menu": {},
   "number_sections": true,
   "sideBar": true,
   "skip_h1_title": false,
   "title_cell": "Table of Contents",
   "title_sidebar": "Contents",
   "toc_cell": false,
   "toc_position": {},
   "toc_section_display": true,
   "toc_window_display": false
  }
 },
 "nbformat": 4,
 "nbformat_minor": 1
}
