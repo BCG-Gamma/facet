{
 "cells": [
  {
   "cell_type": "code",
   "execution_count": null,
   "metadata": {},
   "outputs": [],
   "source": [
    "import os\n",
    "import sys\n",
    "# register yieldengine package in path, if it is missing\n",
    "if os.path.abspath(\"./../src\") not in \";\".join(sys.path):\n",
    "    sys.path.insert(0, os.path.abspath(\"./../src\"))\n",
    "    \n",
    "# change current working path of Notebook back to project-root\n",
    "if os.path.abspath(\".\").endswith(\"/notebooks\"):\n",
    "    os.chdir(os.path.abspath(\"./../\"))\n",
    "\n",
    "from yieldengine.loading.sample import Sample\n",
    "from yieldengine.modeling.validation import CircularCrossValidator\n",
    "from yieldengine.modeling.selection import ModelRanker, Model, ModelZoo, ModelRanking\n",
    "from sklearn.pipeline import Pipeline\n",
    "import numpy as np\n",
    "import pandas as pd\n",
    "from sklearn.preprocessing import OneHotEncoder\n",
    "from sklearn.impute import SimpleImputer\n",
    "from sklearn.compose import ColumnTransformer\n",
    "from lightgbm.sklearn import LGBMRegressor\n",
    "from sklearn.tree import DecisionTreeRegressor, ExtraTreeRegressor\n",
    "from sklearn.ensemble import AdaBoostRegressor, RandomForestRegressor\n",
    "from sklearn.svm import SVR\n",
    "from sklearn.linear_model import LinearRegression\n",
    "from sklearn.metrics import make_scorer, mean_squared_error"
   ]
  },
  {
   "cell_type": "code",
   "execution_count": null,
   "metadata": {},
   "outputs": [],
   "source": [
    "# load the data file\n",
    "from tests.paths import TEST_DATA_CSV\n",
    "import tests\n",
    "\n",
    "inputfile_config = tests.read_test_config(section=\"inputfile\")\n",
    "\n",
    "batch_file = pd.read_csv(\n",
    "    filepath_or_buffer=TEST_DATA_CSV,\n",
    "    delimiter=inputfile_config[\"delimiter\"],\n",
    "    header=inputfile_config[\"header\"],\n",
    "    decimal=inputfile_config[\"decimal\"],\n",
    ")"
   ]
  },
  {
   "cell_type": "code",
   "execution_count": null,
   "metadata": {},
   "outputs": [],
   "source": [
    "batch_file = batch_file.drop(columns=[\"Date\", \"Batch Id\"])\n",
    "\n",
    "# replace values of +/- infinite with n/a, then drop all n/a columns:\n",
    "batch_file = batch_file.replace([np.inf, -np.inf], np.nan).dropna(\n",
    "    axis=1, how=\"all\"\n",
    ")\n",
    "batch_file.head()"
   ]
  },
  {
   "cell_type": "code",
   "execution_count": null,
   "metadata": {},
   "outputs": [],
   "source": [
    "# define a Sample based on the test batch_file\n",
    "sample = Sample(observations=batch_file, target_name=\"Yield\")"
   ]
  },
  {
   "cell_type": "code",
   "execution_count": null,
   "metadata": {},
   "outputs": [],
   "source": [
    "# define the circular cross validator with 10 folds\n",
    "circular_cv = CircularCrossValidator(test_ratio=0.2, num_folds=10)"
   ]
  },
  {
   "cell_type": "code",
   "execution_count": null,
   "metadata": {},
   "outputs": [],
   "source": [
    "# define a ColumnTransformer to pre-process:\n",
    "preprocessor = ColumnTransformer(\n",
    "    [\n",
    "        (\"numerical\", SimpleImputer(strategy=\"mean\"), sample.features_numerical),\n",
    "        (\n",
    "            \"categorical\",\n",
    "            OneHotEncoder(sparse=False, handle_unknown=\"ignore\"),\n",
    "            sample.features_categorical,\n",
    "        ),\n",
    "    ]\n",
    ")"
   ]
  },
  {
   "cell_type": "code",
   "execution_count": null,
   "metadata": {},
   "outputs": [],
   "source": [
    "# define a sklearn Pipeline, containing the preprocessor defined above:\n",
    "pre_pipeline = Pipeline([(\"prep\", preprocessor)])"
   ]
  },
  {
   "cell_type": "code",
   "execution_count": null,
   "metadata": {},
   "outputs": [],
   "source": [
    "model_zoo = ModelZoo(\n",
    "        [\n",
    "            Model(\n",
    "                estimator=LGBMRegressor(),\n",
    "                parameter_grid={\n",
    "                    \"max_depth\": (5, 10),\n",
    "                    \"min_split_gain\": (0.1, 0.2),\n",
    "                    \"num_leaves\": (50, 100, 200),\n",
    "                },\n",
    "            ),\n",
    "            Model(\n",
    "                estimator=AdaBoostRegressor(), parameter_grid={\"n_estimators\": (50, 80)}\n",
    "            ),\n",
    "            Model(\n",
    "                estimator=RandomForestRegressor(),\n",
    "                parameter_grid={\"n_estimators\": (50, 80)},\n",
    "            ),\n",
    "            Model(\n",
    "                estimator=DecisionTreeRegressor(),\n",
    "                parameter_grid={\"max_depth\": (0.5, 1.0), \"max_features\": (0.5, 1.0)},\n",
    "            ),\n",
    "            Model(\n",
    "                estimator=ExtraTreeRegressor(),\n",
    "                parameter_grid={\"max_depth\": (5, 10, 12)},\n",
    "            ),\n",
    "            Model(estimator=SVR(), parameter_grid={\"gamma\": (0.5, 1), \"C\": (50, 100)}),\n",
    "            Model(\n",
    "                estimator=LinearRegression(),\n",
    "                parameter_grid={\"normalize\": (False, True)},\n",
    "            ),\n",
    "        ]\n",
    "    )"
   ]
  },
  {
   "cell_type": "code",
   "execution_count": null,
   "metadata": {},
   "outputs": [],
   "source": [
    "ranker = ModelRanker(\n",
    "        zoo=model_zoo,\n",
    "        preprocessing=pre_pipeline,\n",
    "        cv=circular_cv,\n",
    "        scoring=make_scorer(mean_squared_error, greater_is_better=False),\n",
    ")"
   ]
  },
  {
   "cell_type": "code",
   "execution_count": null,
   "metadata": {},
   "outputs": [],
   "source": [
    "ranking: ModelRanking = ranker.run(sample)"
   ]
  },
  {
   "cell_type": "code",
   "execution_count": null,
   "metadata": {},
   "outputs": [],
   "source": [
    "print(ranking.summary_string())"
   ]
  }
 ],
 "metadata": {
  "kernelspec": {
   "display_name": "Python 3",
   "language": "python",
   "name": "python3"
  },
  "language_info": {
   "codemirror_mode": {
    "name": "ipython",
    "version": 3
   },
   "file_extension": ".py",
   "mimetype": "text/x-python",
   "name": "python",
   "nbconvert_exporter": "python",
   "pygments_lexer": "ipython3",
   "version": "3.6.7"
  }
 },
 "nbformat": 4,
 "nbformat_minor": 2
}
