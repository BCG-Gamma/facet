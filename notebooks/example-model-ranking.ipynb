{
 "cells": [
  {
   "cell_type": "code",
   "execution_count": null,
   "metadata": {
    "pycharm": {
     "is_executing": false
    }
   },
   "outputs": [],
   "source": [
    "import os\n",
    "import sys\n",
    "# register yieldengine package in path, if it is missing\n",
    "if os.path.abspath(\"./../src\") not in \";\".join(sys.path):\n",
    "    sys.path.insert(0, os.path.abspath(\"./../src\"))\n",
    "    \n",
    "# change current working path of Notebook back to project-root\n",
    "if os.path.abspath(\".\").endswith(\"/notebooks\"):\n",
    "    os.chdir(os.path.abspath(\"./../\"))"
   ]
  },
  {
   "cell_type": "code",
   "execution_count": null,
   "metadata": {},
   "outputs": [],
   "source": [
    "from yieldengine.loading.sample import Sample\n",
    "from yieldengine.model.validation import CircularCrossValidator\n",
    "from yieldengine.model.selection import ModelRanker, Model, ModelRanking\n",
    "from yieldengine.preprocessing import SimpleSamplePreprocessor\n",
    "import numpy as np\n",
    "import pandas as pd\n",
    "from lightgbm.sklearn import LGBMRegressor\n",
    "from sklearn.tree import DecisionTreeRegressor, ExtraTreeRegressor\n",
    "from sklearn.ensemble import AdaBoostRegressor, RandomForestRegressor\n",
    "from sklearn.svm import SVR\n",
    "from sklearn.linear_model import LinearRegression\n",
    "from sklearn.metrics import make_scorer, mean_squared_error"
   ]
  },
  {
   "cell_type": "code",
   "execution_count": null,
   "metadata": {
    "pycharm": {
     "is_executing": false
    }
   },
   "outputs": [],
   "source": [
    "# load the data file\n",
    "from tests.paths import TEST_DATA_CSV\n",
    "import tests\n",
    "\n",
    "inputfile_config = tests.read_test_config(section=\"inputfile\")\n",
    "\n",
    "batch_file = pd.read_csv(\n",
    "    filepath_or_buffer=TEST_DATA_CSV,\n",
    "    delimiter=inputfile_config[\"delimiter\"],\n",
    "    header=inputfile_config[\"header\"],\n",
    "    decimal=inputfile_config[\"decimal\"],\n",
    ")"
   ]
  },
  {
   "cell_type": "code",
   "execution_count": null,
   "metadata": {
    "pycharm": {
     "is_executing": false
    }
   },
   "outputs": [],
   "source": [
    "batch_file = batch_file.drop(columns=[\"Date\", \"Batch Id\"])\n",
    "\n",
    "# replace values of +/- infinite with n/a, then drop all n/a columns:\n",
    "batch_file = batch_file.replace([np.inf, -np.inf], np.nan).dropna(\n",
    "    axis=1, how=\"all\"\n",
    ")\n",
    "batch_file.head()"
   ]
  },
  {
   "cell_type": "code",
   "execution_count": null,
   "metadata": {
    "pycharm": {
     "is_executing": false
    }
   },
   "outputs": [],
   "source": [
    "# define a Sample based on the test batch_file\n",
    "sample = Sample(observations=batch_file, target_name=\"Yield\")\n",
    "sample"
   ]
  },
  {
   "cell_type": "code",
   "execution_count": null,
   "metadata": {
    "pycharm": {
     "is_executing": false
    }
   },
   "outputs": [],
   "source": [
    "# define the circular cross validator with 10 folds\n",
    "circular_cv = CircularCrossValidator(test_ratio=0.2, num_folds=10)\n",
    "\n",
    "circular_cv"
   ]
  },
  {
   "cell_type": "code",
   "execution_count": null,
   "metadata": {},
   "outputs": [],
   "source": [
    "preprocessor = SimpleSamplePreprocessor(\n",
    "        impute_mean=sample.features_by_type(dtype=Sample.DTYPE_NUMERICAL),\n",
    "        one_hot_encode=sample.features_by_type(dtype=Sample.DTYPE_OBJECT),\n",
    ")\n",
    "preprocessor"
   ]
  },
  {
   "cell_type": "code",
   "execution_count": null,
   "metadata": {
    "pycharm": {
     "is_executing": false
    }
   },
   "outputs": [],
   "source": [
    "RANDOM_STATE = {\"random_state\": [42]}\n",
    "models = [\n",
    "        Model(\n",
    "            estimator=LGBMRegressor(),\n",
    "            parameter_grid={\n",
    "                \"max_depth\": [5, 10],\n",
    "                \"min_split_gain\": [0.1, 0.2],\n",
    "                \"num_leaves\": [50, 100, 200],\n",
    "                **RANDOM_STATE,\n",
    "            },\n",
    "            preprocessor=preprocessor,\n",
    "        ),\n",
    "        Model(\n",
    "            estimator=AdaBoostRegressor(),\n",
    "            parameter_grid={\"n_estimators\": [50, 80], **RANDOM_STATE},\n",
    "            preprocessor=preprocessor,\n",
    "        ),\n",
    "        Model(\n",
    "            estimator=RandomForestRegressor(),\n",
    "            parameter_grid={\"n_estimators\": [50, 80], **RANDOM_STATE},\n",
    "            preprocessor=preprocessor,\n",
    "        ),\n",
    "        Model(\n",
    "            estimator=DecisionTreeRegressor(),\n",
    "            parameter_grid={\n",
    "                \"max_depth\": [0.5, 1.0],\n",
    "                \"max_features\": [0.5, 1.0],\n",
    "                **RANDOM_STATE,\n",
    "            },\n",
    "            preprocessor=preprocessor,\n",
    "        ),\n",
    "        Model(\n",
    "            estimator=ExtraTreeRegressor(),\n",
    "            parameter_grid={\"max_depth\": [5, 10, 12], **RANDOM_STATE},\n",
    "            preprocessor=preprocessor,\n",
    "        ),\n",
    "        Model(\n",
    "            estimator=SVR(),\n",
    "            parameter_grid={\"gamma\": [0.5, 1], \"C\": [50, 100]},\n",
    "            preprocessor=preprocessor,\n",
    "        ),\n",
    "        Model(\n",
    "            estimator=LinearRegression(),\n",
    "            parameter_grid={\"normalize\": [False, True]},\n",
    "            preprocessor=preprocessor,\n",
    "        ),\n",
    "    ]\n",
    "\n",
    "print(f\"{len(models)} models\")"
   ]
  },
  {
   "cell_type": "code",
   "execution_count": null,
   "metadata": {
    "pycharm": {
     "is_executing": false
    }
   },
   "outputs": [],
   "source": [
    "ranker = ModelRanker(\n",
    "        models=models,\n",
    "        cv=circular_cv,\n",
    "        scoring=make_scorer(mean_squared_error, greater_is_better=False),\n",
    ")\n",
    "\n",
    "ranker"
   ]
  },
  {
   "cell_type": "code",
   "execution_count": null,
   "metadata": {
    "pycharm": {
     "is_executing": false
    }
   },
   "outputs": [],
   "source": [
    "ranking: ModelRanking = ranker.run(sample)\n",
    "\n",
    "ranking"
   ]
  },
  {
   "cell_type": "code",
   "execution_count": null,
   "metadata": {
    "pycharm": {
     "is_executing": false
    }
   },
   "outputs": [],
   "source": [
    "print(ranking.summary_report())"
   ]
  }
 ],
 "metadata": {
  "kernelspec": {
   "display_name": "Python 3",
   "language": "python",
   "name": "python3"
  },
  "language_info": {
   "codemirror_mode": {
    "name": "ipython",
    "version": 3
   },
   "file_extension": ".py",
   "mimetype": "text/x-python",
   "name": "python",
   "nbconvert_exporter": "python",
   "pygments_lexer": "ipython3",
   "version": "3.6.7"
  },
  "pycharm": {
   "stem_cell": {
    "cell_type": "raw",
    "metadata": {
     "collapsed": false
    },
    "source": []
   }
  }
 },
 "nbformat": 4,
 "nbformat_minor": 2
}
