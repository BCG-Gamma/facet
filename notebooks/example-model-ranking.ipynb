{
 "cells": [
  {
   "cell_type": "code",
   "execution_count": null,
   "metadata": {
    "pycharm": {
     "is_executing": false
    }
   },
   "outputs": [],
   "source": [
    "import sys\n",
    "\n",
    "def set_paths():\n",
    "    import os\n",
    "    \n",
    "    global cwd\n",
    "    \n",
    "    if 'cwd' not in globals():\n",
    "        cwd = os.path.join(os.getcwd(), os.pardir)\n",
    "        os.chdir(cwd)\n",
    "    \n",
    "    print(f\"working dir is '{os.getcwd()}'\")\n",
    "                             \n",
    "    PATH_YIELD_ENGINE = 'src/'\n",
    "    if PATH_YIELD_ENGINE not in sys.path:\n",
    "        sys.path.insert(0, PATH_YIELD_ENGINE)\n",
    "    \n",
    "    print(f\"added `{sys.path[0]}` to python paths\")\n",
    "\n",
    "set_paths()\n",
    "    \n",
    "import numpy as np\n",
    "import pandas as pd\n",
    "\n",
    "from lightgbm.sklearn import LGBMRegressor\n",
    "from sklearn.tree import DecisionTreeRegressor, ExtraTreeRegressor\n",
    "from sklearn.ensemble import AdaBoostRegressor, RandomForestRegressor\n",
    "from sklearn.svm import SVR\n",
    "from sklearn.linear_model import LinearRegression\n",
    "from sklearn.metrics import make_scorer, mean_squared_error\n",
    "\n",
    "from yieldengine import Sample\n",
    "from yieldengine.model.validation import CircularCrossValidator\n",
    "from yieldengine.model.selection import ModelRanker, Model, ModelRanking\n",
    "from yieldengine.preprocessing import SimpleSamplePreprocessor"
   ]
  },
  {
   "cell_type": "code",
   "execution_count": null,
   "metadata": {
    "pycharm": {
     "is_executing": false
    }
   },
   "outputs": [],
   "source": [
    "# load the data file\n",
    "from tests.paths import TEST_DATA_CSV\n",
    "import tests\n",
    "\n",
    "inputfile_config = tests.read_test_config(section=\"inputfile\")\n",
    "\n",
    "batch_file = pd.read_csv(\n",
    "    filepath_or_buffer=TEST_DATA_CSV,\n",
    "    delimiter=inputfile_config[\"delimiter\"],\n",
    "    header=inputfile_config[\"header\"],\n",
    "    decimal=inputfile_config[\"decimal\"],\n",
    ")"
   ]
  },
  {
   "cell_type": "code",
   "execution_count": null,
   "metadata": {
    "pycharm": {
     "is_executing": false
    }
   },
   "outputs": [],
   "source": [
    "batch_file = batch_file.drop(columns=[\"Date\", \"Batch Id\"])\n",
    "\n",
    "# replace values of +/- infinite with n/a, then drop all n/a columns:\n",
    "batch_file = batch_file.replace([np.inf, -np.inf], np.nan).dropna(\n",
    "    axis=1, how=\"all\"\n",
    ")\n",
    "batch_file.head()"
   ]
  },
  {
   "cell_type": "code",
   "execution_count": null,
   "metadata": {
    "pycharm": {
     "is_executing": false
    }
   },
   "outputs": [],
   "source": [
    "# define a Sample based on the test batch_file\n",
    "sample = Sample(observations=batch_file, target_name=\"Yield\")\n",
    "sample"
   ]
  },
  {
   "cell_type": "code",
   "execution_count": null,
   "metadata": {
    "pycharm": {
     "is_executing": false
    }
   },
   "outputs": [],
   "source": [
    "# define the circular cross validator with 10 folds\n",
    "circular_cv = CircularCrossValidator(test_ratio=0.2, num_folds=10)\n",
    "\n",
    "circular_cv"
   ]
  },
  {
   "cell_type": "code",
   "execution_count": null,
   "metadata": {
    "pycharm": {
     "is_executing": false
    }
   },
   "outputs": [],
   "source": [
    "# define how features should be preprocessed\n",
    "impute_only_preprocessor = SimpleSamplePreprocessor(\n",
    "        impute_mean=sample.features_by_type(sample.DTYPE_NUMERICAL)\n",
    ")\n",
    "\n",
    "full_preprocessor = SimpleSamplePreprocessor(\n",
    "    impute_mean=sample.features_by_type(sample.DTYPE_NUMERICAL),\n",
    "    one_hot_encode=sample.features_by_type(sample.DTYPE_OBJECT)\n",
    ")\n"
   ]
  },
  {
   "cell_type": "code",
   "execution_count": null,
   "metadata": {
    "pycharm": {
     "is_executing": false
    }
   },
   "outputs": [],
   "source": [
    "models = [\n",
    "    Model(\n",
    "        estimator=LGBMRegressor(),\n",
    "        parameter_grid={\n",
    "            \"n_estimators\": [100],\n",
    "            \"learning_rate\": [0.1],\n",
    "            \"max_depth\": [8, 10],\n",
    "            \"min_split_gain\": [0.1, 0.2],\n",
    "            \"num_leaves\": [8, 16, 32],\n",
    "            \"feature_fraction\": [0.8],\n",
    "            # \"early_stopping_round\": [0, 4],\n",
    "\n",
    "        },\n",
    "        preprocessor=impute_only_preprocessor\n",
    "    ),\n",
    "]\n",
    "\n",
    "models_unused = [\n",
    "    Model(\n",
    "        estimator=RandomForestRegressor(),\n",
    "        parameter_grid={\"n_estimators\": (100, 400)},\n",
    "        preprocessor=full_preprocessor\n",
    "    ),\n",
    "    Model(\n",
    "        estimator=AdaBoostRegressor(), \n",
    "        parameter_grid={\"n_estimators\": (100, 200)}, \n",
    "        preprocessor=full_preprocessor\n",
    "    ),\n",
    "    Model(\n",
    "        estimator=DecisionTreeRegressor(),\n",
    "        parameter_grid={\"max_depth\": (0.5, 1.0), \"max_features\": (0.5, 1.0)},\n",
    "        preprocessor=full_preprocessor\n",
    "    ),\n",
    "    Model(\n",
    "        estimator=ExtraTreeRegressor(),\n",
    "        parameter_grid={\"max_depth\": (5, 10, 12)},\n",
    "        preprocessor=full_preprocessor\n",
    "    ),\n",
    "    Model(\n",
    "        estimator=SVR(),\n",
    "        parameter_grid={\"gamma\": (0.5, 1), \"C\": (50, 100)},\n",
    "        preprocessor=full_preprocessor\n",
    "    ),\n",
    "    Model(\n",
    "        estimator=LinearRegression(),\n",
    "        parameter_grid={\"normalize\": (False, True)},\n",
    "        preprocessor=full_preprocessor\n",
    "    ),\n",
    "]\n",
    "\n",
    "print(f\"{len(models)} models\")"
   ]
  },
  {
   "cell_type": "code",
   "execution_count": null,
   "metadata": {
    "pycharm": {
     "is_executing": false
    }
   },
   "outputs": [],
   "source": [
    "ranker = ModelRanker(\n",
    "        models=models,\n",
    "        cv=circular_cv,\n",
    "        scoring=make_scorer(mean_squared_error, greater_is_better=False),\n",
    ")\n",
    "\n",
    "ranker"
   ]
  },
  {
   "cell_type": "code",
   "execution_count": null,
   "metadata": {
    "pycharm": {
     "is_executing": false
    }
   },
   "outputs": [],
   "source": [
    "ranking: ModelRanking = ranker.run(sample)\n",
    "\n",
    "ranking"
   ]
  },
  {
   "cell_type": "code",
   "execution_count": null,
   "metadata": {
    "pycharm": {
     "is_executing": false
    }
   },
   "outputs": [],
   "source": [
    "print(ranking.summary_report())"
   ]
  }
 ],
 "metadata": {
  "kernelspec": {
   "display_name": "Python 3",
   "language": "python",
   "name": "python3"
  },
  "language_info": {
   "codemirror_mode": {
    "name": "ipython",
    "version": 3
   },
   "file_extension": ".py",
   "mimetype": "text/x-python",
   "name": "python",
   "nbconvert_exporter": "python",
   "pygments_lexer": "ipython3",
   "version": "3.6.7"
  },
  "pycharm": {
   "stem_cell": {
    "cell_type": "raw",
    "metadata": {
     "collapsed": false
    },
    "source": []
   }
  }
 },
 "nbformat": 4,
 "nbformat_minor": 2
}
