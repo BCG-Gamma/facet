{
 "cells": [
  {
   "cell_type": "markdown",
   "metadata": {},
   "source": [
    "# Setup\n",
    "**This notebook serves as a demo and tutorial for the yielengine package.**\n",
    "It illustrates the following methods:\n",
    "- EDA\n",
    "- Boruta feature selection\n",
    "- Shap clustering feature selection\n",
    "- simulaiton"
   ]
  },
  {
   "cell_type": "code",
   "execution_count": 1,
   "metadata": {
    "ExecuteTime": {
     "end_time": "2019-06-27T16:27:06.380372Z",
     "start_time": "2019-06-27T16:27:06.368376Z"
    }
   },
   "outputs": [
    {
     "name": "stdout",
     "output_type": "stream",
     "text": [
      "C:\\Users\\martin florent\\AppData\\Local\\Continuum\\anaconda3\\envs\\yield-engine\\python.exe\n"
     ]
    }
   ],
   "source": [
    "# Be sure that you are using the yield-engine environement\n",
    "import sys\n",
    "print(sys.executable)"
   ]
  },
  {
   "cell_type": "code",
   "execution_count": 2,
   "metadata": {
    "ExecuteTime": {
     "end_time": "2019-06-27T16:27:07.173382Z",
     "start_time": "2019-06-27T16:27:07.167381Z"
    }
   },
   "outputs": [
    {
     "name": "stdout",
     "output_type": "stream",
     "text": [
      "working dir is 'C:\\Users\\martin florent\\Documents\\projects\\yield-engine'\n",
      "added `src` to python paths\n"
     ]
    }
   ],
   "source": [
    "PATH_YIELD_ENGINE = 'src'\n",
    "\n",
    "def set_paths() -> None:\n",
    "    \"\"\"\n",
    "    set correct working directory and python path when started from within PyCharm\n",
    "    \"\"\"\n",
    "    import sys\n",
    "    import os\n",
    "    \n",
    "    if 'cwd' not in globals():\n",
    "        # noinspection PyGlobalUndefined\n",
    "        global cwd\n",
    "        cwd = os.path.join(os.getcwd(), os.pardir)\n",
    "        os.chdir(cwd)\n",
    "    \n",
    "    print(f\"working dir is '{os.getcwd()}'\")\n",
    "                             \n",
    "    if PATH_YIELD_ENGINE not in sys.path:\n",
    "        sys.path.insert(0, PATH_YIELD_ENGINE)\n",
    "    \n",
    "    print(f\"added `{sys.path[0]}` to python paths\")\n",
    "\n",
    "set_paths()"
   ]
  },
  {
   "cell_type": "code",
   "execution_count": 117,
   "metadata": {
    "ExecuteTime": {
     "end_time": "2019-06-27T17:07:16.071555Z",
     "start_time": "2019-06-27T17:07:16.063558Z"
    },
    "pycharm": {
     "is_executing": false
    }
   },
   "outputs": [],
   "source": [
    "import logging\n",
    "import os    \n",
    "import re\n",
    "import pprint\n",
    "import numpy as np\n",
    "import pandas as pd\n",
    "from lightgbm import LGBMRegressor\n",
    "import matplotlib.pyplot as plt\n",
    "from sklearn.ensemble import RandomForestRegressor\n",
    "from sklearn.linear_model import Ridge\n",
    "from sklearn.metrics import make_scorer, r2_score, mean_absolute_error\n",
    "from typing import *\n",
    "\n",
    "from yieldengine import Sample\n",
    "from yieldengine.dendrogram import DendrogramDrawer\n",
    "from yieldengine.dendrogram.style import FeatMapStyle, LineStyle\n",
    "from yieldengine.df.pipeline import PipelineDF\n",
    "from yieldengine.preprocessing.encode import OneHotEncoderDF\n",
    "from yieldengine.preprocessing.impute import SimpleImputerDF, MissingIndicatorDF\n",
    "from yieldengine.preprocessing.selection import BorutaDF\n",
    "from yieldengine.preprocessing.compose import ColumnTransformerDF\n",
    "from yieldengine.model.inspection import ModelInspector\n",
    "from yieldengine.model.prediction import PredictorCV\n",
    "from yieldengine.model.selection import Model, ModelGrid, ModelRanker, summary_report, ModelEvaluation, ModelScoring\n",
    "from yieldengine.model.validation import CircularCrossValidator\n",
    "from yieldengine.visualization.eda import plot_ecdf, plot_ecdf_df, plot_hist_df\n",
    "from yieldengine.preprocessing.outlier import TukeyOutlierRemoverDF\n",
    "from yieldengine.preprocessing import FunctionTransformerDF\n",
    "from yieldengine.simulation import UnivariateSimulation"
   ]
  },
  {
   "cell_type": "code",
   "execution_count": 118,
   "metadata": {
    "ExecuteTime": {
     "end_time": "2019-06-27T17:07:18.814633Z",
     "start_time": "2019-06-27T17:07:18.806637Z"
    }
   },
   "outputs": [
    {
     "data": {
      "text/html": [
       "<style>.container { width:100% !important; }</style>"
      ],
      "text/plain": [
       "<IPython.core.display.HTML object>"
      ]
     },
     "metadata": {},
     "output_type": "display_data"
    }
   ],
   "source": [
    "from IPython.core.display import display, HTML\n",
    "display(HTML(\"<style>.container { width:100% !important; }</style>\"))"
   ]
  },
  {
   "cell_type": "code",
   "execution_count": 105,
   "metadata": {
    "ExecuteTime": {
     "end_time": "2019-06-27T17:00:22.455103Z",
     "start_time": "2019-06-27T17:00:22.452102Z"
    }
   },
   "outputs": [],
   "source": [
    "logging.basicConfig(level=logging.DEBUG)\n",
    "logging.getLogger('matplotlib').setLevel(logging.WARNING)\n",
    "log = logging.getLogger(__name__)"
   ]
  },
  {
   "cell_type": "code",
   "execution_count": 32,
   "metadata": {
    "ExecuteTime": {
     "end_time": "2019-06-27T16:36:16.578170Z",
     "start_time": "2019-06-27T16:36:16.571124Z"
    }
   },
   "outputs": [
    {
     "name": "stderr",
     "output_type": "stream",
     "text": [
      "DEBUG:matplotlib.pyplot:Loaded backend module://ipykernel.pylab.backend_inline version unknown.\n"
     ]
    }
   ],
   "source": [
    "%matplotlib inline\n",
    "plt.rcParams['figure.figsize'] = [8, 8]"
   ]
  },
  {
   "cell_type": "markdown",
   "metadata": {},
   "source": [
    "# Load raw data, EDA and data preprocessing"
   ]
  },
  {
   "cell_type": "markdown",
   "metadata": {},
   "source": [
    "## Raw data"
   ]
  },
  {
   "cell_type": "code",
   "execution_count": 33,
   "metadata": {
    "ExecuteTime": {
     "end_time": "2019-06-27T16:36:17.444132Z",
     "start_time": "2019-06-27T16:36:17.441131Z"
    },
    "pycharm": {
     "is_executing": true
    }
   },
   "outputs": [],
   "source": [
    "DATA_DIR = os.path.join('data', 'ames-housing-dataset')\n",
    "RAW_DATA_CSV = os.path.join(DATA_DIR, 'train.csv')\n",
    "TARGET = \"SalePrice\""
   ]
  },
  {
   "cell_type": "code",
   "execution_count": 34,
   "metadata": {
    "ExecuteTime": {
     "end_time": "2019-06-27T16:36:17.626133Z",
     "start_time": "2019-06-27T16:36:17.590138Z"
    },
    "scrolled": true
   },
   "outputs": [
    {
     "name": "stdout",
     "output_type": "stream",
     "text": [
      "Read data\\ames-housing-dataset\\train.csv\n"
     ]
    }
   ],
   "source": [
    "print(f\"Read {RAW_DATA_CSV}\")\n",
    "raw_df = pd.read_csv(RAW_DATA_CSV)"
   ]
  },
  {
   "cell_type": "markdown",
   "metadata": {},
   "source": [
    "## EDA"
   ]
  },
  {
   "cell_type": "code",
   "execution_count": 35,
   "metadata": {
    "ExecuteTime": {
     "end_time": "2019-06-27T16:36:17.919135Z",
     "start_time": "2019-06-27T16:36:17.914134Z"
    }
   },
   "outputs": [
    {
     "name": "stdout",
     "output_type": "stream",
     "text": [
      "Shape of the raw data: (1460, 81)\n"
     ]
    }
   ],
   "source": [
    "print(f\"Shape of the raw data: {raw_df.shape}\")"
   ]
  },
  {
   "cell_type": "code",
   "execution_count": 36,
   "metadata": {
    "ExecuteTime": {
     "end_time": "2019-06-27T16:36:18.087139Z",
     "start_time": "2019-06-27T16:36:18.056136Z"
    }
   },
   "outputs": [
    {
     "data": {
      "text/html": [
       "<div>\n",
       "<style scoped>\n",
       "    .dataframe tbody tr th:only-of-type {\n",
       "        vertical-align: middle;\n",
       "    }\n",
       "\n",
       "    .dataframe tbody tr th {\n",
       "        vertical-align: top;\n",
       "    }\n",
       "\n",
       "    .dataframe thead th {\n",
       "        text-align: right;\n",
       "    }\n",
       "</style>\n",
       "<table border=\"1\" class=\"dataframe\">\n",
       "  <thead>\n",
       "    <tr style=\"text-align: right;\">\n",
       "      <th></th>\n",
       "      <th>Id</th>\n",
       "      <th>MSSubClass</th>\n",
       "      <th>MSZoning</th>\n",
       "      <th>LotFrontage</th>\n",
       "      <th>LotArea</th>\n",
       "      <th>Street</th>\n",
       "      <th>Alley</th>\n",
       "      <th>LotShape</th>\n",
       "      <th>LandContour</th>\n",
       "      <th>Utilities</th>\n",
       "      <th>...</th>\n",
       "      <th>PoolArea</th>\n",
       "      <th>PoolQC</th>\n",
       "      <th>Fence</th>\n",
       "      <th>MiscFeature</th>\n",
       "      <th>MiscVal</th>\n",
       "      <th>MoSold</th>\n",
       "      <th>YrSold</th>\n",
       "      <th>SaleType</th>\n",
       "      <th>SaleCondition</th>\n",
       "      <th>SalePrice</th>\n",
       "    </tr>\n",
       "  </thead>\n",
       "  <tbody>\n",
       "    <tr>\n",
       "      <th>0</th>\n",
       "      <td>1</td>\n",
       "      <td>60</td>\n",
       "      <td>RL</td>\n",
       "      <td>65.0</td>\n",
       "      <td>8450</td>\n",
       "      <td>Pave</td>\n",
       "      <td>NaN</td>\n",
       "      <td>Reg</td>\n",
       "      <td>Lvl</td>\n",
       "      <td>AllPub</td>\n",
       "      <td>...</td>\n",
       "      <td>0</td>\n",
       "      <td>NaN</td>\n",
       "      <td>NaN</td>\n",
       "      <td>NaN</td>\n",
       "      <td>0</td>\n",
       "      <td>2</td>\n",
       "      <td>2008</td>\n",
       "      <td>WD</td>\n",
       "      <td>Normal</td>\n",
       "      <td>208500</td>\n",
       "    </tr>\n",
       "    <tr>\n",
       "      <th>1</th>\n",
       "      <td>2</td>\n",
       "      <td>20</td>\n",
       "      <td>RL</td>\n",
       "      <td>80.0</td>\n",
       "      <td>9600</td>\n",
       "      <td>Pave</td>\n",
       "      <td>NaN</td>\n",
       "      <td>Reg</td>\n",
       "      <td>Lvl</td>\n",
       "      <td>AllPub</td>\n",
       "      <td>...</td>\n",
       "      <td>0</td>\n",
       "      <td>NaN</td>\n",
       "      <td>NaN</td>\n",
       "      <td>NaN</td>\n",
       "      <td>0</td>\n",
       "      <td>5</td>\n",
       "      <td>2007</td>\n",
       "      <td>WD</td>\n",
       "      <td>Normal</td>\n",
       "      <td>181500</td>\n",
       "    </tr>\n",
       "    <tr>\n",
       "      <th>2</th>\n",
       "      <td>3</td>\n",
       "      <td>60</td>\n",
       "      <td>RL</td>\n",
       "      <td>68.0</td>\n",
       "      <td>11250</td>\n",
       "      <td>Pave</td>\n",
       "      <td>NaN</td>\n",
       "      <td>IR1</td>\n",
       "      <td>Lvl</td>\n",
       "      <td>AllPub</td>\n",
       "      <td>...</td>\n",
       "      <td>0</td>\n",
       "      <td>NaN</td>\n",
       "      <td>NaN</td>\n",
       "      <td>NaN</td>\n",
       "      <td>0</td>\n",
       "      <td>9</td>\n",
       "      <td>2008</td>\n",
       "      <td>WD</td>\n",
       "      <td>Normal</td>\n",
       "      <td>223500</td>\n",
       "    </tr>\n",
       "    <tr>\n",
       "      <th>3</th>\n",
       "      <td>4</td>\n",
       "      <td>70</td>\n",
       "      <td>RL</td>\n",
       "      <td>60.0</td>\n",
       "      <td>9550</td>\n",
       "      <td>Pave</td>\n",
       "      <td>NaN</td>\n",
       "      <td>IR1</td>\n",
       "      <td>Lvl</td>\n",
       "      <td>AllPub</td>\n",
       "      <td>...</td>\n",
       "      <td>0</td>\n",
       "      <td>NaN</td>\n",
       "      <td>NaN</td>\n",
       "      <td>NaN</td>\n",
       "      <td>0</td>\n",
       "      <td>2</td>\n",
       "      <td>2006</td>\n",
       "      <td>WD</td>\n",
       "      <td>Abnorml</td>\n",
       "      <td>140000</td>\n",
       "    </tr>\n",
       "    <tr>\n",
       "      <th>4</th>\n",
       "      <td>5</td>\n",
       "      <td>60</td>\n",
       "      <td>RL</td>\n",
       "      <td>84.0</td>\n",
       "      <td>14260</td>\n",
       "      <td>Pave</td>\n",
       "      <td>NaN</td>\n",
       "      <td>IR1</td>\n",
       "      <td>Lvl</td>\n",
       "      <td>AllPub</td>\n",
       "      <td>...</td>\n",
       "      <td>0</td>\n",
       "      <td>NaN</td>\n",
       "      <td>NaN</td>\n",
       "      <td>NaN</td>\n",
       "      <td>0</td>\n",
       "      <td>12</td>\n",
       "      <td>2008</td>\n",
       "      <td>WD</td>\n",
       "      <td>Normal</td>\n",
       "      <td>250000</td>\n",
       "    </tr>\n",
       "  </tbody>\n",
       "</table>\n",
       "<p>5 rows × 81 columns</p>\n",
       "</div>"
      ],
      "text/plain": [
       "   Id  MSSubClass MSZoning  LotFrontage  LotArea Street Alley LotShape  \\\n",
       "0   1          60       RL         65.0     8450   Pave   NaN      Reg   \n",
       "1   2          20       RL         80.0     9600   Pave   NaN      Reg   \n",
       "2   3          60       RL         68.0    11250   Pave   NaN      IR1   \n",
       "3   4          70       RL         60.0     9550   Pave   NaN      IR1   \n",
       "4   5          60       RL         84.0    14260   Pave   NaN      IR1   \n",
       "\n",
       "  LandContour Utilities  ... PoolArea PoolQC Fence MiscFeature MiscVal MoSold  \\\n",
       "0         Lvl    AllPub  ...        0    NaN   NaN         NaN       0      2   \n",
       "1         Lvl    AllPub  ...        0    NaN   NaN         NaN       0      5   \n",
       "2         Lvl    AllPub  ...        0    NaN   NaN         NaN       0      9   \n",
       "3         Lvl    AllPub  ...        0    NaN   NaN         NaN       0      2   \n",
       "4         Lvl    AllPub  ...        0    NaN   NaN         NaN       0     12   \n",
       "\n",
       "  YrSold  SaleType  SaleCondition  SalePrice  \n",
       "0   2008        WD         Normal     208500  \n",
       "1   2007        WD         Normal     181500  \n",
       "2   2008        WD         Normal     223500  \n",
       "3   2006        WD        Abnorml     140000  \n",
       "4   2008        WD         Normal     250000  \n",
       "\n",
       "[5 rows x 81 columns]"
      ]
     },
     "execution_count": 36,
     "metadata": {},
     "output_type": "execute_result"
    }
   ],
   "source": [
    "raw_df.head()"
   ]
  },
  {
   "cell_type": "code",
   "execution_count": 37,
   "metadata": {
    "ExecuteTime": {
     "end_time": "2019-06-27T16:36:18.203138Z",
     "start_time": "2019-06-27T16:36:18.196138Z"
    }
   },
   "outputs": [
    {
     "data": {
      "text/plain": [
       "Index(['Id', 'MSSubClass', 'MSZoning', 'LotFrontage', 'LotArea', 'Street',\n",
       "       'Alley', 'LotShape', 'LandContour', 'Utilities', 'LotConfig',\n",
       "       'LandSlope', 'Neighborhood', 'Condition1', 'Condition2', 'BldgType',\n",
       "       'HouseStyle', 'OverallQual', 'OverallCond', 'YearBuilt', 'YearRemodAdd',\n",
       "       'RoofStyle', 'RoofMatl', 'Exterior1st', 'Exterior2nd', 'MasVnrType',\n",
       "       'MasVnrArea', 'ExterQual', 'ExterCond', 'Foundation', 'BsmtQual',\n",
       "       'BsmtCond', 'BsmtExposure', 'BsmtFinType1', 'BsmtFinSF1',\n",
       "       'BsmtFinType2', 'BsmtFinSF2', 'BsmtUnfSF', 'TotalBsmtSF', 'Heating',\n",
       "       'HeatingQC', 'CentralAir', 'Electrical', '1stFlrSF', '2ndFlrSF',\n",
       "       'LowQualFinSF', 'GrLivArea', 'BsmtFullBath', 'BsmtHalfBath', 'FullBath',\n",
       "       'HalfBath', 'BedroomAbvGr', 'KitchenAbvGr', 'KitchenQual',\n",
       "       'TotRmsAbvGrd', 'Functional', 'Fireplaces', 'FireplaceQu', 'GarageType',\n",
       "       'GarageYrBlt', 'GarageFinish', 'GarageCars', 'GarageArea', 'GarageQual',\n",
       "       'GarageCond', 'PavedDrive', 'WoodDeckSF', 'OpenPorchSF',\n",
       "       'EnclosedPorch', '3SsnPorch', 'ScreenPorch', 'PoolArea', 'PoolQC',\n",
       "       'Fence', 'MiscFeature', 'MiscVal', 'MoSold', 'YrSold', 'SaleType',\n",
       "       'SaleCondition', 'SalePrice'],\n",
       "      dtype='object')"
      ]
     },
     "execution_count": 37,
     "metadata": {},
     "output_type": "execute_result"
    }
   ],
   "source": [
    "raw_df.columns"
   ]
  },
  {
   "cell_type": "markdown",
   "metadata": {},
   "source": [
    "## Description of the variables\n",
    "The variable *description_dict* is a dictionary whose keys are the column names of the dataset and the values are description of the columns"
   ]
  },
  {
   "cell_type": "code",
   "execution_count": 38,
   "metadata": {
    "ExecuteTime": {
     "end_time": "2019-06-27T16:36:18.987145Z",
     "start_time": "2019-06-27T16:36:18.462141Z"
    }
   },
   "outputs": [
    {
     "name": "stdout",
     "output_type": "stream",
     "text": [
      "{'1stFlrSF': 'First Floor square feet',\n",
      " '2ndFlrSF': 'Second floor square feet',\n",
      " '3SsnPorch': 'Three season porch area in square feet',\n",
      " 'Alley': 'Type of alley access to property Grvl Gravel Pave Paved NA No alley '\n",
      "          'access',\n",
      " 'Bedroom': 'Bedrooms above grade (does NOT include basement bedrooms)',\n",
      " 'BldgType': 'Type of dwelling 1Fam Single-family Detached 2FmCon Two-family '\n",
      "             'Conversion; originally built as one-family dwelling Duplx Duplex '\n",
      "             'TwnhsE Townhouse End Unit TwnhsI Townhouse Inside Unit',\n",
      " 'BsmtCond': 'Evaluates the general condition of the basement Ex Excellent Gd '\n",
      "             'Good TA Typical - slight dampness allowed Fa Fair - dampness or '\n",
      "             'some cracking or settling Po Poor - Severe cracking, settling, '\n",
      "             'or wetness NA No Basement',\n",
      " 'BsmtExposure': 'Refers to walkout or garden level walls Gd Good Exposure Av '\n",
      "                 'Average Exposure (split levels or foyers typically score '\n",
      "                 'average or above) Mn Mimimum Exposure No No Exposure NA No '\n",
      "                 'Basement',\n",
      " 'BsmtFinSF1': 'Type 1 finished square feet',\n",
      " 'BsmtFinSF2': 'Type 2 finished square feet',\n",
      " 'BsmtFinType1': 'Rating of basement finished area GLQ Good Living Quarters '\n",
      "                 'ALQ Average Living Quarters BLQ Below Average Living '\n",
      "                 'Quarters Rec Average Rec Room LwQ Low Quality Unf Unfinshed '\n",
      "                 'NA No Basement',\n",
      " 'BsmtFinType2': 'Rating of basement finished area (if multiple types) GLQ '\n",
      "                 'Good Living Quarters ALQ Average Living Quarters BLQ Below '\n",
      "                 'Average Living Quarters Rec Average Rec Room LwQ Low Quality '\n",
      "                 'Unf Unfinshed NA No Basement',\n",
      " 'BsmtFullBath': 'Basement full bathrooms',\n",
      " 'BsmtHalfBath': 'Basement half bathrooms',\n",
      " 'BsmtQual': 'Evaluates the height of the basement Ex Excellent (100+ inches) '\n",
      "             'Gd Good (90-99 inches) TA Typical (80-89 inches) Fa Fair (70-79 '\n",
      "             'inches) Po Poor (<70 inches NA No Basement',\n",
      " 'BsmtUnfSF': 'Unfinished square feet of basement area',\n",
      " 'CentralAir': 'Central air conditioning N No Y Yes',\n",
      " 'Condition1': 'Proximity to various conditions Artery Adjacent to arterial '\n",
      "               'street Feedr Adjacent to feeder street Norm Normal RRNn Within '\n",
      "               \"200' of North-South Railroad RRAn Adjacent to North-South \"\n",
      "               'Railroad PosN Near positive off-site feature--park, greenbelt, '\n",
      "               'etc. PosA Adjacent to postive off-site feature RRNe Within '\n",
      "               \"200' of East-West Railroad RRAe Adjacent to East-West Railroad\",\n",
      " 'Condition2': 'Proximity to various conditions (if more than one is present) '\n",
      "               'Artery Adjacent to arterial street Feedr Adjacent to feeder '\n",
      "               \"street Norm Normal RRNn Within 200' of North-South Railroad \"\n",
      "               'RRAn Adjacent to North-South Railroad PosN Near positive '\n",
      "               'off-site feature--park, greenbelt, etc. PosA Adjacent to '\n",
      "               \"postive off-site feature RRNe Within 200' of East-West \"\n",
      "               'Railroad RRAe Adjacent to East-West Railroad',\n",
      " 'Electrical': 'Electrical system SBrkr Standard Circuit Breakers & Romex '\n",
      "               'FuseA Fuse Box over 60 AMP and all Romex wiring (Average) '\n",
      "               'FuseF 60 AMP Fuse Box and mostly Romex wiring (Fair) FuseP 60 '\n",
      "               'AMP Fuse Box and mostly knob & tube wiring (poor) Mix Mixed',\n",
      " 'EnclosedPorch': 'Enclosed porch area in square feet',\n",
      " 'ExterCond': 'Evaluates the present condition of the material on the exterior '\n",
      "              'Ex Excellent Gd Good TA Average/Typical Fa Fair Po Poor',\n",
      " 'ExterQual': 'Evaluates the quality of the material on the exterior Ex '\n",
      "              'Excellent Gd Good TA Average/Typical Fa Fair Po Poor',\n",
      " 'Exterior1st': 'Exterior covering on house AsbShng Asbestos Shingles AsphShn '\n",
      "                'Asphalt Shingles BrkComm Brick Common BrkFace Brick Face '\n",
      "                'CBlock Cinder Block CemntBd Cement Board HdBoard Hard Board '\n",
      "                'ImStucc Imitation Stucco MetalSd Metal Siding Other Other '\n",
      "                'Plywood Plywood PreCast PreCast Stone Stone Stucco Stucco '\n",
      "                'VinylSd Vinyl Siding Wd Sdng Wood Siding WdShing Wood '\n",
      "                'Shingles',\n",
      " 'Exterior2nd': 'Exterior covering on house (if more than one material) '\n",
      "                'AsbShng Asbestos Shingles AsphShn Asphalt Shingles BrkComm '\n",
      "                'Brick Common BrkFace Brick Face CBlock Cinder Block CemntBd '\n",
      "                'Cement Board HdBoard Hard Board ImStucc Imitation Stucco '\n",
      "                'MetalSd Metal Siding Other Other Plywood Plywood PreCast '\n",
      "                'PreCast Stone Stone Stucco Stucco VinylSd Vinyl Siding Wd '\n",
      "                'Sdng Wood Siding WdShing Wood Shingles',\n",
      " 'Fence': 'Fence quality GdPrv Good Privacy MnPrv Minimum Privacy GdWo Good '\n",
      "          'Wood MnWw Minimum Wood/Wire NA No Fence',\n",
      " 'FireplaceQu': 'Fireplace quality Ex Excellent - Exceptional Masonry '\n",
      "                'Fireplace Gd Good - Masonry Fireplace in main level TA '\n",
      "                'Average - Prefabricated Fireplace in main living area or '\n",
      "                'Masonry Fireplace in basement Fa Fair - Prefabricated '\n",
      "                'Fireplace in basement Po Poor - Ben Franklin Stove NA No '\n",
      "                'Fireplace',\n",
      " 'Fireplaces': 'Number of fireplaces',\n",
      " 'Foundation': 'Type of foundation BrkTil Brick & Tile CBlock Cinder Block '\n",
      "               'PConc Poured Contrete Slab Slab Stone Stone Wood Wood',\n",
      " 'FullBath': 'Full bathrooms above grade',\n",
      " 'Functional': 'Home functionality (Assume typical unless deductions are '\n",
      "               'warranted) Typ Typical Functionality Min1 Minor Deductions 1 '\n",
      "               'Min2 Minor Deductions 2 Mod Moderate Deductions Maj1 Major '\n",
      "               'Deductions 1 Maj2 Major Deductions 2 Sev Severely Damaged Sal '\n",
      "               'Salvage only',\n",
      " 'GarageArea': 'Size of garage in square feet',\n",
      " 'GarageCars': 'Size of garage in car capacity',\n",
      " 'GarageCond': 'Garage condition Ex Excellent Gd Good TA Typical/Average Fa '\n",
      "               'Fair Po Poor NA No Garage',\n",
      " 'GarageFinish': 'Interior finish of the garage Fin Finished RFn Rough '\n",
      "                 'Finished Unf Unfinished NA No Garage',\n",
      " 'GarageQual': 'Garage quality Ex Excellent Gd Good TA Typical/Average Fa Fair '\n",
      "               'Po Poor NA No Garage',\n",
      " 'GarageType': 'Garage location 2Types More than one type of garage Attchd '\n",
      "               'Attached to home Basment Basement Garage BuiltIn Built-In '\n",
      "               '(Garage part of house - typically has room above garage) '\n",
      "               'CarPort Car Port Detchd Detached from home NA No Garage',\n",
      " 'GarageYrBlt': 'Year garage was built',\n",
      " 'GrLivArea': 'Above grade (ground) living area square feet',\n",
      " 'HalfBath': 'Half baths above grade',\n",
      " 'Heating': 'Type of heating Floor Floor Furnace GasA Gas forced warm air '\n",
      "            'furnace GasW Gas hot water or steam heat Grav Gravity furnace '\n",
      "            'OthW Hot water or steam heat other than gas Wall Wall furnace',\n",
      " 'HeatingQC': 'Heating quality and condition Ex Excellent Gd Good TA '\n",
      "              'Average/Typical Fa Fair Po Poor',\n",
      " 'HouseStyle': 'Style of dwelling 1Story One story 1.5Fin One and one-half',\n",
      " 'Kitchen': 'Kitchens above grade',\n",
      " 'KitchenQual': 'Kitchen quality Ex Excellent Gd Good TA Typical/Average Fa '\n",
      "                'Fair Po Poor',\n",
      " 'LandContour': 'Flatness of the property Lvl Near Flat/Level Bnk Banked - '\n",
      "                'Quick and significant rise from street grade to building HLS '\n",
      "                'Hillside - Significant slope from side to side Low Depression',\n",
      " 'LandSlope': 'Slope of property Gtl Gentle slope Mod Moderate Slope Sev '\n",
      "              'Severe Slope',\n",
      " 'LotArea': 'Lot size in square feet',\n",
      " 'LotConfig': 'Lot configuration Inside Inside lot Corner Corner lot CulDSac '\n",
      "              'Cul-de-sac FR2 Frontage on 2 sides of property FR3 Frontage on '\n",
      "              '3 sides of property',\n",
      " 'LotFrontage': 'Linear feet of street connected to property',\n",
      " 'LotShape': 'General shape of property Reg Regular IR1 Slightly irregular IR2 '\n",
      "             'Moderately Irregular IR3 Irregular',\n"
     ]
    },
    {
     "name": "stdout",
     "output_type": "stream",
     "text": [
      " 'LowQualFinSF': 'Low quality finished square feet (all floors)',\n",
      " 'MSSubClass': 'Identifies the type of dwelling involved in the sale. 20 '\n",
      "               '1-STORY 1946 & NEWER ALL STYLES 30 1-STORY 1945 & OLDER 40 '\n",
      "               '1-STORY W/FINISHED ATTIC ALL AGES 45 1-1/2 STORY - UNFINISHED '\n",
      "               'ALL AGES 50 1-1/2 STORY FINISHED ALL AGES 60 2-STORY 1946 & '\n",
      "               'NEWER 70 2-STORY 1945 & OLDER 75 2-1/2 STORY ALL AGES 80 SPLIT '\n",
      "               'OR MULTI-LEVEL 85 SPLIT FOYER 90 DUPLEX - ALL STYLES AND AGES '\n",
      "               '120 1-STORY PUD (Planned Unit Development) - 1946 & NEWER 150 '\n",
      "               '1-1/2 STORY PUD - ALL AGES 160 2-STORY PUD - 1946 & NEWER 180 '\n",
      "               'PUD - MULTILEVEL - INCL SPLIT LEV/FOYER 190 2 FAMILY '\n",
      "               'CONVERSION - ALL STYLES AND AGES',\n",
      " 'MSZoning': 'Identifies the general zoning classification of the sale. A '\n",
      "             'Agriculture C Commercial FV Floating Village Residential I '\n",
      "             'Industrial RH Residential High Density RL Residential Low '\n",
      "             'Density RP Residential Low Density Park RM Residential Medium '\n",
      "             'Density',\n",
      " 'MasVnrArea': 'Masonry veneer area in square feet',\n",
      " 'MasVnrType': 'Masonry veneer type BrkCmn Brick Common BrkFace Brick Face '\n",
      "               'CBlock Cinder Block None None Stone Stone',\n",
      " 'MiscFeature': 'Miscellaneous feature not covered in other categories Elev '\n",
      "                'Elevator Gar2 2nd Garage (if not described in garage section) '\n",
      "                'Othr Other Shed Shed (over 100 SF) TenC Tennis Court NA None',\n",
      " 'MiscVal': '$Value of miscellaneous feature',\n",
      " 'MoSold': 'Month Sold (MM)',\n",
      " 'Neighborhood': 'Physical locations within Ames city limits Blmngtn '\n",
      "                 'Bloomington Heights Blueste Bluestem BrDale Briardale '\n",
      "                 'BrkSide Brookside ClearCr Clear Creek CollgCr College Creek '\n",
      "                 'Crawfor Crawford Edwards Edwards Gilbert Gilbert IDOTRR Iowa '\n",
      "                 'DOT and Rail Road MeadowV Meadow Village Mitchel Mitchell '\n",
      "                 'Names North Ames NoRidge Northridge NPkVill Northpark Villa '\n",
      "                 'NridgHt Northridge Heights NWAmes Northwest Ames OldTown Old '\n",
      "                 'Town SWISU South & West of Iowa State University Sawyer '\n",
      "                 'Sawyer SawyerW Sawyer West Somerst Somerset StoneBr Stone '\n",
      "                 'Brook Timber Timberland Veenker Veenker',\n",
      " 'OpenPorchSF': 'Open porch area in square feet',\n",
      " 'OverallCond': 'Rates the overall condition of the house 10 Very Excellent 9 '\n",
      "                'Excellent 8 Very Good 7 Good 6 Above Average 5 Average 4 '\n",
      "                'Below Average 3 Fair 2 Poor 1 Very Poor',\n",
      " 'OverallQual': 'Rates the overall material and finish of the house 10 Very '\n",
      "                'Excellent 9 Excellent 8 Very Good 7 Good 6 Above Average 5 '\n",
      "                'Average 4 Below Average 3 Fair 2 Poor 1 Very Poor',\n",
      " 'PavedDrive': 'Paved driveway Y Paved P Partial Pavement N Dirt/Gravel',\n",
      " 'PoolArea': 'Pool area in square feet',\n",
      " 'PoolQC': 'Pool quality Ex Excellent Gd Good TA Average/Typical Fa Fair NA No '\n",
      "           'Pool',\n",
      " 'RoofMatl': 'Roof material ClyTile Clay or Tile CompShg Standard (Composite) '\n",
      "             'Shingle Membran Membrane Metal Metal Roll Roll Tar&Grv Gravel & '\n",
      "             'Tar WdShake Wood Shakes WdShngl Wood Shingles',\n",
      " 'RoofStyle': 'Type of roof Flat Flat Gable Gable Gambrel Gabrel (Barn) Hip '\n",
      "              'Hip Mansard Mansard Shed Shed',\n",
      " 'SaleType': 'Type of sale WD Warranty Deed - Conventional CWD Warranty Deed - '\n",
      "             'Cash VWD Warranty Deed - VA Loan New Home just constructed and '\n",
      "             'sold COD Court Officer Deed/Estate Con Contract 15% Down payment '\n",
      "             'regular terms ConLw Contract Low Down payment and low interest '\n",
      "             'ConLI Contract Low Interest ConLD Contract Low Down Oth Other',\n",
      " 'ScreenPorch': 'Screen porch area in square feet',\n",
      " 'Street': 'Type of road access to property Grvl Gravel Pave Paved',\n",
      " 'TotRmsAbvGrd': 'Total rooms above grade (does not include bathrooms)',\n",
      " 'TotalBsmtSF': 'Total square feet of basement area',\n",
      " 'Utilities': 'Type of utilities available AllPub All public Utilities '\n",
      "              '(E,G,W,& S) NoSewr Electricity, Gas, and Water (Septic Tank) '\n",
      "              'NoSeWa Electricity and Gas Only ELO Electricity only',\n",
      " 'WoodDeckSF': 'Wood deck area in square feet',\n",
      " 'YearBuilt': 'Original construction date',\n",
      " 'YearRemodAdd': 'Remodel date (same as construction date if no remodeling or '\n",
      "                 'additions)',\n",
      " 'YrSold': 'Year Sold (YYYY)',\n",
      " 'story': '2nd level unfinished SFoyer Split Foyer SLvl Split Level'}\n"
     ]
    }
   ],
   "source": [
    "DESCRIPTION = os.path.join(DATA_DIR, 'data_description.txt')\n",
    "with open(DESCRIPTION, 'r') as f:\n",
    "    description = f.read()\n",
    "\n",
    "# Create a dictionary containing description of the variables\n",
    "splitted = description.split()\n",
    "idx_begin = [i for i, w in enumerate(description.split()) if w.endswith(':')]\n",
    "description_dict = {\n",
    "       splitted[idx_begin[i]][:-1]: ' '.join(splitted[idx_begin[i]+1: idx_begin[i+1]]) for i in range(len(idx_begin)-1)\n",
    "}\n",
    "\n",
    "pprint.pprint(description_dict)"
   ]
  },
  {
   "cell_type": "markdown",
   "metadata": {},
   "source": [
    "## Sort by sold date\n",
    "We sort the samples by selling date"
   ]
  },
  {
   "cell_type": "code",
   "execution_count": 39,
   "metadata": {
    "ExecuteTime": {
     "end_time": "2019-06-27T16:36:19.311145Z",
     "start_time": "2019-06-27T16:36:18.991145Z"
    }
   },
   "outputs": [
    {
     "data": {
      "text/plain": [
       "<matplotlib.axes._subplots.AxesSubplot at 0x25e00fdc208>"
      ]
     },
     "execution_count": 39,
     "metadata": {},
     "output_type": "execute_result"
    },
    {
     "name": "stderr",
     "output_type": "stream",
     "text": [
      "DEBUG:matplotlib.axes._base:update_title_pos\n",
      "DEBUG:matplotlib.axes._base:update_title_pos\n",
      "DEBUG:matplotlib.axes._base:update_title_pos\n",
      "DEBUG:matplotlib.axes._base:update_title_pos\n",
      "DEBUG:matplotlib.axes._base:update_title_pos\n"
     ]
    },
    {
     "data": {
      "image/png": "[encoded data removed]",
      "text/plain": [
       "<Figure size 576x576 with 1 Axes>"
      ]
     },
     "metadata": {
      "needs_background": "light"
     },
     "output_type": "display_data"
    }
   ],
   "source": [
    "df_tmp = raw_df.copy()\n",
    "df_tmp['YrSold'].value_counts().sort_index().plot(kind='bar')"
   ]
  },
  {
   "cell_type": "code",
   "execution_count": 40,
   "metadata": {
    "ExecuteTime": {
     "end_time": "2019-06-27T16:36:19.925157Z",
     "start_time": "2019-06-27T16:36:19.315146Z"
    }
   },
   "outputs": [
    {
     "data": {
      "text/plain": [
       "<matplotlib.axes._subplots.AxesSubplot at 0x25e010d77b8>"
      ]
     },
     "execution_count": 40,
     "metadata": {},
     "output_type": "execute_result"
    },
    {
     "name": "stderr",
     "output_type": "stream",
     "text": [
      "DEBUG:matplotlib.axes._base:update_title_pos\n",
      "DEBUG:matplotlib.axes._base:update_title_pos\n",
      "DEBUG:matplotlib.axes._base:update_title_pos\n",
      "DEBUG:matplotlib.axes._base:update_title_pos\n",
      "DEBUG:matplotlib.axes._base:update_title_pos\n"
     ]
    },
    {
     "data": {
      "image/png": "[encoded data removed]",
      "text/plain": [
       "<Figure size 576x576 with 1 Axes>"
      ]
     },
     "metadata": {
      "needs_background": "light"
     },
     "output_type": "display_data"
    }
   ],
   "source": [
    "df_tmp['DateSold'] = pd.to_datetime(df_tmp['YrSold']*100 + df_tmp['MoSold'], format='%Y%m')\n",
    "df_tmp.groupby('DateSold')[TARGET].mean().plot()"
   ]
  },
  {
   "cell_type": "markdown",
   "metadata": {},
   "source": [
    "## Data Prep"
   ]
  },
  {
   "cell_type": "code",
   "execution_count": 41,
   "metadata": {
    "ExecuteTime": {
     "end_time": "2019-06-27T16:36:19.945151Z",
     "start_time": "2019-06-27T16:36:19.930150Z"
    }
   },
   "outputs": [],
   "source": [
    "dataset_df = raw_df.copy()\n",
    "# Sort by the date\n",
    "dataset_df = dataset_df.sort_values(by=['YrSold', 'MoSold'])\n",
    "# Drop the Id column and date columns\n",
    "dataset_df = dataset_df.drop(['Id', 'YrSold', 'MoSold'], axis=1)"
   ]
  },
  {
   "cell_type": "code",
   "execution_count": 42,
   "metadata": {
    "ExecuteTime": {
     "end_time": "2019-06-27T16:36:20.698157Z",
     "start_time": "2019-06-27T16:36:20.668154Z"
    },
    "pycharm": {
     "is_executing": false,
     "name": "#%%\n"
    }
   },
   "outputs": [],
   "source": [
    "# remove infinity values\n",
    "dataset_df = dataset_df.replace([np.inf, -np.inf], np.nan)"
   ]
  },
  {
   "cell_type": "markdown",
   "metadata": {},
   "source": [
    "Overview of the types of the features"
   ]
  },
  {
   "cell_type": "code",
   "execution_count": 43,
   "metadata": {
    "ExecuteTime": {
     "end_time": "2019-06-27T16:36:22.315165Z",
     "start_time": "2019-06-27T16:36:22.143168Z"
    }
   },
   "outputs": [
    {
     "data": {
      "text/html": [
       "<div>\n",
       "<style scoped>\n",
       "    .dataframe tbody tr th:only-of-type {\n",
       "        vertical-align: middle;\n",
       "    }\n",
       "\n",
       "    .dataframe tbody tr th {\n",
       "        vertical-align: top;\n",
       "    }\n",
       "\n",
       "    .dataframe thead th {\n",
       "        text-align: right;\n",
       "    }\n",
       "</style>\n",
       "<table border=\"1\" class=\"dataframe\">\n",
       "  <thead>\n",
       "    <tr style=\"text-align: right;\">\n",
       "      <th></th>\n",
       "      <th>dtype</th>\n",
       "    </tr>\n",
       "  </thead>\n",
       "  <tbody>\n",
       "    <tr>\n",
       "      <th>category</th>\n",
       "      <td>43</td>\n",
       "    </tr>\n",
       "    <tr>\n",
       "      <th>float64</th>\n",
       "      <td>3</td>\n",
       "    </tr>\n",
       "    <tr>\n",
       "      <th>int64</th>\n",
       "      <td>32</td>\n",
       "    </tr>\n",
       "  </tbody>\n",
       "</table>\n",
       "</div>"
      ],
      "text/plain": [
       "          dtype\n",
       "category     43\n",
       "float64       3\n",
       "int64        32"
      ]
     },
     "execution_count": 43,
     "metadata": {},
     "output_type": "execute_result"
    }
   ],
   "source": [
    "for col_name in cat_features:\n",
    "    dataset_df.loc[:, col_name] = (\n",
    "        dataset_df.loc[:, col_name].astype(object).fillna('missing value').astype(str).str.strip().str.lower().astype('category')\n",
    "    )\n",
    "# output datasets\n",
    "dt = dataset_df.dtypes.rename('dtype').astype(str)\n",
    "dt.groupby(by=dt.values).count().to_frame()"
   ]
  },
  {
   "cell_type": "markdown",
   "metadata": {},
   "source": [
    "For simplicity we select only numerical features"
   ]
  },
  {
   "cell_type": "code",
   "execution_count": 44,
   "metadata": {
    "ExecuteTime": {
     "end_time": "2019-06-27T16:36:23.163173Z",
     "start_time": "2019-06-27T16:36:23.157173Z"
    }
   },
   "outputs": [],
   "source": [
    "dataset_df = dataset_df[list(num_features) + [TARGET]]"
   ]
  },
  {
   "cell_type": "markdown",
   "metadata": {
    "ExecuteTime": {
     "end_time": "2019-06-19T15:37:32.105528Z",
     "start_time": "2019-06-19T15:37:32.089954Z"
    }
   },
   "source": [
    "## Remove outliers"
   ]
  },
  {
   "cell_type": "code",
   "execution_count": 45,
   "metadata": {
    "ExecuteTime": {
     "end_time": "2019-06-27T16:36:24.305442Z",
     "start_time": "2019-06-27T16:36:24.300440Z"
    }
   },
   "outputs": [],
   "source": [
    "outlier_remover = TukeyOutlierRemoverDF(iqr_threshold=1.5)"
   ]
  },
  {
   "cell_type": "code",
   "execution_count": 46,
   "metadata": {
    "ExecuteTime": {
     "end_time": "2019-06-27T16:36:25.106449Z",
     "start_time": "2019-06-27T16:36:25.068446Z"
    }
   },
   "outputs": [
    {
     "name": "stdout",
     "output_type": "stream",
     "text": [
      "Shape before removal of target outlier: (1460, 35)\n",
      "Shape after removal outlier: (1399, 35)\n"
     ]
    }
   ],
   "source": [
    "# Filter out the rows of the dataset where the target is  NaN\n",
    "print(f\"Shape before removal of target outlier: {dataset_df.shape}\")\n",
    "mask = outlier_remover.fit_transform(dataset_df[[TARGET]])[TARGET].notna()\n",
    "dataset_df = dataset_df.loc[mask, :]\n",
    "print(f\"Shape after removal outlier: {dataset_df.shape}\")"
   ]
  },
  {
   "cell_type": "markdown",
   "metadata": {},
   "source": [
    "## Create Sample object to be used by our model"
   ]
  },
  {
   "cell_type": "code",
   "execution_count": 47,
   "metadata": {
    "ExecuteTime": {
     "end_time": "2019-06-27T16:36:30.807773Z",
     "start_time": "2019-06-27T16:36:30.802773Z"
    }
   },
   "outputs": [],
   "source": [
    "# Define a Sample object to be used by our model\n",
    "sample_full = Sample(\n",
    "    observations=dataset_df,\n",
    "    target_name=TARGET)"
   ]
  },
  {
   "cell_type": "markdown",
   "metadata": {},
   "source": [
    "* Plot of the empirical cumulative distribution function (ECDF) of the target "
   ]
  },
  {
   "cell_type": "code",
   "execution_count": 50,
   "metadata": {
    "ExecuteTime": {
     "end_time": "2019-06-27T16:37:42.189362Z",
     "start_time": "2019-06-27T16:37:41.981354Z"
    },
    "scrolled": false
   },
   "outputs": [
    {
     "name": "stderr",
     "output_type": "stream",
     "text": [
      "DEBUG:matplotlib.axes._base:update_title_pos\n",
      "DEBUG:matplotlib.axes._base:update_title_pos\n",
      "DEBUG:matplotlib.axes._base:update_title_pos\n",
      "DEBUG:matplotlib.axes._base:update_title_pos\n",
      "DEBUG:matplotlib.axes._base:update_title_pos\n"
     ]
    },
    {
     "data": {
      "image/png": "[encoded data removed]",
      "text/plain": [
       "<Figure size 576x576 with 1 Axes>"
      ]
     },
     "metadata": {
      "needs_background": "light"
     },
     "output_type": "display_data"
    }
   ],
   "source": [
    "plot_ecdf(sample_full.target)"
   ]
  },
  {
   "cell_type": "markdown",
   "metadata": {},
   "source": [
    "# Boruta feature selection"
   ]
  },
  {
   "cell_type": "markdown",
   "metadata": {},
   "source": [
    "## imputation and encoding\n",
    "We first define a Pipeline that will be used before running Boruta"
   ]
  },
  {
   "cell_type": "code",
   "execution_count": 59,
   "metadata": {
    "ExecuteTime": {
     "end_time": "2019-06-27T16:40:03.448535Z",
     "start_time": "2019-06-27T16:40:03.396492Z"
    },
    "pycharm": {
     "is_executing": false,
     "name": "#%%\n"
    }
   },
   "outputs": [],
   "source": [
    "def make_preprocessor(sample: Sample, onehot: bool = True, missing: bool = True):\n",
    "    tx = []\n",
    "    # define how features should be preprocessed\n",
    "    tx.append((\"impute\", \n",
    "               SimpleImputerDF(strategy=\"median\"), \n",
    "               sample.features_by_type(Sample.DTYPE_NUMERICAL).columns))\n",
    "\n",
    "    if missing:\n",
    "        tx.append((\"missing\", \n",
    "                   MissingIndicatorDF(error_on_new=False), \n",
    "                   sample.features_by_type(Sample.DTYPE_NUMERICAL).columns))\n",
    "        \n",
    "    if onehot:\n",
    "        tx.append((\"onehot\", \n",
    "                   OneHotEncoderDF(sparse=False, handle_unknown=\"ignore\"),\n",
    "                   sample.features_by_type([Sample.DTYPE_CATEGORICAL]).columns))     \n",
    "\n",
    "    return ColumnTransformerDF(transformers=tx)\n",
    "\n",
    "outlier_transformers = [\n",
    "    ('outlier', TukeyOutlierRemoverDF(iqr_threshold=2), sample_full.features_by_type(Sample.DTYPE_NUMERICAL).columns),\n",
    "    ('rest', FunctionTransformerDF(validate=False), sample_full.features_by_type(Sample.DTYPE_OBJECT).columns)\n",
    "]\n",
    "outlier_step = ColumnTransformerDF(transformers=outlier_transformers)\n",
    "\n",
    "preprocessor = make_preprocessor(sample=sample_full, missing=True, onehot=True)"
   ]
  },
  {
   "cell_type": "markdown",
   "metadata": {},
   "source": [
    "## Feature selection (Boruta)"
   ]
  },
  {
   "cell_type": "code",
   "execution_count": 60,
   "metadata": {
    "ExecuteTime": {
     "end_time": "2019-06-27T16:40:04.450503Z",
     "start_time": "2019-06-27T16:40:04.444502Z"
    }
   },
   "outputs": [],
   "source": [
    "boruta_selector = PipelineDF(\n",
    "    steps = [\n",
    "        ('outlier_removal', outlier_step),\n",
    "        ('preprocess', preprocessor),\n",
    "        ('boruta', BorutaDF(estimator=RandomForestRegressor(max_depth=5,min_samples_leaf=8,\n",
    "                                                            random_state=42,n_jobs=-3),\n",
    "                             n_estimators='auto', verbose=2, max_iter=100, random_state=42))])"
   ]
  },
  {
   "cell_type": "code",
   "execution_count": 61,
   "metadata": {
    "ExecuteTime": {
     "end_time": "2019-06-27T16:41:01.662069Z",
     "start_time": "2019-06-27T16:40:07.488041Z"
    },
    "scrolled": true
   },
   "outputs": [
    {
     "name": "stdout",
     "output_type": "stream",
     "text": [
      "Iteration: \t1 / 100\n",
      "Confirmed: \t0\n",
      "Tentative: \t59\n",
      "Rejected: \t0\n",
      "Iteration: \t2 / 100\n",
      "Confirmed: \t0\n",
      "Tentative: \t59\n",
      "Rejected: \t0\n",
      "Iteration: \t3 / 100\n",
      "Confirmed: \t0\n",
      "Tentative: \t59\n",
      "Rejected: \t0\n",
      "Iteration: \t4 / 100\n",
      "Confirmed: \t0\n",
      "Tentative: \t59\n",
      "Rejected: \t0\n",
      "Iteration: \t5 / 100\n",
      "Confirmed: \t0\n",
      "Tentative: \t59\n",
      "Rejected: \t0\n",
      "Iteration: \t6 / 100\n",
      "Confirmed: \t0\n",
      "Tentative: \t59\n",
      "Rejected: \t0\n",
      "Iteration: \t7 / 100\n",
      "Confirmed: \t0\n",
      "Tentative: \t59\n",
      "Rejected: \t0\n",
      "Iteration: \t8 / 100\n",
      "Confirmed: \t17\n",
      "Tentative: \t6\n",
      "Rejected: \t36\n",
      "Iteration: \t9 / 100\n",
      "Confirmed: \t17\n",
      "Tentative: \t6\n",
      "Rejected: \t36\n",
      "Iteration: \t10 / 100\n",
      "Confirmed: \t17\n",
      "Tentative: \t6\n",
      "Rejected: \t36\n",
      "Iteration: \t11 / 100\n",
      "Confirmed: \t17\n",
      "Tentative: \t6\n",
      "Rejected: \t36\n",
      "Iteration: \t12 / 100\n",
      "Confirmed: \t17\n",
      "Tentative: \t6\n",
      "Rejected: \t36\n",
      "Iteration: \t13 / 100\n",
      "Confirmed: \t17\n",
      "Tentative: \t6\n",
      "Rejected: \t36\n",
      "Iteration: \t14 / 100\n",
      "Confirmed: \t17\n",
      "Tentative: \t6\n",
      "Rejected: \t36\n",
      "Iteration: \t15 / 100\n",
      "Confirmed: \t17\n",
      "Tentative: \t6\n",
      "Rejected: \t36\n",
      "Iteration: \t16 / 100\n",
      "Confirmed: \t17\n",
      "Tentative: \t6\n",
      "Rejected: \t36\n",
      "Iteration: \t17 / 100\n",
      "Confirmed: \t17\n",
      "Tentative: \t6\n",
      "Rejected: \t36\n",
      "Iteration: \t18 / 100\n",
      "Confirmed: \t17\n",
      "Tentative: \t6\n",
      "Rejected: \t36\n",
      "Iteration: \t19 / 100\n",
      "Confirmed: \t17\n",
      "Tentative: \t6\n",
      "Rejected: \t36\n",
      "Iteration: \t20 / 100\n",
      "Confirmed: \t17\n",
      "Tentative: \t5\n",
      "Rejected: \t37\n",
      "Iteration: \t21 / 100\n",
      "Confirmed: \t17\n",
      "Tentative: \t5\n",
      "Rejected: \t37\n",
      "Iteration: \t22 / 100\n",
      "Confirmed: \t17\n",
      "Tentative: \t5\n",
      "Rejected: \t37\n",
      "Iteration: \t23 / 100\n",
      "Confirmed: \t17\n",
      "Tentative: \t5\n",
      "Rejected: \t37\n",
      "Iteration: \t24 / 100\n",
      "Confirmed: \t17\n",
      "Tentative: \t5\n",
      "Rejected: \t37\n",
      "Iteration: \t25 / 100\n",
      "Confirmed: \t17\n",
      "Tentative: \t5\n",
      "Rejected: \t37\n",
      "Iteration: \t26 / 100\n",
      "Confirmed: \t17\n",
      "Tentative: \t5\n",
      "Rejected: \t37\n",
      "Iteration: \t27 / 100\n",
      "Confirmed: \t17\n",
      "Tentative: \t5\n",
      "Rejected: \t37\n",
      "Iteration: \t28 / 100\n",
      "Confirmed: \t17\n",
      "Tentative: \t5\n",
      "Rejected: \t37\n",
      "Iteration: \t29 / 100\n",
      "Confirmed: \t17\n",
      "Tentative: \t4\n",
      "Rejected: \t38\n",
      "Iteration: \t30 / 100\n",
      "Confirmed: \t17\n",
      "Tentative: \t4\n",
      "Rejected: \t38\n",
      "Iteration: \t31 / 100\n",
      "Confirmed: \t17\n",
      "Tentative: \t4\n",
      "Rejected: \t38\n",
      "Iteration: \t32 / 100\n",
      "Confirmed: \t18\n",
      "Tentative: \t3\n",
      "Rejected: \t38\n",
      "Iteration: \t33 / 100\n",
      "Confirmed: \t18\n",
      "Tentative: \t3\n",
      "Rejected: \t38\n",
      "Iteration: \t34 / 100\n",
      "Confirmed: \t18\n",
      "Tentative: \t3\n",
      "Rejected: \t38\n",
      "Iteration: \t35 / 100\n",
      "Confirmed: \t18\n",
      "Tentative: \t3\n",
      "Rejected: \t38\n",
      "Iteration: \t36 / 100\n",
      "Confirmed: \t18\n",
      "Tentative: \t3\n",
      "Rejected: \t38\n",
      "Iteration: \t37 / 100\n",
      "Confirmed: \t18\n",
      "Tentative: \t3\n",
      "Rejected: \t38\n",
      "Iteration: \t38 / 100\n",
      "Confirmed: \t18\n",
      "Tentative: \t3\n",
      "Rejected: \t38\n",
      "Iteration: \t39 / 100\n",
      "Confirmed: \t18\n",
      "Tentative: \t3\n",
      "Rejected: \t38\n",
      "Iteration: \t40 / 100\n",
      "Confirmed: \t18\n",
      "Tentative: \t3\n",
      "Rejected: \t38\n",
      "Iteration: \t41 / 100\n",
      "Confirmed: \t18\n",
      "Tentative: \t3\n",
      "Rejected: \t38\n",
      "Iteration: \t42 / 100\n",
      "Confirmed: \t18\n",
      "Tentative: \t3\n",
      "Rejected: \t38\n",
      "Iteration: \t43 / 100\n",
      "Confirmed: \t18\n",
      "Tentative: \t3\n",
      "Rejected: \t38\n",
      "Iteration: \t44 / 100\n",
      "Confirmed: \t18\n",
      "Tentative: \t3\n",
      "Rejected: \t38\n",
      "Iteration: \t45 / 100\n",
      "Confirmed: \t18\n",
      "Tentative: \t3\n",
      "Rejected: \t38\n",
      "Iteration: \t46 / 100\n",
      "Confirmed: \t18\n",
      "Tentative: \t3\n",
      "Rejected: \t38\n",
      "Iteration: \t47 / 100\n",
      "Confirmed: \t18\n",
      "Tentative: \t3\n",
      "Rejected: \t38\n",
      "Iteration: \t48 / 100\n",
      "Confirmed: \t18\n",
      "Tentative: \t3\n",
      "Rejected: \t38\n",
      "Iteration: \t49 / 100\n",
      "Confirmed: \t18\n",
      "Tentative: \t3\n",
      "Rejected: \t38\n",
      "Iteration: \t50 / 100\n",
      "Confirmed: \t18\n",
      "Tentative: \t3\n",
      "Rejected: \t38\n",
      "Iteration: \t51 / 100\n",
      "Confirmed: \t18\n",
      "Tentative: \t3\n",
      "Rejected: \t38\n",
      "Iteration: \t52 / 100\n",
      "Confirmed: \t18\n",
      "Tentative: \t3\n",
      "Rejected: \t38\n",
      "Iteration: \t53 / 100\n",
      "Confirmed: \t18\n",
      "Tentative: \t3\n",
      "Rejected: \t38\n",
      "Iteration: \t54 / 100\n",
      "Confirmed: \t18\n",
      "Tentative: \t3\n",
      "Rejected: \t38\n",
      "Iteration: \t55 / 100\n",
      "Confirmed: \t18\n",
      "Tentative: \t3\n",
      "Rejected: \t38\n",
      "Iteration: \t56 / 100\n",
      "Confirmed: \t18\n",
      "Tentative: \t3\n",
      "Rejected: \t38\n",
      "Iteration: \t57 / 100\n",
      "Confirmed: \t18\n",
      "Tentative: \t3\n",
      "Rejected: \t38\n",
      "Iteration: \t58 / 100\n",
      "Confirmed: \t18\n",
      "Tentative: \t3\n",
      "Rejected: \t38\n",
      "Iteration: \t59 / 100\n",
      "Confirmed: \t18\n",
      "Tentative: \t3\n",
      "Rejected: \t38\n",
      "Iteration: \t60 / 100\n",
      "Confirmed: \t18\n",
      "Tentative: \t3\n",
      "Rejected: \t38\n",
      "Iteration: \t61 / 100\n",
      "Confirmed: \t18\n",
      "Tentative: \t3\n",
      "Rejected: \t38\n",
      "Iteration: \t62 / 100\n",
      "Confirmed: \t18\n",
      "Tentative: \t3\n",
      "Rejected: \t38\n",
      "Iteration: \t63 / 100\n",
      "Confirmed: \t18\n",
      "Tentative: \t3\n",
      "Rejected: \t38\n",
      "Iteration: \t64 / 100\n",
      "Confirmed: \t18\n",
      "Tentative: \t3\n",
      "Rejected: \t38\n",
      "Iteration: \t65 / 100\n",
      "Confirmed: \t18\n",
      "Tentative: \t3\n",
      "Rejected: \t38\n",
      "Iteration: \t66 / 100\n",
      "Confirmed: \t18\n",
      "Tentative: \t3\n",
      "Rejected: \t38\n",
      "Iteration: \t67 / 100\n",
      "Confirmed: \t18\n",
      "Tentative: \t3\n",
      "Rejected: \t38\n",
      "Iteration: \t68 / 100\n",
      "Confirmed: \t18\n",
      "Tentative: \t3\n",
      "Rejected: \t38\n",
      "Iteration: \t69 / 100\n",
      "Confirmed: \t18\n",
      "Tentative: \t3\n",
      "Rejected: \t38\n",
      "Iteration: \t70 / 100\n",
      "Confirmed: \t18\n",
      "Tentative: \t3\n",
      "Rejected: \t38\n",
      "Iteration: \t71 / 100\n",
      "Confirmed: \t18\n",
      "Tentative: \t3\n",
      "Rejected: \t38\n",
      "Iteration: \t72 / 100\n",
      "Confirmed: \t18\n",
      "Tentative: \t3\n",
      "Rejected: \t38\n",
      "Iteration: \t73 / 100\n",
      "Confirmed: \t18\n",
      "Tentative: \t3\n",
      "Rejected: \t38\n",
      "Iteration: \t74 / 100\n",
      "Confirmed: \t18\n",
      "Tentative: \t3\n",
      "Rejected: \t38\n",
      "Iteration: \t75 / 100\n",
      "Confirmed: \t18\n",
      "Tentative: \t3\n",
      "Rejected: \t38\n",
      "Iteration: \t76 / 100\n",
      "Confirmed: \t18\n",
      "Tentative: \t3\n",
      "Rejected: \t38\n",
      "Iteration: \t77 / 100\n",
      "Confirmed: \t18\n",
      "Tentative: \t3\n",
      "Rejected: \t38\n",
      "Iteration: \t78 / 100\n",
      "Confirmed: \t18\n",
      "Tentative: \t3\n",
      "Rejected: \t38\n",
      "Iteration: \t79 / 100\n",
      "Confirmed: \t18\n",
      "Tentative: \t3\n",
      "Rejected: \t38\n",
      "Iteration: \t80 / 100\n",
      "Confirmed: \t18\n",
      "Tentative: \t3\n",
      "Rejected: \t38\n",
      "Iteration: \t81 / 100\n",
      "Confirmed: \t18\n",
      "Tentative: \t3\n",
      "Rejected: \t38\n",
      "Iteration: \t82 / 100\n",
      "Confirmed: \t18\n",
      "Tentative: \t3\n",
      "Rejected: \t38\n",
      "Iteration: \t83 / 100\n",
      "Confirmed: \t18\n",
      "Tentative: \t3\n",
      "Rejected: \t38\n",
      "Iteration: \t84 / 100\n",
      "Confirmed: \t18\n",
      "Tentative: \t3\n",
      "Rejected: \t38\n",
      "Iteration: \t85 / 100\n",
      "Confirmed: \t18\n",
      "Tentative: \t3\n",
      "Rejected: \t38\n",
      "Iteration: \t86 / 100\n",
      "Confirmed: \t18\n",
      "Tentative: \t3\n",
      "Rejected: \t38\n",
      "Iteration: \t87 / 100\n",
      "Confirmed: \t18\n",
      "Tentative: \t3\n",
      "Rejected: \t38\n",
      "Iteration: \t88 / 100\n",
      "Confirmed: \t18\n",
      "Tentative: \t3\n",
      "Rejected: \t38\n",
      "Iteration: \t89 / 100\n",
      "Confirmed: \t18\n",
      "Tentative: \t3\n",
      "Rejected: \t38\n",
      "Iteration: \t90 / 100\n",
      "Confirmed: \t18\n",
      "Tentative: \t3\n",
      "Rejected: \t38\n",
      "Iteration: \t91 / 100\n",
      "Confirmed: \t18\n",
      "Tentative: \t3\n",
      "Rejected: \t38\n",
      "Iteration: \t92 / 100\n",
      "Confirmed: \t18\n",
      "Tentative: \t3\n",
      "Rejected: \t38\n",
      "Iteration: \t93 / 100\n",
      "Confirmed: \t18\n",
      "Tentative: \t3\n",
      "Rejected: \t38\n",
      "Iteration: \t94 / 100\n",
      "Confirmed: \t18\n",
      "Tentative: \t3\n",
      "Rejected: \t38\n",
      "Iteration: \t95 / 100\n",
      "Confirmed: \t18\n",
      "Tentative: \t2\n",
      "Rejected: \t39\n",
      "Iteration: \t96 / 100\n",
      "Confirmed: \t18\n",
      "Tentative: \t2\n",
      "Rejected: \t39\n",
      "Iteration: \t97 / 100\n",
      "Confirmed: \t18\n",
      "Tentative: \t2\n",
      "Rejected: \t39\n",
      "Iteration: \t98 / 100\n",
      "Confirmed: \t18\n",
      "Tentative: \t2\n",
      "Rejected: \t39\n",
      "Iteration: \t99 / 100\n",
      "Confirmed: \t18\n",
      "Tentative: \t2\n",
      "Rejected: \t39\n",
      "\n",
      "\n",
      "BorutaPy finished running.\n",
      "\n",
      "Iteration: \t100 / 100\n",
      "Confirmed: \t18\n",
      "Tentative: \t1\n",
      "Rejected: \t39\n"
     ]
    }
   ],
   "source": [
    "boruta_selector.fit(sample_full.features, sample_full.target)"
   ]
  },
  {
   "cell_type": "code",
   "execution_count": 65,
   "metadata": {
    "ExecuteTime": {
     "end_time": "2019-06-27T16:41:50.550132Z",
     "start_time": "2019-06-27T16:41:50.515126Z"
    },
    "scrolled": true
   },
   "outputs": [
    {
     "name": "stdout",
     "output_type": "stream",
     "text": [
      "List of the features selected by Boruta:\n",
      "\n",
      "['1stFlrSF',\n",
      " '2ndFlrSF',\n",
      " 'BsmtFinSF1',\n",
      " 'BsmtUnfSF',\n",
      " 'Fireplaces',\n",
      " 'GarageArea',\n",
      " 'GarageCars',\n",
      " 'GrLivArea',\n",
      " 'KitchenAbvGr',\n",
      " 'LotArea',\n",
      " 'LotFrontage',\n",
      " 'MSSubClass',\n",
      " 'OverallCond',\n",
      " 'OverallQual',\n",
      " 'TotalBsmtSF',\n",
      " 'WoodDeckSF',\n",
      " 'YearBuilt',\n",
      " 'YearRemodAdd']\n"
     ]
    }
   ],
   "source": [
    "selected = sorted(list(set(boruta_selector.columns_original)))\n",
    "print(\"List of the features selected by Boruta:\\n\")\n",
    "pprint.pprint(list(selected))\n",
    "if selected is None:\n",
    "    raise Error(\"You need to specify a backup set of variables\")"
   ]
  },
  {
   "cell_type": "markdown",
   "metadata": {},
   "source": [
    "We then create a new sample object containing only the features selected by Boruta. \n",
    "- Before Boruta: 34 numercial features\n",
    "- After Boruta: 18 features"
   ]
  },
  {
   "cell_type": "code",
   "execution_count": 71,
   "metadata": {
    "ExecuteTime": {
     "end_time": "2019-06-27T16:52:13.093037Z",
     "start_time": "2019-06-27T16:52:13.084038Z"
    }
   },
   "outputs": [],
   "source": [
    "sample = sample_full.select_features(selected)"
   ]
  },
  {
   "cell_type": "markdown",
   "metadata": {},
   "source": [
    "## Data Visualization of numerical features and categorical features"
   ]
  },
  {
   "cell_type": "code",
   "execution_count": 72,
   "metadata": {
    "ExecuteTime": {
     "end_time": "2019-06-27T16:52:16.591581Z",
     "start_time": "2019-06-27T16:52:13.874519Z"
    },
    "scrolled": true
   },
   "outputs": [
    {
     "name": "stderr",
     "output_type": "stream",
     "text": [
      "DEBUG:matplotlib.axes._base:update_title_pos\n",
      "DEBUG:matplotlib.axes._base:update_title_pos\n",
      "DEBUG:matplotlib.axes._base:update_title_pos\n",
      "DEBUG:matplotlib.axes._base:update_title_pos\n"
     ]
    },
    {
     "data": {
      "image/png": "[encoded data removed]",
      "text/plain": [
       "<Figure size 576x576 with 1 Axes>"
      ]
     },
     "metadata": {
      "needs_background": "light"
     },
     "output_type": "display_data"
    },
    {
     "name": "stderr",
     "output_type": "stream",
     "text": [
      "DEBUG:matplotlib.axes._base:update_title_pos\n",
      "DEBUG:matplotlib.axes._base:update_title_pos\n",
      "DEBUG:matplotlib.axes._base:update_title_pos\n",
      "DEBUG:matplotlib.axes._base:update_title_pos\n"
     ]
    },
    {
     "data": {
      "image/png": "[encoded data removed]",
      "text/plain": [
       "<Figure size 576x576 with 1 Axes>"
      ]
     },
     "metadata": {
      "needs_background": "light"
     },
     "output_type": "display_data"
    },
    {
     "name": "stderr",
     "output_type": "stream",
     "text": [
      "DEBUG:matplotlib.axes._base:update_title_pos\n",
      "DEBUG:matplotlib.axes._base:update_title_pos\n",
      "DEBUG:matplotlib.axes._base:update_title_pos\n",
      "DEBUG:matplotlib.axes._base:update_title_pos\n"
     ]
    },
    {
     "data": {
      "image/png": "[encoded data removed]",
      "text/plain": [
       "<Figure size 576x576 with 1 Axes>"
      ]
     },
     "metadata": {
      "needs_background": "light"
     },
     "output_type": "display_data"
    },
    {
     "name": "stderr",
     "output_type": "stream",
     "text": [
      "DEBUG:matplotlib.axes._base:update_title_pos\n",
      "DEBUG:matplotlib.axes._base:update_title_pos\n",
      "DEBUG:matplotlib.axes._base:update_title_pos\n",
      "DEBUG:matplotlib.axes._base:update_title_pos\n"
     ]
    },
    {
     "data": {
      "image/png": "[encoded data removed]",
      "text/plain": [
       "<Figure size 576x576 with 1 Axes>"
      ]
     },
     "metadata": {
      "needs_background": "light"
     },
     "output_type": "display_data"
    },
    {
     "name": "stderr",
     "output_type": "stream",
     "text": [
      "DEBUG:matplotlib.axes._base:update_title_pos\n",
      "DEBUG:matplotlib.axes._base:update_title_pos\n",
      "DEBUG:matplotlib.axes._base:update_title_pos\n",
      "DEBUG:matplotlib.axes._base:update_title_pos\n"
     ]
    },
    {
     "data": {
      "image/png": "[encoded data removed]",
      "text/plain": [
       "<Figure size 576x576 with 1 Axes>"
      ]
     },
     "metadata": {
      "needs_background": "light"
     },
     "output_type": "display_data"
    },
    {
     "name": "stderr",
     "output_type": "stream",
     "text": [
      "DEBUG:matplotlib.axes._base:update_title_pos\n",
      "DEBUG:matplotlib.axes._base:update_title_pos\n",
      "DEBUG:matplotlib.axes._base:update_title_pos\n",
      "DEBUG:matplotlib.axes._base:update_title_pos\n"
     ]
    },
    {
     "data": {
      "image/png": "[encoded data removed]",
      "text/plain": [
       "<Figure size 576x576 with 1 Axes>"
      ]
     },
     "metadata": {
      "needs_background": "light"
     },
     "output_type": "display_data"
    },
    {
     "name": "stderr",
     "output_type": "stream",
     "text": [
      "DEBUG:matplotlib.axes._base:update_title_pos\n",
      "DEBUG:matplotlib.axes._base:update_title_pos\n",
      "DEBUG:matplotlib.axes._base:update_title_pos\n",
      "DEBUG:matplotlib.axes._base:update_title_pos\n"
     ]
    },
    {
     "data": {
      "image/png": "[encoded data removed]",
      "text/plain": [
       "<Figure size 576x576 with 1 Axes>"
      ]
     },
     "metadata": {
      "needs_background": "light"
     },
     "output_type": "display_data"
    },
    {
     "name": "stderr",
     "output_type": "stream",
     "text": [
      "DEBUG:matplotlib.axes._base:update_title_pos\n",
      "DEBUG:matplotlib.axes._base:update_title_pos\n",
      "DEBUG:matplotlib.axes._base:update_title_pos\n",
      "DEBUG:matplotlib.axes._base:update_title_pos\n"
     ]
    },
    {
     "data": {
      "image/png": "[encoded data removed]",
      "text/plain": [
       "<Figure size 576x576 with 1 Axes>"
      ]
     },
     "metadata": {
      "needs_background": "light"
     },
     "output_type": "display_data"
    },
    {
     "name": "stderr",
     "output_type": "stream",
     "text": [
      "DEBUG:matplotlib.axes._base:update_title_pos\n",
      "DEBUG:matplotlib.axes._base:update_title_pos\n",
      "DEBUG:matplotlib.axes._base:update_title_pos\n",
      "DEBUG:matplotlib.axes._base:update_title_pos\n"
     ]
    },
    {
     "data": {
      "image/png": "[encoded data removed]",
      "text/plain": [
       "<Figure size 576x576 with 1 Axes>"
      ]
     },
     "metadata": {
      "needs_background": "light"
     },
     "output_type": "display_data"
    },
    {
     "name": "stderr",
     "output_type": "stream",
     "text": [
      "DEBUG:matplotlib.axes._base:update_title_pos\n",
      "DEBUG:matplotlib.axes._base:update_title_pos\n",
      "DEBUG:matplotlib.axes._base:update_title_pos\n",
      "DEBUG:matplotlib.axes._base:update_title_pos\n"
     ]
    },
    {
     "data": {
      "image/png": "[encoded data removed]",
      "text/plain": [
       "<Figure size 576x576 with 1 Axes>"
      ]
     },
     "metadata": {
      "needs_background": "light"
     },
     "output_type": "display_data"
    },
    {
     "name": "stderr",
     "output_type": "stream",
     "text": [
      "DEBUG:matplotlib.axes._base:update_title_pos\n",
      "DEBUG:matplotlib.axes._base:update_title_pos\n",
      "DEBUG:matplotlib.axes._base:update_title_pos\n",
      "DEBUG:matplotlib.axes._base:update_title_pos\n"
     ]
    },
    {
     "data": {
      "image/png": "[encoded data removed]",
      "text/plain": [
       "<Figure size 576x576 with 1 Axes>"
      ]
     },
     "metadata": {
      "needs_background": "light"
     },
     "output_type": "display_data"
    },
    {
     "name": "stderr",
     "output_type": "stream",
     "text": [
      "DEBUG:matplotlib.axes._base:update_title_pos\n",
      "DEBUG:matplotlib.axes._base:update_title_pos\n",
      "DEBUG:matplotlib.axes._base:update_title_pos\n",
      "DEBUG:matplotlib.axes._base:update_title_pos\n"
     ]
    },
    {
     "data": {
      "image/png": "[encoded data removed]",
      "text/plain": [
       "<Figure size 576x576 with 1 Axes>"
      ]
     },
     "metadata": {
      "needs_background": "light"
     },
     "output_type": "display_data"
    },
    {
     "name": "stderr",
     "output_type": "stream",
     "text": [
      "DEBUG:matplotlib.axes._base:update_title_pos\n",
      "DEBUG:matplotlib.axes._base:update_title_pos\n",
      "DEBUG:matplotlib.axes._base:update_title_pos\n",
      "DEBUG:matplotlib.axes._base:update_title_pos\n"
     ]
    },
    {
     "data": {
      "image/png": "[encoded data removed]",
      "text/plain": [
       "<Figure size 576x576 with 1 Axes>"
      ]
     },
     "metadata": {
      "needs_background": "light"
     },
     "output_type": "display_data"
    },
    {
     "name": "stderr",
     "output_type": "stream",
     "text": [
      "DEBUG:matplotlib.axes._base:update_title_pos\n",
      "DEBUG:matplotlib.axes._base:update_title_pos\n",
      "DEBUG:matplotlib.axes._base:update_title_pos\n",
      "DEBUG:matplotlib.axes._base:update_title_pos\n"
     ]
    },
    {
     "data": {
      "image/png": "[encoded data removed]",
      "text/plain": [
       "<Figure size 576x576 with 1 Axes>"
      ]
     },
     "metadata": {
      "needs_background": "light"
     },
     "output_type": "display_data"
    },
    {
     "name": "stderr",
     "output_type": "stream",
     "text": [
      "DEBUG:matplotlib.axes._base:update_title_pos\n",
      "DEBUG:matplotlib.axes._base:update_title_pos\n",
      "DEBUG:matplotlib.axes._base:update_title_pos\n",
      "DEBUG:matplotlib.axes._base:update_title_pos\n"
     ]
    },
    {
     "data": {
      "image/png": "[encoded data removed]",
      "text/plain": [
       "<Figure size 576x576 with 1 Axes>"
      ]
     },
     "metadata": {
      "needs_background": "light"
     },
     "output_type": "display_data"
    },
    {
     "name": "stderr",
     "output_type": "stream",
     "text": [
      "DEBUG:matplotlib.axes._base:update_title_pos\n",
      "DEBUG:matplotlib.axes._base:update_title_pos\n",
      "DEBUG:matplotlib.axes._base:update_title_pos\n",
      "DEBUG:matplotlib.axes._base:update_title_pos\n"
     ]
    },
    {
     "data": {
      "image/png": "[encoded data removed]",
      "text/plain": [
       "<Figure size 576x576 with 1 Axes>"
      ]
     },
     "metadata": {
      "needs_background": "light"
     },
     "output_type": "display_data"
    },
    {
     "name": "stderr",
     "output_type": "stream",
     "text": [
      "DEBUG:matplotlib.axes._base:update_title_pos\n",
      "DEBUG:matplotlib.axes._base:update_title_pos\n",
      "DEBUG:matplotlib.axes._base:update_title_pos\n",
      "DEBUG:matplotlib.axes._base:update_title_pos\n"
     ]
    },
    {
     "data": {
      "image/png": "[encoded data removed]",
      "text/plain": [
       "<Figure size 576x576 with 1 Axes>"
      ]
     },
     "metadata": {
      "needs_background": "light"
     },
     "output_type": "display_data"
    },
    {
     "name": "stderr",
     "output_type": "stream",
     "text": [
      "DEBUG:matplotlib.axes._base:update_title_pos\n",
      "DEBUG:matplotlib.axes._base:update_title_pos\n",
      "DEBUG:matplotlib.axes._base:update_title_pos\n",
      "DEBUG:matplotlib.axes._base:update_title_pos\n"
     ]
    },
    {
     "data": {
      "image/png": "[encoded data removed]",
      "text/plain": [
       "<Figure size 576x576 with 1 Axes>"
      ]
     },
     "metadata": {
      "needs_background": "light"
     },
     "output_type": "display_data"
    }
   ],
   "source": [
    "plot_ecdf_df(sample.features)"
   ]
  },
  {
   "cell_type": "markdown",
   "metadata": {},
   "source": [
    "# Model training\n"
   ]
  },
  {
   "cell_type": "markdown",
   "metadata": {},
   "source": [
    "## Grid search and cross validator"
   ]
  },
  {
   "cell_type": "code",
   "execution_count": 74,
   "metadata": {
    "ExecuteTime": {
     "end_time": "2019-06-27T16:52:29.047936Z",
     "start_time": "2019-06-27T16:52:29.045936Z"
    },
    "pycharm": {
     "is_executing": false,
     "name": "#%%\n"
    }
   },
   "outputs": [],
   "source": [
    "# define the circular cross validator with 30 folds\n",
    "circular_cv = CircularCrossValidator(test_ratio=1/3, num_splits=3)"
   ]
  },
  {
   "cell_type": "code",
   "execution_count": 119,
   "metadata": {
    "ExecuteTime": {
     "end_time": "2019-06-27T17:11:33.274987Z",
     "start_time": "2019-06-27T17:11:33.255947Z"
    },
    "pycharm": {
     "is_executing": false,
     "name": "#%%\n"
    }
   },
   "outputs": [],
   "source": [
    "def get_model_grids():\n",
    "    girds = [ModelGrid(\n",
    "         model=Model(estimator=RandomForestRegressor(random_state=42),\n",
    "                     preprocessing=make_preprocessor(sample=sample, missing=False)),\n",
    "         estimator_parameters = {\"n_estimators\": [1000],\n",
    "                                 \"max_depth\": [4,5,6],\n",
    "                                 \"min_samples_leaf\": [4],\n",
    "                                 \"criterion\": [\"mse\"], #[\"mae\",\"mse\"],\n",
    "                                 \"max_features\": [0.4, 0.7, 1.0]})]\n",
    "    return grids\n",
    "grids = get_model_grids()"
   ]
  },
  {
   "cell_type": "code",
   "execution_count": 80,
   "metadata": {
    "ExecuteTime": {
     "end_time": "2019-06-27T16:54:42.835058Z",
     "start_time": "2019-06-27T16:54:28.054410Z"
    },
    "pycharm": {
     "is_executing": false,
     "name": "#%%\n"
    }
   },
   "outputs": [
    {
     "name": "stdout",
     "output_type": "stream",
     "text": [
      "Rank  1: RandomForestRegressor, Score=    0.831, test_score_mean=    0.845, test_score_std=  0.00704, , Parameters={estimator__criterion=mse,estimator__max_depth=6,estimator__max_features=0.7,estimator__min_samples_leaf=4,estimator__n_estimators=1000}\n",
      "\n",
      "Rank  2: RandomForestRegressor, Score=    0.831, test_score_mean=    0.846, test_score_std=  0.00769, , Parameters={estimator__criterion=mse,estimator__max_depth=6,estimator__max_features=0.4,estimator__min_samples_leaf=4,estimator__n_estimators=1000}\n",
      "\n",
      "Rank  3: RandomForestRegressor, Score=     0.83, test_score_mean=    0.837, test_score_std=   0.0038, , Parameters={estimator__criterion=mse,estimator__max_depth=6,estimator__max_features=1.0,estimator__min_samples_leaf=4,estimator__n_estimators=1000}\n",
      "\n",
      "Rank  4: RandomForestRegressor, Score=    0.818, test_score_mean=    0.834, test_score_std=  0.00785, , Parameters={estimator__criterion=mse,estimator__max_depth=5,estimator__max_features=0.4,estimator__min_samples_leaf=4,estimator__n_estimators=1000}\n",
      "\n",
      "Rank  5: RandomForestRegressor, Score=    0.818, test_score_mean=    0.833, test_score_std=  0.00755, , Parameters={estimator__criterion=mse,estimator__max_depth=5,estimator__max_features=0.7,estimator__min_samples_leaf=4,estimator__n_estimators=1000}\n",
      "\n",
      "Rank  6: RandomForestRegressor, Score=    0.814, test_score_mean=    0.823, test_score_std=  0.00411, , Parameters={estimator__criterion=mse,estimator__max_depth=5,estimator__max_features=1.0,estimator__min_samples_leaf=4,estimator__n_estimators=1000}\n",
      "\n",
      "Rank  7: RandomForestRegressor, Score=      0.8, test_score_mean=    0.811, test_score_std=  0.00529, , Parameters={estimator__criterion=mse,estimator__max_depth=4,estimator__max_features=0.4,estimator__min_samples_leaf=4,estimator__n_estimators=1000}\n",
      "\n",
      "Rank  8: RandomForestRegressor, Score=    0.796, test_score_mean=    0.809, test_score_std=  0.00641, , Parameters={estimator__criterion=mse,estimator__max_depth=4,estimator__max_features=0.7,estimator__min_samples_leaf=4,estimator__n_estimators=1000}\n",
      "\n",
      "Rank  9: RandomForestRegressor, Score=    0.788, test_score_mean=    0.796, test_score_std=  0.00429, , Parameters={estimator__criterion=mse,estimator__max_depth=4,estimator__max_features=1.0,estimator__min_samples_leaf=4,estimator__n_estimators=1000}\n",
      "\n"
     ]
    }
   ],
   "source": [
    "ranker = ModelRanker(grids=grids, cv=circular_cv)\n",
    "\n",
    "ranking = ranker.run(sample, n_jobs=-3)\n",
    "\n",
    "print(summary_report(ranking))"
   ]
  },
  {
   "cell_type": "code",
   "execution_count": 81,
   "metadata": {
    "ExecuteTime": {
     "end_time": "2019-06-27T16:54:42.844089Z",
     "start_time": "2019-06-27T16:54:42.838055Z"
    }
   },
   "outputs": [
    {
     "data": {
      "text/plain": [
       "<yieldengine.model.selection.ModelScoring at 0x25e03605588>"
      ]
     },
     "execution_count": 81,
     "metadata": {},
     "output_type": "execute_result"
    }
   ],
   "source": [
    "top_model = ranking[0]\n",
    "top_model.scoring['test_score']"
   ]
  },
  {
   "cell_type": "code",
   "execution_count": 82,
   "metadata": {
    "ExecuteTime": {
     "end_time": "2019-06-27T16:54:42.859058Z",
     "start_time": "2019-06-27T16:54:42.846058Z"
    },
    "scrolled": true
   },
   "outputs": [
    {
     "name": "stdout",
     "output_type": "stream",
     "text": [
      "{'estimator__criterion': 'mse', 'estimator__max_depth': 6, 'estimator__max_features': 0.7, 'estimator__min_samples_leaf': 4, 'estimator__n_estimators': 1000}\n"
     ]
    }
   ],
   "source": [
    "print(top_model.parameters)"
   ]
  },
  {
   "cell_type": "markdown",
   "metadata": {},
   "source": [
    "## Model inspection"
   ]
  },
  {
   "cell_type": "code",
   "execution_count": 85,
   "metadata": {
    "ExecuteTime": {
     "end_time": "2019-06-27T16:54:43.294063Z",
     "start_time": "2019-06-27T16:54:43.288064Z"
    }
   },
   "outputs": [],
   "source": [
    "predictor = PredictorCV(model=top_model.model, cv=circular_cv, sample=sample)\n",
    "\n",
    "inspector = ModelInspector(predictor)\n",
    "\n",
    "predictions = predictor.predictions_for_all_samples()"
   ]
  },
  {
   "cell_type": "code",
   "execution_count": 106,
   "metadata": {
    "ExecuteTime": {
     "end_time": "2019-06-27T17:00:30.614610Z",
     "start_time": "2019-06-27T17:00:30.443582Z"
    },
    "scrolled": false
   },
   "outputs": [
    {
     "data": {
      "image/png": "[encoded data removed]",
      "text/plain": [
       "<Figure size 576x576 with 1 Axes>"
      ]
     },
     "metadata": {
      "needs_background": "light"
     },
     "output_type": "display_data"
    }
   ],
   "source": [
    "plt.scatter(sample.target.sort_index(), \n",
    "            predictions.groupby(predictions.index)['prediction'].mean().sort_index(), alpha=.3)\n",
    "plt.xlabel('actual')\n",
    "plt.ylabel('predicted');"
   ]
  },
  {
   "cell_type": "code",
   "execution_count": 107,
   "metadata": {
    "ExecuteTime": {
     "end_time": "2019-06-27T17:00:33.193797Z",
     "start_time": "2019-06-27T17:00:33.008752Z"
    }
   },
   "outputs": [
    {
     "data": {
      "image/png": "[encoded data removed]",
      "text/plain": [
       "<Figure size 576x576 with 1 Axes>"
      ]
     },
     "metadata": {
      "needs_background": "light"
     },
     "output_type": "display_data"
    }
   ],
   "source": [
    "predictions['error'] = (predictions['target'] - predictions['prediction'])\n",
    "plt.scatter(x=predictions.index.values, y=predictions['error'].values, alpha=.2)\n",
    "plt.xlabel(\"House index (ordered by sold date)\")\n",
    "plt.ylabel(\"Prediction error\")\n",
    "plt.axhline(0);"
   ]
  },
  {
   "cell_type": "code",
   "execution_count": 91,
   "metadata": {
    "ExecuteTime": {
     "end_time": "2019-06-27T16:55:01.773955Z",
     "start_time": "2019-06-27T16:54:49.736494Z"
    }
   },
   "outputs": [],
   "source": [
    "M = inspector.shap_matrix()"
   ]
  },
  {
   "cell_type": "code",
   "execution_count": 108,
   "metadata": {
    "ExecuteTime": {
     "end_time": "2019-06-27T17:00:52.598611Z",
     "start_time": "2019-06-27T17:00:52.595649Z"
    },
    "scrolled": true
   },
   "outputs": [],
   "source": [
    "# number_features = predictor.sample.features.shape[1]\n",
    "# _ = M.plot(subplots=True, figsize=(10, number_features*7))"
   ]
  },
  {
   "cell_type": "code",
   "execution_count": 109,
   "metadata": {
    "ExecuteTime": {
     "end_time": "2019-06-27T17:01:13.034423Z",
     "start_time": "2019-06-27T17:01:13.022422Z"
    }
   },
   "outputs": [
    {
     "data": {
      "text/html": [
       "<div>\n",
       "<style scoped>\n",
       "    .dataframe tbody tr th:only-of-type {\n",
       "        vertical-align: middle;\n",
       "    }\n",
       "\n",
       "    .dataframe tbody tr th {\n",
       "        vertical-align: top;\n",
       "    }\n",
       "\n",
       "    .dataframe thead th {\n",
       "        text-align: right;\n",
       "    }\n",
       "</style>\n",
       "<table border=\"1\" class=\"dataframe\">\n",
       "  <thead>\n",
       "    <tr style=\"text-align: right;\">\n",
       "      <th></th>\n",
       "      <th>0</th>\n",
       "      <th>1</th>\n",
       "      <th>2</th>\n",
       "      <th>3</th>\n",
       "      <th>4</th>\n",
       "    </tr>\n",
       "    <tr>\n",
       "      <th>column</th>\n",
       "      <th></th>\n",
       "      <th></th>\n",
       "      <th></th>\n",
       "      <th></th>\n",
       "      <th></th>\n",
       "    </tr>\n",
       "  </thead>\n",
       "  <tbody>\n",
       "    <tr>\n",
       "      <th>1stFlrSF</th>\n",
       "      <td>-2748.188060</td>\n",
       "      <td>2983.149450</td>\n",
       "      <td>-2258.550002</td>\n",
       "      <td>-3093.900007</td>\n",
       "      <td>531.416705</td>\n",
       "    </tr>\n",
       "    <tr>\n",
       "      <th>2ndFlrSF</th>\n",
       "      <td>752.108219</td>\n",
       "      <td>-1188.138812</td>\n",
       "      <td>819.783176</td>\n",
       "      <td>-447.460011</td>\n",
       "      <td>3386.220401</td>\n",
       "    </tr>\n",
       "    <tr>\n",
       "      <th>BsmtFinSF1</th>\n",
       "      <td>763.092080</td>\n",
       "      <td>3136.608865</td>\n",
       "      <td>-898.157972</td>\n",
       "      <td>-3064.487671</td>\n",
       "      <td>175.156862</td>\n",
       "    </tr>\n",
       "    <tr>\n",
       "      <th>BsmtUnfSF</th>\n",
       "      <td>467.312206</td>\n",
       "      <td>379.277383</td>\n",
       "      <td>396.178190</td>\n",
       "      <td>-86.857514</td>\n",
       "      <td>1470.914752</td>\n",
       "    </tr>\n",
       "    <tr>\n",
       "      <th>Fireplaces</th>\n",
       "      <td>-1063.046071</td>\n",
       "      <td>2627.754803</td>\n",
       "      <td>855.321433</td>\n",
       "      <td>2141.824529</td>\n",
       "      <td>1310.581478</td>\n",
       "    </tr>\n",
       "    <tr>\n",
       "      <th>GarageArea</th>\n",
       "      <td>750.894693</td>\n",
       "      <td>-452.582308</td>\n",
       "      <td>3138.644135</td>\n",
       "      <td>1416.178441</td>\n",
       "      <td>8692.516009</td>\n",
       "    </tr>\n",
       "    <tr>\n",
       "      <th>GarageCars</th>\n",
       "      <td>1218.655150</td>\n",
       "      <td>1812.273503</td>\n",
       "      <td>1189.963209</td>\n",
       "      <td>4745.334339</td>\n",
       "      <td>3038.544800</td>\n",
       "    </tr>\n",
       "    <tr>\n",
       "      <th>GrLivArea</th>\n",
       "      <td>6185.835142</td>\n",
       "      <td>-7820.114307</td>\n",
       "      <td>9871.603802</td>\n",
       "      <td>9088.670230</td>\n",
       "      <td>30706.114004</td>\n",
       "    </tr>\n",
       "    <tr>\n",
       "      <th>KitchenAbvGr</th>\n",
       "      <td>78.832007</td>\n",
       "      <td>130.324290</td>\n",
       "      <td>76.564670</td>\n",
       "      <td>139.765012</td>\n",
       "      <td>75.824507</td>\n",
       "    </tr>\n",
       "    <tr>\n",
       "      <th>LotArea</th>\n",
       "      <td>-1837.624749</td>\n",
       "      <td>-318.820264</td>\n",
       "      <td>1881.826298</td>\n",
       "      <td>193.697651</td>\n",
       "      <td>5345.821587</td>\n",
       "    </tr>\n",
       "    <tr>\n",
       "      <th>LotFrontage</th>\n",
       "      <td>-225.699583</td>\n",
       "      <td>552.773873</td>\n",
       "      <td>29.561658</td>\n",
       "      <td>-1599.809255</td>\n",
       "      <td>806.639868</td>\n",
       "    </tr>\n",
       "    <tr>\n",
       "      <th>MSSubClass</th>\n",
       "      <td>1109.663102</td>\n",
       "      <td>11.619258</td>\n",
       "      <td>1049.074222</td>\n",
       "      <td>-111.816383</td>\n",
       "      <td>358.815681</td>\n",
       "    </tr>\n",
       "    <tr>\n",
       "      <th>OverallCond</th>\n",
       "      <td>-212.821699</td>\n",
       "      <td>1401.030871</td>\n",
       "      <td>-259.601782</td>\n",
       "      <td>-638.370825</td>\n",
       "      <td>-421.276349</td>\n",
       "    </tr>\n",
       "    <tr>\n",
       "      <th>OverallQual</th>\n",
       "      <td>20122.290530</td>\n",
       "      <td>-10301.358572</td>\n",
       "      <td>20300.083392</td>\n",
       "      <td>26483.272464</td>\n",
       "      <td>49275.636516</td>\n",
       "    </tr>\n",
       "    <tr>\n",
       "      <th>TotalBsmtSF</th>\n",
       "      <td>-6151.082996</td>\n",
       "      <td>5326.062502</td>\n",
       "      <td>-5981.442833</td>\n",
       "      <td>-8991.417630</td>\n",
       "      <td>4384.985599</td>\n",
       "    </tr>\n",
       "    <tr>\n",
       "      <th>WoodDeckSF</th>\n",
       "      <td>-710.360469</td>\n",
       "      <td>981.989105</td>\n",
       "      <td>-822.916801</td>\n",
       "      <td>-482.840692</td>\n",
       "      <td>526.698348</td>\n",
       "    </tr>\n",
       "    <tr>\n",
       "      <th>YearBuilt</th>\n",
       "      <td>10828.982258</td>\n",
       "      <td>-3631.789034</td>\n",
       "      <td>9691.766834</td>\n",
       "      <td>-10461.460162</td>\n",
       "      <td>11891.437016</td>\n",
       "    </tr>\n",
       "    <tr>\n",
       "      <th>YearRemodAdd</th>\n",
       "      <td>1337.440558</td>\n",
       "      <td>-1386.804426</td>\n",
       "      <td>1203.683688</td>\n",
       "      <td>-3716.463553</td>\n",
       "      <td>1352.093178</td>\n",
       "    </tr>\n",
       "  </tbody>\n",
       "</table>\n",
       "</div>"
      ],
      "text/plain": [
       "                         0             1             2             3  \\\n",
       "column                                                                 \n",
       "1stFlrSF      -2748.188060   2983.149450  -2258.550002  -3093.900007   \n",
       "2ndFlrSF        752.108219  -1188.138812    819.783176   -447.460011   \n",
       "BsmtFinSF1      763.092080   3136.608865   -898.157972  -3064.487671   \n",
       "BsmtUnfSF       467.312206    379.277383    396.178190    -86.857514   \n",
       "Fireplaces    -1063.046071   2627.754803    855.321433   2141.824529   \n",
       "GarageArea      750.894693   -452.582308   3138.644135   1416.178441   \n",
       "GarageCars     1218.655150   1812.273503   1189.963209   4745.334339   \n",
       "GrLivArea      6185.835142  -7820.114307   9871.603802   9088.670230   \n",
       "KitchenAbvGr     78.832007    130.324290     76.564670    139.765012   \n",
       "LotArea       -1837.624749   -318.820264   1881.826298    193.697651   \n",
       "LotFrontage    -225.699583    552.773873     29.561658  -1599.809255   \n",
       "MSSubClass     1109.663102     11.619258   1049.074222   -111.816383   \n",
       "OverallCond    -212.821699   1401.030871   -259.601782   -638.370825   \n",
       "OverallQual   20122.290530 -10301.358572  20300.083392  26483.272464   \n",
       "TotalBsmtSF   -6151.082996   5326.062502  -5981.442833  -8991.417630   \n",
       "WoodDeckSF     -710.360469    981.989105   -822.916801   -482.840692   \n",
       "YearBuilt     10828.982258  -3631.789034   9691.766834 -10461.460162   \n",
       "YearRemodAdd   1337.440558  -1386.804426   1203.683688  -3716.463553   \n",
       "\n",
       "                         4  \n",
       "column                      \n",
       "1stFlrSF        531.416705  \n",
       "2ndFlrSF       3386.220401  \n",
       "BsmtFinSF1      175.156862  \n",
       "BsmtUnfSF      1470.914752  \n",
       "Fireplaces     1310.581478  \n",
       "GarageArea     8692.516009  \n",
       "GarageCars     3038.544800  \n",
       "GrLivArea     30706.114004  \n",
       "KitchenAbvGr     75.824507  \n",
       "LotArea        5345.821587  \n",
       "LotFrontage     806.639868  \n",
       "MSSubClass      358.815681  \n",
       "OverallCond    -421.276349  \n",
       "OverallQual   49275.636516  \n",
       "TotalBsmtSF    4384.985599  \n",
       "WoodDeckSF      526.698348  \n",
       "YearBuilt     11891.437016  \n",
       "YearRemodAdd   1352.093178  "
      ]
     },
     "execution_count": 109,
     "metadata": {},
     "output_type": "execute_result"
    }
   ],
   "source": [
    "inspector.shap_matrix().head().T"
   ]
  },
  {
   "cell_type": "code",
   "execution_count": 111,
   "metadata": {
    "ExecuteTime": {
     "end_time": "2019-06-27T17:01:25.613357Z",
     "start_time": "2019-06-27T17:01:25.455320Z"
    }
   },
   "outputs": [
    {
     "data": {
      "text/plain": [
       "<matplotlib.collections.QuadMesh at 0x25e066df5c0>"
      ]
     },
     "execution_count": 111,
     "metadata": {},
     "output_type": "execute_result"
    },
    {
     "data": {
      "image/png": "[encoded data removed]",
      "text/plain": [
       "<Figure size 576x576 with 1 Axes>"
      ]
     },
     "metadata": {
      "needs_background": "light"
     },
     "output_type": "display_data"
    }
   ],
   "source": [
    "depm = inspector.feature_dependency_matrix()\n",
    "plt.pcolormesh(depm)"
   ]
  },
  {
   "cell_type": "code",
   "execution_count": 112,
   "metadata": {
    "ExecuteTime": {
     "end_time": "2019-06-27T17:01:29.171146Z",
     "start_time": "2019-06-27T17:01:29.161143Z"
    },
    "scrolled": true
   },
   "outputs": [
    {
     "data": {
      "text/html": [
       "<div>\n",
       "<style scoped>\n",
       "    .dataframe tbody tr th:only-of-type {\n",
       "        vertical-align: middle;\n",
       "    }\n",
       "\n",
       "    .dataframe tbody tr th {\n",
       "        vertical-align: top;\n",
       "    }\n",
       "\n",
       "    .dataframe thead th {\n",
       "        text-align: right;\n",
       "    }\n",
       "</style>\n",
       "<table border=\"1\" class=\"dataframe\">\n",
       "  <thead>\n",
       "    <tr style=\"text-align: right;\">\n",
       "      <th></th>\n",
       "      <th>0</th>\n",
       "    </tr>\n",
       "    <tr>\n",
       "      <th>column</th>\n",
       "      <th></th>\n",
       "    </tr>\n",
       "  </thead>\n",
       "  <tbody>\n",
       "    <tr>\n",
       "      <th>OverallQual</th>\n",
       "      <td>0.317524</td>\n",
       "    </tr>\n",
       "    <tr>\n",
       "      <th>GrLivArea</th>\n",
       "      <td>0.209175</td>\n",
       "    </tr>\n",
       "    <tr>\n",
       "      <th>YearBuilt</th>\n",
       "      <td>0.096411</td>\n",
       "    </tr>\n",
       "    <tr>\n",
       "      <th>TotalBsmtSF</th>\n",
       "      <td>0.078817</td>\n",
       "    </tr>\n",
       "    <tr>\n",
       "      <th>GarageArea</th>\n",
       "      <td>0.042953</td>\n",
       "    </tr>\n",
       "    <tr>\n",
       "      <th>BsmtFinSF1</th>\n",
       "      <td>0.040624</td>\n",
       "    </tr>\n",
       "    <tr>\n",
       "      <th>1stFlrSF</th>\n",
       "      <td>0.039895</td>\n",
       "    </tr>\n",
       "    <tr>\n",
       "      <th>GarageCars</th>\n",
       "      <td>0.030887</td>\n",
       "    </tr>\n",
       "    <tr>\n",
       "      <th>LotArea</th>\n",
       "      <td>0.030637</td>\n",
       "    </tr>\n",
       "    <tr>\n",
       "      <th>Fireplaces</th>\n",
       "      <td>0.025894</td>\n",
       "    </tr>\n",
       "    <tr>\n",
       "      <th>YearRemodAdd</th>\n",
       "      <td>0.025333</td>\n",
       "    </tr>\n",
       "    <tr>\n",
       "      <th>2ndFlrSF</th>\n",
       "      <td>0.018392</td>\n",
       "    </tr>\n",
       "    <tr>\n",
       "      <th>OverallCond</th>\n",
       "      <td>0.011444</td>\n",
       "    </tr>\n",
       "    <tr>\n",
       "      <th>LotFrontage</th>\n",
       "      <td>0.010069</td>\n",
       "    </tr>\n",
       "    <tr>\n",
       "      <th>WoodDeckSF</th>\n",
       "      <td>0.008092</td>\n",
       "    </tr>\n",
       "    <tr>\n",
       "      <th>BsmtUnfSF</th>\n",
       "      <td>0.006380</td>\n",
       "    </tr>\n",
       "    <tr>\n",
       "      <th>MSSubClass</th>\n",
       "      <td>0.004874</td>\n",
       "    </tr>\n",
       "    <tr>\n",
       "      <th>KitchenAbvGr</th>\n",
       "      <td>0.002599</td>\n",
       "    </tr>\n",
       "  </tbody>\n",
       "</table>\n",
       "</div>"
      ],
      "text/plain": [
       "                     0\n",
       "column                \n",
       "OverallQual   0.317524\n",
       "GrLivArea     0.209175\n",
       "YearBuilt     0.096411\n",
       "TotalBsmtSF   0.078817\n",
       "GarageArea    0.042953\n",
       "BsmtFinSF1    0.040624\n",
       "1stFlrSF      0.039895\n",
       "GarageCars    0.030887\n",
       "LotArea       0.030637\n",
       "Fireplaces    0.025894\n",
       "YearRemodAdd  0.025333\n",
       "2ndFlrSF      0.018392\n",
       "OverallCond   0.011444\n",
       "LotFrontage   0.010069\n",
       "WoodDeckSF    0.008092\n",
       "BsmtUnfSF     0.006380\n",
       "MSSubClass    0.004874\n",
       "KitchenAbvGr  0.002599"
      ]
     },
     "execution_count": 112,
     "metadata": {},
     "output_type": "execute_result"
    }
   ],
   "source": [
    "inspector.feature_importances().sort_values(ascending=False).to_frame()"
   ]
  },
  {
   "cell_type": "markdown",
   "metadata": {},
   "source": [
    "## Shap clustering"
   ]
  },
  {
   "cell_type": "code",
   "execution_count": 113,
   "metadata": {
    "ExecuteTime": {
     "end_time": "2019-06-27T17:02:19.055330Z",
     "start_time": "2019-06-27T17:02:19.043332Z"
    }
   },
   "outputs": [],
   "source": [
    "linkage_tree = inspector.cluster_dependent_features()"
   ]
  },
  {
   "cell_type": "code",
   "execution_count": 115,
   "metadata": {
    "ExecuteTime": {
     "end_time": "2019-06-27T17:02:26.754704Z",
     "start_time": "2019-06-27T17:02:26.193657Z"
    },
    "scrolled": false
   },
   "outputs": [
    {
     "data": {
      "image/png": "[encoded data removed]",
      "text/plain": [
       "<Figure size 720x648 with 2 Axes>"
      ]
     },
     "metadata": {
      "needs_background": "light"
     },
     "output_type": "display_data"
    }
   ],
   "source": [
    "ax = plt.figure(figsize=(10,number_features*.5)).add_subplot(111)\n",
    "style = FeatMapStyle(ax)\n",
    "DendrogramDrawer(title=TARGET, linkage_tree=linkage_tree, style=style).draw()"
   ]
  },
  {
   "cell_type": "code",
   "execution_count": 116,
   "metadata": {
    "ExecuteTime": {
     "end_time": "2019-06-27T17:02:28.010104Z",
     "start_time": "2019-06-27T17:02:27.611099Z"
    }
   },
   "outputs": [
    {
     "data": {
      "image/png": "[encoded data removed]",
      "text/plain": [
       "<Figure size 720x648 with 2 Axes>"
      ]
     },
     "metadata": {
      "needs_background": "light"
     },
     "output_type": "display_data"
    }
   ],
   "source": [
    "ax = plt.figure(figsize=(10,number_features*0.5)).add_subplot(111)\n",
    "style = LineStyle(ax)\n",
    "DendrogramDrawer(title=TARGET, linkage_tree=linkage_tree, style=style).draw()"
   ]
  },
  {
   "cell_type": "markdown",
   "metadata": {},
   "source": [
    "# Shap clustering iteration 1"
   ]
  },
  {
   "cell_type": "code",
   "execution_count": null,
   "metadata": {
    "ExecuteTime": {
     "end_time": "2019-06-27T15:29:03.070980Z",
     "start_time": "2019-06-27T15:29:03.065979Z"
    }
   },
   "outputs": [],
   "source": [
    "features1 = sample.feature_names"
   ]
  },
  {
   "cell_type": "code",
   "execution_count": null,
   "metadata": {
    "ExecuteTime": {
     "end_time": "2019-06-27T15:29:03.089979Z",
     "start_time": "2019-06-27T15:29:03.073983Z"
    }
   },
   "outputs": [],
   "source": [
    "black_list1 = ['WoodDeckSF', \n",
    "               #'BsmtFinSF1', \n",
    "               'BsmtUnfSF', \n",
    "               'MasVnrArea',\n",
    "               'LotFrontage']"
   ]
  },
  {
   "cell_type": "code",
   "execution_count": null,
   "metadata": {
    "ExecuteTime": {
     "end_time": "2019-06-27T15:31:50.922099Z",
     "start_time": "2019-06-27T15:31:50.916097Z"
    }
   },
   "outputs": [],
   "source": [
    "if not set(black_list1) <= features1:\n",
    "    log.warning(f\"\"\"The black list must be a subset of the set of features: the features \n",
    "    {set(black_list1)-set(features1)} are in black list but not in the features.\"\"\")"
   ]
  },
  {
   "cell_type": "code",
   "execution_count": null,
   "metadata": {
    "ExecuteTime": {
     "end_time": "2019-06-27T15:32:02.152301Z",
     "start_time": "2019-06-27T15:32:02.148262Z"
    }
   },
   "outputs": [],
   "source": [
    "white_list1 = sorted(list(set(features1) - set(black_list1)))\n",
    "print(f\"New white list:\\n {white_list1}\")"
   ]
  },
  {
   "cell_type": "code",
   "execution_count": null,
   "metadata": {
    "ExecuteTime": {
     "end_time": "2019-06-27T15:32:02.531232Z",
     "start_time": "2019-06-27T15:32:02.524233Z"
    }
   },
   "outputs": [],
   "source": [
    "sample1 = sample.select_features(white_list1)"
   ]
  },
  {
   "cell_type": "markdown",
   "metadata": {},
   "source": [
    "## Re-run the pipeline"
   ]
  },
  {
   "cell_type": "code",
   "execution_count": null,
   "metadata": {
    "ExecuteTime": {
     "end_time": "2019-06-27T15:32:15.776052Z",
     "start_time": "2019-06-27T15:32:03.163793Z"
    }
   },
   "outputs": [],
   "source": [
    "preprocessor = make_preprocessor(sample=sample1, missing=True, onehot=True)\n",
    "boruta_selector = PipelineDF(\n",
    "    steps = [\n",
    "        ('preprocess', preprocessor),\n",
    "        (\n",
    "            'boruta', \n",
    "            BorutaDF(\n",
    "                estimator=RandomForestRegressor(\n",
    "                    max_depth=5, #max(3, min(7, int(np.log2(len(sample_full))) - 1)),\n",
    "                    min_samples_leaf=8,\n",
    "                    random_state=42,\n",
    "                    n_jobs=-3\n",
    "                ),\n",
    "                n_estimators=500,\n",
    "                verbose=2,\n",
    "                max_iter=100,\n",
    "                random_state=42\n",
    "            )\n",
    "        )\n",
    "    ]\n",
    ")\n",
    "with np.errstate(invalid='ignore'):\n",
    "    boruta_selector.fit(sample1.features, sample1.target)"
   ]
  },
  {
   "cell_type": "code",
   "execution_count": null,
   "metadata": {
    "ExecuteTime": {
     "end_time": "2019-06-27T15:32:15.789052Z",
     "start_time": "2019-06-27T15:32:15.778051Z"
    }
   },
   "outputs": [],
   "source": [
    "selected1 = sorted(list(set(boruta_selector.columns_original)))\n",
    "print(list(selected1))\n",
    "sample1 = sample1.select_features(selected1)"
   ]
  },
  {
   "cell_type": "code",
   "execution_count": null,
   "metadata": {
    "ExecuteTime": {
     "end_time": "2019-06-27T15:32:28.477256Z",
     "start_time": "2019-06-27T15:32:15.793051Z"
    }
   },
   "outputs": [],
   "source": [
    "grids = [\n",
    "    ModelGrid(\n",
    "        model=Model(\n",
    "            estimator=RandomForestRegressor(random_state=42),\n",
    "            preprocessing=make_preprocessor(sample=sample1, missing=False)\n",
    "        ),\n",
    "        estimator_parameters = {\n",
    "            \"n_estimators\": [1000],\n",
    "            \"max_depth\": [4,5,6],\n",
    "            \"min_samples_leaf\": [4],\n",
    "            \"criterion\": [\"mse\"], #[\"mae\",\"mse\"],\n",
    "            \"max_features\": [0.4, 0.7, 1.0],\n",
    "        },\n",
    "    ),\n",
    "]\n",
    "ranker = ModelRanker(\n",
    "    grids=grids,\n",
    "    cv=circular_cv,\n",
    ")\n",
    "ranking = ranker.run(sample1, n_jobs=-3)"
   ]
  },
  {
   "cell_type": "code",
   "execution_count": null,
   "metadata": {
    "ExecuteTime": {
     "end_time": "2019-06-27T15:32:28.486223Z",
     "start_time": "2019-06-27T15:32:28.479223Z"
    }
   },
   "outputs": [],
   "source": [
    "print(summary_report(ranking))"
   ]
  },
  {
   "cell_type": "code",
   "execution_count": null,
   "metadata": {
    "ExecuteTime": {
     "end_time": "2019-06-27T15:32:28.510222Z",
     "start_time": "2019-06-27T15:32:28.488223Z"
    }
   },
   "outputs": [],
   "source": [
    "top_model = ranking[0]\n",
    "print(f\"top_model score: {top_model.scoring['test_score']}\")"
   ]
  },
  {
   "cell_type": "code",
   "execution_count": null,
   "metadata": {
    "ExecuteTime": {
     "end_time": "2019-06-27T15:32:28.524219Z",
     "start_time": "2019-06-27T15:32:28.513220Z"
    }
   },
   "outputs": [],
   "source": [
    "print(top_model.parameters)"
   ]
  },
  {
   "cell_type": "code",
   "execution_count": null,
   "metadata": {
    "ExecuteTime": {
     "end_time": "2019-06-27T15:32:46.879492Z",
     "start_time": "2019-06-27T15:32:28.526220Z"
    }
   },
   "outputs": [],
   "source": [
    "predictor = PredictorCV(model=top_model.model, cv=circular_cv, sample=sample1)\n",
    "inspector = ModelInspector(predictor)\n",
    "M = inspector.shap_matrix()"
   ]
  },
  {
   "cell_type": "code",
   "execution_count": null,
   "metadata": {
    "ExecuteTime": {
     "end_time": "2019-06-27T15:32:47.944481Z",
     "start_time": "2019-06-27T15:32:46.882466Z"
    }
   },
   "outputs": [],
   "source": [
    "linkage_tree = inspector.cluster_dependent_features()\n",
    "#ax = plt.figure(dpi=150).add_subplot(111)\n",
    "ax = plt.figure(figsize=(10,number_features*.5)).add_subplot(111)\n",
    "style = FeatMapStyle(ax)\n",
    "DendrogramDrawer(title=TARGET, linkage_tree=linkage_tree, style=style).draw()"
   ]
  },
  {
   "cell_type": "code",
   "execution_count": null,
   "metadata": {
    "ExecuteTime": {
     "end_time": "2019-06-27T15:32:47.954482Z",
     "start_time": "2019-06-27T15:32:47.948481Z"
    }
   },
   "outputs": [],
   "source": [
    "description_dict['OverallCond']"
   ]
  },
  {
   "cell_type": "code",
   "execution_count": null,
   "metadata": {},
   "outputs": [],
   "source": []
  },
  {
   "cell_type": "code",
   "execution_count": null,
   "metadata": {},
   "outputs": [],
   "source": []
  },
  {
   "cell_type": "code",
   "execution_count": null,
   "metadata": {
    "ExecuteTime": {
     "end_time": "2019-06-27T15:29:03.070980Z",
     "start_time": "2019-06-27T15:29:03.065979Z"
    }
   },
   "outputs": [],
   "source": [
    "def shap_culstering_iteration(sample, black_list):\n",
    "\n",
    "    features = sample.feature_names\n",
    "\n",
    "    if not set(black_list1) <= features1:\n",
    "        log.warning(f\"\"\"The black list must be a subset of the set of features: the features \n",
    "        {set(black_list1)-set(features1)} are in black list but not in the features.\"\"\")\n",
    "\n",
    "    white_list = sorted(list(set(features) - set(black_list)))\n",
    "    log.info(f\"New white list:\\n {white_list1}\")\n",
    "\n",
    "    new_sample = sample.select_features(white_list)\n",
    "    \n",
    "    \n",
    "    outlier_transformers = [\n",
    "    ('outlier', TukeyOutlierRemoverDF(iqr_threshold=2), sample_full.features_by_type(Sample.DTYPE_NUMERICAL).columns),\n",
    "    ('rest', FunctionTransformerDF(validate=False), sample_full.features_by_type(Sample.DTYPE_OBJECT).columns)\n",
    "    ]\n",
    "    outlier_step = ColumnTransformerDF(transformers=outlier_transformers)\n",
    "\n",
    "    preprocessor = make_preprocessor(sample=sample_full, missing=True, onehot=True)\n",
    "    \n",
    "    \n",
    "    \n",
    "    \n",
    "    ## Re-run the pipeline\n",
    "    preprocessor = make_preprocessor(sample=sample1, missing=True, onehot=True)\n",
    "    boruta_selector = PipelineDF(\n",
    "        steps = [\n",
    "         ('preprocess', preprocessor),\n",
    "         ('boruta', BorutaDF(estimator=RandomForestRegressor(max_depth=5, min_samples_leaf=8, random_state=42, n_jobs=-3),\n",
    "                    n_estimators=500, verbose=2, max_iter=100, random_state=42))])\n",
    "\n",
    "    boruta_selector.fit(new_sample.features, new_sample.target)\n",
    "\n",
    "    selected = sorted(list(set(boruta_selector.columns_original)))\n",
    "    print(list(selected))\n",
    "    new_sample = new_sample.select_features(selected)\n",
    "\n",
    "    grids = get_model_grids()\n",
    "    ranker = ModelRanker(grids=grids, cv=circular_cv)\n",
    "    ranking = ranker.run(sample1, n_jobs=-3)\n",
    "\n",
    "    print(summary_report(ranking))\n",
    "\n",
    "    top_model = ranking[0]\n",
    "    print(f\"top_model score: {top_model.scoring['test_score']}\")\n",
    "    print(top_model.parameters)\n",
    "\n",
    "    predictor = PredictorCV(model=top_model.model, cv=circular_cv, sample=new_sample)\n",
    "    inspector = ModelInspector(predictor)\n",
    "    \n",
    "    return new_sample\n",
    "    M = inspector.shap_matrix()"
   ]
  },
  {
   "cell_type": "code",
   "execution_count": null,
   "metadata": {
    "ExecuteTime": {
     "end_time": "2019-06-27T15:29:03.070980Z",
     "start_time": "2019-06-27T15:29:03.065979Z"
    }
   },
   "outputs": [],
   "source": [
    "linkage_tree = inspector.cluster_dependent_features()\n",
    "#ax = plt.figure(dpi=150).add_subplot(111)\n",
    "ax = plt.figure(figsize=(10,number_features*.5)).add_subplot(111)\n",
    "style = FeatMapStyle(ax)\n",
    "DendrogramDrawer(title=TARGET, linkage_tree=linkage_tree, style=style).draw()\n",
    "\n",
    "description_dict['OverallCond']"
   ]
  },
  {
   "cell_type": "code",
   "execution_count": null,
   "metadata": {},
   "outputs": [],
   "source": []
  },
  {
   "cell_type": "code",
   "execution_count": null,
   "metadata": {},
   "outputs": [],
   "source": []
  },
  {
   "cell_type": "code",
   "execution_count": null,
   "metadata": {},
   "outputs": [],
   "source": []
  },
  {
   "cell_type": "markdown",
   "metadata": {},
   "source": [
    "# Shap clustering iteration 2"
   ]
  },
  {
   "cell_type": "code",
   "execution_count": null,
   "metadata": {
    "ExecuteTime": {
     "end_time": "2019-06-27T15:32:47.976478Z",
     "start_time": "2019-06-27T15:32:47.956477Z"
    }
   },
   "outputs": [],
   "source": [
    "features2 = sample1.feature_names"
   ]
  },
  {
   "cell_type": "code",
   "execution_count": null,
   "metadata": {
    "ExecuteTime": {
     "end_time": "2019-06-27T15:32:47.990481Z",
     "start_time": "2019-06-27T15:32:47.978479Z"
    }
   },
   "outputs": [],
   "source": [
    "black_list2 = [\n",
    "    \"OverallCond\"\n",
    "]"
   ]
  },
  {
   "cell_type": "code",
   "execution_count": null,
   "metadata": {
    "ExecuteTime": {
     "end_time": "2019-06-27T15:33:41.469351Z",
     "start_time": "2019-06-27T15:33:41.466385Z"
    }
   },
   "outputs": [],
   "source": [
    "if not set(black_list2) <= features2:\n",
    "    log.warning(f\"\"\"The black list must be a subset of the set of features: the features \n",
    "    {set(black_list2)-set(features2)} are in black list but not in the features.\"\"\")"
   ]
  },
  {
   "cell_type": "code",
   "execution_count": null,
   "metadata": {
    "ExecuteTime": {
     "end_time": "2019-06-27T15:32:48.003480Z",
     "start_time": "2019-06-27T15:32:47.993481Z"
    }
   },
   "outputs": [],
   "source": [
    "assert set(black_list2) <= features2, \"The black list must be a subset of the set of features\""
   ]
  },
  {
   "cell_type": "code",
   "execution_count": null,
   "metadata": {
    "ExecuteTime": {
     "end_time": "2019-06-27T15:32:48.019482Z",
     "start_time": "2019-06-27T15:32:48.006481Z"
    }
   },
   "outputs": [],
   "source": [
    "white_list2 = sorted(list(set(features2) - set(black_list2)))\n",
    "print(f\"New white list:\\n {white_list2}\")"
   ]
  },
  {
   "cell_type": "code",
   "execution_count": null,
   "metadata": {
    "ExecuteTime": {
     "end_time": "2019-06-27T15:32:48.034512Z",
     "start_time": "2019-06-27T15:32:48.022480Z"
    }
   },
   "outputs": [],
   "source": [
    "sample2 = sample1.select_features(white_list2)"
   ]
  },
  {
   "cell_type": "markdown",
   "metadata": {},
   "source": [
    "## Re-run the pipeline"
   ]
  },
  {
   "cell_type": "code",
   "execution_count": null,
   "metadata": {
    "ExecuteTime": {
     "end_time": "2019-06-27T15:33:03.415723Z",
     "start_time": "2019-06-27T15:32:48.037481Z"
    }
   },
   "outputs": [],
   "source": [
    "preprocessor = make_preprocessor(sample=sample2, missing=True, onehot=True)\n",
    "boruta_selector = PipelineDF(\n",
    "    steps = [\n",
    "        ('preprocess', preprocessor),\n",
    "        (\n",
    "            'boruta', \n",
    "            BorutaDF(\n",
    "                estimator=RandomForestRegressor(\n",
    "                    max_depth=5, #max(3, min(7, int(np.log2(len(sample_full))) - 1)),\n",
    "                    min_samples_leaf=8,\n",
    "                    random_state=42,\n",
    "                    n_jobs=-3\n",
    "                ),\n",
    "                n_estimators=500,\n",
    "                verbose=2,\n",
    "                max_iter=100,\n",
    "                random_state=42\n",
    "            )\n",
    "        )\n",
    "    ]\n",
    ")\n",
    "with np.errstate(invalid='ignore'):\n",
    "    boruta_selector.fit(sample2.features, sample2.target)"
   ]
  },
  {
   "cell_type": "code",
   "execution_count": null,
   "metadata": {
    "ExecuteTime": {
     "end_time": "2019-06-27T15:33:03.430690Z",
     "start_time": "2019-06-27T15:33:03.417688Z"
    }
   },
   "outputs": [],
   "source": [
    "selected2 = sorted(list(set(boruta_selector.columns_original)))\n",
    "print(list(selected2))\n",
    "sample2 = sample2.select_features(selected2)"
   ]
  },
  {
   "cell_type": "code",
   "execution_count": null,
   "metadata": {
    "ExecuteTime": {
     "end_time": "2019-06-27T15:33:19.928380Z",
     "start_time": "2019-06-27T15:33:03.433686Z"
    }
   },
   "outputs": [],
   "source": [
    "grids = [\n",
    "    ModelGrid(\n",
    "        model=Model(\n",
    "            estimator=RandomForestRegressor(random_state=42),\n",
    "            preprocessing=make_preprocessor(sample=sample2, missing=False)\n",
    "        ),\n",
    "        estimator_parameters = {\n",
    "            \"n_estimators\": [1000],\n",
    "            \"max_depth\": [4,5,6],\n",
    "            \"min_samples_leaf\": [4],\n",
    "            \"criterion\": [\"mse\"], #[\"mae\",\"mse\"],\n",
    "            \"max_features\": [0.4, 0.7, 1.0],\n",
    "        },\n",
    "    ),\n",
    "]\n",
    "ranker = ModelRanker(\n",
    "    grids=grids,\n",
    "    cv=circular_cv,\n",
    "    #scoring='neg_mean_absolute_error'\n",
    ")\n",
    "ranking = ranker.run(sample2, n_jobs=-3)"
   ]
  },
  {
   "cell_type": "code",
   "execution_count": null,
   "metadata": {
    "ExecuteTime": {
     "end_time": "2019-06-27T15:33:19.937383Z",
     "start_time": "2019-06-27T15:33:19.930379Z"
    }
   },
   "outputs": [],
   "source": [
    "print(summary_report(ranking))"
   ]
  },
  {
   "cell_type": "code",
   "execution_count": null,
   "metadata": {
    "ExecuteTime": {
     "end_time": "2019-06-27T15:33:19.958379Z",
     "start_time": "2019-06-27T15:33:19.940382Z"
    }
   },
   "outputs": [],
   "source": [
    "top_model = ranking[0]\n",
    "print(f\"top_model score: {top_model.scoring['test_score']}\")"
   ]
  },
  {
   "cell_type": "code",
   "execution_count": null,
   "metadata": {
    "ExecuteTime": {
     "end_time": "2019-06-27T15:33:19.970380Z",
     "start_time": "2019-06-27T15:33:19.960379Z"
    }
   },
   "outputs": [],
   "source": [
    "print(top_model.parameters)"
   ]
  },
  {
   "cell_type": "code",
   "execution_count": null,
   "metadata": {
    "ExecuteTime": {
     "end_time": "2019-06-27T15:33:40.590678Z",
     "start_time": "2019-06-27T15:33:19.973383Z"
    }
   },
   "outputs": [],
   "source": [
    "predictor = PredictorCV(model=top_model.model, cv=circular_cv, sample=sample2)\n",
    "inspector = ModelInspector(predictor)\n",
    "M = inspector.shap_matrix()"
   ]
  },
  {
   "cell_type": "code",
   "execution_count": null,
   "metadata": {
    "ExecuteTime": {
     "end_time": "2019-06-27T15:33:41.463384Z",
     "start_time": "2019-06-27T15:33:40.592337Z"
    },
    "scrolled": false
   },
   "outputs": [],
   "source": [
    "linkage_tree = inspector.cluster_dependent_features()\n",
    "ax = plt.figure(figsize=(10,number_features*.5)).add_subplot(111)\n",
    "style = FeatMapStyle(ax)\n",
    "DendrogramDrawer(title=TARGET, linkage_tree=linkage_tree, style=style).draw()"
   ]
  },
  {
   "cell_type": "markdown",
   "metadata": {},
   "source": [
    "# Simulation"
   ]
  },
  {
   "cell_type": "code",
   "execution_count": null,
   "metadata": {
    "ExecuteTime": {
     "end_time": "2019-06-27T16:06:04.294906Z",
     "start_time": "2019-06-27T16:06:04.289906Z"
    }
   },
   "outputs": [],
   "source": [
    "sim = UnivariateSimulation(predictor=predictor)"
   ]
  },
  {
   "cell_type": "code",
   "execution_count": null,
   "metadata": {
    "ExecuteTime": {
     "end_time": "2019-06-27T16:14:15.610617Z",
     "start_time": "2019-06-27T16:14:15.576619Z"
    }
   },
   "outputs": [],
   "source": [
    "from IPython.display import display, clear_output\n",
    "import ipywidgets as widgets\n",
    "\n",
    "\n",
    "\n",
    "dd = widgets.Dropdown(\n",
    "    options=predictor.sample.features.columns,\n",
    "    description='Feature:',\n",
    "    disabled=False,\n",
    "    layout={\"width\":\"550px\"}\n",
    ")\n",
    "\n",
    "btn = widgets.Button(\n",
    "    description='Simulate'\n",
    ")\n",
    "\n",
    "def plot_simulation(feature:str):\n",
    "    yield_change = sim.simulate_yield_change(\n",
    "            parameterized_feature=feature,\n",
    "            parameter_values=UnivariateSimulation.observed_feature_values(\n",
    "                feature_name=feature,\n",
    "                sample=predictor.sample,\n",
    "                min_relative_frequency=0.03,\n",
    "                limit_observations=100\n",
    "            ),\n",
    "    )\n",
    "    \n",
    "    yield_change_aggr = UnivariateSimulation.aggregate_simulated_yield_change(\n",
    "                    results_per_split=yield_change, percentiles=[10, 50, 90])\n",
    "    \n",
    "    XLABEL_TITLE = f\"{feature}\"\n",
    "    YLABEL_TITLE = f\"Predicted mean yield uplift ({TARGET})\"\n",
    "    COLOR1 = 'red'\n",
    "    COLOR2 = 'silver'\n",
    "    \n",
    "    fig, (ax1, ax2) = plt.subplots(nrows=2, figsize=(10,10), sharex=True)\n",
    "    \n",
    "    # plot lines of prediction\n",
    "    ax1.set_xlabel(XLABEL_TITLE, color='black', labelpad=10, fontsize=12)\n",
    "    ax1.set_ylabel(YLABEL_TITLE, color='black', fontsize=12)\n",
    "    line1, = ax1.plot(yield_change_aggr.index, yield_change_aggr.iloc[:,0], color=COLOR2, linewidth=1)\n",
    "    line2, = ax1.plot(yield_change_aggr.index, yield_change_aggr.iloc[:,1], color=COLOR1)\n",
    "    line3, = ax1.plot(yield_change_aggr.index, yield_change_aggr.iloc[:,2], color=COLOR2, linewidth=1)\n",
    "    ax1.axhline(y=0, color='black', linewidth=.5)\n",
    "    ax1.tick_params(axis='x', labelcolor='black')\n",
    "    for pos in ['top', 'right', 'bottom']:\n",
    "        ax1.spines[pos].set_visible(False)\n",
    "    ax1.tick_params(axis='x', labelbottom=True, bottom=False)\n",
    "    ax1.legend((line3, line2, line1), \n",
    "               ('90th percentile', 'Median', '10th percentile'), \n",
    "               frameon=False,\n",
    "              )\n",
    "    \n",
    "    # plot the histogram\n",
    "    x = sample.features[feature].dropna()\n",
    "    hist_range = (min(yield_change_aggr.index), max(yield_change_aggr.index))\n",
    "    n, bins, patches = ax2.hist(x, edgecolor='white', color=COLOR2, range=hist_range)\n",
    "    bins1 = pd.Series(bins).rolling(window=2).mean().shift(-1).dropna()\n",
    "    ax2.invert_yaxis()\n",
    "    ax2.tick_params(axis='y', labelcolor='black')\n",
    "    max_y = max(n)\n",
    "    y_offset = max_y * 0.05\n",
    "    for (x,y) in zip(bins1, n):\n",
    "        if y>0:\n",
    "            ax2.text(x, y + y_offset, str(int(y)), \n",
    "                    color='black', \n",
    "                    horizontalalignment='center')\n",
    "    ax2.get_yaxis().set_visible(False)\n",
    "    ax2.get_xaxis().set_visible(False)\n",
    "    for pos in ['top', 'right', 'left', 'bottom']:\n",
    "        ax2.spines[pos].set_visible(False)\n",
    "    plt.subplots_adjust(hspace=.2)\n",
    "    plt.show()\n",
    "\n",
    "def on_click(btn):\n",
    "    clear_output()\n",
    "    display(widgets.HBox([dd, btn]))\n",
    "    plot_simulation(feature=dd.value)\n",
    "    \n",
    "btn.on_click(on_click)    \n",
    "display(widgets.HBox([dd, btn]))"
   ]
  },
  {
   "cell_type": "code",
   "execution_count": null,
   "metadata": {},
   "outputs": [],
   "source": []
  }
 ],
 "metadata": {
  "kernelspec": {
   "display_name": "Python 3",
   "language": "python",
   "name": "python3"
  },
  "language_info": {
   "codemirror_mode": {
    "name": "ipython",
    "version": 3
   },
   "file_extension": ".py",
   "mimetype": "text/x-python",
   "name": "python",
   "nbconvert_exporter": "python",
   "pygments_lexer": "ipython3",
   "version": "3.6.7"
  },
  "pycharm": {
   "stem_cell": {
    "cell_type": "raw",
    "metadata": {
     "collapsed": false
    },
    "source": []
   }
  },
  "toc": {
   "base_numbering": 1,
   "nav_menu": {},
   "number_sections": true,
   "sideBar": false,
   "skip_h1_title": false,
   "title_cell": "Table of Contents",
   "title_sidebar": "Contents",
   "toc_cell": false,
   "toc_position": {
    "height": "688px",
    "left": "97px",
    "top": "110.233px",
    "width": "229.6px"
   },
   "toc_section_display": true,
   "toc_window_display": false
  },
  "varInspector": {
   "cols": {
    "lenName": 16,
    "lenType": 16,
    "lenVar": 40
   },
   "kernels_config": {
    "python": {
     "delete_cmd_postfix": "",
     "delete_cmd_prefix": "del ",
     "library": "var_list.py",
     "varRefreshCmd": "print(var_dic_list())"
    },
    "r": {
     "delete_cmd_postfix": ") ",
     "delete_cmd_prefix": "rm(",
     "library": "var_list.r",
     "varRefreshCmd": "cat(var_dic_list()) "
    }
   },
   "types_to_exclude": [
    "module",
    "function",
    "builtin_function_or_method",
    "instance",
    "_Feature"
   ],
   "window_display": false
  }
 },
 "nbformat": 4,
 "nbformat_minor": 2
}
