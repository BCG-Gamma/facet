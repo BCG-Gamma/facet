{
 "cells": [
  {
   "cell_type": "code",
   "execution_count": 1,
   "metadata": {
    "ExecuteTime": {
     "end_time": "2019-08-01T17:36:27.044049Z",
     "start_time": "2019-08-01T17:36:27.027049Z"
    }
   },
   "outputs": [
    {
     "name": "stdout",
     "output_type": "stream",
     "text": [
      "working dir is 'C:\\Users\\martin florent\\Documents\\projects\\yield-engine'\n",
      "added `src` to python paths\n"
     ]
    }
   ],
   "source": [
    "PATH_YIELD_ENGINE = 'src'\n",
    "\n",
    "def set_paths() -> None:\n",
    "    \"\"\"\n",
    "    set correct working directory and python path when started from within PyCharm\n",
    "    \"\"\"\n",
    "    import sys\n",
    "    import os\n",
    "    \n",
    "    if 'cwd' not in globals():\n",
    "        # noinspection PyGlobalUndefined\n",
    "        global cwd\n",
    "        cwd = os.path.join(os.getcwd(), os.pardir)\n",
    "        os.chdir(cwd)\n",
    "    \n",
    "    print(f\"working dir is '{os.getcwd()}'\")\n",
    "                             \n",
    "    if PATH_YIELD_ENGINE not in sys.path:\n",
    "        sys.path.insert(0, PATH_YIELD_ENGINE)\n",
    "    \n",
    "    print(f\"added `{sys.path[0]}` to python paths\")\n",
    "\n",
    "set_paths()"
   ]
  },
  {
   "cell_type": "code",
   "execution_count": 2,
   "metadata": {
    "ExecuteTime": {
     "end_time": "2019-08-01T17:36:30.843032Z",
     "start_time": "2019-08-01T17:36:27.046050Z"
    }
   },
   "outputs": [],
   "source": [
    "from sklearn import datasets\n",
    "import pandas as pd\n",
    "\n",
    "from gamma import Sample\n",
    "from gamma.sklearndf.regression import RandomForestRegressorDF, LGBMRegressorDF\n",
    "from gamma.sklearndf.transformation import SimpleImputerDF, OneHotEncoderDF\n",
    "from gamma.model.inspection import ModelInspector\n",
    "from gamma.model.prediction import RegressorFitCV, PredictorFitCV\n",
    "from gamma.model.selection import ModelGrid, ModelPipelineDF, ModelRanker\n",
    "from gamma.model.validation import CircularCrossValidator\n",
    "from gamma.sklearndf.pipeline import PipelineDF \n",
    "from gamma.sklearndf.transformation import ColumnTransformerDF, FunctionTransformerDF\n",
    "from gamma.sklearndf.transformation.extra import BorutaDF, OutlierRemoverDF\n",
    "from gamma.viz import dendrogram\n",
    "from gamma.yieldengine.partition import ContinuousRangePartitioning, CategoryPartitioning\n",
    "from gamma.yieldengine.simulation import UnivariateSimulator\n",
    "from gamma.yieldengine.viz import SimulationDrawer, SimulationPlotStyle, SimulationReportStyle"
   ]
  },
  {
   "cell_type": "code",
   "execution_count": 3,
   "metadata": {
    "ExecuteTime": {
     "end_time": "2019-08-01T17:36:30.871094Z",
     "start_time": "2019-08-01T17:36:30.846004Z"
    }
   },
   "outputs": [],
   "source": [
    "boston = datasets.load_boston()\n",
    "\n",
    "df = pd.DataFrame(data=boston.data, columns=boston.feature_names).astype({'RAD':'str'}).astype({'RAD':'category'})\n",
    "\n",
    "numerical_features = df.columns.drop('RAD')\n",
    "categorical_features = ['RAD']\n",
    "\n",
    "df['price'] = boston.target"
   ]
  },
  {
   "cell_type": "code",
   "execution_count": 4,
   "metadata": {
    "ExecuteTime": {
     "end_time": "2019-08-01T17:36:30.876003Z",
     "start_time": "2019-08-01T17:36:30.872004Z"
    }
   },
   "outputs": [],
   "source": [
    "sample = Sample(observations=df, target_name='price')"
   ]
  },
  {
   "cell_type": "code",
   "execution_count": 5,
   "metadata": {
    "ExecuteTime": {
     "end_time": "2019-08-01T17:36:30.889005Z",
     "start_time": "2019-08-01T17:36:30.879003Z"
    }
   },
   "outputs": [],
   "source": [
    "preprocessing = ColumnTransformerDF(transformers=[\n",
    " ('num', SimpleImputerDF(), numerical_features),\n",
    "    ('cat', SimpleImputerDF(strategy='constant', fill_value='nan'), categorical_features)\n",
    "]                               )"
   ]
  },
  {
   "cell_type": "code",
   "execution_count": 6,
   "metadata": {
    "ExecuteTime": {
     "end_time": "2019-08-01T17:36:30.902007Z",
     "start_time": "2019-08-01T17:36:30.890005Z"
    }
   },
   "outputs": [],
   "source": [
    "model=ModelPipelineDF(predictor=RandomForestRegressorDF(n_estimators=10), preprocessing=preprocessing)"
   ]
  },
  {
   "cell_type": "code",
   "execution_count": 7,
   "metadata": {
    "ExecuteTime": {
     "end_time": "2019-08-01T17:36:30.913004Z",
     "start_time": "2019-08-01T17:36:30.904003Z"
    }
   },
   "outputs": [],
   "source": [
    "cv = CircularCrossValidator()\n",
    "\n",
    "predictor = RegressorFitCV(model=model, cv=cv, sample=sample)\n",
    "\n",
    "simulator =UnivariateSimulator(model_fit=predictor)"
   ]
  },
  {
   "cell_type": "markdown",
   "metadata": {},
   "source": [
    "# sklearn and  numerical partitioning"
   ]
  },
  {
   "cell_type": "code",
   "execution_count": 8,
   "metadata": {
    "ExecuteTime": {
     "end_time": "2019-08-01T17:36:37.845683Z",
     "start_time": "2019-08-01T17:36:30.918141Z"
    }
   },
   "outputs": [],
   "source": [
    "partitioning = ContinuousRangePartitioning(df['AGE'])\n",
    "\n",
    "simulation = simulator.simulate_feature(feature_name='AGE', partitioning=partitioning)"
   ]
  },
  {
   "cell_type": "code",
   "execution_count": 9,
   "metadata": {
    "ExecuteTime": {
     "end_time": "2019-08-01T17:36:38.071243Z",
     "start_time": "2019-08-01T17:36:37.848289Z"
    },
    "scrolled": true
   },
   "outputs": [
    {
     "data": {
      "image/png": "[encoded data removed]",
      "text/plain": [
       "<Figure size 432x288 with 2 Axes>"
      ]
     },
     "metadata": {
      "needs_background": "light"
     },
     "output_type": "display_data"
    }
   ],
   "source": [
    "SimulationDrawer(\n",
    "    title='title',\n",
    "    simulation=simulation,\n",
    "    style=SimulationPlotStyle()\n",
    ").draw()"
   ]
  },
  {
   "cell_type": "code",
   "execution_count": 10,
   "metadata": {
    "ExecuteTime": {
     "end_time": "2019-08-01T17:36:38.079246Z",
     "start_time": "2019-08-01T17:36:38.073242Z"
    }
   },
   "outputs": [
    {
     "name": "stdout",
     "output_type": "stream",
     "text": [
      "Categorical is not ordered for operation min\n",
      "you can use .as_ordered() to change the Categorical to an ordered one\n",
      "\n"
     ]
    }
   ],
   "source": [
    "try:\n",
    "    ContinuousRangePartitioning(df['RAD'])\n",
    "except TypeError as te:\n",
    "    print(te)"
   ]
  },
  {
   "cell_type": "markdown",
   "metadata": {},
   "source": [
    "# sklearn and categorical partitioning"
   ]
  },
  {
   "cell_type": "code",
   "execution_count": 11,
   "metadata": {
    "ExecuteTime": {
     "end_time": "2019-08-01T17:36:41.567637Z",
     "start_time": "2019-08-01T17:36:38.081245Z"
    }
   },
   "outputs": [],
   "source": [
    "partitioning_cat = CategoryPartitioning(df['RAD'])\n",
    "\n",
    "simulation_cat = simulator.simulate_feature(feature_name='RAD', partitioning=partitioning_cat)"
   ]
  },
  {
   "cell_type": "code",
   "execution_count": 12,
   "metadata": {
    "ExecuteTime": {
     "end_time": "2019-08-01T17:36:41.797252Z",
     "start_time": "2019-08-01T17:36:41.569201Z"
    },
    "scrolled": false
   },
   "outputs": [
    {
     "name": "stdout",
     "output_type": "stream",
     "text": [
      "been here\n",
      "been here\n"
     ]
    },
    {
     "data": {
      "image/png": "[encoded data removed]",
      "text/plain": [
       "<Figure size 432x288 with 2 Axes>"
      ]
     },
     "metadata": {
      "needs_background": "light"
     },
     "output_type": "display_data"
    }
   ],
   "source": [
    "SimulationDrawer(\n",
    "    title='title',\n",
    "    simulation=simulation_cat,\n",
    "    style=SimulationPlotStyle()\n",
    ").draw()"
   ]
  },
  {
   "cell_type": "markdown",
   "metadata": {},
   "source": [
    "# LGBM model"
   ]
  },
  {
   "cell_type": "code",
   "execution_count": 13,
   "metadata": {
    "ExecuteTime": {
     "end_time": "2019-08-01T17:36:41.818197Z",
     "start_time": "2019-08-01T17:36:41.800198Z"
    }
   },
   "outputs": [],
   "source": [
    "boston = datasets.load_boston()\n",
    "\n",
    "df = pd.DataFrame(data=boston.data, columns=boston.feature_names).astype({'RAD':'str'}).astype({'RAD':'category'})\n",
    "\n",
    "numerical_features = df.columns.drop('RAD')\n",
    "categorical_features = ['RAD']\n",
    "\n",
    "df['price'] = boston.target"
   ]
  },
  {
   "cell_type": "code",
   "execution_count": 14,
   "metadata": {
    "ExecuteTime": {
     "end_time": "2019-08-01T17:36:41.823197Z",
     "start_time": "2019-08-01T17:36:41.820240Z"
    }
   },
   "outputs": [],
   "source": [
    "sample = Sample(observations=df, target_name='price')"
   ]
  },
  {
   "cell_type": "code",
   "execution_count": 15,
   "metadata": {
    "ExecuteTime": {
     "end_time": "2019-08-01T17:36:41.839209Z",
     "start_time": "2019-08-01T17:36:41.827200Z"
    }
   },
   "outputs": [],
   "source": [
    "model_lgbm = ModelPipelineDF(predictor=LGBMRegressorDF(n_estimators=10), preprocessing=None)"
   ]
  },
  {
   "cell_type": "code",
   "execution_count": 16,
   "metadata": {
    "ExecuteTime": {
     "end_time": "2019-08-01T17:36:41.853196Z",
     "start_time": "2019-08-01T17:36:41.844215Z"
    }
   },
   "outputs": [],
   "source": [
    "cv = CircularCrossValidator()\n",
    "\n",
    "predictor_lgbm = RegressorFitCV(model=model_lgbm, cv=cv, sample=sample)\n",
    "\n",
    "simulator_lgbm =UnivariateSimulator(model_fit=predictor_lgbm)"
   ]
  },
  {
   "cell_type": "markdown",
   "metadata": {},
   "source": [
    "# lgbm and continuous partitioning"
   ]
  },
  {
   "cell_type": "code",
   "execution_count": 17,
   "metadata": {
    "ExecuteTime": {
     "end_time": "2019-08-01T17:36:54.099915Z",
     "start_time": "2019-08-01T17:36:41.854196Z"
    }
   },
   "outputs": [],
   "source": [
    "partitioning = ContinuousRangePartitioning(df['AGE'])\n",
    "\n",
    "simulation_lgbm = simulator_lgbm.simulate_feature(feature_name='AGE', partitioning=partitioning)"
   ]
  },
  {
   "cell_type": "code",
   "execution_count": 18,
   "metadata": {
    "ExecuteTime": {
     "end_time": "2019-08-01T17:36:54.369850Z",
     "start_time": "2019-08-01T17:36:54.101815Z"
    },
    "scrolled": true
   },
   "outputs": [
    {
     "data": {
      "image/png": "[encoded data removed]",
      "text/plain": [
       "<Figure size 432x288 with 2 Axes>"
      ]
     },
     "metadata": {
      "needs_background": "light"
     },
     "output_type": "display_data"
    }
   ],
   "source": [
    "SimulationDrawer(\n",
    "    title='title',\n",
    "    simulation=simulation_lgbm,\n",
    "    style=SimulationPlotStyle()\n",
    ").draw()"
   ]
  },
  {
   "cell_type": "markdown",
   "metadata": {},
   "source": [
    "# lgbm and categorical partitioning"
   ]
  },
  {
   "cell_type": "code",
   "execution_count": 19,
   "metadata": {
    "ExecuteTime": {
     "end_time": "2019-08-01T17:37:03.222746Z",
     "start_time": "2019-08-01T17:36:54.371841Z"
    }
   },
   "outputs": [],
   "source": [
    "partitioning_cat = CategoryPartitioning(df['RAD'])\n",
    "\n",
    "simulation_cat = simulator_lgbm.simulate_feature(feature_name='RAD', partitioning=partitioning_cat)"
   ]
  },
  {
   "cell_type": "code",
   "execution_count": 20,
   "metadata": {
    "ExecuteTime": {
     "end_time": "2019-08-01T17:37:03.518735Z",
     "start_time": "2019-08-01T17:37:03.228720Z"
    },
    "scrolled": false
   },
   "outputs": [
    {
     "name": "stdout",
     "output_type": "stream",
     "text": [
      "been here\n",
      "been here\n"
     ]
    },
    {
     "data": {
      "image/png": "[encoded data removed]",
      "text/plain": [
       "<Figure size 432x288 with 2 Axes>"
      ]
     },
     "metadata": {
      "needs_background": "light"
     },
     "output_type": "display_data"
    }
   ],
   "source": [
    "SimulationDrawer(\n",
    "    title='title',\n",
    "    simulation=simulation_cat,\n",
    "    style=SimulationPlotStyle()\n",
    ").draw()"
   ]
  },
  {
   "cell_type": "code",
   "execution_count": 21,
   "metadata": {
    "ExecuteTime": {
     "end_time": "2019-08-01T17:37:03.526710Z",
     "start_time": "2019-08-01T17:37:03.520740Z"
    }
   },
   "outputs": [
    {
     "data": {
      "text/plain": [
       "array([0., 0., 0., 0., 0., 0., 0., 0., 0.])"
      ]
     },
     "execution_count": 21,
     "metadata": {},
     "output_type": "execute_result"
    }
   ],
   "source": [
    "simulation_cat.median_uplift"
   ]
  }
 ],
 "metadata": {
  "kernelspec": {
   "display_name": "Python 3",
   "language": "python",
   "name": "python3"
  },
  "language_info": {
   "codemirror_mode": {
    "name": "ipython",
    "version": 3
   },
   "file_extension": ".py",
   "mimetype": "text/x-python",
   "name": "python",
   "nbconvert_exporter": "python",
   "pygments_lexer": "ipython3",
   "version": "3.6.7"
  },
  "toc": {
   "base_numbering": 1,
   "nav_menu": {},
   "number_sections": true,
   "sideBar": true,
   "skip_h1_title": false,
   "title_cell": "Table of Contents",
   "title_sidebar": "Contents",
   "toc_cell": false,
   "toc_position": {},
   "toc_section_display": true,
   "toc_window_display": false
  }
 },
 "nbformat": 4,
 "nbformat_minor": 2
}
