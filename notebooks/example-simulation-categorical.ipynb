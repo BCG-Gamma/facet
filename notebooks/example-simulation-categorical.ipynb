{
 "cells": [
  {
   "cell_type": "code",
   "execution_count": null,
   "metadata": {
    "ExecuteTime": {
     "end_time": "2019-08-01T17:43:13.575730Z",
     "start_time": "2019-08-01T17:43:13.560772Z"
    }
   },
   "outputs": [],
   "source": [
    "PATH_YIELD_ENGINE = 'src'\n",
    "\n",
    "def set_paths() -> None:\n",
    "    \"\"\"\n",
    "    set correct working directory and python path when started from within PyCharm\n",
    "    \"\"\"\n",
    "    import sys\n",
    "    import os\n",
    "    \n",
    "    if 'cwd' not in globals():\n",
    "        # noinspection PyGlobalUndefined\n",
    "        global cwd\n",
    "        cwd = os.path.join(os.getcwd(), os.pardir)\n",
    "        os.chdir(cwd)\n",
    "    \n",
    "    print(f\"working dir is '{os.getcwd()}'\")\n",
    "                             \n",
    "    if PATH_YIELD_ENGINE not in sys.path:\n",
    "        sys.path.insert(0, PATH_YIELD_ENGINE)\n",
    "    \n",
    "    print(f\"added `{sys.path[0]}` to python paths\")\n",
    "\n",
    "set_paths()"
   ]
  },
  {
   "cell_type": "code",
   "execution_count": null,
   "metadata": {
    "ExecuteTime": {
     "end_time": "2019-08-01T17:43:17.338120Z",
     "start_time": "2019-08-01T17:43:13.577730Z"
    }
   },
   "outputs": [],
   "source": [
    "from sklearn import datasets\n",
    "import pandas as pd\n",
    "\n",
    "from gamma import Sample\n",
    "from gamma.sklearndf.regression import RandomForestRegressorDF, LGBMRegressorDF\n",
    "from gamma.sklearndf.transformation import SimpleImputerDF, OneHotEncoderDF\n",
    "from gamma.model.inspection import ModelInspector\n",
    "from gamma.model.prediction import RegressorFitCV, PredictorFitCV\n",
    "from gamma.model.selection import ModelGrid, ModelPipelineDF, ModelRanker\n",
    "from gamma.model.validation import CircularCrossValidator\n",
    "from gamma.sklearndf.pipeline import PipelineDF \n",
    "from gamma.sklearndf.transformation import ColumnTransformerDF, FunctionTransformerDF\n",
    "from gamma.sklearndf.transformation.extra import BorutaDF, OutlierRemoverDF\n",
    "from gamma.viz import dendrogram\n",
    "from gamma.yieldengine.partition import ContinuousRangePartitioning, CategoryPartitioning\n",
    "from gamma.yieldengine.simulation import UnivariateSimulator\n",
    "from gamma.yieldengine.viz import SimulationDrawer, SimulationPlotStyle, SimulationReportStyle"
   ]
  },
  {
   "cell_type": "code",
   "execution_count": null,
   "metadata": {
    "ExecuteTime": {
     "end_time": "2019-08-01T17:43:17.361681Z",
     "start_time": "2019-08-01T17:43:17.340682Z"
    }
   },
   "outputs": [],
   "source": [
    "boston = datasets.load_boston()\n",
    "\n",
    "df = pd.DataFrame(data=boston.data, columns=boston.feature_names).astype({'RAD':'str'}).astype({'RAD':'category'})\n",
    "\n",
    "numerical_features = df.columns.drop('RAD')\n",
    "categorical_features = ['RAD']\n",
    "\n",
    "df['price'] = boston.target"
   ]
  },
  {
   "cell_type": "code",
   "execution_count": null,
   "metadata": {
    "ExecuteTime": {
     "end_time": "2019-08-01T17:43:17.370684Z",
     "start_time": "2019-08-01T17:43:17.363682Z"
    }
   },
   "outputs": [],
   "source": [
    "sample = Sample(observations=df, target_name='price')"
   ]
  },
  {
   "cell_type": "code",
   "execution_count": null,
   "metadata": {
    "ExecuteTime": {
     "end_time": "2019-08-01T17:43:17.389681Z",
     "start_time": "2019-08-01T17:43:17.372683Z"
    }
   },
   "outputs": [],
   "source": [
    "preprocessing = ColumnTransformerDF(transformers=[\n",
    " ('num', SimpleImputerDF(), numerical_features),\n",
    "    ('cat', SimpleImputerDF(strategy='constant', fill_value='nan'), categorical_features)\n",
    "]                               )"
   ]
  },
  {
   "cell_type": "code",
   "execution_count": null,
   "metadata": {
    "ExecuteTime": {
     "end_time": "2019-08-01T17:43:17.407684Z",
     "start_time": "2019-08-01T17:43:17.390681Z"
    }
   },
   "outputs": [],
   "source": [
    "model=ModelPipelineDF(predictor=RandomForestRegressorDF(n_estimators=10), preprocessing=preprocessing)"
   ]
  },
  {
   "cell_type": "code",
   "execution_count": null,
   "metadata": {
    "ExecuteTime": {
     "end_time": "2019-08-01T17:43:17.422683Z",
     "start_time": "2019-08-01T17:43:17.409689Z"
    }
   },
   "outputs": [],
   "source": [
    "cv = CircularCrossValidator()\n",
    "\n",
    "predictor = RegressorFitCV(model=model, cv=cv, sample=sample)\n",
    "\n",
    "simulator =UnivariateSimulator(model_fit=predictor)"
   ]
  },
  {
   "cell_type": "markdown",
   "metadata": {},
   "source": [
    "# sklearn and  numerical partitioning"
   ]
  },
  {
   "cell_type": "code",
   "execution_count": null,
   "metadata": {
    "ExecuteTime": {
     "end_time": "2019-08-01T17:43:24.693634Z",
     "start_time": "2019-08-01T17:43:17.425681Z"
    }
   },
   "outputs": [],
   "source": [
    "partitioning = ContinuousRangePartitioning(df['AGE'])\n",
    "\n",
    "simulation = simulator.simulate_feature(feature_name='AGE', partitioning=partitioning)"
   ]
  },
  {
   "cell_type": "code",
   "execution_count": null,
   "metadata": {
    "ExecuteTime": {
     "end_time": "2019-08-01T17:43:24.960589Z",
     "start_time": "2019-08-01T17:43:24.695593Z"
    },
    "scrolled": true
   },
   "outputs": [],
   "source": [
    "SimulationDrawer(\n",
    "    title='title',\n",
    "    simulation=simulation,\n",
    "    style=SimulationPlotStyle()\n",
    ").draw()"
   ]
  },
  {
   "cell_type": "code",
   "execution_count": null,
   "metadata": {
    "ExecuteTime": {
     "end_time": "2019-08-01T17:43:24.968591Z",
     "start_time": "2019-08-01T17:43:24.962590Z"
    }
   },
   "outputs": [],
   "source": [
    "try:\n",
    "    ContinuousRangePartitioning(df['RAD'])\n",
    "except TypeError as te:\n",
    "    print(te)"
   ]
  },
  {
   "cell_type": "markdown",
   "metadata": {},
   "source": [
    "# sklearn and categorical partitioning"
   ]
  },
  {
   "cell_type": "code",
   "execution_count": null,
   "metadata": {
    "ExecuteTime": {
     "end_time": "2019-08-01T17:43:29.161746Z",
     "start_time": "2019-08-01T17:43:24.971591Z"
    }
   },
   "outputs": [],
   "source": [
    "partitioning_cat = CategoryPartitioning(df['RAD'])\n",
    "\n",
    "simulation_cat = simulator.simulate_feature(feature_name='RAD', partitioning=partitioning_cat)"
   ]
  },
  {
   "cell_type": "code",
   "execution_count": null,
   "metadata": {
    "ExecuteTime": {
     "end_time": "2019-08-01T17:43:29.443572Z",
     "start_time": "2019-08-01T17:43:29.163539Z"
    },
    "scrolled": false
   },
   "outputs": [],
   "source": [
    "SimulationDrawer(\n",
    "    title='title',\n",
    "    simulation=simulation_cat,\n",
    "    style=SimulationPlotStyle()\n",
    ").draw()"
   ]
  },
  {
   "cell_type": "markdown",
   "metadata": {},
   "source": [
    "# LGBM model"
   ]
  },
  {
   "cell_type": "code",
   "execution_count": null,
   "metadata": {
    "ExecuteTime": {
     "end_time": "2019-08-01T17:43:29.464536Z",
     "start_time": "2019-08-01T17:43:29.445536Z"
    }
   },
   "outputs": [],
   "source": [
    "boston = datasets.load_boston()\n",
    "\n",
    "df = pd.DataFrame(data=boston.data, columns=boston.feature_names).astype({'RAD':'str'}).astype({'RAD':'category'})\n",
    "\n",
    "numerical_features = df.columns.drop('RAD')\n",
    "categorical_features = ['RAD']\n",
    "\n",
    "df['price'] = boston.target"
   ]
  },
  {
   "cell_type": "code",
   "execution_count": null,
   "metadata": {
    "ExecuteTime": {
     "end_time": "2019-08-01T17:43:29.472536Z",
     "start_time": "2019-08-01T17:43:29.467542Z"
    }
   },
   "outputs": [],
   "source": [
    "sample = Sample(observations=df, target_name='price')"
   ]
  },
  {
   "cell_type": "code",
   "execution_count": null,
   "metadata": {
    "ExecuteTime": {
     "end_time": "2019-08-01T17:43:29.487583Z",
     "start_time": "2019-08-01T17:43:29.474536Z"
    }
   },
   "outputs": [],
   "source": [
    "model_lgbm = ModelPipelineDF(predictor=LGBMRegressorDF(n_estimators=10), preprocessing=None)"
   ]
  },
  {
   "cell_type": "code",
   "execution_count": null,
   "metadata": {
    "ExecuteTime": {
     "end_time": "2019-08-01T17:43:29.502540Z",
     "start_time": "2019-08-01T17:43:29.490538Z"
    }
   },
   "outputs": [],
   "source": [
    "cv = CircularCrossValidator()\n",
    "\n",
    "predictor_lgbm = RegressorFitCV(model=model_lgbm, cv=cv, sample=sample)\n",
    "\n",
    "simulator_lgbm =UnivariateSimulator(model_fit=predictor_lgbm)"
   ]
  },
  {
   "cell_type": "markdown",
   "metadata": {},
   "source": [
    "# lgbm and continuous partitioning"
   ]
  },
  {
   "cell_type": "code",
   "execution_count": null,
   "metadata": {
    "ExecuteTime": {
     "end_time": "2019-08-01T17:43:44.722775Z",
     "start_time": "2019-08-01T17:43:29.506538Z"
    }
   },
   "outputs": [],
   "source": [
    "partitioning = ContinuousRangePartitioning(df['AGE'])\n",
    "\n",
    "simulation_lgbm = simulator_lgbm.simulate_feature(feature_name='AGE', partitioning=partitioning)"
   ]
  },
  {
   "cell_type": "code",
   "execution_count": null,
   "metadata": {
    "ExecuteTime": {
     "end_time": "2019-08-01T17:43:45.011654Z",
     "start_time": "2019-08-01T17:43:44.724659Z"
    },
    "scrolled": true
   },
   "outputs": [],
   "source": [
    "SimulationDrawer(\n",
    "    title='title',\n",
    "    simulation=simulation_lgbm,\n",
    "    style=SimulationPlotStyle()\n",
    ").draw()"
   ]
  },
  {
   "cell_type": "markdown",
   "metadata": {},
   "source": [
    "# lgbm and categorical partitioning"
   ]
  },
  {
   "cell_type": "code",
   "execution_count": null,
   "metadata": {
    "ExecuteTime": {
     "end_time": "2019-08-01T17:43:54.060156Z",
     "start_time": "2019-08-01T17:43:45.015655Z"
    }
   },
   "outputs": [],
   "source": [
    "partitioning_cat = CategoryPartitioning(df['RAD'])\n",
    "\n",
    "simulation_cat = simulator_lgbm.simulate_feature(feature_name='RAD', partitioning=partitioning_cat)"
   ]
  },
  {
   "cell_type": "code",
   "execution_count": null,
   "metadata": {
    "ExecuteTime": {
     "end_time": "2019-08-01T17:43:54.319119Z",
     "start_time": "2019-08-01T17:43:54.062122Z"
    },
    "scrolled": false
   },
   "outputs": [],
   "source": [
    "SimulationDrawer(\n",
    "    title='title',\n",
    "    simulation=simulation_cat,\n",
    "    style=SimulationPlotStyle()\n",
    ").draw()"
   ]
  },
  {
   "cell_type": "code",
   "execution_count": null,
   "metadata": {
    "ExecuteTime": {
     "end_time": "2019-08-01T17:43:54.327120Z",
     "start_time": "2019-08-01T17:43:54.321118Z"
    }
   },
   "outputs": [],
   "source": [
    "simulation_cat.median_uplift"
   ]
  }
 ],
 "metadata": {
  "kernelspec": {
   "display_name": "Python 3",
   "language": "python",
   "name": "python3"
  },
  "language_info": {
   "codemirror_mode": {
    "name": "ipython",
    "version": 3
   },
   "file_extension": ".py",
   "mimetype": "text/x-python",
   "name": "python",
   "nbconvert_exporter": "python",
   "pygments_lexer": "ipython3",
   "version": "3.6.7"
  },
  "toc": {
   "base_numbering": 1,
   "nav_menu": {},
   "number_sections": true,
   "sideBar": true,
   "skip_h1_title": false,
   "title_cell": "Table of Contents",
   "title_sidebar": "Contents",
   "toc_cell": false,
   "toc_position": {},
   "toc_section_display": true,
   "toc_window_display": false
  }
 },
 "nbformat": 4,
 "nbformat_minor": 2
}
