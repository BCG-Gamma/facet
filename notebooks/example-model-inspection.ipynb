{
 "cells": [
  {
   "cell_type": "code",
   "execution_count": null,
   "metadata": {
    "pycharm": {
     "is_executing": false
    }
   },
   "outputs": [],
   "source": [
    "import sys\n",
    "\n",
    "def set_paths():\n",
    "    import os\n",
    "    \n",
    "    global cwd\n",
    "    \n",
    "    if 'cwd' not in globals():\n",
    "        cwd = os.path.join(os.getcwd(), os.pardir)\n",
    "        os.chdir(cwd)\n",
    "    \n",
    "    print(f\"working dir is '{os.getcwd()}'\")\n",
    "                             \n",
    "    PATH_YIELD_ENGINE = 'src/'\n",
    "    if PATH_YIELD_ENGINE not in sys.path:\n",
    "        sys.path.insert(0, PATH_YIELD_ENGINE)\n",
    "    \n",
    "    print(f\"added `{sys.path[0]}` to python paths\")\n",
    "\n",
    "set_paths()\n",
    "    \n",
    "import numpy as np\n",
    "import pandas as pd\n",
    "\n",
    "from lightgbm.sklearn import LGBMRegressor\n",
    "from sklearn.tree import DecisionTreeRegressor, ExtraTreeRegressor\n",
    "from sklearn.ensemble import AdaBoostRegressor, RandomForestRegressor\n",
    "from sklearn.svm import SVR\n",
    "from sklearn.linear_model import LinearRegression\n",
    "from sklearn.metrics import make_scorer, mean_squared_error\n",
    "\n",
    "from yieldengine import Sample\n",
    "from yieldengine.model.validation import CircularCrossValidator\n",
    "from yieldengine.model.selection import ModelRanker, Model, ModelRanking\n",
    "from yieldengine.preprocessing import SimpleSamplePreprocessor\n",
    "from yieldengine.model.inspection import ModelInspector"
   ]
  },
  {
   "cell_type": "code",
   "execution_count": null,
   "metadata": {
    "pycharm": {
     "is_executing": false
    }
   },
   "outputs": [],
   "source": [
    "# load the data file\n",
    "from tests.paths import TEST_DATA_CSV\n",
    "import tests\n",
    "\n",
    "inputfile_config = tests.read_test_config(section=\"inputfile\")\n",
    "\n",
    "batch_file = pd.read_csv(\n",
    "    filepath_or_buffer=TEST_DATA_CSV,\n",
    "    delimiter=inputfile_config[\"delimiter\"],\n",
    "    header=inputfile_config[\"header\"],\n",
    "    decimal=inputfile_config[\"decimal\"],\n",
    ")"
   ]
  },
  {
   "cell_type": "code",
   "execution_count": null,
   "metadata": {
    "pycharm": {
     "is_executing": false
    }
   },
   "outputs": [],
   "source": [
    "batch_file = batch_file.drop(columns=[\"Date\", \"Batch Id\"])\n",
    "\n",
    "# replace values of +/- infinite with n/a, then drop all n/a columns:\n",
    "batch_file = batch_file.replace([np.inf, -np.inf], np.nan).dropna(\n",
    "    axis=1, how=\"all\"\n",
    ")\n",
    "batch_file.head()"
   ]
  },
  {
   "cell_type": "code",
   "execution_count": null,
   "metadata": {
    "pycharm": {
     "is_executing": false
    }
   },
   "outputs": [],
   "source": [
    "# define a Sample based on the test batch_file\n",
    "sample = Sample(observations=batch_file, target_name=\"Yield\")\n",
    "sample"
   ]
  },
  {
   "cell_type": "code",
   "execution_count": null,
   "metadata": {
    "pycharm": {
     "is_executing": false
    }
   },
   "outputs": [],
   "source": [
    "# define the circular cross validator with 10 folds\n",
    "circular_cv = CircularCrossValidator(test_ratio=0.2, num_folds=10)\n",
    "\n",
    "circular_cv"
   ]
  },
  {
   "cell_type": "code",
   "execution_count": null,
   "metadata": {
    "pycharm": {
     "is_executing": false
    }
   },
   "outputs": [],
   "source": [
    "# define how features should be preprocessed\n",
    "impute_only_preprocessor = SimpleSamplePreprocessor(\n",
    "        impute_mean=sample.features_by_type(sample.DTYPE_NUMERICAL)\n",
    ")\n",
    "\n",
    "full_preprocessor = SimpleSamplePreprocessor(\n",
    "    impute_mean=sample.features_by_type(sample.DTYPE_NUMERICAL),\n",
    "    one_hot_encode=sample.features_by_type(sample.DTYPE_OBJECT)\n",
    ")\n"
   ]
  },
  {
   "cell_type": "code",
   "execution_count": null,
   "metadata": {},
   "outputs": [],
   "source": [
    "mi = ModelInspector(estimator=LGBMRegressor(),\n",
    "                   cv=circular_cv,\n",
    "                   sample=impute_only_preprocessor.process(sample))\n"
   ]
  },
  {
   "cell_type": "code",
   "execution_count": null,
   "metadata": {},
   "outputs": [],
   "source": [
    "mi.shap_matrix().head()"
   ]
  },
  {
   "cell_type": "code",
   "execution_count": null,
   "metadata": {},
   "outputs": [],
   "source": [
    "mi.feature_dependencies().head()"
   ]
  },
  {
   "cell_type": "code",
   "execution_count": null,
   "metadata": {},
   "outputs": [],
   "source": [
    "mi.plot_feature_dendrogramm()"
   ]
  }
 ],
 "metadata": {
  "kernelspec": {
   "display_name": "Python 3",
   "language": "python",
   "name": "python3"
  },
  "language_info": {
   "codemirror_mode": {
    "name": "ipython",
    "version": 3
   },
   "file_extension": ".py",
   "mimetype": "text/x-python",
   "name": "python",
   "nbconvert_exporter": "python",
   "pygments_lexer": "ipython3",
   "version": "3.6.7"
  },
  "pycharm": {
   "stem_cell": {
    "cell_type": "raw",
    "metadata": {
     "collapsed": false
    },
    "source": []
   }
  }
 },
 "nbformat": 4,
 "nbformat_minor": 2
}
