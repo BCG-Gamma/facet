{
 "cells": [
  {
   "cell_type": "markdown",
   "metadata": {},
   "source": [
    "# Front matter\n",
    "\n",
    "_Important_: On first run, set CACHING to True"
   ]
  },
  {
   "cell_type": "code",
   "execution_count": 1,
   "metadata": {
    "ExecuteTime": {
     "end_time": "2019-06-26T08:04:03.904299Z",
     "start_time": "2019-06-26T08:04:03.888713Z"
    },
    "pycharm": {
     "is_executing": false
    }
   },
   "outputs": [],
   "source": [
    "CACHING = False\n",
    "EXPERIMENTAL = False"
   ]
  },
  {
   "cell_type": "markdown",
   "metadata": {
    "pycharm": {
     "is_executing": false,
     "name": "#%% md\n"
    }
   },
   "source": [
    "## Set path"
   ]
  },
  {
   "cell_type": "code",
   "execution_count": 2,
   "metadata": {
    "ExecuteTime": {
     "end_time": "2019-06-26T08:04:03.935548Z",
     "start_time": "2019-06-26T08:04:03.904299Z"
    },
    "pycharm": {
     "is_executing": false,
     "name": "#%%\n"
    }
   },
   "outputs": [
    {
     "name": "stdout",
     "output_type": "stream",
     "text": [
      "working dir is 'C:\\Users\\martin florent\\Documents\\projects\\yield-engine'\n",
      "added `src` to python paths\n"
     ]
    }
   ],
   "source": [
    "PATH_YIELD_ENGINE = 'src'\n",
    "\n",
    "def set_paths() -> None:\n",
    "    \"\"\"\n",
    "    set correct working directory and python path when started from within PyCharm\n",
    "    \"\"\"\n",
    "    import sys\n",
    "    import os\n",
    "    \n",
    "    if 'cwd' not in globals():\n",
    "        # noinspection PyGlobalUndefined\n",
    "        global cwd\n",
    "        cwd = os.path.join(os.getcwd(), os.pardir)\n",
    "        os.chdir(cwd)\n",
    "    \n",
    "    print(f\"working dir is '{os.getcwd()}'\")\n",
    "                             \n",
    "    if PATH_YIELD_ENGINE not in sys.path:\n",
    "        sys.path.insert(0, PATH_YIELD_ENGINE)\n",
    "    \n",
    "    print(f\"added `{sys.path[0]}` to python paths\")\n",
    "\n",
    "set_paths()"
   ]
  },
  {
   "cell_type": "markdown",
   "metadata": {},
   "source": [
    "## Imports"
   ]
  },
  {
   "cell_type": "code",
   "execution_count": 21,
   "metadata": {
    "ExecuteTime": {
     "end_time": "2019-06-26T08:11:16.780012Z",
     "start_time": "2019-06-26T08:11:16.748754Z"
    },
    "pycharm": {
     "is_executing": false,
     "name": "#%%  \n"
    }
   },
   "outputs": [],
   "source": [
    "import logging\n",
    "import os\n",
    "import pickle\n",
    "\n",
    "import numpy as np\n",
    "import pandas as pd\n",
    "from lightgbm.sklearn import LGBMRegressor\n",
    "from matplotlib import cm\n",
    "from matplotlib.pyplot import figure\n",
    "from matplotlib.ticker import ScalarFormatter\n",
    "from sklearn.ensemble import RandomForestRegressor\n",
    "from boruta import BorutaPy\n",
    "import matplotlib.pyplot as plt\n",
    "\n",
    "import tests\n",
    "from tests.model import make_simple_transformer\n",
    "from tests.paths import TEST_DATA_CSV\n",
    "from yieldengine import Sample\n",
    "from yieldengine.dendrogram import DendrogramDrawer\n",
    "from yieldengine.dendrogram.style import FeatMapStyle, LineStyle\n",
    "from yieldengine.preprocessing.impute import SimpleImputerDF\n",
    "from yieldengine.preprocessing.selection import BorutaDF\n",
    "from yieldengine.model.prediction import PredictorCV\n",
    "from yieldengine.df.pipeline import PipelineDF\n",
    "from yieldengine.model.selection import Model, ModelGrid, ModelRanker\n",
    "from yieldengine.model.validation import CircularCrossValidator\n",
    "from yieldengine.simulation import UnivariateSimulation"
   ]
  },
  {
   "cell_type": "code",
   "execution_count": 4,
   "metadata": {
    "ExecuteTime": {
     "end_time": "2019-06-26T08:04:11.451386Z",
     "start_time": "2019-06-26T08:04:11.435753Z"
    },
    "pycharm": {
     "is_executing": false
    }
   },
   "outputs": [],
   "source": [
    "%matplotlib inline"
   ]
  },
  {
   "cell_type": "code",
   "execution_count": 5,
   "metadata": {
    "ExecuteTime": {
     "end_time": "2019-06-26T08:04:11.467007Z",
     "start_time": "2019-06-26T08:04:11.451386Z"
    },
    "pycharm": {
     "is_executing": false
    }
   },
   "outputs": [],
   "source": [
    "PATH_TMP = 'tmp'\n",
    "MI_PKL = os.path.join(PATH_TMP, 'model_inspector.pkl')\n",
    "MP_PKL = os.path.join(PATH_TMP, 'model_predictor.pkl')"
   ]
  },
  {
   "cell_type": "code",
   "execution_count": 6,
   "metadata": {
    "ExecuteTime": {
     "end_time": "2019-06-26T08:04:11.482632Z",
     "start_time": "2019-06-26T08:04:11.467007Z"
    },
    "pycharm": {
     "is_executing": false
    }
   },
   "outputs": [],
   "source": [
    "logging.basicConfig(level=logging.DEBUG)\n",
    "logging.getLogger('matplotlib').setLevel(logging.WARNING)"
   ]
  },
  {
   "cell_type": "markdown",
   "metadata": {
    "pycharm": {
     "is_executing": false,
     "name": "#%% md\n"
    }
   },
   "source": [
    "## Load the data file"
   ]
  },
  {
   "cell_type": "code",
   "execution_count": 7,
   "metadata": {
    "ExecuteTime": {
     "end_time": "2019-06-26T08:04:11.609997Z",
     "start_time": "2019-06-26T08:04:11.482632Z"
    },
    "pycharm": {
     "is_executing": false,
     "name": "#%%\n"
    }
   },
   "outputs": [
    {
     "data": {
      "text/html": [
       "<div>\n",
       "<style scoped>\n",
       "    .dataframe tbody tr th:only-of-type {\n",
       "        vertical-align: middle;\n",
       "    }\n",
       "\n",
       "    .dataframe tbody tr th {\n",
       "        vertical-align: top;\n",
       "    }\n",
       "\n",
       "    .dataframe thead th {\n",
       "        text-align: right;\n",
       "    }\n",
       "</style>\n",
       "<table border=\"1\" class=\"dataframe\">\n",
       "  <thead>\n",
       "    <tr style=\"text-align: right;\">\n",
       "      <th></th>\n",
       "      <th>Step4 Fermentation Sensor Data Phase2 Pressure Val04 (mbar)</th>\n",
       "      <th>Step4-6 RawMat Vendor Compound09 Purity Loss on Drying (g)</th>\n",
       "      <th>Step6 Fermentation Sensor Data Phase3 Agitation Speed Val03 No1 (rounds per minutes)</th>\n",
       "      <th>Step2 RawMat Internal Compound15 Number Openings (#)</th>\n",
       "      <th>Step3 Media Age at Inoculation (days)</th>\n",
       "      <th>Step3 RawMat Internal Compound15 Number Openings (#)</th>\n",
       "      <th>Step4 RawMat Internal Compound01 QC (id)</th>\n",
       "      <th>Step3 Media Compound17 Age at Inoculation (days)</th>\n",
       "      <th>Step4-6 RawMat Internal Compound18 Age (days)</th>\n",
       "      <th>Step6 RawMat Internal Compound04 Vendor (name)</th>\n",
       "      <th>...</th>\n",
       "      <th>Step3 RawMat Vendor Compound05 Manufacturing Date (numeric date)</th>\n",
       "      <th>Step1 Media Compound17 Weight (ml)</th>\n",
       "      <th>Step5 Fermentation Sensor Data Phase1 Duration (minutes)</th>\n",
       "      <th>Step6 Fermentation Sensor Data Phase3 Agitation Speed Sum No2 (rounds per minutes)</th>\n",
       "      <th>Step6 Fermentation Sensor Data Phase3 Oxygen Val04 (%)</th>\n",
       "      <th>Step6 Fermentation Sensor Data Phase3 Temperature Val03 (°C)</th>\n",
       "      <th>Step6 Media Compound20 Age at Inoculation (days)</th>\n",
       "      <th>Step4 RawMat Vendor Compound12 Manufacturing Date (numeric date)</th>\n",
       "      <th>Step5 Fermentation Wait Duration (minutes)</th>\n",
       "      <th>Step4-6 RawMat Internal Compound04 Age (days)</th>\n",
       "    </tr>\n",
       "  </thead>\n",
       "  <tbody>\n",
       "    <tr>\n",
       "      <th>0</th>\n",
       "      <td>NaN</td>\n",
       "      <td>NaN</td>\n",
       "      <td>NaN</td>\n",
       "      <td>13.0</td>\n",
       "      <td>21.0</td>\n",
       "      <td>13.0</td>\n",
       "      <td>FP</td>\n",
       "      <td>36.0</td>\n",
       "      <td>NaN</td>\n",
       "      <td>COMPOUND PROVIDER INC</td>\n",
       "      <td>...</td>\n",
       "      <td>80953.0</td>\n",
       "      <td>174.907237</td>\n",
       "      <td>NaN</td>\n",
       "      <td>NaN</td>\n",
       "      <td>NaN</td>\n",
       "      <td>NaN</td>\n",
       "      <td>3.0</td>\n",
       "      <td>80963.0</td>\n",
       "      <td>767.0</td>\n",
       "      <td>NaN</td>\n",
       "    </tr>\n",
       "    <tr>\n",
       "      <th>1</th>\n",
       "      <td>NaN</td>\n",
       "      <td>NaN</td>\n",
       "      <td>NaN</td>\n",
       "      <td>13.0</td>\n",
       "      <td>21.0</td>\n",
       "      <td>13.0</td>\n",
       "      <td>FP</td>\n",
       "      <td>36.0</td>\n",
       "      <td>NaN</td>\n",
       "      <td>COMPOUND PROVIDER INC</td>\n",
       "      <td>...</td>\n",
       "      <td>80953.0</td>\n",
       "      <td>174.907237</td>\n",
       "      <td>NaN</td>\n",
       "      <td>NaN</td>\n",
       "      <td>NaN</td>\n",
       "      <td>NaN</td>\n",
       "      <td>3.0</td>\n",
       "      <td>80963.0</td>\n",
       "      <td>767.0</td>\n",
       "      <td>NaN</td>\n",
       "    </tr>\n",
       "    <tr>\n",
       "      <th>2</th>\n",
       "      <td>NaN</td>\n",
       "      <td>NaN</td>\n",
       "      <td>NaN</td>\n",
       "      <td>13.0</td>\n",
       "      <td>21.0</td>\n",
       "      <td>13.0</td>\n",
       "      <td>FP</td>\n",
       "      <td>36.0</td>\n",
       "      <td>NaN</td>\n",
       "      <td>COMPOUND PROVIDER INC</td>\n",
       "      <td>...</td>\n",
       "      <td>80953.0</td>\n",
       "      <td>174.907237</td>\n",
       "      <td>NaN</td>\n",
       "      <td>NaN</td>\n",
       "      <td>NaN</td>\n",
       "      <td>NaN</td>\n",
       "      <td>3.0</td>\n",
       "      <td>80963.0</td>\n",
       "      <td>767.0</td>\n",
       "      <td>NaN</td>\n",
       "    </tr>\n",
       "    <tr>\n",
       "      <th>3</th>\n",
       "      <td>790.284723</td>\n",
       "      <td>NaN</td>\n",
       "      <td>417.871938</td>\n",
       "      <td>13.0</td>\n",
       "      <td>25.0</td>\n",
       "      <td>13.0</td>\n",
       "      <td>FP</td>\n",
       "      <td>39.0</td>\n",
       "      <td>NaN</td>\n",
       "      <td>COMPOUND PROVIDER INC</td>\n",
       "      <td>...</td>\n",
       "      <td>80953.0</td>\n",
       "      <td>174.907237</td>\n",
       "      <td>NaN</td>\n",
       "      <td>97499.901386</td>\n",
       "      <td>31.394059</td>\n",
       "      <td>68.835293</td>\n",
       "      <td>4.0</td>\n",
       "      <td>80963.0</td>\n",
       "      <td>727.0</td>\n",
       "      <td>NaN</td>\n",
       "    </tr>\n",
       "    <tr>\n",
       "      <th>4</th>\n",
       "      <td>783.702715</td>\n",
       "      <td>NaN</td>\n",
       "      <td>413.294366</td>\n",
       "      <td>13.0</td>\n",
       "      <td>25.0</td>\n",
       "      <td>13.0</td>\n",
       "      <td>FP</td>\n",
       "      <td>39.0</td>\n",
       "      <td>NaN</td>\n",
       "      <td>COMPOUND PROVIDER INC</td>\n",
       "      <td>...</td>\n",
       "      <td>80953.0</td>\n",
       "      <td>174.907237</td>\n",
       "      <td>NaN</td>\n",
       "      <td>97190.471353</td>\n",
       "      <td>28.432164</td>\n",
       "      <td>68.764230</td>\n",
       "      <td>4.0</td>\n",
       "      <td>80963.0</td>\n",
       "      <td>727.0</td>\n",
       "      <td>NaN</td>\n",
       "    </tr>\n",
       "  </tbody>\n",
       "</table>\n",
       "<p>5 rows × 142 columns</p>\n",
       "</div>"
      ],
      "text/plain": [
       "   Step4 Fermentation Sensor Data Phase2 Pressure Val04 (mbar)  \\\n",
       "0                                                NaN             \n",
       "1                                                NaN             \n",
       "2                                                NaN             \n",
       "3                                         790.284723             \n",
       "4                                         783.702715             \n",
       "\n",
       "   Step4-6 RawMat Vendor Compound09 Purity Loss on Drying (g)  \\\n",
       "0                                                NaN            \n",
       "1                                                NaN            \n",
       "2                                                NaN            \n",
       "3                                                NaN            \n",
       "4                                                NaN            \n",
       "\n",
       "   Step6 Fermentation Sensor Data Phase3 Agitation Speed Val03 No1 (rounds per minutes)  \\\n",
       "0                                                NaN                                      \n",
       "1                                                NaN                                      \n",
       "2                                                NaN                                      \n",
       "3                                         417.871938                                      \n",
       "4                                         413.294366                                      \n",
       "\n",
       "   Step2 RawMat Internal Compound15 Number Openings (#)  \\\n",
       "0                                               13.0      \n",
       "1                                               13.0      \n",
       "2                                               13.0      \n",
       "3                                               13.0      \n",
       "4                                               13.0      \n",
       "\n",
       "   Step3 Media Age at Inoculation (days)  \\\n",
       "0                                   21.0   \n",
       "1                                   21.0   \n",
       "2                                   21.0   \n",
       "3                                   25.0   \n",
       "4                                   25.0   \n",
       "\n",
       "   Step3 RawMat Internal Compound15 Number Openings (#)  \\\n",
       "0                                               13.0      \n",
       "1                                               13.0      \n",
       "2                                               13.0      \n",
       "3                                               13.0      \n",
       "4                                               13.0      \n",
       "\n",
       "  Step4 RawMat Internal Compound01 QC (id)  \\\n",
       "0                                       FP   \n",
       "1                                       FP   \n",
       "2                                       FP   \n",
       "3                                       FP   \n",
       "4                                       FP   \n",
       "\n",
       "   Step3 Media Compound17 Age at Inoculation (days)  \\\n",
       "0                                              36.0   \n",
       "1                                              36.0   \n",
       "2                                              36.0   \n",
       "3                                              39.0   \n",
       "4                                              39.0   \n",
       "\n",
       "   Step4-6 RawMat Internal Compound18 Age (days)  \\\n",
       "0                                            NaN   \n",
       "1                                            NaN   \n",
       "2                                            NaN   \n",
       "3                                            NaN   \n",
       "4                                            NaN   \n",
       "\n",
       "  Step6 RawMat Internal Compound04 Vendor (name)  ...  \\\n",
       "0                          COMPOUND PROVIDER INC  ...   \n",
       "1                          COMPOUND PROVIDER INC  ...   \n",
       "2                          COMPOUND PROVIDER INC  ...   \n",
       "3                          COMPOUND PROVIDER INC  ...   \n",
       "4                          COMPOUND PROVIDER INC  ...   \n",
       "\n",
       "   Step3 RawMat Vendor Compound05 Manufacturing Date (numeric date)  \\\n",
       "0                                            80953.0                  \n",
       "1                                            80953.0                  \n",
       "2                                            80953.0                  \n",
       "3                                            80953.0                  \n",
       "4                                            80953.0                  \n",
       "\n",
       "   Step1 Media Compound17 Weight (ml)  \\\n",
       "0                          174.907237   \n",
       "1                          174.907237   \n",
       "2                          174.907237   \n",
       "3                          174.907237   \n",
       "4                          174.907237   \n",
       "\n",
       "   Step5 Fermentation Sensor Data Phase1 Duration (minutes)  \\\n",
       "0                                                NaN          \n",
       "1                                                NaN          \n",
       "2                                                NaN          \n",
       "3                                                NaN          \n",
       "4                                                NaN          \n",
       "\n",
       "   Step6 Fermentation Sensor Data Phase3 Agitation Speed Sum No2 (rounds per minutes)  \\\n",
       "0                                                NaN                                    \n",
       "1                                                NaN                                    \n",
       "2                                                NaN                                    \n",
       "3                                       97499.901386                                    \n",
       "4                                       97190.471353                                    \n",
       "\n",
       "   Step6 Fermentation Sensor Data Phase3 Oxygen Val04 (%)  \\\n",
       "0                                                NaN        \n",
       "1                                                NaN        \n",
       "2                                                NaN        \n",
       "3                                          31.394059        \n",
       "4                                          28.432164        \n",
       "\n",
       "   Step6 Fermentation Sensor Data Phase3 Temperature Val03 (°C)  \\\n",
       "0                                                NaN              \n",
       "1                                                NaN              \n",
       "2                                                NaN              \n",
       "3                                          68.835293              \n",
       "4                                          68.764230              \n",
       "\n",
       "  Step6 Media Compound20 Age at Inoculation (days)  \\\n",
       "0                                              3.0   \n",
       "1                                              3.0   \n",
       "2                                              3.0   \n",
       "3                                              4.0   \n",
       "4                                              4.0   \n",
       "\n",
       "   Step4 RawMat Vendor Compound12 Manufacturing Date (numeric date)  \\\n",
       "0                                            80963.0                  \n",
       "1                                            80963.0                  \n",
       "2                                            80963.0                  \n",
       "3                                            80963.0                  \n",
       "4                                            80963.0                  \n",
       "\n",
       "   Step5 Fermentation Wait Duration (minutes)  \\\n",
       "0                                       767.0   \n",
       "1                                       767.0   \n",
       "2                                       767.0   \n",
       "3                                       727.0   \n",
       "4                                       727.0   \n",
       "\n",
       "   Step4-6 RawMat Internal Compound04 Age (days)  \n",
       "0                                            NaN  \n",
       "1                                            NaN  \n",
       "2                                            NaN  \n",
       "3                                            NaN  \n",
       "4                                            NaN  \n",
       "\n",
       "[5 rows x 142 columns]"
      ]
     },
     "execution_count": 7,
     "metadata": {},
     "output_type": "execute_result"
    }
   ],
   "source": [
    "inputfile_config = tests.read_test_config(section=\"inputfile\")\n",
    "\n",
    "batch_df = pd.read_csv(\n",
    "    filepath_or_buffer=TEST_DATA_CSV,\n",
    "    delimiter=inputfile_config[\"delimiter\"],\n",
    "    header=inputfile_config[\"header\"],\n",
    "    decimal=inputfile_config[\"decimal\"],\n",
    ")\n",
    "\n",
    "batch_df = batch_df.drop(columns=[\"Date\", \"Batch Id\"])\n",
    "\n",
    "# replace values of +/- infinite with n/a, then drop all n/a columns:\n",
    "batch_df = batch_df.replace([np.inf, -np.inf], np.nan).dropna(\n",
    "    axis=1, how=\"all\"\n",
    ")\n",
    "batch_df.head()"
   ]
  },
  {
   "cell_type": "code",
   "execution_count": null,
   "metadata": {},
   "outputs": [],
   "source": []
  },
  {
   "cell_type": "code",
   "execution_count": 42,
   "metadata": {
    "ExecuteTime": {
     "end_time": "2019-06-26T08:42:09.720861Z",
     "start_time": "2019-06-26T08:42:09.705237Z"
    },
    "pycharm": {
     "is_executing": false
    }
   },
   "outputs": [
    {
     "data": {
      "text/plain": [
       "<yieldengine.Sample at 0x1d87d8d2588>"
      ]
     },
     "execution_count": 42,
     "metadata": {},
     "output_type": "execute_result"
    }
   ],
   "source": [
    "TARGET = \"Yield\"\n",
    "# define a Sample based on the test batch_file\n",
    "sample = Sample(observations=batch_df, target_name=TARGET)\n",
    "sample"
   ]
  },
  {
   "cell_type": "code",
   "execution_count": 9,
   "metadata": {
    "ExecuteTime": {
     "end_time": "2019-06-26T08:04:11.641248Z",
     "start_time": "2019-06-26T08:04:11.625627Z"
    },
    "pycharm": {
     "is_executing": false
    }
   },
   "outputs": [
    {
     "data": {
      "text/plain": [
       "CircularCrossValidator(num_splits=None, test_ratio=None)"
      ]
     },
     "execution_count": 9,
     "metadata": {},
     "output_type": "execute_result"
    }
   ],
   "source": [
    "# define the circular cross validator with 10 folds\n",
    "circular_cv = CircularCrossValidator(test_ratio=0.2, num_splits=10)\n",
    "\n",
    "circular_cv"
   ]
  },
  {
   "cell_type": "code",
   "execution_count": 10,
   "metadata": {
    "ExecuteTime": {
     "end_time": "2019-06-26T08:06:36.240508Z",
     "start_time": "2019-06-26T08:04:11.641248Z"
    }
   },
   "outputs": [
    {
     "name": "stdout",
     "output_type": "stream",
     "text": [
      "Iteration: \t1 / 100\n",
      "Confirmed: \t0\n",
      "Tentative: \t170\n",
      "Rejected: \t0\n",
      "Iteration: \t2 / 100\n",
      "Confirmed: \t0\n",
      "Tentative: \t170\n",
      "Rejected: \t0\n",
      "Iteration: \t3 / 100\n",
      "Confirmed: \t0\n",
      "Tentative: \t170\n",
      "Rejected: \t0\n",
      "Iteration: \t4 / 100\n",
      "Confirmed: \t0\n",
      "Tentative: \t170\n",
      "Rejected: \t0\n",
      "Iteration: \t5 / 100\n",
      "Confirmed: \t0\n",
      "Tentative: \t170\n",
      "Rejected: \t0\n",
      "Iteration: \t6 / 100\n",
      "Confirmed: \t0\n",
      "Tentative: \t170\n",
      "Rejected: \t0\n",
      "Iteration: \t7 / 100\n",
      "Confirmed: \t0\n",
      "Tentative: \t170\n",
      "Rejected: \t0\n",
      "Iteration: \t8 / 100\n",
      "Confirmed: \t29\n",
      "Tentative: \t24\n",
      "Rejected: \t117\n"
     ]
    },
    {
     "name": "stderr",
     "output_type": "stream",
     "text": [
      "C:\\Users\\martin florent\\AppData\\Local\\Continuum\\anaconda3\\lib\\site-packages\\boruta\\boruta_py.py:418: RuntimeWarning: invalid value encountered in greater\n",
      "  hits = np.where(cur_imp[0] > imp_sha_max)[0]\n"
     ]
    },
    {
     "name": "stdout",
     "output_type": "stream",
     "text": [
      "Iteration: \t9 / 100\n",
      "Confirmed: \t29\n",
      "Tentative: \t24\n",
      "Rejected: \t117\n"
     ]
    },
    {
     "name": "stderr",
     "output_type": "stream",
     "text": [
      "C:\\Users\\martin florent\\AppData\\Local\\Continuum\\anaconda3\\lib\\site-packages\\boruta\\boruta_py.py:418: RuntimeWarning: invalid value encountered in greater\n",
      "  hits = np.where(cur_imp[0] > imp_sha_max)[0]\n"
     ]
    },
    {
     "name": "stdout",
     "output_type": "stream",
     "text": [
      "Iteration: \t10 / 100\n",
      "Confirmed: \t29\n",
      "Tentative: \t24\n",
      "Rejected: \t117\n"
     ]
    },
    {
     "name": "stderr",
     "output_type": "stream",
     "text": [
      "C:\\Users\\martin florent\\AppData\\Local\\Continuum\\anaconda3\\lib\\site-packages\\boruta\\boruta_py.py:418: RuntimeWarning: invalid value encountered in greater\n",
      "  hits = np.where(cur_imp[0] > imp_sha_max)[0]\n"
     ]
    },
    {
     "name": "stdout",
     "output_type": "stream",
     "text": [
      "Iteration: \t11 / 100\n",
      "Confirmed: \t29\n",
      "Tentative: \t24\n",
      "Rejected: \t117\n"
     ]
    },
    {
     "name": "stderr",
     "output_type": "stream",
     "text": [
      "C:\\Users\\martin florent\\AppData\\Local\\Continuum\\anaconda3\\lib\\site-packages\\boruta\\boruta_py.py:418: RuntimeWarning: invalid value encountered in greater\n",
      "  hits = np.where(cur_imp[0] > imp_sha_max)[0]\n"
     ]
    },
    {
     "name": "stdout",
     "output_type": "stream",
     "text": [
      "Iteration: \t12 / 100\n",
      "Confirmed: \t31\n",
      "Tentative: \t22\n",
      "Rejected: \t117\n"
     ]
    },
    {
     "name": "stderr",
     "output_type": "stream",
     "text": [
      "C:\\Users\\martin florent\\AppData\\Local\\Continuum\\anaconda3\\lib\\site-packages\\boruta\\boruta_py.py:418: RuntimeWarning: invalid value encountered in greater\n",
      "  hits = np.where(cur_imp[0] > imp_sha_max)[0]\n"
     ]
    },
    {
     "name": "stdout",
     "output_type": "stream",
     "text": [
      "Iteration: \t13 / 100\n",
      "Confirmed: \t31\n",
      "Tentative: \t20\n",
      "Rejected: \t119\n"
     ]
    },
    {
     "name": "stderr",
     "output_type": "stream",
     "text": [
      "C:\\Users\\martin florent\\AppData\\Local\\Continuum\\anaconda3\\lib\\site-packages\\boruta\\boruta_py.py:418: RuntimeWarning: invalid value encountered in greater\n",
      "  hits = np.where(cur_imp[0] > imp_sha_max)[0]\n"
     ]
    },
    {
     "name": "stdout",
     "output_type": "stream",
     "text": [
      "Iteration: \t14 / 100\n",
      "Confirmed: \t31\n",
      "Tentative: \t20\n",
      "Rejected: \t119\n"
     ]
    },
    {
     "name": "stderr",
     "output_type": "stream",
     "text": [
      "C:\\Users\\martin florent\\AppData\\Local\\Continuum\\anaconda3\\lib\\site-packages\\boruta\\boruta_py.py:418: RuntimeWarning: invalid value encountered in greater\n",
      "  hits = np.where(cur_imp[0] > imp_sha_max)[0]\n"
     ]
    },
    {
     "name": "stdout",
     "output_type": "stream",
     "text": [
      "Iteration: \t15 / 100\n",
      "Confirmed: \t31\n",
      "Tentative: \t20\n",
      "Rejected: \t119\n"
     ]
    },
    {
     "name": "stderr",
     "output_type": "stream",
     "text": [
      "C:\\Users\\martin florent\\AppData\\Local\\Continuum\\anaconda3\\lib\\site-packages\\boruta\\boruta_py.py:418: RuntimeWarning: invalid value encountered in greater\n",
      "  hits = np.where(cur_imp[0] > imp_sha_max)[0]\n"
     ]
    },
    {
     "name": "stdout",
     "output_type": "stream",
     "text": [
      "Iteration: \t16 / 100\n",
      "Confirmed: \t31\n",
      "Tentative: \t17\n",
      "Rejected: \t122\n"
     ]
    },
    {
     "name": "stderr",
     "output_type": "stream",
     "text": [
      "C:\\Users\\martin florent\\AppData\\Local\\Continuum\\anaconda3\\lib\\site-packages\\boruta\\boruta_py.py:418: RuntimeWarning: invalid value encountered in greater\n",
      "  hits = np.where(cur_imp[0] > imp_sha_max)[0]\n"
     ]
    },
    {
     "name": "stdout",
     "output_type": "stream",
     "text": [
      "Iteration: \t17 / 100\n",
      "Confirmed: \t31\n",
      "Tentative: \t17\n",
      "Rejected: \t122\n"
     ]
    },
    {
     "name": "stderr",
     "output_type": "stream",
     "text": [
      "C:\\Users\\martin florent\\AppData\\Local\\Continuum\\anaconda3\\lib\\site-packages\\boruta\\boruta_py.py:418: RuntimeWarning: invalid value encountered in greater\n",
      "  hits = np.where(cur_imp[0] > imp_sha_max)[0]\n"
     ]
    },
    {
     "name": "stdout",
     "output_type": "stream",
     "text": [
      "Iteration: \t18 / 100\n",
      "Confirmed: \t31\n",
      "Tentative: \t17\n",
      "Rejected: \t122\n"
     ]
    },
    {
     "name": "stderr",
     "output_type": "stream",
     "text": [
      "C:\\Users\\martin florent\\AppData\\Local\\Continuum\\anaconda3\\lib\\site-packages\\boruta\\boruta_py.py:418: RuntimeWarning: invalid value encountered in greater\n",
      "  hits = np.where(cur_imp[0] > imp_sha_max)[0]\n"
     ]
    },
    {
     "name": "stdout",
     "output_type": "stream",
     "text": [
      "Iteration: \t19 / 100\n",
      "Confirmed: \t31\n",
      "Tentative: \t17\n",
      "Rejected: \t122\n"
     ]
    },
    {
     "name": "stderr",
     "output_type": "stream",
     "text": [
      "C:\\Users\\martin florent\\AppData\\Local\\Continuum\\anaconda3\\lib\\site-packages\\boruta\\boruta_py.py:418: RuntimeWarning: invalid value encountered in greater\n",
      "  hits = np.where(cur_imp[0] > imp_sha_max)[0]\n"
     ]
    },
    {
     "name": "stdout",
     "output_type": "stream",
     "text": [
      "Iteration: \t20 / 100\n",
      "Confirmed: \t31\n",
      "Tentative: \t17\n",
      "Rejected: \t122\n"
     ]
    },
    {
     "name": "stderr",
     "output_type": "stream",
     "text": [
      "C:\\Users\\martin florent\\AppData\\Local\\Continuum\\anaconda3\\lib\\site-packages\\boruta\\boruta_py.py:418: RuntimeWarning: invalid value encountered in greater\n",
      "  hits = np.where(cur_imp[0] > imp_sha_max)[0]\n"
     ]
    },
    {
     "name": "stdout",
     "output_type": "stream",
     "text": [
      "Iteration: \t21 / 100\n",
      "Confirmed: \t31\n",
      "Tentative: \t16\n",
      "Rejected: \t123\n"
     ]
    },
    {
     "name": "stderr",
     "output_type": "stream",
     "text": [
      "C:\\Users\\martin florent\\AppData\\Local\\Continuum\\anaconda3\\lib\\site-packages\\boruta\\boruta_py.py:418: RuntimeWarning: invalid value encountered in greater\n",
      "  hits = np.where(cur_imp[0] > imp_sha_max)[0]\n"
     ]
    },
    {
     "name": "stdout",
     "output_type": "stream",
     "text": [
      "Iteration: \t22 / 100\n",
      "Confirmed: \t31\n",
      "Tentative: \t16\n",
      "Rejected: \t123\n"
     ]
    },
    {
     "name": "stderr",
     "output_type": "stream",
     "text": [
      "C:\\Users\\martin florent\\AppData\\Local\\Continuum\\anaconda3\\lib\\site-packages\\boruta\\boruta_py.py:418: RuntimeWarning: invalid value encountered in greater\n",
      "  hits = np.where(cur_imp[0] > imp_sha_max)[0]\n"
     ]
    },
    {
     "name": "stdout",
     "output_type": "stream",
     "text": [
      "Iteration: \t23 / 100\n",
      "Confirmed: \t31\n",
      "Tentative: \t16\n",
      "Rejected: \t123\n"
     ]
    },
    {
     "name": "stderr",
     "output_type": "stream",
     "text": [
      "C:\\Users\\martin florent\\AppData\\Local\\Continuum\\anaconda3\\lib\\site-packages\\boruta\\boruta_py.py:418: RuntimeWarning: invalid value encountered in greater\n",
      "  hits = np.where(cur_imp[0] > imp_sha_max)[0]\n"
     ]
    },
    {
     "name": "stdout",
     "output_type": "stream",
     "text": [
      "Iteration: \t24 / 100\n",
      "Confirmed: \t31\n",
      "Tentative: \t16\n",
      "Rejected: \t123\n"
     ]
    },
    {
     "name": "stderr",
     "output_type": "stream",
     "text": [
      "C:\\Users\\martin florent\\AppData\\Local\\Continuum\\anaconda3\\lib\\site-packages\\boruta\\boruta_py.py:418: RuntimeWarning: invalid value encountered in greater\n",
      "  hits = np.where(cur_imp[0] > imp_sha_max)[0]\n"
     ]
    },
    {
     "name": "stdout",
     "output_type": "stream",
     "text": [
      "Iteration: \t25 / 100\n",
      "Confirmed: \t31\n",
      "Tentative: \t16\n",
      "Rejected: \t123\n"
     ]
    },
    {
     "name": "stderr",
     "output_type": "stream",
     "text": [
      "C:\\Users\\martin florent\\AppData\\Local\\Continuum\\anaconda3\\lib\\site-packages\\boruta\\boruta_py.py:418: RuntimeWarning: invalid value encountered in greater\n",
      "  hits = np.where(cur_imp[0] > imp_sha_max)[0]\n"
     ]
    },
    {
     "name": "stdout",
     "output_type": "stream",
     "text": [
      "Iteration: \t26 / 100\n",
      "Confirmed: \t31\n",
      "Tentative: \t14\n",
      "Rejected: \t125\n"
     ]
    },
    {
     "name": "stderr",
     "output_type": "stream",
     "text": [
      "C:\\Users\\martin florent\\AppData\\Local\\Continuum\\anaconda3\\lib\\site-packages\\boruta\\boruta_py.py:418: RuntimeWarning: invalid value encountered in greater\n",
      "  hits = np.where(cur_imp[0] > imp_sha_max)[0]\n"
     ]
    },
    {
     "name": "stdout",
     "output_type": "stream",
     "text": [
      "Iteration: \t27 / 100\n",
      "Confirmed: \t31\n",
      "Tentative: \t14\n",
      "Rejected: \t125\n"
     ]
    },
    {
     "name": "stderr",
     "output_type": "stream",
     "text": [
      "C:\\Users\\martin florent\\AppData\\Local\\Continuum\\anaconda3\\lib\\site-packages\\boruta\\boruta_py.py:418: RuntimeWarning: invalid value encountered in greater\n",
      "  hits = np.where(cur_imp[0] > imp_sha_max)[0]\n"
     ]
    },
    {
     "name": "stdout",
     "output_type": "stream",
     "text": [
      "Iteration: \t28 / 100\n",
      "Confirmed: \t31\n",
      "Tentative: \t14\n",
      "Rejected: \t125\n"
     ]
    },
    {
     "name": "stderr",
     "output_type": "stream",
     "text": [
      "C:\\Users\\martin florent\\AppData\\Local\\Continuum\\anaconda3\\lib\\site-packages\\boruta\\boruta_py.py:418: RuntimeWarning: invalid value encountered in greater\n",
      "  hits = np.where(cur_imp[0] > imp_sha_max)[0]\n"
     ]
    },
    {
     "name": "stdout",
     "output_type": "stream",
     "text": [
      "Iteration: \t29 / 100\n",
      "Confirmed: \t31\n",
      "Tentative: \t14\n",
      "Rejected: \t125\n"
     ]
    },
    {
     "name": "stderr",
     "output_type": "stream",
     "text": [
      "C:\\Users\\martin florent\\AppData\\Local\\Continuum\\anaconda3\\lib\\site-packages\\boruta\\boruta_py.py:418: RuntimeWarning: invalid value encountered in greater\n",
      "  hits = np.where(cur_imp[0] > imp_sha_max)[0]\n"
     ]
    },
    {
     "name": "stdout",
     "output_type": "stream",
     "text": [
      "Iteration: \t30 / 100\n",
      "Confirmed: \t31\n",
      "Tentative: \t13\n",
      "Rejected: \t126\n"
     ]
    },
    {
     "name": "stderr",
     "output_type": "stream",
     "text": [
      "C:\\Users\\martin florent\\AppData\\Local\\Continuum\\anaconda3\\lib\\site-packages\\boruta\\boruta_py.py:418: RuntimeWarning: invalid value encountered in greater\n",
      "  hits = np.where(cur_imp[0] > imp_sha_max)[0]\n"
     ]
    },
    {
     "name": "stdout",
     "output_type": "stream",
     "text": [
      "Iteration: \t31 / 100\n",
      "Confirmed: \t31\n",
      "Tentative: \t13\n",
      "Rejected: \t126\n"
     ]
    },
    {
     "name": "stderr",
     "output_type": "stream",
     "text": [
      "C:\\Users\\martin florent\\AppData\\Local\\Continuum\\anaconda3\\lib\\site-packages\\boruta\\boruta_py.py:418: RuntimeWarning: invalid value encountered in greater\n",
      "  hits = np.where(cur_imp[0] > imp_sha_max)[0]\n"
     ]
    },
    {
     "name": "stdout",
     "output_type": "stream",
     "text": [
      "Iteration: \t32 / 100\n",
      "Confirmed: \t31\n",
      "Tentative: \t13\n",
      "Rejected: \t126\n"
     ]
    },
    {
     "name": "stderr",
     "output_type": "stream",
     "text": [
      "C:\\Users\\martin florent\\AppData\\Local\\Continuum\\anaconda3\\lib\\site-packages\\boruta\\boruta_py.py:418: RuntimeWarning: invalid value encountered in greater\n",
      "  hits = np.where(cur_imp[0] > imp_sha_max)[0]\n"
     ]
    },
    {
     "name": "stdout",
     "output_type": "stream",
     "text": [
      "Iteration: \t33 / 100\n",
      "Confirmed: \t31\n",
      "Tentative: \t13\n",
      "Rejected: \t126\n"
     ]
    },
    {
     "name": "stderr",
     "output_type": "stream",
     "text": [
      "C:\\Users\\martin florent\\AppData\\Local\\Continuum\\anaconda3\\lib\\site-packages\\boruta\\boruta_py.py:418: RuntimeWarning: invalid value encountered in greater\n",
      "  hits = np.where(cur_imp[0] > imp_sha_max)[0]\n"
     ]
    },
    {
     "name": "stdout",
     "output_type": "stream",
     "text": [
      "Iteration: \t34 / 100\n",
      "Confirmed: \t31\n",
      "Tentative: \t13\n",
      "Rejected: \t126\n"
     ]
    },
    {
     "name": "stderr",
     "output_type": "stream",
     "text": [
      "C:\\Users\\martin florent\\AppData\\Local\\Continuum\\anaconda3\\lib\\site-packages\\boruta\\boruta_py.py:418: RuntimeWarning: invalid value encountered in greater\n",
      "  hits = np.where(cur_imp[0] > imp_sha_max)[0]\n"
     ]
    },
    {
     "name": "stdout",
     "output_type": "stream",
     "text": [
      "Iteration: \t35 / 100\n",
      "Confirmed: \t31\n",
      "Tentative: \t13\n",
      "Rejected: \t126\n"
     ]
    },
    {
     "name": "stderr",
     "output_type": "stream",
     "text": [
      "C:\\Users\\martin florent\\AppData\\Local\\Continuum\\anaconda3\\lib\\site-packages\\boruta\\boruta_py.py:418: RuntimeWarning: invalid value encountered in greater\n",
      "  hits = np.where(cur_imp[0] > imp_sha_max)[0]\n"
     ]
    },
    {
     "name": "stdout",
     "output_type": "stream",
     "text": [
      "Iteration: \t36 / 100\n",
      "Confirmed: \t31\n",
      "Tentative: \t13\n",
      "Rejected: \t126\n"
     ]
    },
    {
     "name": "stderr",
     "output_type": "stream",
     "text": [
      "C:\\Users\\martin florent\\AppData\\Local\\Continuum\\anaconda3\\lib\\site-packages\\boruta\\boruta_py.py:418: RuntimeWarning: invalid value encountered in greater\n",
      "  hits = np.where(cur_imp[0] > imp_sha_max)[0]\n"
     ]
    },
    {
     "name": "stdout",
     "output_type": "stream",
     "text": [
      "Iteration: \t37 / 100\n",
      "Confirmed: \t31\n",
      "Tentative: \t13\n",
      "Rejected: \t126\n"
     ]
    },
    {
     "name": "stderr",
     "output_type": "stream",
     "text": [
      "C:\\Users\\martin florent\\AppData\\Local\\Continuum\\anaconda3\\lib\\site-packages\\boruta\\boruta_py.py:418: RuntimeWarning: invalid value encountered in greater\n",
      "  hits = np.where(cur_imp[0] > imp_sha_max)[0]\n"
     ]
    },
    {
     "name": "stdout",
     "output_type": "stream",
     "text": [
      "Iteration: \t38 / 100\n",
      "Confirmed: \t31\n",
      "Tentative: \t13\n",
      "Rejected: \t126\n"
     ]
    },
    {
     "name": "stderr",
     "output_type": "stream",
     "text": [
      "C:\\Users\\martin florent\\AppData\\Local\\Continuum\\anaconda3\\lib\\site-packages\\boruta\\boruta_py.py:418: RuntimeWarning: invalid value encountered in greater\n",
      "  hits = np.where(cur_imp[0] > imp_sha_max)[0]\n"
     ]
    },
    {
     "name": "stdout",
     "output_type": "stream",
     "text": [
      "Iteration: \t39 / 100\n",
      "Confirmed: \t31\n",
      "Tentative: \t13\n",
      "Rejected: \t126\n"
     ]
    },
    {
     "name": "stderr",
     "output_type": "stream",
     "text": [
      "C:\\Users\\martin florent\\AppData\\Local\\Continuum\\anaconda3\\lib\\site-packages\\boruta\\boruta_py.py:418: RuntimeWarning: invalid value encountered in greater\n",
      "  hits = np.where(cur_imp[0] > imp_sha_max)[0]\n"
     ]
    },
    {
     "name": "stdout",
     "output_type": "stream",
     "text": [
      "Iteration: \t40 / 100\n",
      "Confirmed: \t32\n",
      "Tentative: \t11\n",
      "Rejected: \t127\n"
     ]
    },
    {
     "name": "stderr",
     "output_type": "stream",
     "text": [
      "C:\\Users\\martin florent\\AppData\\Local\\Continuum\\anaconda3\\lib\\site-packages\\boruta\\boruta_py.py:418: RuntimeWarning: invalid value encountered in greater\n",
      "  hits = np.where(cur_imp[0] > imp_sha_max)[0]\n"
     ]
    },
    {
     "name": "stdout",
     "output_type": "stream",
     "text": [
      "Iteration: \t41 / 100\n",
      "Confirmed: \t32\n",
      "Tentative: \t11\n",
      "Rejected: \t127\n"
     ]
    },
    {
     "name": "stderr",
     "output_type": "stream",
     "text": [
      "C:\\Users\\martin florent\\AppData\\Local\\Continuum\\anaconda3\\lib\\site-packages\\boruta\\boruta_py.py:418: RuntimeWarning: invalid value encountered in greater\n",
      "  hits = np.where(cur_imp[0] > imp_sha_max)[0]\n"
     ]
    },
    {
     "name": "stdout",
     "output_type": "stream",
     "text": [
      "Iteration: \t42 / 100\n",
      "Confirmed: \t32\n",
      "Tentative: \t11\n",
      "Rejected: \t127\n"
     ]
    },
    {
     "name": "stderr",
     "output_type": "stream",
     "text": [
      "C:\\Users\\martin florent\\AppData\\Local\\Continuum\\anaconda3\\lib\\site-packages\\boruta\\boruta_py.py:418: RuntimeWarning: invalid value encountered in greater\n",
      "  hits = np.where(cur_imp[0] > imp_sha_max)[0]\n"
     ]
    },
    {
     "name": "stdout",
     "output_type": "stream",
     "text": [
      "Iteration: \t43 / 100\n",
      "Confirmed: \t32\n",
      "Tentative: \t11\n",
      "Rejected: \t127\n"
     ]
    },
    {
     "name": "stderr",
     "output_type": "stream",
     "text": [
      "C:\\Users\\martin florent\\AppData\\Local\\Continuum\\anaconda3\\lib\\site-packages\\boruta\\boruta_py.py:418: RuntimeWarning: invalid value encountered in greater\n",
      "  hits = np.where(cur_imp[0] > imp_sha_max)[0]\n"
     ]
    },
    {
     "name": "stdout",
     "output_type": "stream",
     "text": [
      "Iteration: \t44 / 100\n",
      "Confirmed: \t32\n",
      "Tentative: \t11\n",
      "Rejected: \t127\n"
     ]
    },
    {
     "name": "stderr",
     "output_type": "stream",
     "text": [
      "C:\\Users\\martin florent\\AppData\\Local\\Continuum\\anaconda3\\lib\\site-packages\\boruta\\boruta_py.py:418: RuntimeWarning: invalid value encountered in greater\n",
      "  hits = np.where(cur_imp[0] > imp_sha_max)[0]\n"
     ]
    },
    {
     "name": "stdout",
     "output_type": "stream",
     "text": [
      "Iteration: \t45 / 100\n",
      "Confirmed: \t32\n",
      "Tentative: \t11\n",
      "Rejected: \t127\n"
     ]
    },
    {
     "name": "stderr",
     "output_type": "stream",
     "text": [
      "C:\\Users\\martin florent\\AppData\\Local\\Continuum\\anaconda3\\lib\\site-packages\\boruta\\boruta_py.py:418: RuntimeWarning: invalid value encountered in greater\n",
      "  hits = np.where(cur_imp[0] > imp_sha_max)[0]\n"
     ]
    },
    {
     "name": "stdout",
     "output_type": "stream",
     "text": [
      "Iteration: \t46 / 100\n",
      "Confirmed: \t32\n",
      "Tentative: \t11\n",
      "Rejected: \t127\n"
     ]
    },
    {
     "name": "stderr",
     "output_type": "stream",
     "text": [
      "C:\\Users\\martin florent\\AppData\\Local\\Continuum\\anaconda3\\lib\\site-packages\\boruta\\boruta_py.py:418: RuntimeWarning: invalid value encountered in greater\n",
      "  hits = np.where(cur_imp[0] > imp_sha_max)[0]\n"
     ]
    },
    {
     "name": "stdout",
     "output_type": "stream",
     "text": [
      "Iteration: \t47 / 100\n",
      "Confirmed: \t32\n",
      "Tentative: \t11\n",
      "Rejected: \t127\n"
     ]
    },
    {
     "name": "stderr",
     "output_type": "stream",
     "text": [
      "C:\\Users\\martin florent\\AppData\\Local\\Continuum\\anaconda3\\lib\\site-packages\\boruta\\boruta_py.py:418: RuntimeWarning: invalid value encountered in greater\n",
      "  hits = np.where(cur_imp[0] > imp_sha_max)[0]\n"
     ]
    },
    {
     "name": "stdout",
     "output_type": "stream",
     "text": [
      "Iteration: \t48 / 100\n",
      "Confirmed: \t32\n",
      "Tentative: \t11\n",
      "Rejected: \t127\n"
     ]
    },
    {
     "name": "stderr",
     "output_type": "stream",
     "text": [
      "C:\\Users\\martin florent\\AppData\\Local\\Continuum\\anaconda3\\lib\\site-packages\\boruta\\boruta_py.py:418: RuntimeWarning: invalid value encountered in greater\n",
      "  hits = np.where(cur_imp[0] > imp_sha_max)[0]\n"
     ]
    },
    {
     "name": "stdout",
     "output_type": "stream",
     "text": [
      "Iteration: \t49 / 100\n",
      "Confirmed: \t33\n",
      "Tentative: \t10\n",
      "Rejected: \t127\n"
     ]
    },
    {
     "name": "stderr",
     "output_type": "stream",
     "text": [
      "C:\\Users\\martin florent\\AppData\\Local\\Continuum\\anaconda3\\lib\\site-packages\\boruta\\boruta_py.py:418: RuntimeWarning: invalid value encountered in greater\n",
      "  hits = np.where(cur_imp[0] > imp_sha_max)[0]\n"
     ]
    },
    {
     "name": "stdout",
     "output_type": "stream",
     "text": [
      "Iteration: \t50 / 100\n",
      "Confirmed: \t33\n",
      "Tentative: \t10\n",
      "Rejected: \t127\n"
     ]
    },
    {
     "name": "stderr",
     "output_type": "stream",
     "text": [
      "C:\\Users\\martin florent\\AppData\\Local\\Continuum\\anaconda3\\lib\\site-packages\\boruta\\boruta_py.py:418: RuntimeWarning: invalid value encountered in greater\n",
      "  hits = np.where(cur_imp[0] > imp_sha_max)[0]\n"
     ]
    },
    {
     "name": "stdout",
     "output_type": "stream",
     "text": [
      "Iteration: \t51 / 100\n",
      "Confirmed: \t33\n",
      "Tentative: \t10\n",
      "Rejected: \t127\n"
     ]
    },
    {
     "name": "stderr",
     "output_type": "stream",
     "text": [
      "C:\\Users\\martin florent\\AppData\\Local\\Continuum\\anaconda3\\lib\\site-packages\\boruta\\boruta_py.py:418: RuntimeWarning: invalid value encountered in greater\n",
      "  hits = np.where(cur_imp[0] > imp_sha_max)[0]\n"
     ]
    },
    {
     "name": "stdout",
     "output_type": "stream",
     "text": [
      "Iteration: \t52 / 100\n",
      "Confirmed: \t33\n",
      "Tentative: \t10\n",
      "Rejected: \t127\n"
     ]
    },
    {
     "name": "stderr",
     "output_type": "stream",
     "text": [
      "C:\\Users\\martin florent\\AppData\\Local\\Continuum\\anaconda3\\lib\\site-packages\\boruta\\boruta_py.py:418: RuntimeWarning: invalid value encountered in greater\n",
      "  hits = np.where(cur_imp[0] > imp_sha_max)[0]\n"
     ]
    },
    {
     "name": "stdout",
     "output_type": "stream",
     "text": [
      "Iteration: \t53 / 100\n",
      "Confirmed: \t33\n",
      "Tentative: \t10\n",
      "Rejected: \t127\n"
     ]
    },
    {
     "name": "stderr",
     "output_type": "stream",
     "text": [
      "C:\\Users\\martin florent\\AppData\\Local\\Continuum\\anaconda3\\lib\\site-packages\\boruta\\boruta_py.py:418: RuntimeWarning: invalid value encountered in greater\n",
      "  hits = np.where(cur_imp[0] > imp_sha_max)[0]\n"
     ]
    },
    {
     "name": "stdout",
     "output_type": "stream",
     "text": [
      "Iteration: \t54 / 100\n",
      "Confirmed: \t33\n",
      "Tentative: \t10\n",
      "Rejected: \t127\n"
     ]
    },
    {
     "name": "stderr",
     "output_type": "stream",
     "text": [
      "C:\\Users\\martin florent\\AppData\\Local\\Continuum\\anaconda3\\lib\\site-packages\\boruta\\boruta_py.py:418: RuntimeWarning: invalid value encountered in greater\n",
      "  hits = np.where(cur_imp[0] > imp_sha_max)[0]\n"
     ]
    },
    {
     "name": "stdout",
     "output_type": "stream",
     "text": [
      "Iteration: \t55 / 100\n",
      "Confirmed: \t33\n",
      "Tentative: \t10\n",
      "Rejected: \t127\n"
     ]
    },
    {
     "name": "stderr",
     "output_type": "stream",
     "text": [
      "C:\\Users\\martin florent\\AppData\\Local\\Continuum\\anaconda3\\lib\\site-packages\\boruta\\boruta_py.py:418: RuntimeWarning: invalid value encountered in greater\n",
      "  hits = np.where(cur_imp[0] > imp_sha_max)[0]\n"
     ]
    },
    {
     "name": "stdout",
     "output_type": "stream",
     "text": [
      "Iteration: \t56 / 100\n",
      "Confirmed: \t33\n",
      "Tentative: \t10\n",
      "Rejected: \t127\n"
     ]
    },
    {
     "name": "stderr",
     "output_type": "stream",
     "text": [
      "C:\\Users\\martin florent\\AppData\\Local\\Continuum\\anaconda3\\lib\\site-packages\\boruta\\boruta_py.py:418: RuntimeWarning: invalid value encountered in greater\n",
      "  hits = np.where(cur_imp[0] > imp_sha_max)[0]\n"
     ]
    },
    {
     "name": "stdout",
     "output_type": "stream",
     "text": [
      "Iteration: \t57 / 100\n",
      "Confirmed: \t33\n",
      "Tentative: \t10\n",
      "Rejected: \t127\n"
     ]
    },
    {
     "name": "stderr",
     "output_type": "stream",
     "text": [
      "C:\\Users\\martin florent\\AppData\\Local\\Continuum\\anaconda3\\lib\\site-packages\\boruta\\boruta_py.py:418: RuntimeWarning: invalid value encountered in greater\n",
      "  hits = np.where(cur_imp[0] > imp_sha_max)[0]\n"
     ]
    },
    {
     "name": "stdout",
     "output_type": "stream",
     "text": [
      "Iteration: \t58 / 100\n",
      "Confirmed: \t33\n",
      "Tentative: \t10\n",
      "Rejected: \t127\n"
     ]
    },
    {
     "name": "stderr",
     "output_type": "stream",
     "text": [
      "C:\\Users\\martin florent\\AppData\\Local\\Continuum\\anaconda3\\lib\\site-packages\\boruta\\boruta_py.py:418: RuntimeWarning: invalid value encountered in greater\n",
      "  hits = np.where(cur_imp[0] > imp_sha_max)[0]\n"
     ]
    },
    {
     "name": "stdout",
     "output_type": "stream",
     "text": [
      "Iteration: \t59 / 100\n",
      "Confirmed: \t33\n",
      "Tentative: \t10\n",
      "Rejected: \t127\n"
     ]
    },
    {
     "name": "stderr",
     "output_type": "stream",
     "text": [
      "C:\\Users\\martin florent\\AppData\\Local\\Continuum\\anaconda3\\lib\\site-packages\\boruta\\boruta_py.py:418: RuntimeWarning: invalid value encountered in greater\n",
      "  hits = np.where(cur_imp[0] > imp_sha_max)[0]\n"
     ]
    },
    {
     "name": "stdout",
     "output_type": "stream",
     "text": [
      "Iteration: \t60 / 100\n",
      "Confirmed: \t33\n",
      "Tentative: \t10\n",
      "Rejected: \t127\n"
     ]
    },
    {
     "name": "stderr",
     "output_type": "stream",
     "text": [
      "C:\\Users\\martin florent\\AppData\\Local\\Continuum\\anaconda3\\lib\\site-packages\\boruta\\boruta_py.py:418: RuntimeWarning: invalid value encountered in greater\n",
      "  hits = np.where(cur_imp[0] > imp_sha_max)[0]\n"
     ]
    },
    {
     "name": "stdout",
     "output_type": "stream",
     "text": [
      "Iteration: \t61 / 100\n",
      "Confirmed: \t33\n",
      "Tentative: \t10\n",
      "Rejected: \t127\n"
     ]
    },
    {
     "name": "stderr",
     "output_type": "stream",
     "text": [
      "C:\\Users\\martin florent\\AppData\\Local\\Continuum\\anaconda3\\lib\\site-packages\\boruta\\boruta_py.py:418: RuntimeWarning: invalid value encountered in greater\n",
      "  hits = np.where(cur_imp[0] > imp_sha_max)[0]\n"
     ]
    },
    {
     "name": "stdout",
     "output_type": "stream",
     "text": [
      "Iteration: \t62 / 100\n",
      "Confirmed: \t34\n",
      "Tentative: \t9\n",
      "Rejected: \t127\n"
     ]
    },
    {
     "name": "stderr",
     "output_type": "stream",
     "text": [
      "C:\\Users\\martin florent\\AppData\\Local\\Continuum\\anaconda3\\lib\\site-packages\\boruta\\boruta_py.py:418: RuntimeWarning: invalid value encountered in greater\n",
      "  hits = np.where(cur_imp[0] > imp_sha_max)[0]\n"
     ]
    },
    {
     "name": "stdout",
     "output_type": "stream",
     "text": [
      "Iteration: \t63 / 100\n",
      "Confirmed: \t34\n",
      "Tentative: \t9\n",
      "Rejected: \t127\n"
     ]
    },
    {
     "name": "stderr",
     "output_type": "stream",
     "text": [
      "C:\\Users\\martin florent\\AppData\\Local\\Continuum\\anaconda3\\lib\\site-packages\\boruta\\boruta_py.py:418: RuntimeWarning: invalid value encountered in greater\n",
      "  hits = np.where(cur_imp[0] > imp_sha_max)[0]\n"
     ]
    },
    {
     "name": "stdout",
     "output_type": "stream",
     "text": [
      "Iteration: \t64 / 100\n",
      "Confirmed: \t34\n",
      "Tentative: \t9\n",
      "Rejected: \t127\n"
     ]
    },
    {
     "name": "stderr",
     "output_type": "stream",
     "text": [
      "C:\\Users\\martin florent\\AppData\\Local\\Continuum\\anaconda3\\lib\\site-packages\\boruta\\boruta_py.py:418: RuntimeWarning: invalid value encountered in greater\n",
      "  hits = np.where(cur_imp[0] > imp_sha_max)[0]\n"
     ]
    },
    {
     "name": "stdout",
     "output_type": "stream",
     "text": [
      "Iteration: \t65 / 100\n",
      "Confirmed: \t35\n",
      "Tentative: \t8\n",
      "Rejected: \t127\n"
     ]
    },
    {
     "name": "stderr",
     "output_type": "stream",
     "text": [
      "C:\\Users\\martin florent\\AppData\\Local\\Continuum\\anaconda3\\lib\\site-packages\\boruta\\boruta_py.py:418: RuntimeWarning: invalid value encountered in greater\n",
      "  hits = np.where(cur_imp[0] > imp_sha_max)[0]\n"
     ]
    },
    {
     "name": "stdout",
     "output_type": "stream",
     "text": [
      "Iteration: \t66 / 100\n",
      "Confirmed: \t35\n",
      "Tentative: \t8\n",
      "Rejected: \t127\n"
     ]
    },
    {
     "name": "stderr",
     "output_type": "stream",
     "text": [
      "C:\\Users\\martin florent\\AppData\\Local\\Continuum\\anaconda3\\lib\\site-packages\\boruta\\boruta_py.py:418: RuntimeWarning: invalid value encountered in greater\n",
      "  hits = np.where(cur_imp[0] > imp_sha_max)[0]\n"
     ]
    },
    {
     "name": "stdout",
     "output_type": "stream",
     "text": [
      "Iteration: \t67 / 100\n",
      "Confirmed: \t35\n",
      "Tentative: \t8\n",
      "Rejected: \t127\n"
     ]
    },
    {
     "name": "stderr",
     "output_type": "stream",
     "text": [
      "C:\\Users\\martin florent\\AppData\\Local\\Continuum\\anaconda3\\lib\\site-packages\\boruta\\boruta_py.py:418: RuntimeWarning: invalid value encountered in greater\n",
      "  hits = np.where(cur_imp[0] > imp_sha_max)[0]\n"
     ]
    },
    {
     "name": "stdout",
     "output_type": "stream",
     "text": [
      "Iteration: \t68 / 100\n",
      "Confirmed: \t35\n",
      "Tentative: \t8\n",
      "Rejected: \t127\n"
     ]
    },
    {
     "name": "stderr",
     "output_type": "stream",
     "text": [
      "C:\\Users\\martin florent\\AppData\\Local\\Continuum\\anaconda3\\lib\\site-packages\\boruta\\boruta_py.py:418: RuntimeWarning: invalid value encountered in greater\n",
      "  hits = np.where(cur_imp[0] > imp_sha_max)[0]\n"
     ]
    },
    {
     "name": "stdout",
     "output_type": "stream",
     "text": [
      "Iteration: \t69 / 100\n",
      "Confirmed: \t35\n",
      "Tentative: \t8\n",
      "Rejected: \t127\n"
     ]
    },
    {
     "name": "stderr",
     "output_type": "stream",
     "text": [
      "C:\\Users\\martin florent\\AppData\\Local\\Continuum\\anaconda3\\lib\\site-packages\\boruta\\boruta_py.py:418: RuntimeWarning: invalid value encountered in greater\n",
      "  hits = np.where(cur_imp[0] > imp_sha_max)[0]\n"
     ]
    },
    {
     "name": "stdout",
     "output_type": "stream",
     "text": [
      "Iteration: \t70 / 100\n",
      "Confirmed: \t36\n",
      "Tentative: \t7\n",
      "Rejected: \t127\n"
     ]
    },
    {
     "name": "stderr",
     "output_type": "stream",
     "text": [
      "C:\\Users\\martin florent\\AppData\\Local\\Continuum\\anaconda3\\lib\\site-packages\\boruta\\boruta_py.py:418: RuntimeWarning: invalid value encountered in greater\n",
      "  hits = np.where(cur_imp[0] > imp_sha_max)[0]\n"
     ]
    },
    {
     "name": "stdout",
     "output_type": "stream",
     "text": [
      "Iteration: \t71 / 100\n",
      "Confirmed: \t36\n",
      "Tentative: \t7\n",
      "Rejected: \t127\n"
     ]
    },
    {
     "name": "stderr",
     "output_type": "stream",
     "text": [
      "C:\\Users\\martin florent\\AppData\\Local\\Continuum\\anaconda3\\lib\\site-packages\\boruta\\boruta_py.py:418: RuntimeWarning: invalid value encountered in greater\n",
      "  hits = np.where(cur_imp[0] > imp_sha_max)[0]\n"
     ]
    },
    {
     "name": "stdout",
     "output_type": "stream",
     "text": [
      "Iteration: \t72 / 100\n",
      "Confirmed: \t36\n",
      "Tentative: \t7\n",
      "Rejected: \t127\n"
     ]
    },
    {
     "name": "stderr",
     "output_type": "stream",
     "text": [
      "C:\\Users\\martin florent\\AppData\\Local\\Continuum\\anaconda3\\lib\\site-packages\\boruta\\boruta_py.py:418: RuntimeWarning: invalid value encountered in greater\n",
      "  hits = np.where(cur_imp[0] > imp_sha_max)[0]\n"
     ]
    },
    {
     "name": "stdout",
     "output_type": "stream",
     "text": [
      "Iteration: \t73 / 100\n",
      "Confirmed: \t36\n",
      "Tentative: \t7\n",
      "Rejected: \t127\n"
     ]
    },
    {
     "name": "stderr",
     "output_type": "stream",
     "text": [
      "C:\\Users\\martin florent\\AppData\\Local\\Continuum\\anaconda3\\lib\\site-packages\\boruta\\boruta_py.py:418: RuntimeWarning: invalid value encountered in greater\n",
      "  hits = np.where(cur_imp[0] > imp_sha_max)[0]\n"
     ]
    },
    {
     "name": "stdout",
     "output_type": "stream",
     "text": [
      "Iteration: \t74 / 100\n",
      "Confirmed: \t36\n",
      "Tentative: \t7\n",
      "Rejected: \t127\n"
     ]
    },
    {
     "name": "stderr",
     "output_type": "stream",
     "text": [
      "C:\\Users\\martin florent\\AppData\\Local\\Continuum\\anaconda3\\lib\\site-packages\\boruta\\boruta_py.py:418: RuntimeWarning: invalid value encountered in greater\n",
      "  hits = np.where(cur_imp[0] > imp_sha_max)[0]\n"
     ]
    },
    {
     "name": "stdout",
     "output_type": "stream",
     "text": [
      "Iteration: \t75 / 100\n",
      "Confirmed: \t36\n",
      "Tentative: \t7\n",
      "Rejected: \t127\n"
     ]
    },
    {
     "name": "stderr",
     "output_type": "stream",
     "text": [
      "C:\\Users\\martin florent\\AppData\\Local\\Continuum\\anaconda3\\lib\\site-packages\\boruta\\boruta_py.py:418: RuntimeWarning: invalid value encountered in greater\n",
      "  hits = np.where(cur_imp[0] > imp_sha_max)[0]\n"
     ]
    },
    {
     "name": "stdout",
     "output_type": "stream",
     "text": [
      "Iteration: \t76 / 100\n",
      "Confirmed: \t36\n",
      "Tentative: \t7\n",
      "Rejected: \t127\n"
     ]
    },
    {
     "name": "stderr",
     "output_type": "stream",
     "text": [
      "C:\\Users\\martin florent\\AppData\\Local\\Continuum\\anaconda3\\lib\\site-packages\\boruta\\boruta_py.py:418: RuntimeWarning: invalid value encountered in greater\n",
      "  hits = np.where(cur_imp[0] > imp_sha_max)[0]\n"
     ]
    },
    {
     "name": "stdout",
     "output_type": "stream",
     "text": [
      "Iteration: \t77 / 100\n",
      "Confirmed: \t37\n",
      "Tentative: \t6\n",
      "Rejected: \t127\n"
     ]
    },
    {
     "name": "stderr",
     "output_type": "stream",
     "text": [
      "C:\\Users\\martin florent\\AppData\\Local\\Continuum\\anaconda3\\lib\\site-packages\\boruta\\boruta_py.py:418: RuntimeWarning: invalid value encountered in greater\n",
      "  hits = np.where(cur_imp[0] > imp_sha_max)[0]\n"
     ]
    },
    {
     "name": "stdout",
     "output_type": "stream",
     "text": [
      "Iteration: \t78 / 100\n",
      "Confirmed: \t37\n",
      "Tentative: \t6\n",
      "Rejected: \t127\n"
     ]
    },
    {
     "name": "stderr",
     "output_type": "stream",
     "text": [
      "C:\\Users\\martin florent\\AppData\\Local\\Continuum\\anaconda3\\lib\\site-packages\\boruta\\boruta_py.py:418: RuntimeWarning: invalid value encountered in greater\n",
      "  hits = np.where(cur_imp[0] > imp_sha_max)[0]\n"
     ]
    },
    {
     "name": "stdout",
     "output_type": "stream",
     "text": [
      "Iteration: \t79 / 100\n",
      "Confirmed: \t37\n",
      "Tentative: \t6\n",
      "Rejected: \t127\n"
     ]
    },
    {
     "name": "stderr",
     "output_type": "stream",
     "text": [
      "C:\\Users\\martin florent\\AppData\\Local\\Continuum\\anaconda3\\lib\\site-packages\\boruta\\boruta_py.py:418: RuntimeWarning: invalid value encountered in greater\n",
      "  hits = np.where(cur_imp[0] > imp_sha_max)[0]\n"
     ]
    },
    {
     "name": "stdout",
     "output_type": "stream",
     "text": [
      "Iteration: \t80 / 100\n",
      "Confirmed: \t37\n",
      "Tentative: \t6\n",
      "Rejected: \t127\n"
     ]
    },
    {
     "name": "stderr",
     "output_type": "stream",
     "text": [
      "C:\\Users\\martin florent\\AppData\\Local\\Continuum\\anaconda3\\lib\\site-packages\\boruta\\boruta_py.py:418: RuntimeWarning: invalid value encountered in greater\n",
      "  hits = np.where(cur_imp[0] > imp_sha_max)[0]\n"
     ]
    },
    {
     "name": "stdout",
     "output_type": "stream",
     "text": [
      "Iteration: \t81 / 100\n",
      "Confirmed: \t37\n",
      "Tentative: \t6\n",
      "Rejected: \t127\n"
     ]
    },
    {
     "name": "stderr",
     "output_type": "stream",
     "text": [
      "C:\\Users\\martin florent\\AppData\\Local\\Continuum\\anaconda3\\lib\\site-packages\\boruta\\boruta_py.py:418: RuntimeWarning: invalid value encountered in greater\n",
      "  hits = np.where(cur_imp[0] > imp_sha_max)[0]\n"
     ]
    },
    {
     "name": "stdout",
     "output_type": "stream",
     "text": [
      "Iteration: \t82 / 100\n",
      "Confirmed: \t37\n",
      "Tentative: \t6\n",
      "Rejected: \t127\n"
     ]
    },
    {
     "name": "stderr",
     "output_type": "stream",
     "text": [
      "C:\\Users\\martin florent\\AppData\\Local\\Continuum\\anaconda3\\lib\\site-packages\\boruta\\boruta_py.py:418: RuntimeWarning: invalid value encountered in greater\n",
      "  hits = np.where(cur_imp[0] > imp_sha_max)[0]\n"
     ]
    },
    {
     "name": "stdout",
     "output_type": "stream",
     "text": [
      "Iteration: \t83 / 100\n",
      "Confirmed: \t37\n",
      "Tentative: \t6\n",
      "Rejected: \t127\n"
     ]
    },
    {
     "name": "stderr",
     "output_type": "stream",
     "text": [
      "C:\\Users\\martin florent\\AppData\\Local\\Continuum\\anaconda3\\lib\\site-packages\\boruta\\boruta_py.py:418: RuntimeWarning: invalid value encountered in greater\n",
      "  hits = np.where(cur_imp[0] > imp_sha_max)[0]\n"
     ]
    },
    {
     "name": "stdout",
     "output_type": "stream",
     "text": [
      "Iteration: \t84 / 100\n",
      "Confirmed: \t37\n",
      "Tentative: \t6\n",
      "Rejected: \t127\n"
     ]
    },
    {
     "name": "stderr",
     "output_type": "stream",
     "text": [
      "C:\\Users\\martin florent\\AppData\\Local\\Continuum\\anaconda3\\lib\\site-packages\\boruta\\boruta_py.py:418: RuntimeWarning: invalid value encountered in greater\n",
      "  hits = np.where(cur_imp[0] > imp_sha_max)[0]\n"
     ]
    },
    {
     "name": "stdout",
     "output_type": "stream",
     "text": [
      "Iteration: \t85 / 100\n",
      "Confirmed: \t37\n",
      "Tentative: \t6\n",
      "Rejected: \t127\n"
     ]
    },
    {
     "name": "stderr",
     "output_type": "stream",
     "text": [
      "C:\\Users\\martin florent\\AppData\\Local\\Continuum\\anaconda3\\lib\\site-packages\\boruta\\boruta_py.py:418: RuntimeWarning: invalid value encountered in greater\n",
      "  hits = np.where(cur_imp[0] > imp_sha_max)[0]\n"
     ]
    },
    {
     "name": "stdout",
     "output_type": "stream",
     "text": [
      "Iteration: \t86 / 100\n",
      "Confirmed: \t37\n",
      "Tentative: \t6\n",
      "Rejected: \t127\n"
     ]
    },
    {
     "name": "stderr",
     "output_type": "stream",
     "text": [
      "C:\\Users\\martin florent\\AppData\\Local\\Continuum\\anaconda3\\lib\\site-packages\\boruta\\boruta_py.py:418: RuntimeWarning: invalid value encountered in greater\n",
      "  hits = np.where(cur_imp[0] > imp_sha_max)[0]\n"
     ]
    },
    {
     "name": "stdout",
     "output_type": "stream",
     "text": [
      "Iteration: \t87 / 100\n",
      "Confirmed: \t37\n",
      "Tentative: \t6\n",
      "Rejected: \t127\n"
     ]
    },
    {
     "name": "stderr",
     "output_type": "stream",
     "text": [
      "C:\\Users\\martin florent\\AppData\\Local\\Continuum\\anaconda3\\lib\\site-packages\\boruta\\boruta_py.py:418: RuntimeWarning: invalid value encountered in greater\n",
      "  hits = np.where(cur_imp[0] > imp_sha_max)[0]\n"
     ]
    },
    {
     "name": "stdout",
     "output_type": "stream",
     "text": [
      "Iteration: \t88 / 100\n",
      "Confirmed: \t37\n",
      "Tentative: \t6\n",
      "Rejected: \t127\n"
     ]
    },
    {
     "name": "stderr",
     "output_type": "stream",
     "text": [
      "C:\\Users\\martin florent\\AppData\\Local\\Continuum\\anaconda3\\lib\\site-packages\\boruta\\boruta_py.py:418: RuntimeWarning: invalid value encountered in greater\n",
      "  hits = np.where(cur_imp[0] > imp_sha_max)[0]\n"
     ]
    },
    {
     "name": "stdout",
     "output_type": "stream",
     "text": [
      "Iteration: \t89 / 100\n",
      "Confirmed: \t37\n",
      "Tentative: \t6\n",
      "Rejected: \t127\n"
     ]
    },
    {
     "name": "stderr",
     "output_type": "stream",
     "text": [
      "C:\\Users\\martin florent\\AppData\\Local\\Continuum\\anaconda3\\lib\\site-packages\\boruta\\boruta_py.py:418: RuntimeWarning: invalid value encountered in greater\n",
      "  hits = np.where(cur_imp[0] > imp_sha_max)[0]\n"
     ]
    },
    {
     "name": "stdout",
     "output_type": "stream",
     "text": [
      "Iteration: \t90 / 100\n",
      "Confirmed: \t37\n",
      "Tentative: \t6\n",
      "Rejected: \t127\n"
     ]
    },
    {
     "name": "stderr",
     "output_type": "stream",
     "text": [
      "C:\\Users\\martin florent\\AppData\\Local\\Continuum\\anaconda3\\lib\\site-packages\\boruta\\boruta_py.py:418: RuntimeWarning: invalid value encountered in greater\n",
      "  hits = np.where(cur_imp[0] > imp_sha_max)[0]\n"
     ]
    },
    {
     "name": "stdout",
     "output_type": "stream",
     "text": [
      "Iteration: \t91 / 100\n",
      "Confirmed: \t37\n",
      "Tentative: \t6\n",
      "Rejected: \t127\n"
     ]
    },
    {
     "name": "stderr",
     "output_type": "stream",
     "text": [
      "C:\\Users\\martin florent\\AppData\\Local\\Continuum\\anaconda3\\lib\\site-packages\\boruta\\boruta_py.py:418: RuntimeWarning: invalid value encountered in greater\n",
      "  hits = np.where(cur_imp[0] > imp_sha_max)[0]\n"
     ]
    },
    {
     "name": "stdout",
     "output_type": "stream",
     "text": [
      "Iteration: \t92 / 100\n",
      "Confirmed: \t37\n",
      "Tentative: \t6\n",
      "Rejected: \t127\n"
     ]
    },
    {
     "name": "stderr",
     "output_type": "stream",
     "text": [
      "C:\\Users\\martin florent\\AppData\\Local\\Continuum\\anaconda3\\lib\\site-packages\\boruta\\boruta_py.py:418: RuntimeWarning: invalid value encountered in greater\n",
      "  hits = np.where(cur_imp[0] > imp_sha_max)[0]\n"
     ]
    },
    {
     "name": "stdout",
     "output_type": "stream",
     "text": [
      "Iteration: \t93 / 100\n",
      "Confirmed: \t37\n",
      "Tentative: \t5\n",
      "Rejected: \t128\n"
     ]
    },
    {
     "name": "stderr",
     "output_type": "stream",
     "text": [
      "C:\\Users\\martin florent\\AppData\\Local\\Continuum\\anaconda3\\lib\\site-packages\\boruta\\boruta_py.py:418: RuntimeWarning: invalid value encountered in greater\n",
      "  hits = np.where(cur_imp[0] > imp_sha_max)[0]\n"
     ]
    },
    {
     "name": "stdout",
     "output_type": "stream",
     "text": [
      "Iteration: \t94 / 100\n",
      "Confirmed: \t37\n",
      "Tentative: \t5\n",
      "Rejected: \t128\n"
     ]
    },
    {
     "name": "stderr",
     "output_type": "stream",
     "text": [
      "C:\\Users\\martin florent\\AppData\\Local\\Continuum\\anaconda3\\lib\\site-packages\\boruta\\boruta_py.py:418: RuntimeWarning: invalid value encountered in greater\n",
      "  hits = np.where(cur_imp[0] > imp_sha_max)[0]\n"
     ]
    },
    {
     "name": "stdout",
     "output_type": "stream",
     "text": [
      "Iteration: \t95 / 100\n",
      "Confirmed: \t37\n",
      "Tentative: \t5\n",
      "Rejected: \t128\n"
     ]
    },
    {
     "name": "stderr",
     "output_type": "stream",
     "text": [
      "C:\\Users\\martin florent\\AppData\\Local\\Continuum\\anaconda3\\lib\\site-packages\\boruta\\boruta_py.py:418: RuntimeWarning: invalid value encountered in greater\n",
      "  hits = np.where(cur_imp[0] > imp_sha_max)[0]\n"
     ]
    },
    {
     "name": "stdout",
     "output_type": "stream",
     "text": [
      "Iteration: \t96 / 100\n",
      "Confirmed: \t37\n",
      "Tentative: \t5\n",
      "Rejected: \t128\n"
     ]
    },
    {
     "name": "stderr",
     "output_type": "stream",
     "text": [
      "C:\\Users\\martin florent\\AppData\\Local\\Continuum\\anaconda3\\lib\\site-packages\\boruta\\boruta_py.py:418: RuntimeWarning: invalid value encountered in greater\n",
      "  hits = np.where(cur_imp[0] > imp_sha_max)[0]\n"
     ]
    },
    {
     "name": "stdout",
     "output_type": "stream",
     "text": [
      "Iteration: \t97 / 100\n",
      "Confirmed: \t37\n",
      "Tentative: \t5\n",
      "Rejected: \t128\n"
     ]
    },
    {
     "name": "stderr",
     "output_type": "stream",
     "text": [
      "C:\\Users\\martin florent\\AppData\\Local\\Continuum\\anaconda3\\lib\\site-packages\\boruta\\boruta_py.py:418: RuntimeWarning: invalid value encountered in greater\n",
      "  hits = np.where(cur_imp[0] > imp_sha_max)[0]\n"
     ]
    },
    {
     "name": "stdout",
     "output_type": "stream",
     "text": [
      "Iteration: \t98 / 100\n",
      "Confirmed: \t37\n",
      "Tentative: \t5\n",
      "Rejected: \t128\n",
      "Iteration: \t99 / 100\n",
      "Confirmed: \t37\n",
      "Tentative: \t5\n",
      "Rejected: \t128\n",
      "\n",
      "\n",
      "BorutaPy finished running.\n",
      "\n",
      "Iteration: \t100 / 100\n",
      "Confirmed: \t37\n",
      "Tentative: \t5\n",
      "Rejected: \t128\n"
     ]
    },
    {
     "name": "stderr",
     "output_type": "stream",
     "text": [
      "C:\\Users\\martin florent\\AppData\\Local\\Continuum\\anaconda3\\lib\\site-packages\\boruta\\boruta_py.py:418: RuntimeWarning: invalid value encountered in greater\n",
      "  hits = np.where(cur_imp[0] > imp_sha_max)[0]\n"
     ]
    }
   ],
   "source": [
    "if not CACHING:\n",
    "    boruta_selector = PipelineDF(steps=[\n",
    "        (\n",
    "            'preprocess', \n",
    "            make_simple_transformer(\n",
    "                impute_median_columns=sample.features_by_type(Sample.DTYPE_NUMERICAL).columns,\n",
    "                one_hot_encode_columns=sample.features_by_type(Sample.DTYPE_OBJECT).columns,\n",
    "            )\n",
    "        ),\n",
    "        (\n",
    "            'boruta', \n",
    "            BorutaDF(\n",
    "                estimator=RandomForestRegressor(n_jobs=4),\n",
    "                max_iter=100,\n",
    "                n_estimators='auto', \n",
    "                verbose=2, \n",
    "                random_state=42\n",
    "            )\n",
    "        )\n",
    "    ])\n",
    "    \n",
    "    feature_selection = boruta_selector.fit_transform(\n",
    "            sample.features, \n",
    "            sample.target\n",
    "        )\n",
    "    \n",
    "    selected_features = boruta_selector.columns_original\n",
    "\n",
    "    sample_post_boruta = sample.select_features(selected_features)\n",
    "    \n",
    "    selected_features.to_frame()"
   ]
  },
  {
   "cell_type": "code",
   "execution_count": 11,
   "metadata": {
    "ExecuteTime": {
     "end_time": "2019-06-26T08:06:36.271754Z",
     "start_time": "2019-06-26T08:06:36.240508Z"
    },
    "pycharm": {
     "is_executing": false
    }
   },
   "outputs": [],
   "source": [
    "# define a transformer step based on the sample\n",
    "if not CACHING:\n",
    "    preprocessor = make_simple_transformer(\n",
    "            impute_median_columns=sample_post_boruta.features_by_type(Sample.DTYPE_NUMERICAL).columns,\n",
    "            one_hot_encode_columns=sample_post_boruta.features_by_type(Sample.DTYPE_OBJECT).columns,\n",
    "    )\n",
    "    preprocessor"
   ]
  },
  {
   "cell_type": "code",
   "execution_count": 12,
   "metadata": {
    "ExecuteTime": {
     "end_time": "2019-06-26T08:06:36.303005Z",
     "start_time": "2019-06-26T08:06:36.271754Z"
    },
    "pycharm": {
     "is_executing": false
    }
   },
   "outputs": [],
   "source": [
    "if not CACHING:\n",
    "    # define a Model with a preprocessing pipeline\n",
    "    lgbm = ModelGrid(\n",
    "                model=Model(\n",
    "                    preprocessing=preprocessor, estimator=LGBMRegressor()\n",
    "                ),\n",
    "                estimator_parameters={\n",
    "                    \"max_depth\": [5, 10],\n",
    "                    \"min_split_gain\": [0.1, 0.2],\n",
    "                    \"num_leaves\": [50, 100, 200],\n",
    "                    \"random_state\": [42],\n",
    "                },\n",
    "    )\n",
    "    lgbm"
   ]
  },
  {
   "cell_type": "code",
   "execution_count": 13,
   "metadata": {
    "ExecuteTime": {
     "end_time": "2019-06-26T08:06:56.303555Z",
     "start_time": "2019-06-26T08:06:36.303005Z"
    },
    "pycharm": {
     "is_executing": false
    }
   },
   "outputs": [
    {
     "data": {
      "text/plain": [
       "[ModelEvaluation(model=<yieldengine.model.Model object at 0x000001D87DA25088>, parameters={'estimator__max_depth': 10, 'estimator__min_split_gain': 0.1, 'estimator__num_leaves': 50, 'estimator__random_state': 42}, scoring={'test_score': <yieldengine.model.selection.ModelScoring object at 0x000001D87D321BE0>}, ranking_score=-0.48399573591454487),\n",
       " ModelEvaluation(model=<yieldengine.model.Model object at 0x000001D87D3045C8>, parameters={'estimator__max_depth': 10, 'estimator__min_split_gain': 0.1, 'estimator__num_leaves': 100, 'estimator__random_state': 42}, scoring={'test_score': <yieldengine.model.selection.ModelScoring object at 0x000001D87D3214A8>}, ranking_score=-0.48399573591454487),\n",
       " ModelEvaluation(model=<yieldengine.model.Model object at 0x000001D87DA05AC8>, parameters={'estimator__max_depth': 10, 'estimator__min_split_gain': 0.1, 'estimator__num_leaves': 200, 'estimator__random_state': 42}, scoring={'test_score': <yieldengine.model.selection.ModelScoring object at 0x000001D87D321AC8>}, ranking_score=-0.48399573591454487),\n",
       " ModelEvaluation(model=<yieldengine.model.Model object at 0x000001D87D2FA6C8>, parameters={'estimator__max_depth': 10, 'estimator__min_split_gain': 0.2, 'estimator__num_leaves': 50, 'estimator__random_state': 42}, scoring={'test_score': <yieldengine.model.selection.ModelScoring object at 0x000001D87D321DD8>}, ranking_score=-0.49819929348705416),\n",
       " ModelEvaluation(model=<yieldengine.model.Model object at 0x000001D87D315988>, parameters={'estimator__max_depth': 10, 'estimator__min_split_gain': 0.2, 'estimator__num_leaves': 100, 'estimator__random_state': 42}, scoring={'test_score': <yieldengine.model.selection.ModelScoring object at 0x000001D87D321978>}, ranking_score=-0.49819929348705416),\n",
       " ModelEvaluation(model=<yieldengine.model.Model object at 0x000001D87D315388>, parameters={'estimator__max_depth': 10, 'estimator__min_split_gain': 0.2, 'estimator__num_leaves': 200, 'estimator__random_state': 42}, scoring={'test_score': <yieldengine.model.selection.ModelScoring object at 0x000001D87D321860>}, ranking_score=-0.49819929348705416),\n",
       " ModelEvaluation(model=<yieldengine.model.Model object at 0x000001D87DA31988>, parameters={'estimator__max_depth': 5, 'estimator__min_split_gain': 0.1, 'estimator__num_leaves': 50, 'estimator__random_state': 42}, scoring={'test_score': <yieldengine.model.selection.ModelScoring object at 0x000001D87D31F9B0>}, ranking_score=-0.6233341362343553),\n",
       " ModelEvaluation(model=<yieldengine.model.Model object at 0x000001D87D2F6088>, parameters={'estimator__max_depth': 5, 'estimator__min_split_gain': 0.1, 'estimator__num_leaves': 100, 'estimator__random_state': 42}, scoring={'test_score': <yieldengine.model.selection.ModelScoring object at 0x000001D87D31F710>}, ranking_score=-0.6233341362343553),\n",
       " ModelEvaluation(model=<yieldengine.model.Model object at 0x000001D87DA223C8>, parameters={'estimator__max_depth': 5, 'estimator__min_split_gain': 0.1, 'estimator__num_leaves': 200, 'estimator__random_state': 42}, scoring={'test_score': <yieldengine.model.selection.ModelScoring object at 0x000001D87D236EB8>}, ranking_score=-0.6233341362343553),\n",
       " ModelEvaluation(model=<yieldengine.model.Model object at 0x000001D87DA0C908>, parameters={'estimator__max_depth': 5, 'estimator__min_split_gain': 0.2, 'estimator__num_leaves': 50, 'estimator__random_state': 42}, scoring={'test_score': <yieldengine.model.selection.ModelScoring object at 0x000001D87D236F60>}, ranking_score=-0.6264857787648387),\n",
       " ModelEvaluation(model=<yieldengine.model.Model object at 0x000001D87D300948>, parameters={'estimator__max_depth': 5, 'estimator__min_split_gain': 0.2, 'estimator__num_leaves': 100, 'estimator__random_state': 42}, scoring={'test_score': <yieldengine.model.selection.ModelScoring object at 0x000001D87D321898>}, ranking_score=-0.6264857787648387),\n",
       " ModelEvaluation(model=<yieldengine.model.Model object at 0x000001D877F48F48>, parameters={'estimator__max_depth': 5, 'estimator__min_split_gain': 0.2, 'estimator__num_leaves': 200, 'estimator__random_state': 42}, scoring={'test_score': <yieldengine.model.selection.ModelScoring object at 0x000001D87D321358>}, ranking_score=-0.6264857787648387)]"
      ]
     },
     "execution_count": 13,
     "metadata": {},
     "output_type": "execute_result"
    }
   ],
   "source": [
    "if not CACHING:\n",
    "    # define a ModelRanker\n",
    "    model_ranker: ModelRanker = ModelRanker(\n",
    "            grids=[lgbm], cv=circular_cv, scoring=\"r2\"\n",
    "        )\n",
    "\n",
    "    # run the ModelRanker to retrieve a ranking\n",
    "    model_ranking = model_ranker.run(sample=sample_post_boruta)\n",
    "    # noinspection PyStatementEffect\n",
    "else:\n",
    "    model_ranking = None\n",
    "    \n",
    "model_ranking"
   ]
  },
  {
   "cell_type": "code",
   "execution_count": 14,
   "metadata": {
    "ExecuteTime": {
     "end_time": "2019-06-26T08:06:56.334809Z",
     "start_time": "2019-06-26T08:06:56.303555Z"
    },
    "pycharm": {
     "is_executing": false
    }
   },
   "outputs": [],
   "source": [
    "if not CACHING:\n",
    "    # retrieve the best model\n",
    "    best_model = model_ranking[0]\n",
    "    # noinspection PyStatementEffect\n",
    "    best_model\n",
    "else:\n",
    "    best_model = None"
   ]
  },
  {
   "cell_type": "code",
   "execution_count": 15,
   "metadata": {
    "ExecuteTime": {
     "end_time": "2019-06-26T08:06:56.381687Z",
     "start_time": "2019-06-26T08:06:56.334809Z"
    },
    "pycharm": {
     "is_executing": false
    }
   },
   "outputs": [
    {
     "data": {
      "text/plain": [
       "<yieldengine.model.prediction.PredictorCV at 0x1d87d1f4ae8>"
      ]
     },
     "execution_count": 15,
     "metadata": {},
     "output_type": "execute_result"
    }
   ],
   "source": [
    "if not CACHING:\n",
    "    # define a PredictorCV\n",
    "    mp = PredictorCV(\n",
    "        model=best_model.model,\n",
    "        cv=circular_cv,\n",
    "        sample=sample\n",
    "    )\n",
    "\n",
    "    with open(MP_PKL, 'wb') as f:\n",
    "        pickle.dump(mp, f)\n",
    "else:\n",
    "    with open(MP_PKL, 'rb') as f:\n",
    "        mp = pickle.load(f)\n",
    "\n",
    "mp"
   ]
  },
  {
   "cell_type": "markdown",
   "metadata": {},
   "source": [
    "# Simulation Example starts here"
   ]
  },
  {
   "cell_type": "code",
   "execution_count": 16,
   "metadata": {
    "ExecuteTime": {
     "end_time": "2019-06-26T08:06:56.397307Z",
     "start_time": "2019-06-26T08:06:56.381687Z"
    }
   },
   "outputs": [],
   "source": [
    "sim = UnivariateSimulation(predictor=mp)"
   ]
  },
  {
   "cell_type": "code",
   "execution_count": 17,
   "metadata": {
    "ExecuteTime": {
     "end_time": "2019-06-26T08:06:59.960061Z",
     "start_time": "2019-06-26T08:06:56.397307Z"
    }
   },
   "outputs": [
    {
     "data": {
      "text/html": [
       "<div>\n",
       "<style scoped>\n",
       "    .dataframe tbody tr th:only-of-type {\n",
       "        vertical-align: middle;\n",
       "    }\n",
       "\n",
       "    .dataframe tbody tr th {\n",
       "        vertical-align: top;\n",
       "    }\n",
       "\n",
       "    .dataframe thead th {\n",
       "        text-align: right;\n",
       "    }\n",
       "</style>\n",
       "<table border=\"1\" class=\"dataframe\">\n",
       "  <thead>\n",
       "    <tr style=\"text-align: right;\">\n",
       "      <th></th>\n",
       "      <th>split_id</th>\n",
       "      <th>parameter_value</th>\n",
       "      <th>relative_yield_change</th>\n",
       "    </tr>\n",
       "  </thead>\n",
       "  <tbody>\n",
       "    <tr>\n",
       "      <th>0</th>\n",
       "      <td>0</td>\n",
       "      <td>28.0</td>\n",
       "      <td>-0.015381</td>\n",
       "    </tr>\n",
       "    <tr>\n",
       "      <th>1</th>\n",
       "      <td>1</td>\n",
       "      <td>28.0</td>\n",
       "      <td>-0.005069</td>\n",
       "    </tr>\n",
       "    <tr>\n",
       "      <th>2</th>\n",
       "      <td>2</td>\n",
       "      <td>28.0</td>\n",
       "      <td>-0.000018</td>\n",
       "    </tr>\n",
       "    <tr>\n",
       "      <th>3</th>\n",
       "      <td>3</td>\n",
       "      <td>28.0</td>\n",
       "      <td>-0.000829</td>\n",
       "    </tr>\n",
       "    <tr>\n",
       "      <th>4</th>\n",
       "      <td>4</td>\n",
       "      <td>28.0</td>\n",
       "      <td>-0.006987</td>\n",
       "    </tr>\n",
       "  </tbody>\n",
       "</table>\n",
       "</div>"
      ],
      "text/plain": [
       "   split_id  parameter_value  relative_yield_change\n",
       "0         0             28.0              -0.015381\n",
       "1         1             28.0              -0.005069\n",
       "2         2             28.0              -0.000018\n",
       "3         3             28.0              -0.000829\n",
       "4         4             28.0              -0.006987"
      ]
     },
     "execution_count": 17,
     "metadata": {},
     "output_type": "execute_result"
    }
   ],
   "source": [
    "parameterized_feature = \"Step4-6 RawMat Vendor Compound08 Purity (#)\"\n",
    "\n",
    "yield_change = sim.simulate_yield_change(\n",
    "    parameterized_feature=parameterized_feature,\n",
    "    parameter_values=UnivariateSimulation.observed_feature_values(\n",
    "        feature_name=parameterized_feature,\n",
    "        sample=sample\n",
    "    ),\n",
    ")\n",
    "\n",
    "yield_change.head()"
   ]
  },
  {
   "cell_type": "code",
   "execution_count": 18,
   "metadata": {
    "ExecuteTime": {
     "end_time": "2019-06-26T08:07:00.006939Z",
     "start_time": "2019-06-26T08:06:59.960061Z"
    }
   },
   "outputs": [
    {
     "data": {
      "text/html": [
       "<div>\n",
       "<style scoped>\n",
       "    .dataframe tbody tr th:only-of-type {\n",
       "        vertical-align: middle;\n",
       "    }\n",
       "\n",
       "    .dataframe tbody tr th {\n",
       "        vertical-align: top;\n",
       "    }\n",
       "\n",
       "    .dataframe thead tr th {\n",
       "        text-align: left;\n",
       "    }\n",
       "\n",
       "    .dataframe thead tr:last-of-type th {\n",
       "        text-align: right;\n",
       "    }\n",
       "</style>\n",
       "<table border=\"1\" class=\"dataframe\">\n",
       "  <thead>\n",
       "    <tr>\n",
       "      <th></th>\n",
       "      <th colspan=\"3\" halign=\"left\">relative_yield_change</th>\n",
       "    </tr>\n",
       "    <tr>\n",
       "      <th></th>\n",
       "      <th>percentile_10</th>\n",
       "      <th>percentile_50</th>\n",
       "      <th>percentile_90</th>\n",
       "    </tr>\n",
       "    <tr>\n",
       "      <th>parameter_value</th>\n",
       "      <th></th>\n",
       "      <th></th>\n",
       "      <th></th>\n",
       "    </tr>\n",
       "  </thead>\n",
       "  <tbody>\n",
       "    <tr>\n",
       "      <th>24.0</th>\n",
       "      <td>-0.015544</td>\n",
       "      <td>-0.010919</td>\n",
       "      <td>-0.000748</td>\n",
       "    </tr>\n",
       "    <tr>\n",
       "      <th>28.0</th>\n",
       "      <td>-0.017924</td>\n",
       "      <td>-0.010825</td>\n",
       "      <td>-0.000748</td>\n",
       "    </tr>\n",
       "    <tr>\n",
       "      <th>30.0</th>\n",
       "      <td>0.001954</td>\n",
       "      <td>0.012455</td>\n",
       "      <td>0.016605</td>\n",
       "    </tr>\n",
       "    <tr>\n",
       "      <th>31.0</th>\n",
       "      <td>0.002785</td>\n",
       "      <td>0.012958</td>\n",
       "      <td>0.017191</td>\n",
       "    </tr>\n",
       "    <tr>\n",
       "      <th>32.0</th>\n",
       "      <td>0.002827</td>\n",
       "      <td>0.012958</td>\n",
       "      <td>0.017111</td>\n",
       "    </tr>\n",
       "  </tbody>\n",
       "</table>\n",
       "</div>"
      ],
      "text/plain": [
       "                relative_yield_change                            \n",
       "                        percentile_10 percentile_50 percentile_90\n",
       "parameter_value                                                  \n",
       "24.0                        -0.015544     -0.010919     -0.000748\n",
       "28.0                        -0.017924     -0.010825     -0.000748\n",
       "30.0                         0.001954      0.012455      0.016605\n",
       "31.0                         0.002785      0.012958      0.017191\n",
       "32.0                         0.002827      0.012958      0.017111"
      ]
     },
     "execution_count": 18,
     "metadata": {},
     "output_type": "execute_result"
    }
   ],
   "source": [
    "UnivariateSimulation.aggregate_simulated_yield_change(\n",
    "            results_per_split=yield_change, percentiles=[10, 50, 90]\n",
    ")"
   ]
  },
  {
   "cell_type": "markdown",
   "metadata": {},
   "source": [
    "## Interactive inspection of UnivariateSimulation\n",
    "Run the cell below and then select a feature to simulate..."
   ]
  },
  {
   "cell_type": "code",
   "execution_count": 82,
   "metadata": {
    "ExecuteTime": {
     "end_time": "2019-06-26T09:20:38.387376Z",
     "start_time": "2019-06-26T09:20:38.352012Z"
    },
    "scrolled": false
   },
   "outputs": [
    {
     "data": {
      "application/vnd.jupyter.widget-view+json": {
       "model_id": "e50cb74eb6c142a7b4c5cac92627c2dc",
       "version_major": 2,
       "version_minor": 0
      },
      "text/plain": [
       "HBox(children=(Dropdown(description='Feature:', layout=Layout(width='550px'), options=('Step3 Media Compound17…"
      ]
     },
     "metadata": {},
     "output_type": "display_data"
    },
    {
     "data": {
      "image/png": "[encoded data removed]",
      "text/plain": [
       "<Figure size 720x432 with 1 Axes>"
      ]
     },
     "metadata": {
      "needs_background": "light"
     },
     "output_type": "display_data"
    }
   ],
   "source": [
    "from IPython.display import display, clear_output\n",
    "import ipywidgets as widgets\n",
    "\n",
    "dd = widgets.Dropdown(\n",
    "    options=sample_post_boruta.features.columns,\n",
    "    description='Feature:',\n",
    "    disabled=False,\n",
    "    layout={\"width\":\"550px\"}\n",
    ")\n",
    "\n",
    "btn = widgets.Button(\n",
    "    description='Simulate'\n",
    ")\n",
    "\n",
    "def plot_simulation(feature:str):\n",
    "    yield_change = sim.simulate_yield_change(\n",
    "            parameterized_feature=feature,\n",
    "            parameter_values=UnivariateSimulation.observed_feature_values(\n",
    "                feature_name=feature,\n",
    "                sample=sample,\n",
    "                min_relative_frequency=0.03,\n",
    "                limit_observations=100\n",
    "            ),\n",
    "    )\n",
    "    \n",
    "    yield_change_aggr = UnivariateSimulation.aggregate_simulated_yield_change(\n",
    "                    results_per_split=yield_change, percentiles=[10, 50, 90])\n",
    "    \n",
    "    yield_change_aggr.plot(title=feature, figsize=(10,6))\n",
    "\n",
    "def on_click(btn):\n",
    "    clear_output()\n",
    "    display(widgets.HBox([dd, btn]))\n",
    "    plot_simulation(feature=dd.value)\n",
    "    \n",
    "btn.on_click(on_click)    \n",
    "\n",
    "display(widgets.HBox([dd, btn]))"
   ]
  },
  {
   "cell_type": "code",
   "execution_count": 87,
   "metadata": {
    "ExecuteTime": {
     "end_time": "2019-06-26T09:27:01.254562Z",
     "start_time": "2019-06-26T09:27:01.207678Z"
    },
    "scrolled": false
   },
   "outputs": [
    {
     "data": {
      "application/vnd.jupyter.widget-view+json": {
       "model_id": "56330761e6a04335905fee08c51f4051",
       "version_major": 2,
       "version_minor": 0
      },
      "text/plain": [
       "HBox(children=(Dropdown(description='Feature:', index=6, layout=Layout(width='550px'), options=('Step3 Media C…"
      ]
     },
     "metadata": {},
     "output_type": "display_data"
    },
    {
     "data": {
      "image/png": "[encoded data removed]",
      "text/plain": [
       "<Figure size 720x720 with 2 Axes>"
      ]
     },
     "metadata": {
      "needs_background": "light"
     },
     "output_type": "display_data"
    }
   ],
   "source": [
    "from IPython.display import display, clear_output\n",
    "import ipywidgets as widgets\n",
    "\n",
    "\n",
    "dd = widgets.Dropdown(\n",
    "    options=sample_post_boruta.features.columns,\n",
    "    description='Feature:',\n",
    "    disabled=False,\n",
    "    layout={\"width\":\"550px\"}\n",
    ")\n",
    "\n",
    "btn = widgets.Button(\n",
    "    description='Simulate'\n",
    ")\n",
    "\n",
    "def plot_simulation(feature:str):\n",
    "    yield_change = sim.simulate_yield_change(\n",
    "            parameterized_feature=feature,\n",
    "            parameter_values=UnivariateSimulation.observed_feature_values(\n",
    "                feature_name=feature,\n",
    "                sample=sample,\n",
    "                min_relative_frequency=0.03,\n",
    "                limit_observations=100\n",
    "            ),\n",
    "    )\n",
    "    \n",
    "    yield_change_aggr = UnivariateSimulation.aggregate_simulated_yield_change(\n",
    "                    results_per_split=yield_change, percentiles=[10, 50, 90])\n",
    "    \n",
    "    XLABEL_TITLE = f\"{feature}\"\n",
    "    YLABEL_TITLE = f\"Predicted mean yield uplift ({TARGET})\"\n",
    "    COLOR1 = 'red'\n",
    "    COLOR2 = 'silver'\n",
    "    \n",
    "    fig, (ax1, ax2) = plt.subplots(nrows=2, figsize=(10,10), sharex=True)\n",
    "    \n",
    "    # plot lines of prediction\n",
    "    ax1.set_xlabel(XLABEL_TITLE, color='black', labelpad=10, fontsize=12)\n",
    "    ax1.set_ylabel(YLABEL_TITLE, color='black', fontsize=12)\n",
    "    line1, = ax1.plot(yield_change_aggr.index, yield_change_aggr.iloc[:,0], color=COLOR2, linewidth=1)\n",
    "    line2, = ax1.plot(yield_change_aggr.index, yield_change_aggr.iloc[:,1], color=COLOR1)\n",
    "    line3, = ax1.plot(yield_change_aggr.index, yield_change_aggr.iloc[:,2], color=COLOR2, linewidth=1)\n",
    "    ax1.axhline(y=0, color='black', linewidth=.5)\n",
    "    ax1.tick_params(axis='x', labelcolor='black')\n",
    "    for pos in ['top', 'right', 'bottom']:\n",
    "        ax1.spines[pos].set_visible(False)\n",
    "    ax1.tick_params(axis='x', labelbottom=True, bottom=False)\n",
    "    ax1.legend((line3, line2, line1), \n",
    "               ('90th percentile', 'Median', '10th percentile'), \n",
    "               frameon=False,\n",
    "              )\n",
    "    \n",
    "    # plot the histogram\n",
    "    x = sample.features[feature].dropna()\n",
    "    hist_range = (min(yield_change_aggr.index), max(yield_change_aggr.index))\n",
    "    n, bins, patches = ax2.hist(x, edgecolor='white', color=COLOR2, range=hist_range)\n",
    "    bins1 = pd.Series(bins).rolling(window=2).mean().shift(-1).dropna()\n",
    "    ax2.invert_yaxis()\n",
    "    ax2.tick_params(axis='y', labelcolor='black')\n",
    "    max_y = max(n)\n",
    "    y_offset = max_y * 0.05\n",
    "    for (x,y) in zip(bins1, n):\n",
    "        if y>0:\n",
    "            ax2.text(x, y + y_offset, str(int(y)), \n",
    "                    color='black', \n",
    "                    horizontalalignment='center')\n",
    "    ax2.get_yaxis().set_visible(False)\n",
    "    ax2.get_xaxis().set_visible(False)\n",
    "    for pos in ['top', 'right', 'left', 'bottom']:\n",
    "        ax2.spines[pos].set_visible(False)\n",
    "    plt.subplots_adjust(hspace=.2)\n",
    "    plt.show()\n",
    "\n",
    "def on_click(btn):\n",
    "    clear_output()\n",
    "    display(widgets.HBox([dd, btn]))\n",
    "    plot_simulation(feature=dd.value)\n",
    "    \n",
    "btn.on_click(on_click)    \n",
    "display(widgets.HBox([dd, btn]))"
   ]
  },
  {
   "cell_type": "code",
   "execution_count": null,
   "metadata": {},
   "outputs": [],
   "source": []
  }
 ],
 "metadata": {
  "kernelspec": {
   "display_name": "Python 3",
   "language": "python",
   "name": "python3"
  },
  "language_info": {
   "codemirror_mode": {
    "name": "ipython",
    "version": 3
   },
   "file_extension": ".py",
   "mimetype": "text/x-python",
   "name": "python",
   "nbconvert_exporter": "python",
   "pygments_lexer": "ipython3",
   "version": "3.6.7"
  },
  "pycharm": {
   "stem_cell": {
    "cell_type": "raw",
    "metadata": {
     "collapsed": false
    },
    "source": []
   }
  },
  "toc": {
   "base_numbering": 1,
   "nav_menu": {},
   "number_sections": true,
   "sideBar": true,
   "skip_h1_title": false,
   "title_cell": "Table of Contents",
   "title_sidebar": "Contents",
   "toc_cell": false,
   "toc_position": {},
   "toc_section_display": true,
   "toc_window_display": false
  }
 },
 "nbformat": 4,
 "nbformat_minor": 2
}
