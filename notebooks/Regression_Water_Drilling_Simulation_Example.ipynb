{
    "cells": [
        {
            "cell_type": "code",
            "execution_count": 1,
            "metadata": {
                "ExecuteTime": {
                    "end_time": "2020-08-31T08:33:28.594834Z",
                    "start_time": "2020-08-31T08:33:28.410363Z"
                }
            },
            "outputs": [
                {
                    "name": "stdout",
                    "output_type": "stream",
                    "text": [
                        "working dir is '/Users/hemker konstantin/Documents/repos/Facet/facet'\n",
                        "added `/Users/hemker konstantin/Documents/repos/Facet/pytools/src` to python paths\n",
                        "added `/Users/hemker konstantin/Documents/repos/Facet/facet/src` to python paths\n",
                        "added `/Users/hemker konstantin/Documents/repos/Facet/sklearndf/src` to python paths\n"
                    ]
                }
            ],
            "source": [
                "# this cell's metadata contains\n",
                "# \"nbsphinx\": \"hidden\" so it is hidden by nbsphinx\n",
                "\n",
                "def _set_paths() -> None:\n",
                "    # set the correct path when launched from within PyCharm\n",
                "\n",
                "    module_paths = [\"pytools\", \"facet\", \"sklearndf\"]\n",
                "\n",
                "    import sys\n",
                "    import os\n",
                "    \n",
                "    if 'cwd' not in globals():\n",
                "        # noinspection PyGlobalUndefined\n",
                "        global cwd\n",
                "        cwd = os.path.join(os.getcwd(), os.pardir, os.pardir, os.pardir)\n",
                "        os.chdir(cwd)   \n",
                "    print(f\"working dir is '{os.getcwd()}'\")\n",
                "    for module_path in module_paths:\n",
                "        if module_path not in sys.path:\n",
                "            sys.path.insert(0, os.path.abspath(f\"{cwd}/{os.pardir}/{module_path}/src\"))\n",
                "        print(f\"added `{sys.path[0]}` to python paths\")\n",
                "        \n",
                "def _ignore_warnings():\n",
                "    # ignore irrelevant warnings that would affect the output of this tutorial notebook\n",
                "    \n",
                "    # ignore a useless LGBM warning\n",
                "    import warnings\n",
                "    warnings.filterwarnings(\"ignore\", category=UserWarning, message=r\".*Xcode_8\\.3\\.3\")\n",
                "\n",
                "_set_paths()\n",
                "_ignore_warnings()\n",
                "\n",
                "del _set_paths, _ignore_warnings\n",
                "\n",
                "\n",
                "def _configure_matplotlib():\n",
                "    # set global options for matplotlib\n",
                "    \n",
                "    import matplotlib\n",
                "    \n",
                "    matplotlib.rcParams['figure.figsize'] = (16.0, 8.0)\n",
                "    matplotlib.rcParams['figure.dpi'] = 72\n",
                "\n",
                "_configure_matplotlib()\n",
                "\n",
                "del _configure_matplotlib"
            ]
        },
        {
            "cell_type": "markdown",
            "metadata": {
                "ExecuteTime": {
                    "end_time": "2020-08-28T17:21:45.452088Z",
                    "start_time": "2020-08-28T17:21:45.450036Z"
                }
            },
            "source": [
                "# Imports"
            ]
        },
        {
            "cell_type": "markdown",
            "metadata": {
                "ExecuteTime": {
                    "end_time": "2020-08-28T17:21:38.623408Z",
                    "start_time": "2020-08-28T17:21:38.620085Z"
                }
            },
            "source": [
                "Conventional imports"
            ]
        },
        {
            "cell_type": "code",
            "execution_count": null,
            "metadata": {
                "ExecuteTime": {
                    "end_time": "2020-08-31T08:34:10.269188Z",
                    "start_time": "2020-08-31T08:34:02.013Z"
                }
            },
            "outputs": [],
            "source": [
                "import pandas as pd\n",
                "import numpy as np\n",
                "import matplotlib.pyplot as plt\n",
                "from pathlib import Path"
            ]
        },
        {
            "cell_type": "markdown",
            "metadata": {},
            "source": [
                "Gamma Facet imports"
            ]
        },
        {
            "cell_type": "code",
            "execution_count": 3,
            "metadata": {
                "ExecuteTime": {
                    "end_time": "2020-08-31T08:33:30.464262Z",
                    "start_time": "2020-08-31T08:33:30.101989Z"
                }
            },
            "outputs": [],
            "source": [
                "from facet import Sample\n",
                "from facet.inspection import LearnerInspector\n",
                "from facet.selection import LearnerRanker, LearnerGrid\n",
                "from facet.validation import BootstrapCV\n",
                "from facet.simulation.partition import ContinuousRangePartitioner\n",
                "from facet.simulation import UnivariateUpliftSimulator\n",
                "from facet.simulation.viz import SimulationDrawer"
            ]
        },
        {
            "cell_type": "markdown",
            "metadata": {
                "ExecuteTime": {
                    "end_time": "2020-08-18T14:15:20.686543Z",
                    "start_time": "2020-08-18T14:15:20.683573Z"
                }
            },
            "source": [
                "Sklearndf imports\n",
                "\n",
                "Instead of using the \"regular\" scikit-learn package, we are using the `sklearndf` (see on [GitHub](https://github.com/orgs/BCG-Gamma/sklearndf/)) wrapper which keeps metadata such as column names when passing the data through the scikit-learn learners.  "
            ]
        },
        {
            "cell_type": "code",
            "execution_count": 4,
            "metadata": {
                "ExecuteTime": {
                    "end_time": "2020-08-31T08:33:30.620441Z",
                    "start_time": "2020-08-31T08:33:30.465741Z"
                }
            },
            "outputs": [
                {
                    "name": "stderr",
                    "output_type": "stream",
                    "text": [
                        "The sklearn.linear_model.stochastic_gradient module is  deprecated in version 0.22 and will be removed in version 0.24. The corresponding classes / functions should instead be imported from sklearn.linear_model. Anything that cannot be imported from sklearn.linear_model is now part of the private API.\n"
                    ]
                }
            ],
            "source": [
                "# sklearndf\n",
                "from sklearndf.pipeline import PipelineDF, RegressorPipelineDF\n",
                "from sklearndf.regression import RandomForestRegressorDF\n",
                "from sklearndf.regression.extra import LGBMRegressorDF\n",
                "from sklearndf.transformation.extra import BorutaDF\n",
                "from sklearndf.transformation import SimpleImputerDF\n"
            ]
        },
        {
            "cell_type": "code",
            "execution_count": 5,
            "metadata": {
                "ExecuteTime": {
                    "end_time": "2020-08-31T08:33:30.629194Z",
                    "start_time": "2020-08-31T08:33:30.622223Z"
                }
            },
            "outputs": [],
            "source": [
                "from pytools.viz.dendrogram import DendrogramDrawer, DendrogramReportStyle\n",
                "from pytools.viz.distribution import ECDFDrawer\n",
                "from pytools.viz.matrix import MatrixDrawer"
            ]
        },
        {
            "cell_type": "code",
            "execution_count": null,
            "metadata": {},
            "outputs": [],
            "source": [
                "# this\n",
                "from sklearn.pipeline import Pipeline\n",
                "# becomes this\n",
                "from sklearndf.pipeline import PipelineDF"
            ]
        },
        {
            "cell_type": "code",
            "execution_count": 32,
            "metadata": {
                "ExecuteTime": {
                    "end_time": "2020-08-31T08:46:33.795645Z",
                    "start_time": "2020-08-31T08:46:33.792616Z"
                }
            },
            "outputs": [],
            "source": [
                "from facet import Sample\n",
                "import pandas as pd\n",
                "from sklearndf.pipeline import PipelineDF\n",
                "from sklearndf.transformation.extra import BorutaDF\n",
                "from sklearndf.regression import RandomForestRegressorDF\n",
                "from sklearndf.transformation import SimpleImputerDF"
            ]
        },
        {
            "cell_type": "code",
            "execution_count": 7,
            "metadata": {
                "ExecuteTime": {
                    "end_time": "2020-08-31T08:33:30.656685Z",
                    "start_time": "2020-08-31T08:33:30.639398Z"
                }
            },
            "outputs": [],
            "source": [
                "data_root = Path(\"sphinx/source/tutorial/\")\n",
                "df = pd.read_csv(data_root.joinpath(\"water_drill_data.csv\"), sep=\";\", encoding=\"utf-8\")"
            ]
        },
        {
            "cell_type": "code",
            "execution_count": 8,
            "metadata": {
                "ExecuteTime": {
                    "end_time": "2020-08-31T08:33:30.665214Z",
                    "start_time": "2020-08-31T08:33:30.659809Z"
                }
            },
            "outputs": [],
            "source": [
                "# Sample\n",
                "sample = Sample(observations=df, target=\"Failure likelihood (%)\")"
            ]
        },
        {
            "cell_type": "code",
            "execution_count": 33,
            "metadata": {
                "ExecuteTime": {
                    "end_time": "2020-08-31T08:53:50.515286Z",
                    "start_time": "2020-08-31T08:53:26.621355Z"
                }
            },
            "outputs": [
                {
                    "name": "stdout",
                    "output_type": "stream",
                    "text": [
                        "Selected features: ['Weight on bit (kg)', 'Drill rate (m/s)', 'Vertical depth of operation (m)', 'Mud density (kg/m3)', 'Nonlinear1', 'Bit depth (m)']\n"
                    ]
                }
            ],
            "source": [
                "# Wrapper class to implement Boruta feature selection\n",
                "boruta = BorutaDF(\n",
                "    estimator = RandomForestRegressorDF(max_depth=5, random_state=42, n_jobs=3), \n",
                "    n_estimators=\"auto\",  \n",
                "    random_state=42, \n",
                "    verbose=0, \n",
                "    max_iter=100\n",
                ")\n",
                "\n",
                "preprocessing_pipeline = PipelineDF(\n",
                "    steps = [\n",
                "        (\"impute\", SimpleImputerDF()),\n",
                "        (\"feature selection\", boruta)\n",
                "    ]\n",
                "\n",
                ")\n",
                "\n",
                "preprocessing_pipeline.fit(X=sample.features, y=sample.target)\n",
                "\n",
                "print(f\"Selected features: {list(preprocessing_pipeline.features_out)}\")\n",
                "sample_selected = sample.keep(preprocessing_pipeline.features_out)"
            ]
        },
        {
            "cell_type": "markdown",
            "metadata": {},
            "source": [
                "We can see that the key features that we would expect to effect the safety of the operation would are still being included after the feature selection. A working hypothesis of how these influence the target are: \n",
                "- **Weight on bit**: we expect higher weight to increase the likelihood of a failure due to heavier equipment wear\n",
                "- **Drill rate**: similarly to the above, a higher drill rate leads to more wear & tear of the equipment and thus we expect a positive effect\n",
                "- **Vertical depth of operation**: the deeper we dig, the more dense we expect the soil to be that we need to dig through, increasing the likelihood of either a collapse or equipment wear\n",
                "- **Bit depth**: Should contain similar information to the vertical depth of the operation"
            ]
        },
        {
            "cell_type": "markdown",
            "metadata": {
                "ExecuteTime": {
                    "start_time": "2020-08-05T10:53:26.316Z"
                }
            },
            "source": [
                "# Cross validation"
            ]
        },
        {
            "cell_type": "markdown",
            "metadata": {},
            "source": [
                "We will use a simple Bootstrap for the time series analysis here. Note that if we were given a time series dataset here (i.e. if we had timestamps of the GT readings) we could use a stationary bootstrap here using `StationaryBootstrapCV`)"
            ]
        },
        {
            "cell_type": "markdown",
            "metadata": {
                "ExecuteTime": {
                    "end_time": "2020-08-05T11:28:18.712303Z",
                    "start_time": "2020-08-05T11:28:18.709820Z"
                },
                "pycharm": {
                    "name": "#%% md\n"
                }
            },
            "source": [
                "# Regressor Pipeline"
            ]
        },
        {
            "cell_type": "code",
            "execution_count": 34,
            "metadata": {
                "ExecuteTime": {
                    "end_time": "2020-08-31T09:26:34.988045Z",
                    "start_time": "2020-08-31T09:26:34.985394Z"
                },
                "pycharm": {
                    "name": "#%%\n"
                }
            },
            "outputs": [],
            "source": [
                "from facet.selection import LearnerRanker, LearnerGrid\n",
                "from facet.validation import BootstrapCV"
            ]
        },
        {
            "cell_type": "code",
            "execution_count": 16,
            "metadata": {
                "ExecuteTime": {
                    "end_time": "2020-08-31T08:33:54.961942Z",
                    "start_time": "2020-08-31T08:33:54.958552Z"
                }
            },
            "outputs": [],
            "source": [
                "cv = BootstrapCV(n_splits=10, random_state=42)\n",
                "\n",
                "rf_pipeline = RegressorPipelineDF(\n",
                "    regressor=RandomForestRegressorDF(n_estimators=500, random_state=42),\n",
                ")\n",
                "\n",
                "lgbm_pipeline = RegressorPipelineDF(\n",
                "    regressor=LGBMRegressorDF(random_state=42),\n",
                ")\n",
                "\n",
                "\n",
                "grid = [\n",
                "    LearnerGrid(\n",
                "        pipeline=rf_pipeline, \n",
                "        learner_parameters={ \n",
                "            \"min_samples_leaf\": [8, 11, 15]\n",
                "        } \n",
                "        ),\n",
                "    LearnerGrid(\n",
                "        pipeline=lgbm_pipeline, \n",
                "        learner_parameters={ \n",
                "            \"min_data_in_leaf\": [8, 11, 15]\n",
                "        }\n",
                "    )\n",
                "]"
            ]
        },
        {
            "cell_type": "code",
            "execution_count": 17,
            "metadata": {
                "ExecuteTime": {
                    "end_time": "2020-08-31T08:34:04.796507Z",
                    "start_time": "2020-08-31T08:33:54.964092Z"
                }
            },
            "outputs": [],
            "source": [
                "ranker = LearnerRanker( \n",
                "    grids=grid, cv=cv, n_jobs=-3\n",
                ").fit(sample=sample_selected)"
            ]
        },
        {
            "cell_type": "code",
            "execution_count": 18,
            "metadata": {
                "ExecuteTime": {
                    "end_time": "2020-08-31T08:34:04.806643Z",
                    "start_time": "2020-08-31T08:34:04.799183Z"
                },
                "pycharm": {
                    "name": "#%%\n"
                }
            },
            "outputs": [
                {
                    "data": {
                        "text/plain": [
                            "RegressorPipelineDF(regressor=LGBMRegressorDF(min_data_in_leaf=8,\n",
                            "                                              random_state=42))"
                        ]
                    },
                    "execution_count": 18,
                    "metadata": {},
                    "output_type": "execute_result"
                }
            ],
            "source": [
                "ranker.best_model"
            ]
        },
        {
            "cell_type": "code",
            "execution_count": 19,
            "metadata": {
                "ExecuteTime": {
                    "end_time": "2020-08-31T08:34:04.813316Z",
                    "start_time": "2020-08-31T08:34:04.809195Z"
                },
                "pycharm": {
                    "name": "#%%\n"
                }
            },
            "outputs": [
                {
                    "name": "stdout",
                    "output_type": "stream",
                    "text": [
                        "Rank  1:         LGBMRegressorDF, ranking_score=    0.923, scores_mean=    0.948, scores_std=   0.0126, parameters={regressor__min_data_in_leaf=8}\n",
                        "\n",
                        "Rank  2:         LGBMRegressorDF, ranking_score=    0.915, scores_mean=    0.942, scores_std=   0.0137, parameters={regressor__min_data_in_leaf=11}\n",
                        "\n",
                        "Rank  3:         LGBMRegressorDF, ranking_score=    0.903, scores_mean=    0.934, scores_std=   0.0156, parameters={regressor__min_data_in_leaf=15}\n",
                        "\n",
                        "Rank  4: RandomForestRegressorDF, ranking_score=    0.868, scores_mean=    0.908, scores_std=   0.0196, parameters={regressor__min_samples_leaf=8}\n",
                        "\n",
                        "Rank  5: RandomForestRegressorDF, ranking_score=    0.856, scores_mean=    0.894, scores_std=   0.0191, parameters={regressor__min_samples_leaf=11}\n",
                        "\n",
                        "Rank  6: RandomForestRegressorDF, ranking_score=    0.832, scores_mean=    0.877, scores_std=   0.0224, parameters={regressor__min_samples_leaf=15}\n",
                        "\n"
                    ]
                }
            ],
            "source": [
                "print(ranker.summary_report())"
            ]
        },
        {
            "cell_type": "markdown",
            "metadata": {
                "ExecuteTime": {
                    "end_time": "2020-08-05T11:42:06.425585Z",
                    "start_time": "2020-08-05T11:42:06.423740Z"
                },
                "pycharm": {
                    "name": "#%% md\n"
                }
            },
            "source": [
                "# Model inspection"
            ]
        },
        {
            "cell_type": "code",
            "execution_count": 20,
            "metadata": {
                "ExecuteTime": {
                    "end_time": "2020-08-31T08:34:09.495621Z",
                    "start_time": "2020-08-31T08:34:04.816216Z"
                }
            },
            "outputs": [
                {
                    "data": {
                        "text/plain": [
                            "<facet.inspection._inspection.LearnerInspector at 0x7fbfd35cae10>"
                        ]
                    },
                    "execution_count": 20,
                    "metadata": {},
                    "output_type": "execute_result"
                }
            ],
            "source": [
                "inspector = LearnerInspector(n_jobs=-3)\n",
                "inspector.fit(crossfit=ranker.best_model_crossfit)"
            ]
        },
        {
            "cell_type": "code",
            "execution_count": 21,
            "metadata": {
                "ExecuteTime": {
                    "end_time": "2020-08-31T08:34:09.500322Z",
                    "start_time": "2020-08-31T08:34:09.497546Z"
                },
                "pycharm": {
                    "name": "#%%\n"
                }
            },
            "outputs": [],
            "source": [
                "redundancy_matrix = inspector.feature_redundancy_matrix()\n",
                "synergy_matrix = inspector.feature_synergy_matrix()"
            ]
        },
        {
            "cell_type": "markdown",
            "metadata": {
                "ExecuteTime": {
                    "end_time": "2020-08-11T15:12:46.059970Z",
                    "start_time": "2020-08-11T15:12:46.055716Z"
                },
                "pycharm": {
                    "name": "#%% md\n"
                }
            },
            "source": [
                "#### Feature redundancy\n",
                "\n",
                "When plotting out the feature redundancy, we can see that there are some features which contain the same information to the model. In this case, these features are the vertical depth of the operation and the bit depth. \n",
                "Intuitively, we can see why these two features are redundant, as the bit depth will be in its most critical stages when it is drilling, i.e. at the vertical depth of operation. \n",
                "\n",
                "As we don't want either of the features to confuse the model inference during the simulation step, we should remove the bit depth for this example."
            ]
        },
        {
            "cell_type": "code",
            "execution_count": null,
            "metadata": {},
            "outputs": [],
            "source": [
                "from facet.inspection import LearnerInspector"
            ]
        },
        {
            "cell_type": "code",
            "execution_count": 35,
            "metadata": {
                "ExecuteTime": {
                    "end_time": "2020-08-31T09:29:19.652252Z",
                    "start_time": "2020-08-31T09:29:11.212923Z"
                }
            },
            "outputs": [
                {
                    "data": {
                        "image/png": "[encoded data removed]",
                        "text/plain": [
                            "<Figure size 432x288 with 2 Axes>"
                        ]
                    },
                    "metadata": {
                        "needs_background": "light"
                    },
                    "output_type": "display_data"
                }
            ],
            "source": [
                "inspector = LearnerInspector(n_jobs=-3)\n",
                "inspector.fit(crossfit=ranker.best_model_crossfit)\n",
                "\n",
                "synergy_matrix = inspector.feature_synergy_matrix()\n",
                "MatrixDrawer(style=\"matplot%\").draw(synergy_matrix, title=\"Synergy\")"
            ]
        },
        {
            "cell_type": "code",
            "execution_count": null,
            "outputs": [],
            "source": [
                "redundancy_matrix = inspector.feature_redundancy_matrix()\n",
                "MatrixDrawer(style=\"matplot%\").draw(redundancy_matrix, title=\"Redundancy\")"
            ],
            "metadata": {
                "collapsed": false,
                "pycharm": {
                    "name": "#%%\n"
                }
            }
        },
        {
            "cell_type": "code",
            "execution_count": null,
            "outputs": [],
            "source": [
                "redundant_features = [\"Bit depth [m]\"]\n",
                "sample_selected = sample_selected.drop(redundant_features)"
            ],
            "metadata": {
                "collapsed": false,
                "pycharm": {
                    "name": "#%%\n"
                }
            }
        },
        {
            "cell_type": "markdown",
            "source": [
                "#### Feature synergy\n",
                "When looking at the synergy matrix, we can easily figure out which of the features have an interaction effect on the target. We see that the weight on the bit and the drill rate in combination appear to have a high synergy. \n",
                "\n",
                "In hindsight, this appears obvious - drilling with both high bit weight and a high pace can have a disproportionally large impact on the wear of the equipment."
            ],
            "metadata": {
                "collapsed": false
            }
        },
        {
            "cell_type": "code",
            "execution_count": null,
            "outputs": [],
            "source": [
                "MatrixDrawer(style=\"matplot%\").draw(synergy_matrix, title=\"Synergy\")"
            ],
            "metadata": {
                "collapsed": false,
                "pycharm": {
                    "name": "#%%\n"
                }
            }
        },
        {
            "cell_type": "code",
            "execution_count": null,
            "outputs": [],
            "source": [
                "synergy_matrix"
            ],
            "metadata": {
                "collapsed": false,
                "pycharm": {
                    "name": "#%%\n"
                }
            }
        },
        {
            "cell_type": "markdown",
            "source": [
                "# Simulation"
            ],
            "metadata": {
                "collapsed": false
            }
        },
        {
            "cell_type": "markdown",
            "source": [
                "From the synergy matrix, we can see that the Compressor outlet temperature has the highest synergy with most other features. Therefore, we would want to see how the target behaves if we simulate this feature such that each state had a constant outlet compressor temperature. \n",
                "\n",
                "First of all, let's see if this is also confirmed by the SHAP feature importances. "
            ],
            "metadata": {
                "collapsed": false
            }
        },
        {
            "cell_type": "code",
            "execution_count": null,
            "outputs": [],
            "source": [
                "feat_importance = synergy_matrix.sum(axis=0).reset_index().rename({0: \"Total Synergies\"}, axis=1)\n",
                "feat_importance[\"Total Synergies\"] -= 1"
            ],
            "metadata": {
                "collapsed": false,
                "pycharm": {
                    "name": "#%%\n"
                }
            }
        },
        {
            "cell_type": "code",
            "execution_count": null,
            "outputs": [],
            "source": [
                "feat_importance.sort_values(by=\"Total Synergies\", ascending=False)"
            ],
            "metadata": {
                "collapsed": false,
                "pycharm": {
                    "name": "#%%\n"
                }
            }
        },
        {
            "cell_type": "markdown",
            "source": [
                "We can see that the strong synergies with all other features of the Compressor outlet air temperature is also visible in the aboslute SHAP values. "
            ],
            "metadata": {
                "collapsed": false
            }
        },
        {
            "cell_type": "code",
            "execution_count": null,
            "outputs": [],
            "source": [
                "simulator = UnivariateUpliftSimulator(crossfit = ranker.best_model_crossfit, n_jobs=3)"
            ],
            "metadata": {
                "collapsed": false,
                "pycharm": {
                    "name": "#%%\n"
                }
            }
        },
        {
            "cell_type": "code",
            "execution_count": null,
            "outputs": [],
            "source": [
                "cont_partitioner = ContinuousRangePartitioner()"
            ],
            "metadata": {
                "collapsed": false,
                "pycharm": {
                    "name": "#%%\n"
                }
            }
        },
        {
            "cell_type": "code",
            "execution_count": null,
            "outputs": [],
            "source": [
                "SIM_FEATURE = 'Weight on bit (kg)'\n",
                "simulation = simulator.simulate_feature(name=SIM_FEATURE, partitioner = cont_partitioner)"
            ],
            "metadata": {
                "collapsed": false,
                "pycharm": {
                    "name": "#%%\n"
                }
            }
        },
        {
            "cell_type": "code",
            "execution_count": null,
            "outputs": [],
            "source": [
                "fig, ax = plt.subplots(figsize=(15, 10))\n",
                "\n",
                "SimulationDrawer().draw(\n",
                "    data=simulation, title=SIM_FEATURE\n",
                ")"
            ],
            "metadata": {
                "collapsed": false,
                "pycharm": {
                    "name": "#%%\n"
                }
            }
        },
        {
            "cell_type": "code",
            "execution_count": 36,
            "metadata": {
                "ExecuteTime": {
                    "end_time": "2020-08-31T09:30:10.362980Z",
                    "start_time": "2020-08-31T09:30:10.009361Z"
                }
            },
            "outputs": [
                {
                    "data": {
                        "image/png": "[encoded data removed]",
                        "text/plain": [
                            "<Figure size 432x288 with 2 Axes>"
                        ]
                    },
                    "metadata": {
                        "needs_background": "light"
                    },
                    "output_type": "display_data"
                }
            ],
            "source": [
                "fig, ax = plt.subplots(figsize=(15, 10))\n",
                "\n",
                "SimulationDrawer().draw(\n",
                "    data=simulation, title=SIM_FEATURE\n",
                ")"
            ]
        },
        {
            "cell_type": "code",
            "execution_count": 23,
            "metadata": {
                "ExecuteTime": {
                    "end_time": "2020-08-31T08:34:09.878333Z",
                    "start_time": "2020-08-31T08:34:09.875037Z"
                }
            },
            "outputs": [],
            "source": [
                "redundant_features = [\"Bit depth [m]\"]\n",
                "sample_selected = sample_selected.drop(redundant_features)"
            ]
        },
        {
            "cell_type": "markdown",
            "metadata": {
                "ExecuteTime": {
                    "end_time": "2020-08-11T15:17:27.725770Z",
                    "start_time": "2020-08-11T15:17:27.723200Z"
                },
                "pycharm": {
                    "name": "#%% md\n"
                }
            },
            "source": [
                "#### Feature synergy\n",
                "When looking at the synergy matrix, we can easily figure out which of the features have an interaction effect on the target. We see that the weight on the bit and the drill rate in combination appear to have a high synergy. \n",
                "\n",
                "In hindsight, this appears obvious - drilling with both high bit weight and a high pace can have a disproportionally large impact on the wear of the equipment."
            ]
        },
        {
            "cell_type": "code",
            "execution_count": 24,
            "metadata": {
                "ExecuteTime": {
                    "end_time": "2020-08-31T08:34:10.223653Z",
                    "start_time": "2020-08-31T08:34:09.880444Z"
                },
                "pycharm": {
                    "name": "#%%\n"
                }
            },
            "outputs": [
                {
                    "data": {
                        "image/png": "[encoded data removed]",
                        "text/plain": [
                            "<Figure size 432x288 with 2 Axes>"
                        ]
                    },
                    "metadata": {
                        "needs_background": "light"
                    },
                    "output_type": "display_data"
                }
            ],
            "source": [
                "MatrixDrawer(style=\"matplot%\").draw(synergy_matrix, title=\"Synergy\")"
            ]
        },
        {
            "cell_type": "code",
            "execution_count": 25,
            "metadata": {
                "ExecuteTime": {
                    "end_time": "2020-08-31T08:34:10.235888Z",
                    "start_time": "2020-08-31T08:34:10.225319Z"
                }
            },
            "outputs": [
                {
                    "data": {
                        "text/html": [
                            "<div>\n",
                            "<style scoped>\n",
                            "    .dataframe tbody tr th:only-of-type {\n",
                            "        vertical-align: middle;\n",
                            "    }\n",
                            "\n",
                            "    .dataframe tbody tr th {\n",
                            "        vertical-align: top;\n",
                            "    }\n",
                            "\n",
                            "    .dataframe thead th {\n",
                            "        text-align: right;\n",
                            "    }\n",
                            "</style>\n",
                            "<table border=\"1\" class=\"dataframe\">\n",
                            "  <thead>\n",
                            "    <tr style=\"text-align: right;\">\n",
                            "      <th>feature</th>\n",
                            "      <th>Weight on bit (kg)</th>\n",
                            "      <th>Drill rate (m/s)</th>\n",
                            "      <th>Vertical depth of operation (m)</th>\n",
                            "      <th>Mud density (kg/m3)</th>\n",
                            "      <th>Nonlinear1</th>\n",
                            "      <th>Bit depth (m)</th>\n",
                            "    </tr>\n",
                            "    <tr>\n",
                            "      <th>feature</th>\n",
                            "      <th></th>\n",
                            "      <th></th>\n",
                            "      <th></th>\n",
                            "      <th></th>\n",
                            "      <th></th>\n",
                            "      <th></th>\n",
                            "    </tr>\n",
                            "  </thead>\n",
                            "  <tbody>\n",
                            "    <tr>\n",
                            "      <th>Weight on bit (kg)</th>\n",
                            "      <td>1.000000</td>\n",
                            "      <td>0.228590</td>\n",
                            "      <td>0.047436</td>\n",
                            "      <td>0.042117</td>\n",
                            "      <td>0.023487</td>\n",
                            "      <td>0.049195</td>\n",
                            "    </tr>\n",
                            "    <tr>\n",
                            "      <th>Drill rate (m/s)</th>\n",
                            "      <td>0.228590</td>\n",
                            "      <td>1.000000</td>\n",
                            "      <td>0.069802</td>\n",
                            "      <td>0.048652</td>\n",
                            "      <td>0.032936</td>\n",
                            "      <td>0.044492</td>\n",
                            "    </tr>\n",
                            "    <tr>\n",
                            "      <th>Vertical depth of operation (m)</th>\n",
                            "      <td>0.047436</td>\n",
                            "      <td>0.069802</td>\n",
                            "      <td>1.000000</td>\n",
                            "      <td>0.071369</td>\n",
                            "      <td>0.067288</td>\n",
                            "      <td>0.050473</td>\n",
                            "    </tr>\n",
                            "    <tr>\n",
                            "      <th>Mud density (kg/m3)</th>\n",
                            "      <td>0.042117</td>\n",
                            "      <td>0.048652</td>\n",
                            "      <td>0.071369</td>\n",
                            "      <td>1.000000</td>\n",
                            "      <td>0.079053</td>\n",
                            "      <td>0.081128</td>\n",
                            "    </tr>\n",
                            "    <tr>\n",
                            "      <th>Nonlinear1</th>\n",
                            "      <td>0.023487</td>\n",
                            "      <td>0.032936</td>\n",
                            "      <td>0.067288</td>\n",
                            "      <td>0.079053</td>\n",
                            "      <td>1.000000</td>\n",
                            "      <td>0.070590</td>\n",
                            "    </tr>\n",
                            "    <tr>\n",
                            "      <th>Bit depth (m)</th>\n",
                            "      <td>0.049195</td>\n",
                            "      <td>0.044492</td>\n",
                            "      <td>0.050473</td>\n",
                            "      <td>0.081128</td>\n",
                            "      <td>0.070590</td>\n",
                            "      <td>1.000000</td>\n",
                            "    </tr>\n",
                            "  </tbody>\n",
                            "</table>\n",
                            "</div>"
                        ],
                        "text/plain": [
                            "feature                          Weight on bit (kg)  Drill rate (m/s)  \\\n",
                            "feature                                                                 \n",
                            "Weight on bit (kg)                         1.000000          0.228590   \n",
                            "Drill rate (m/s)                           0.228590          1.000000   \n",
                            "Vertical depth of operation (m)            0.047436          0.069802   \n",
                            "Mud density (kg/m3)                        0.042117          0.048652   \n",
                            "Nonlinear1                                 0.023487          0.032936   \n",
                            "Bit depth (m)                              0.049195          0.044492   \n",
                            "\n",
                            "feature                          Vertical depth of operation (m)  \\\n",
                            "feature                                                            \n",
                            "Weight on bit (kg)                                      0.047436   \n",
                            "Drill rate (m/s)                                        0.069802   \n",
                            "Vertical depth of operation (m)                         1.000000   \n",
                            "Mud density (kg/m3)                                     0.071369   \n",
                            "Nonlinear1                                              0.067288   \n",
                            "Bit depth (m)                                           0.050473   \n",
                            "\n",
                            "feature                          Mud density (kg/m3)  Nonlinear1  \\\n",
                            "feature                                                            \n",
                            "Weight on bit (kg)                          0.042117    0.023487   \n",
                            "Drill rate (m/s)                            0.048652    0.032936   \n",
                            "Vertical depth of operation (m)             0.071369    0.067288   \n",
                            "Mud density (kg/m3)                         1.000000    0.079053   \n",
                            "Nonlinear1                                  0.079053    1.000000   \n",
                            "Bit depth (m)                               0.081128    0.070590   \n",
                            "\n",
                            "feature                          Bit depth (m)  \n",
                            "feature                                         \n",
                            "Weight on bit (kg)                    0.049195  \n",
                            "Drill rate (m/s)                      0.044492  \n",
                            "Vertical depth of operation (m)       0.050473  \n",
                            "Mud density (kg/m3)                   0.081128  \n",
                            "Nonlinear1                            0.070590  \n",
                            "Bit depth (m)                         1.000000  "
                        ]
                    },
                    "execution_count": 25,
                    "metadata": {},
                    "output_type": "execute_result"
                }
            ],
            "source": [
                "synergy_matrix"
            ]
        },
        {
            "cell_type": "markdown",
            "metadata": {
                "pycharm": {
                    "name": "#%% md\n"
                }
            },
            "source": [
                "# Simulation"
            ]
        },
        {
            "cell_type": "markdown",
            "metadata": {
                "ExecuteTime": {
                    "end_time": "2020-08-07T15:56:26.709687Z",
                    "start_time": "2020-08-07T15:56:26.682253Z"
                }
            },
            "source": [
                "From the synergy matrix, we can see that the Compressor outlet temperature has the highest synergy with most other features. Therefore, we would want to see how the target behaves if we simulate this feature such that each state had a constant outlet compressor temperature. \n",
                "\n",
                "First of all, let's see if this is also confirmed by the SHAP feature importances. "
            ]
        },
        {
            "cell_type": "code",
            "execution_count": 26,
            "metadata": {
                "ExecuteTime": {
                    "end_time": "2020-08-31T08:34:10.244437Z",
                    "start_time": "2020-08-31T08:34:10.237536Z"
                },
                "pycharm": {
                    "name": "#%%\n"
                }
            },
            "outputs": [],
            "source": [
                "feat_importance = synergy_matrix.sum(axis=0).reset_index().rename({0: \"Total Synergies\"}, axis=1)\n",
                "feat_importance[\"Total Synergies\"] -= 1"
            ]
        },
        {
            "cell_type": "code",
            "execution_count": 27,
            "metadata": {
                "ExecuteTime": {
                    "end_time": "2020-08-31T08:34:10.253592Z",
                    "start_time": "2020-08-31T08:34:10.245903Z"
                }
            },
            "outputs": [
                {
                    "data": {
                        "text/html": [
                            "<div>\n",
                            "<style scoped>\n",
                            "    .dataframe tbody tr th:only-of-type {\n",
                            "        vertical-align: middle;\n",
                            "    }\n",
                            "\n",
                            "    .dataframe tbody tr th {\n",
                            "        vertical-align: top;\n",
                            "    }\n",
                            "\n",
                            "    .dataframe thead th {\n",
                            "        text-align: right;\n",
                            "    }\n",
                            "</style>\n",
                            "<table border=\"1\" class=\"dataframe\">\n",
                            "  <thead>\n",
                            "    <tr style=\"text-align: right;\">\n",
                            "      <th></th>\n",
                            "      <th>feature</th>\n",
                            "      <th>Total Synergies</th>\n",
                            "    </tr>\n",
                            "  </thead>\n",
                            "  <tbody>\n",
                            "    <tr>\n",
                            "      <th>1</th>\n",
                            "      <td>Drill rate (m/s)</td>\n",
                            "      <td>0.424472</td>\n",
                            "    </tr>\n",
                            "    <tr>\n",
                            "      <th>0</th>\n",
                            "      <td>Weight on bit (kg)</td>\n",
                            "      <td>0.390824</td>\n",
                            "    </tr>\n",
                            "    <tr>\n",
                            "      <th>3</th>\n",
                            "      <td>Mud density (kg/m3)</td>\n",
                            "      <td>0.322319</td>\n",
                            "    </tr>\n",
                            "    <tr>\n",
                            "      <th>2</th>\n",
                            "      <td>Vertical depth of operation (m)</td>\n",
                            "      <td>0.306369</td>\n",
                            "    </tr>\n",
                            "    <tr>\n",
                            "      <th>5</th>\n",
                            "      <td>Bit depth (m)</td>\n",
                            "      <td>0.295878</td>\n",
                            "    </tr>\n",
                            "    <tr>\n",
                            "      <th>4</th>\n",
                            "      <td>Nonlinear1</td>\n",
                            "      <td>0.273354</td>\n",
                            "    </tr>\n",
                            "  </tbody>\n",
                            "</table>\n",
                            "</div>"
                        ],
                        "text/plain": [
                            "                           feature  Total Synergies\n",
                            "1                 Drill rate (m/s)         0.424472\n",
                            "0               Weight on bit (kg)         0.390824\n",
                            "3              Mud density (kg/m3)         0.322319\n",
                            "2  Vertical depth of operation (m)         0.306369\n",
                            "5                    Bit depth (m)         0.295878\n",
                            "4                       Nonlinear1         0.273354"
                        ]
                    },
                    "execution_count": 27,
                    "metadata": {},
                    "output_type": "execute_result"
                }
            ],
            "source": [
                "feat_importance.sort_values(by=\"Total Synergies\", ascending=False)"
            ]
        },
        {
            "cell_type": "markdown",
            "metadata": {
                "ExecuteTime": {
                    "end_time": "2020-08-07T16:01:58.630423Z",
                    "start_time": "2020-08-07T16:01:58.625941Z"
                },
                "pycharm": {
                    "name": "#%% md\n"
                }
            },
            "source": [
                "We can see that the strong synergies with all other features of the Compressor outlet air temperature is also visible in the aboslute SHAP values. "
            ]
        },
        {
            "cell_type": "code",
            "execution_count": 28,
            "metadata": {
                "ExecuteTime": {
                    "end_time": "2020-08-31T08:34:10.259302Z",
                    "start_time": "2020-08-31T08:34:10.256138Z"
                },
                "pycharm": {
                    "name": "#%%\n"
                }
            },
            "outputs": [],
            "source": [
                "simulator = UnivariateUpliftSimulator(crossfit = ranker.best_model_crossfit, n_jobs=3)"
            ]
        },
        {
            "cell_type": "code",
            "execution_count": 38,
            "metadata": {
                "ExecuteTime": {
                    "end_time": "2020-08-31T09:34:04.743896Z",
                    "start_time": "2020-08-31T09:34:04.741417Z"
                }
            },
            "outputs": [],
            "source": [
                "cont_partitioner = ContinuousRangePartitioner()"
            ]
        },
        {
            "cell_type": "code",
            "execution_count": 39,
            "metadata": {
                "ExecuteTime": {
                    "end_time": "2020-08-31T09:34:15.759056Z",
                    "start_time": "2020-08-31T09:34:15.051788Z"
                },
                "pycharm": {
                    "name": "#%%\n"
                },
                "scrolled": false
            },
            "outputs": [],
            "source": [
                "SIM_FEATURE = 'Weight on bit (kg)'\n",
                "simulation = simulator.simulate_feature(name=SIM_FEATURE, partitioner = cont_partitioner)"
            ]
        },
        {
            "cell_type": "code",
            "execution_count": 40,
            "metadata": {
                "ExecuteTime": {
                    "end_time": "2020-08-31T09:34:18.298969Z",
                    "start_time": "2020-08-31T09:34:18.060638Z"
                }
            },
            "outputs": [
                {
                    "data": {
                        "image/png": "[encoded data removed]",
                        "text/plain": [
                            "<Figure size 1080x720 with 2 Axes>"
                        ]
                    },
                    "metadata": {
                        "needs_background": "light"
                    },
                    "output_type": "display_data"
                }
            ],
            "source": [
                "fig, ax = plt.subplots(figsize=(15, 10))\n",
                "\n",
                "SimulationDrawer().draw(\n",
                "    data=simulation, title=SIM_FEATURE\n",
                ")"
            ]
        }
    ],
    "metadata": {
        "kernelspec": {
            "display_name": "Python 3",
            "language": "python",
            "name": "python3"
        },
        "language_info": {
            "codemirror_mode": {
                "name": "ipython",
                "version": 3
            },
            "file_extension": ".py",
            "mimetype": "text/x-python",
            "name": "python",
            "nbconvert_exporter": "python",
            "pygments_lexer": "ipython3",
            "version": "3.7.8"
        },
        "toc": {
            "base_numbering": 1,
            "nav_menu": {},
            "number_sections": true,
            "sideBar": true,
            "skip_h1_title": false,
            "title_cell": "Table of Contents",
            "title_sidebar": "Contents",
            "toc_cell": false,
            "toc_position": {},
            "toc_section_display": true,
            "toc_window_display": false
        }
    },
    "nbformat": 4,
    "nbformat_minor": 2
}