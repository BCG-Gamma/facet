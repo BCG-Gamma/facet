{
 "cells": [
  {
   "cell_type": "markdown",
   "metadata": {},
   "source": [
    "# Front matter\n",
    "\n",
    "_Important_: On first run, set CACHING to True"
   ]
  },
  {
   "cell_type": "code",
   "execution_count": 1,
   "metadata": {
    "ExecuteTime": {
     "end_time": "2019-06-28T16:25:13.223436Z",
     "start_time": "2019-06-28T16:25:13.192186Z"
    },
    "pycharm": {
     "is_executing": false
    }
   },
   "outputs": [],
   "source": [
    "CACHING = False\n",
    "EXPERIMENTAL = False"
   ]
  },
  {
   "cell_type": "markdown",
   "metadata": {
    "pycharm": {
     "is_executing": false,
     "name": "#%% md\n"
    }
   },
   "source": [
    "## Set path"
   ]
  },
  {
   "cell_type": "code",
   "execution_count": 2,
   "metadata": {
    "ExecuteTime": {
     "end_time": "2019-06-28T16:25:13.254687Z",
     "start_time": "2019-06-28T16:25:13.223436Z"
    },
    "pycharm": {
     "is_executing": false,
     "name": "#%%\n"
    }
   },
   "outputs": [],
   "source": [
    "PATH_YIELD_ENGINE = 'src'\n",
    "\n",
    "def set_paths() -> None:\n",
    "    \"\"\"\n",
    "    set correct working directory and python path when started from within PyCharm\n",
    "    \"\"\"\n",
    "    import sys\n",
    "    import os\n",
    "    \n",
    "    if 'cwd' not in globals():\n",
    "        # noinspection PyGlobalUndefined\n",
    "        global cwd\n",
    "        cwd = os.path.join(os.getcwd(), os.pardir)\n",
    "        os.chdir(cwd)\n",
    "    \n",
    "    print(f\"working dir is '{os.getcwd()}'\")\n",
    "                             \n",
    "    if PATH_YIELD_ENGINE not in sys.path:\n",
    "        sys.path.insert(0, PATH_YIELD_ENGINE)\n",
    "    \n",
    "    print(f\"added `{sys.path[0]}` to python paths\")\n",
    "\n",
    "set_paths()"
   ]
  },
  {
   "cell_type": "markdown",
   "metadata": {},
   "source": [
    "## Imports"
   ]
  },
  {
   "cell_type": "code",
   "execution_count": 3,
   "metadata": {
    "ExecuteTime": {
     "end_time": "2019-06-28T16:25:17.672822Z",
     "start_time": "2019-06-28T16:25:13.254687Z"
    },
    "pycharm": {
     "is_executing": false,
     "name": "#%%  \n"
    }
   },
   "outputs": [
    {
     "name": "stderr",
     "output_type": "stream",
     "text": [
      "C:\\Users\\martin florent\\AppData\\Local\\Continuum\\anaconda3\\envs\\yield-engine\\lib\\site-packages\\tqdm\\autonotebook\\__init__.py:14: TqdmExperimentalWarning: Using `tqdm.autonotebook.tqdm` in notebook mode. Use `tqdm.tqdm` instead to force console mode (e.g. in jupyter console)\n",
      "  \" (e.g. in jupyter console)\", TqdmExperimentalWarning)\n"
     ]
    }
   ],
   "source": [
    "import logging\n",
    "import os\n",
    "import pickle\n",
    "\n",
    "import numpy as np\n",
    "import pandas as pd\n",
    "from sklearn.ensemble import RandomForestRegressor\n",
    "from lightgbm.sklearn import LGBMRegressor\n",
    "from matplotlib import cm\n",
    "from matplotlib.pyplot import figure\n",
    "from matplotlib.ticker import ScalarFormatter\n",
    "from sklearn.ensemble import RandomForestRegressor\n",
    "from boruta import BorutaPy\n",
    "import matplotlib.pyplot as plt\n",
    "\n",
    "import tests\n",
    "from tests.model import make_simple_transformer\n",
    "from tests.paths import TEST_DATA_CSV\n",
    "from yieldengine import Sample\n",
    "from yieldengine.dendrogram import DendrogramDrawer\n",
    "from yieldengine.dendrogram.style import FeatMapStyle, LineStyle\n",
    "from yieldengine.preprocessing.impute import SimpleImputerDF\n",
    "from yieldengine.preprocessing.selection import BorutaDF\n",
    "from yieldengine.model.prediction import PredictorCV\n",
    "from yieldengine.df.pipeline import PipelineDF\n",
    "from yieldengine.model.selection import Model, ModelGrid, ModelRanker\n",
    "from yieldengine.model.validation import CircularCrossValidator\n",
    "from yieldengine.simulation import UnivariateSimulation\n",
    "from yieldengine.model.inspection import ModelInspector"
   ]
  },
  {
   "cell_type": "code",
   "execution_count": 4,
   "metadata": {
    "ExecuteTime": {
     "end_time": "2019-06-28T16:25:17.703729Z",
     "start_time": "2019-06-28T16:25:17.672822Z"
    },
    "pycharm": {
     "is_executing": false
    }
   },
   "outputs": [],
   "source": [
    "%matplotlib inline"
   ]
  },
  {
   "cell_type": "code",
   "execution_count": 5,
   "metadata": {
    "ExecuteTime": {
     "end_time": "2019-06-28T16:25:17.719392Z",
     "start_time": "2019-06-28T16:25:17.703729Z"
    },
    "pycharm": {
     "is_executing": false
    }
   },
   "outputs": [],
   "source": [
    "PATH_TMP = 'tmp'\n",
    "MI_PKL = os.path.join(PATH_TMP, 'model_inspector.pkl')\n",
    "MP_PKL = os.path.join(PATH_TMP, 'model_predictor.pkl')"
   ]
  },
  {
   "cell_type": "code",
   "execution_count": 6,
   "metadata": {
    "ExecuteTime": {
     "end_time": "2019-06-28T16:25:17.734986Z",
     "start_time": "2019-06-28T16:25:17.719392Z"
    },
    "pycharm": {
     "is_executing": false
    }
   },
   "outputs": [],
   "source": [
    "logging.basicConfig(level=logging.DEBUG)\n",
    "logging.getLogger('matplotlib').setLevel(logging.WARNING)"
   ]
  },
  {
   "cell_type": "markdown",
   "metadata": {
    "pycharm": {
     "is_executing": false,
     "name": "#%% md\n"
    }
   },
   "source": [
    "## Load the data file"
   ]
  },
  {
   "cell_type": "code",
   "execution_count": 7,
   "metadata": {
    "ExecuteTime": {
     "end_time": "2019-06-28T16:25:17.860018Z",
     "start_time": "2019-06-28T16:25:17.734986Z"
    },
    "pycharm": {
     "is_executing": false,
     "name": "#%%\n"
    }
   },
   "outputs": [
    {
     "data": {
      "text/html": [
       "<div>\n",
       "<style scoped>\n",
       "    .dataframe tbody tr th:only-of-type {\n",
       "        vertical-align: middle;\n",
       "    }\n",
       "\n",
       "    .dataframe tbody tr th {\n",
       "        vertical-align: top;\n",
       "    }\n",
       "\n",
       "    .dataframe thead th {\n",
       "        text-align: right;\n",
       "    }\n",
       "</style>\n",
       "<table border=\"1\" class=\"dataframe\">\n",
       "  <thead>\n",
       "    <tr style=\"text-align: right;\">\n",
       "      <th></th>\n",
       "      <th>Step4 Fermentation Sensor Data Phase2 Pressure Val04 (mbar)</th>\n",
       "      <th>Step4-6 RawMat Vendor Compound09 Purity Loss on Drying (g)</th>\n",
       "      <th>Step6 Fermentation Sensor Data Phase3 Agitation Speed Val03 No1 (rounds per minutes)</th>\n",
       "      <th>Step2 RawMat Internal Compound15 Number Openings (#)</th>\n",
       "      <th>Step3 Media Age at Inoculation (days)</th>\n",
       "      <th>Step3 RawMat Internal Compound15 Number Openings (#)</th>\n",
       "      <th>Step4 RawMat Internal Compound01 QC (id)</th>\n",
       "      <th>Step3 Media Compound17 Age at Inoculation (days)</th>\n",
       "      <th>Step4-6 RawMat Internal Compound18 Age (days)</th>\n",
       "      <th>Step6 RawMat Internal Compound04 Vendor (name)</th>\n",
       "      <th>...</th>\n",
       "      <th>Step3 RawMat Vendor Compound05 Manufacturing Date (numeric date)</th>\n",
       "      <th>Step1 Media Compound17 Weight (ml)</th>\n",
       "      <th>Step5 Fermentation Sensor Data Phase1 Duration (minutes)</th>\n",
       "      <th>Step6 Fermentation Sensor Data Phase3 Agitation Speed Sum No2 (rounds per minutes)</th>\n",
       "      <th>Step6 Fermentation Sensor Data Phase3 Oxygen Val04 (%)</th>\n",
       "      <th>Step6 Fermentation Sensor Data Phase3 Temperature Val03 (°C)</th>\n",
       "      <th>Step6 Media Compound20 Age at Inoculation (days)</th>\n",
       "      <th>Step4 RawMat Vendor Compound12 Manufacturing Date (numeric date)</th>\n",
       "      <th>Step5 Fermentation Wait Duration (minutes)</th>\n",
       "      <th>Step4-6 RawMat Internal Compound04 Age (days)</th>\n",
       "    </tr>\n",
       "  </thead>\n",
       "  <tbody>\n",
       "    <tr>\n",
       "      <th>0</th>\n",
       "      <td>NaN</td>\n",
       "      <td>NaN</td>\n",
       "      <td>NaN</td>\n",
       "      <td>13.0</td>\n",
       "      <td>21.0</td>\n",
       "      <td>13.0</td>\n",
       "      <td>FP</td>\n",
       "      <td>36.0</td>\n",
       "      <td>NaN</td>\n",
       "      <td>COMPOUND PROVIDER INC</td>\n",
       "      <td>...</td>\n",
       "      <td>80953.0</td>\n",
       "      <td>174.907237</td>\n",
       "      <td>NaN</td>\n",
       "      <td>NaN</td>\n",
       "      <td>NaN</td>\n",
       "      <td>NaN</td>\n",
       "      <td>3.0</td>\n",
       "      <td>80963.0</td>\n",
       "      <td>767.0</td>\n",
       "      <td>NaN</td>\n",
       "    </tr>\n",
       "    <tr>\n",
       "      <th>1</th>\n",
       "      <td>NaN</td>\n",
       "      <td>NaN</td>\n",
       "      <td>NaN</td>\n",
       "      <td>13.0</td>\n",
       "      <td>21.0</td>\n",
       "      <td>13.0</td>\n",
       "      <td>FP</td>\n",
       "      <td>36.0</td>\n",
       "      <td>NaN</td>\n",
       "      <td>COMPOUND PROVIDER INC</td>\n",
       "      <td>...</td>\n",
       "      <td>80953.0</td>\n",
       "      <td>174.907237</td>\n",
       "      <td>NaN</td>\n",
       "      <td>NaN</td>\n",
       "      <td>NaN</td>\n",
       "      <td>NaN</td>\n",
       "      <td>3.0</td>\n",
       "      <td>80963.0</td>\n",
       "      <td>767.0</td>\n",
       "      <td>NaN</td>\n",
       "    </tr>\n",
       "    <tr>\n",
       "      <th>2</th>\n",
       "      <td>NaN</td>\n",
       "      <td>NaN</td>\n",
       "      <td>NaN</td>\n",
       "      <td>13.0</td>\n",
       "      <td>21.0</td>\n",
       "      <td>13.0</td>\n",
       "      <td>FP</td>\n",
       "      <td>36.0</td>\n",
       "      <td>NaN</td>\n",
       "      <td>COMPOUND PROVIDER INC</td>\n",
       "      <td>...</td>\n",
       "      <td>80953.0</td>\n",
       "      <td>174.907237</td>\n",
       "      <td>NaN</td>\n",
       "      <td>NaN</td>\n",
       "      <td>NaN</td>\n",
       "      <td>NaN</td>\n",
       "      <td>3.0</td>\n",
       "      <td>80963.0</td>\n",
       "      <td>767.0</td>\n",
       "      <td>NaN</td>\n",
       "    </tr>\n",
       "    <tr>\n",
       "      <th>3</th>\n",
       "      <td>790.284723</td>\n",
       "      <td>NaN</td>\n",
       "      <td>417.871938</td>\n",
       "      <td>13.0</td>\n",
       "      <td>25.0</td>\n",
       "      <td>13.0</td>\n",
       "      <td>FP</td>\n",
       "      <td>39.0</td>\n",
       "      <td>NaN</td>\n",
       "      <td>COMPOUND PROVIDER INC</td>\n",
       "      <td>...</td>\n",
       "      <td>80953.0</td>\n",
       "      <td>174.907237</td>\n",
       "      <td>NaN</td>\n",
       "      <td>97499.901386</td>\n",
       "      <td>31.394059</td>\n",
       "      <td>68.835293</td>\n",
       "      <td>4.0</td>\n",
       "      <td>80963.0</td>\n",
       "      <td>727.0</td>\n",
       "      <td>NaN</td>\n",
       "    </tr>\n",
       "    <tr>\n",
       "      <th>4</th>\n",
       "      <td>783.702715</td>\n",
       "      <td>NaN</td>\n",
       "      <td>413.294366</td>\n",
       "      <td>13.0</td>\n",
       "      <td>25.0</td>\n",
       "      <td>13.0</td>\n",
       "      <td>FP</td>\n",
       "      <td>39.0</td>\n",
       "      <td>NaN</td>\n",
       "      <td>COMPOUND PROVIDER INC</td>\n",
       "      <td>...</td>\n",
       "      <td>80953.0</td>\n",
       "      <td>174.907237</td>\n",
       "      <td>NaN</td>\n",
       "      <td>97190.471353</td>\n",
       "      <td>28.432164</td>\n",
       "      <td>68.764230</td>\n",
       "      <td>4.0</td>\n",
       "      <td>80963.0</td>\n",
       "      <td>727.0</td>\n",
       "      <td>NaN</td>\n",
       "    </tr>\n",
       "  </tbody>\n",
       "</table>\n",
       "<p>5 rows × 142 columns</p>\n",
       "</div>"
      ],
      "text/plain": [
       "   Step4 Fermentation Sensor Data Phase2 Pressure Val04 (mbar)  \\\n",
       "0                                                NaN             \n",
       "1                                                NaN             \n",
       "2                                                NaN             \n",
       "3                                         790.284723             \n",
       "4                                         783.702715             \n",
       "\n",
       "   Step4-6 RawMat Vendor Compound09 Purity Loss on Drying (g)  \\\n",
       "0                                                NaN            \n",
       "1                                                NaN            \n",
       "2                                                NaN            \n",
       "3                                                NaN            \n",
       "4                                                NaN            \n",
       "\n",
       "   Step6 Fermentation Sensor Data Phase3 Agitation Speed Val03 No1 (rounds per minutes)  \\\n",
       "0                                                NaN                                      \n",
       "1                                                NaN                                      \n",
       "2                                                NaN                                      \n",
       "3                                         417.871938                                      \n",
       "4                                         413.294366                                      \n",
       "\n",
       "   Step2 RawMat Internal Compound15 Number Openings (#)  \\\n",
       "0                                               13.0      \n",
       "1                                               13.0      \n",
       "2                                               13.0      \n",
       "3                                               13.0      \n",
       "4                                               13.0      \n",
       "\n",
       "   Step3 Media Age at Inoculation (days)  \\\n",
       "0                                   21.0   \n",
       "1                                   21.0   \n",
       "2                                   21.0   \n",
       "3                                   25.0   \n",
       "4                                   25.0   \n",
       "\n",
       "   Step3 RawMat Internal Compound15 Number Openings (#)  \\\n",
       "0                                               13.0      \n",
       "1                                               13.0      \n",
       "2                                               13.0      \n",
       "3                                               13.0      \n",
       "4                                               13.0      \n",
       "\n",
       "  Step4 RawMat Internal Compound01 QC (id)  \\\n",
       "0                                       FP   \n",
       "1                                       FP   \n",
       "2                                       FP   \n",
       "3                                       FP   \n",
       "4                                       FP   \n",
       "\n",
       "   Step3 Media Compound17 Age at Inoculation (days)  \\\n",
       "0                                              36.0   \n",
       "1                                              36.0   \n",
       "2                                              36.0   \n",
       "3                                              39.0   \n",
       "4                                              39.0   \n",
       "\n",
       "   Step4-6 RawMat Internal Compound18 Age (days)  \\\n",
       "0                                            NaN   \n",
       "1                                            NaN   \n",
       "2                                            NaN   \n",
       "3                                            NaN   \n",
       "4                                            NaN   \n",
       "\n",
       "  Step6 RawMat Internal Compound04 Vendor (name)  ...  \\\n",
       "0                          COMPOUND PROVIDER INC  ...   \n",
       "1                          COMPOUND PROVIDER INC  ...   \n",
       "2                          COMPOUND PROVIDER INC  ...   \n",
       "3                          COMPOUND PROVIDER INC  ...   \n",
       "4                          COMPOUND PROVIDER INC  ...   \n",
       "\n",
       "   Step3 RawMat Vendor Compound05 Manufacturing Date (numeric date)  \\\n",
       "0                                            80953.0                  \n",
       "1                                            80953.0                  \n",
       "2                                            80953.0                  \n",
       "3                                            80953.0                  \n",
       "4                                            80953.0                  \n",
       "\n",
       "   Step1 Media Compound17 Weight (ml)  \\\n",
       "0                          174.907237   \n",
       "1                          174.907237   \n",
       "2                          174.907237   \n",
       "3                          174.907237   \n",
       "4                          174.907237   \n",
       "\n",
       "   Step5 Fermentation Sensor Data Phase1 Duration (minutes)  \\\n",
       "0                                                NaN          \n",
       "1                                                NaN          \n",
       "2                                                NaN          \n",
       "3                                                NaN          \n",
       "4                                                NaN          \n",
       "\n",
       "   Step6 Fermentation Sensor Data Phase3 Agitation Speed Sum No2 (rounds per minutes)  \\\n",
       "0                                                NaN                                    \n",
       "1                                                NaN                                    \n",
       "2                                                NaN                                    \n",
       "3                                       97499.901386                                    \n",
       "4                                       97190.471353                                    \n",
       "\n",
       "   Step6 Fermentation Sensor Data Phase3 Oxygen Val04 (%)  \\\n",
       "0                                                NaN        \n",
       "1                                                NaN        \n",
       "2                                                NaN        \n",
       "3                                          31.394059        \n",
       "4                                          28.432164        \n",
       "\n",
       "   Step6 Fermentation Sensor Data Phase3 Temperature Val03 (°C)  \\\n",
       "0                                                NaN              \n",
       "1                                                NaN              \n",
       "2                                                NaN              \n",
       "3                                          68.835293              \n",
       "4                                          68.764230              \n",
       "\n",
       "  Step6 Media Compound20 Age at Inoculation (days)  \\\n",
       "0                                              3.0   \n",
       "1                                              3.0   \n",
       "2                                              3.0   \n",
       "3                                              4.0   \n",
       "4                                              4.0   \n",
       "\n",
       "   Step4 RawMat Vendor Compound12 Manufacturing Date (numeric date)  \\\n",
       "0                                            80963.0                  \n",
       "1                                            80963.0                  \n",
       "2                                            80963.0                  \n",
       "3                                            80963.0                  \n",
       "4                                            80963.0                  \n",
       "\n",
       "   Step5 Fermentation Wait Duration (minutes)  \\\n",
       "0                                       767.0   \n",
       "1                                       767.0   \n",
       "2                                       767.0   \n",
       "3                                       727.0   \n",
       "4                                       727.0   \n",
       "\n",
       "   Step4-6 RawMat Internal Compound04 Age (days)  \n",
       "0                                            NaN  \n",
       "1                                            NaN  \n",
       "2                                            NaN  \n",
       "3                                            NaN  \n",
       "4                                            NaN  \n",
       "\n",
       "[5 rows x 142 columns]"
      ]
     },
     "execution_count": 7,
     "metadata": {},
     "output_type": "execute_result"
    }
   ],
   "source": [
    "inputfile_config = tests.read_test_config(section=\"inputfile\")\n",
    "\n",
    "batch_df = pd.read_csv(\n",
    "    filepath_or_buffer=TEST_DATA_CSV,\n",
    "    delimiter=inputfile_config[\"delimiter\"],\n",
    "    header=inputfile_config[\"header\"],\n",
    "    decimal=inputfile_config[\"decimal\"],\n",
    ")\n",
    "\n",
    "batch_df = batch_df.drop(columns=[\"Date\", \"Batch Id\"])\n",
    "\n",
    "# replace values of +/- infinite with n/a, then drop all n/a columns:\n",
    "batch_df = batch_df.replace([np.inf, -np.inf], np.nan).dropna(\n",
    "    axis=1, how=\"all\"\n",
    ")\n",
    "batch_df.head()"
   ]
  },
  {
   "cell_type": "code",
   "execution_count": null,
   "metadata": {},
   "outputs": [],
   "source": []
  },
  {
   "cell_type": "code",
   "execution_count": 8,
   "metadata": {
    "ExecuteTime": {
     "end_time": "2019-06-28T16:25:17.875644Z",
     "start_time": "2019-06-28T16:25:17.860018Z"
    },
    "pycharm": {
     "is_executing": false
    }
   },
   "outputs": [
    {
     "data": {
      "text/plain": [
       "<yieldengine.Sample at 0x244dca8a548>"
      ]
     },
     "execution_count": 8,
     "metadata": {},
     "output_type": "execute_result"
    }
   ],
   "source": [
    "TARGET = \"Yield\"\n",
    "# define a Sample based on the test batch_file\n",
    "sample = Sample(observations=batch_df, target_name=TARGET)\n",
    "sample"
   ]
  },
  {
   "cell_type": "code",
   "execution_count": 9,
   "metadata": {
    "ExecuteTime": {
     "end_time": "2019-06-28T16:25:17.891234Z",
     "start_time": "2019-06-28T16:25:17.875644Z"
    },
    "pycharm": {
     "is_executing": false
    }
   },
   "outputs": [
    {
     "data": {
      "text/plain": [
       "CircularCrossValidator(num_splits=None, test_ratio=None)"
      ]
     },
     "execution_count": 9,
     "metadata": {},
     "output_type": "execute_result"
    }
   ],
   "source": [
    "# define the circular cross validator with 10 folds\n",
    "circular_cv = CircularCrossValidator(test_ratio=0.2, num_splits=10)\n",
    "\n",
    "circular_cv"
   ]
  },
  {
   "cell_type": "code",
   "execution_count": 10,
   "metadata": {
    "ExecuteTime": {
     "end_time": "2019-06-28T16:27:38.510762Z",
     "start_time": "2019-06-28T16:25:17.891234Z"
    }
   },
   "outputs": [
    {
     "name": "stdout",
     "output_type": "stream",
     "text": [
      "Iteration: \t1 / 100\n",
      "Confirmed: \t0\n",
      "Tentative: \t170\n",
      "Rejected: \t0\n",
      "Iteration: \t2 / 100\n",
      "Confirmed: \t0\n",
      "Tentative: \t170\n",
      "Rejected: \t0\n",
      "Iteration: \t3 / 100\n",
      "Confirmed: \t0\n",
      "Tentative: \t170\n",
      "Rejected: \t0\n",
      "Iteration: \t4 / 100\n",
      "Confirmed: \t0\n",
      "Tentative: \t170\n",
      "Rejected: \t0\n",
      "Iteration: \t5 / 100\n",
      "Confirmed: \t0\n",
      "Tentative: \t170\n",
      "Rejected: \t0\n",
      "Iteration: \t6 / 100\n",
      "Confirmed: \t0\n",
      "Tentative: \t170\n",
      "Rejected: \t0\n",
      "Iteration: \t7 / 100\n",
      "Confirmed: \t0\n",
      "Tentative: \t170\n",
      "Rejected: \t0\n",
      "Iteration: \t8 / 100\n",
      "Confirmed: \t28\n",
      "Tentative: \t22\n",
      "Rejected: \t120\n",
      "Iteration: \t9 / 100\n",
      "Confirmed: \t28\n",
      "Tentative: \t22\n",
      "Rejected: \t120\n",
      "Iteration: \t10 / 100\n",
      "Confirmed: \t28\n",
      "Tentative: \t22\n",
      "Rejected: \t120\n",
      "Iteration: \t11 / 100\n",
      "Confirmed: \t28\n",
      "Tentative: \t22\n",
      "Rejected: \t120\n",
      "Iteration: \t12 / 100\n",
      "Confirmed: \t31\n",
      "Tentative: \t19\n",
      "Rejected: \t120\n",
      "Iteration: \t13 / 100\n",
      "Confirmed: \t31\n",
      "Tentative: \t19\n",
      "Rejected: \t120\n",
      "Iteration: \t14 / 100\n",
      "Confirmed: \t31\n",
      "Tentative: \t18\n",
      "Rejected: \t121\n",
      "Iteration: \t15 / 100\n",
      "Confirmed: \t31\n",
      "Tentative: \t18\n",
      "Rejected: \t121\n",
      "Iteration: \t16 / 100\n",
      "Confirmed: \t31\n",
      "Tentative: \t18\n",
      "Rejected: \t121\n",
      "Iteration: \t17 / 100\n",
      "Confirmed: \t31\n",
      "Tentative: \t18\n",
      "Rejected: \t121\n",
      "Iteration: \t18 / 100\n",
      "Confirmed: \t31\n",
      "Tentative: \t18\n",
      "Rejected: \t121\n",
      "Iteration: \t19 / 100\n",
      "Confirmed: \t32\n",
      "Tentative: \t17\n",
      "Rejected: \t121\n",
      "Iteration: \t20 / 100\n",
      "Confirmed: \t32\n",
      "Tentative: \t17\n",
      "Rejected: \t121\n",
      "Iteration: \t21 / 100\n",
      "Confirmed: \t32\n",
      "Tentative: \t16\n",
      "Rejected: \t122\n",
      "Iteration: \t22 / 100\n",
      "Confirmed: \t32\n",
      "Tentative: \t16\n",
      "Rejected: \t122\n",
      "Iteration: \t23 / 100\n",
      "Confirmed: \t32\n",
      "Tentative: \t16\n",
      "Rejected: \t122\n",
      "Iteration: \t24 / 100\n",
      "Confirmed: \t32\n",
      "Tentative: \t16\n",
      "Rejected: \t122\n",
      "Iteration: \t25 / 100\n",
      "Confirmed: \t32\n",
      "Tentative: \t16\n",
      "Rejected: \t122\n",
      "Iteration: \t26 / 100\n",
      "Confirmed: \t32\n",
      "Tentative: \t16\n",
      "Rejected: \t122\n",
      "Iteration: \t27 / 100\n",
      "Confirmed: \t32\n",
      "Tentative: \t15\n",
      "Rejected: \t123\n",
      "Iteration: \t28 / 100\n",
      "Confirmed: \t32\n",
      "Tentative: \t15\n",
      "Rejected: \t123\n",
      "Iteration: \t29 / 100\n",
      "Confirmed: \t32\n",
      "Tentative: \t15\n",
      "Rejected: \t123\n",
      "Iteration: \t30 / 100\n",
      "Confirmed: \t32\n",
      "Tentative: \t14\n",
      "Rejected: \t124\n",
      "Iteration: \t31 / 100\n",
      "Confirmed: \t32\n",
      "Tentative: \t14\n",
      "Rejected: \t124\n",
      "Iteration: \t32 / 100\n",
      "Confirmed: \t32\n",
      "Tentative: \t14\n",
      "Rejected: \t124\n",
      "Iteration: \t33 / 100\n",
      "Confirmed: \t32\n",
      "Tentative: \t14\n",
      "Rejected: \t124\n",
      "Iteration: \t34 / 100\n",
      "Confirmed: \t32\n",
      "Tentative: \t14\n",
      "Rejected: \t124\n",
      "Iteration: \t35 / 100\n",
      "Confirmed: \t32\n",
      "Tentative: \t14\n",
      "Rejected: \t124\n",
      "Iteration: \t36 / 100\n",
      "Confirmed: \t32\n",
      "Tentative: \t14\n",
      "Rejected: \t124\n",
      "Iteration: \t37 / 100\n",
      "Confirmed: \t32\n",
      "Tentative: \t14\n",
      "Rejected: \t124\n",
      "Iteration: \t38 / 100\n",
      "Confirmed: \t32\n",
      "Tentative: \t13\n",
      "Rejected: \t125\n",
      "Iteration: \t39 / 100\n",
      "Confirmed: \t32\n",
      "Tentative: \t13\n",
      "Rejected: \t125\n",
      "Iteration: \t40 / 100\n",
      "Confirmed: \t33\n",
      "Tentative: \t12\n",
      "Rejected: \t125\n",
      "Iteration: \t41 / 100\n",
      "Confirmed: \t33\n",
      "Tentative: \t12\n",
      "Rejected: \t125\n",
      "Iteration: \t42 / 100\n",
      "Confirmed: \t33\n",
      "Tentative: \t12\n",
      "Rejected: \t125\n",
      "Iteration: \t43 / 100\n",
      "Confirmed: \t33\n",
      "Tentative: \t11\n",
      "Rejected: \t126\n",
      "Iteration: \t44 / 100\n",
      "Confirmed: \t33\n",
      "Tentative: \t11\n",
      "Rejected: \t126\n",
      "Iteration: \t45 / 100\n",
      "Confirmed: \t33\n",
      "Tentative: \t11\n",
      "Rejected: \t126\n",
      "Iteration: \t46 / 100\n",
      "Confirmed: \t33\n",
      "Tentative: \t11\n",
      "Rejected: \t126\n",
      "Iteration: \t47 / 100\n",
      "Confirmed: \t33\n",
      "Tentative: \t11\n",
      "Rejected: \t126\n",
      "Iteration: \t48 / 100\n",
      "Confirmed: \t33\n",
      "Tentative: \t11\n",
      "Rejected: \t126\n",
      "Iteration: \t49 / 100\n",
      "Confirmed: \t33\n",
      "Tentative: \t11\n",
      "Rejected: \t126\n",
      "Iteration: \t50 / 100\n",
      "Confirmed: \t33\n",
      "Tentative: \t11\n",
      "Rejected: \t126\n",
      "Iteration: \t51 / 100\n",
      "Confirmed: \t33\n",
      "Tentative: \t11\n",
      "Rejected: \t126\n",
      "Iteration: \t52 / 100\n",
      "Confirmed: \t33\n",
      "Tentative: \t11\n",
      "Rejected: \t126\n",
      "Iteration: \t53 / 100\n",
      "Confirmed: \t33\n",
      "Tentative: \t11\n",
      "Rejected: \t126\n",
      "Iteration: \t54 / 100\n",
      "Confirmed: \t33\n",
      "Tentative: \t11\n",
      "Rejected: \t126\n",
      "Iteration: \t55 / 100\n",
      "Confirmed: \t33\n",
      "Tentative: \t11\n",
      "Rejected: \t126\n",
      "Iteration: \t56 / 100\n",
      "Confirmed: \t33\n",
      "Tentative: \t11\n",
      "Rejected: \t126\n",
      "Iteration: \t57 / 100\n",
      "Confirmed: \t33\n",
      "Tentative: \t11\n",
      "Rejected: \t126\n",
      "Iteration: \t58 / 100\n",
      "Confirmed: \t33\n",
      "Tentative: \t11\n",
      "Rejected: \t126\n",
      "Iteration: \t59 / 100\n",
      "Confirmed: \t33\n",
      "Tentative: \t9\n",
      "Rejected: \t128\n",
      "Iteration: \t60 / 100\n",
      "Confirmed: \t33\n",
      "Tentative: \t9\n",
      "Rejected: \t128\n",
      "Iteration: \t61 / 100\n",
      "Confirmed: \t33\n",
      "Tentative: \t9\n",
      "Rejected: \t128\n",
      "Iteration: \t62 / 100\n",
      "Confirmed: \t33\n",
      "Tentative: \t9\n",
      "Rejected: \t128\n",
      "Iteration: \t63 / 100\n",
      "Confirmed: \t33\n",
      "Tentative: \t9\n",
      "Rejected: \t128\n",
      "Iteration: \t64 / 100\n",
      "Confirmed: \t33\n",
      "Tentative: \t9\n",
      "Rejected: \t128\n",
      "Iteration: \t65 / 100\n",
      "Confirmed: \t33\n",
      "Tentative: \t9\n",
      "Rejected: \t128\n",
      "Iteration: \t66 / 100\n",
      "Confirmed: \t33\n",
      "Tentative: \t9\n",
      "Rejected: \t128\n",
      "Iteration: \t67 / 100\n",
      "Confirmed: \t33\n",
      "Tentative: \t9\n",
      "Rejected: \t128\n",
      "Iteration: \t68 / 100\n",
      "Confirmed: \t33\n",
      "Tentative: \t9\n",
      "Rejected: \t128\n",
      "Iteration: \t69 / 100\n",
      "Confirmed: \t33\n",
      "Tentative: \t9\n",
      "Rejected: \t128\n",
      "Iteration: \t70 / 100\n",
      "Confirmed: \t33\n",
      "Tentative: \t9\n",
      "Rejected: \t128\n",
      "Iteration: \t71 / 100\n",
      "Confirmed: \t33\n",
      "Tentative: \t9\n",
      "Rejected: \t128\n",
      "Iteration: \t72 / 100\n",
      "Confirmed: \t33\n",
      "Tentative: \t9\n",
      "Rejected: \t128\n",
      "Iteration: \t73 / 100\n",
      "Confirmed: \t33\n",
      "Tentative: \t9\n",
      "Rejected: \t128\n",
      "Iteration: \t74 / 100\n",
      "Confirmed: \t33\n",
      "Tentative: \t9\n",
      "Rejected: \t128\n",
      "Iteration: \t75 / 100\n",
      "Confirmed: \t33\n",
      "Tentative: \t9\n",
      "Rejected: \t128\n",
      "Iteration: \t76 / 100\n",
      "Confirmed: \t33\n",
      "Tentative: \t9\n",
      "Rejected: \t128\n",
      "Iteration: \t77 / 100\n",
      "Confirmed: \t33\n",
      "Tentative: \t9\n",
      "Rejected: \t128\n",
      "Iteration: \t78 / 100\n",
      "Confirmed: \t33\n",
      "Tentative: \t9\n",
      "Rejected: \t128\n",
      "Iteration: \t79 / 100\n",
      "Confirmed: \t33\n",
      "Tentative: \t9\n",
      "Rejected: \t128\n",
      "Iteration: \t80 / 100\n",
      "Confirmed: \t33\n",
      "Tentative: \t9\n",
      "Rejected: \t128\n",
      "Iteration: \t81 / 100\n",
      "Confirmed: \t33\n",
      "Tentative: \t9\n",
      "Rejected: \t128\n",
      "Iteration: \t82 / 100\n",
      "Confirmed: \t33\n",
      "Tentative: \t9\n",
      "Rejected: \t128\n",
      "Iteration: \t83 / 100\n",
      "Confirmed: \t33\n",
      "Tentative: \t9\n",
      "Rejected: \t128\n",
      "Iteration: \t84 / 100\n",
      "Confirmed: \t33\n",
      "Tentative: \t9\n",
      "Rejected: \t128\n",
      "Iteration: \t85 / 100\n",
      "Confirmed: \t33\n",
      "Tentative: \t9\n",
      "Rejected: \t128\n",
      "Iteration: \t86 / 100\n",
      "Confirmed: \t33\n",
      "Tentative: \t9\n",
      "Rejected: \t128\n",
      "Iteration: \t87 / 100\n",
      "Confirmed: \t33\n",
      "Tentative: \t9\n",
      "Rejected: \t128\n",
      "Iteration: \t88 / 100\n",
      "Confirmed: \t34\n",
      "Tentative: \t8\n",
      "Rejected: \t128\n",
      "Iteration: \t89 / 100\n",
      "Confirmed: \t34\n",
      "Tentative: \t8\n",
      "Rejected: \t128\n",
      "Iteration: \t90 / 100\n",
      "Confirmed: \t34\n",
      "Tentative: \t8\n",
      "Rejected: \t128\n",
      "Iteration: \t91 / 100\n",
      "Confirmed: \t34\n",
      "Tentative: \t8\n",
      "Rejected: \t128\n",
      "Iteration: \t92 / 100\n",
      "Confirmed: \t34\n",
      "Tentative: \t8\n",
      "Rejected: \t128\n",
      "Iteration: \t93 / 100\n",
      "Confirmed: \t34\n",
      "Tentative: \t8\n",
      "Rejected: \t128\n",
      "Iteration: \t94 / 100\n",
      "Confirmed: \t34\n",
      "Tentative: \t8\n",
      "Rejected: \t128\n",
      "Iteration: \t95 / 100\n",
      "Confirmed: \t34\n",
      "Tentative: \t8\n",
      "Rejected: \t128\n",
      "Iteration: \t96 / 100\n",
      "Confirmed: \t34\n",
      "Tentative: \t8\n",
      "Rejected: \t128\n",
      "Iteration: \t97 / 100\n",
      "Confirmed: \t34\n",
      "Tentative: \t8\n",
      "Rejected: \t128\n",
      "Iteration: \t98 / 100\n",
      "Confirmed: \t34\n",
      "Tentative: \t8\n",
      "Rejected: \t128\n",
      "Iteration: \t99 / 100\n",
      "Confirmed: \t34\n",
      "Tentative: \t8\n",
      "Rejected: \t128\n",
      "\n",
      "\n",
      "BorutaPy finished running.\n",
      "\n",
      "Iteration: \t100 / 100\n",
      "Confirmed: \t34\n",
      "Tentative: \t7\n",
      "Rejected: \t128\n"
     ]
    }
   ],
   "source": [
    "if not CACHING:\n",
    "    boruta_selector = PipelineDF(steps=[\n",
    "        (\n",
    "            'preprocess', \n",
    "            make_simple_transformer(\n",
    "                impute_median_columns=sample.features_by_type(Sample.DTYPE_NUMERICAL).columns,\n",
    "                one_hot_encode_columns=sample.features_by_type(Sample.DTYPE_OBJECT).columns,\n",
    "            )\n",
    "        ),\n",
    "        (\n",
    "            'boruta', \n",
    "            BorutaDF(\n",
    "                estimator=RandomForestRegressor(n_jobs=4),\n",
    "                max_iter=100,\n",
    "                n_estimators='auto', \n",
    "                verbose=2, \n",
    "                random_state=42\n",
    "            )\n",
    "        )\n",
    "    ])\n",
    "    \n",
    "    feature_selection = boruta_selector.fit_transform(\n",
    "            sample.features, \n",
    "            sample.target\n",
    "        )\n",
    "    \n",
    "    selected_features = boruta_selector.columns_original\n",
    "\n",
    "    sample_post_boruta = sample.select_features(selected_features)\n",
    "    \n",
    "    selected_features.to_frame()"
   ]
  },
  {
   "cell_type": "code",
   "execution_count": 11,
   "metadata": {
    "ExecuteTime": {
     "end_time": "2019-06-28T16:27:38.604488Z",
     "start_time": "2019-06-28T16:27:38.510762Z"
    },
    "pycharm": {
     "is_executing": false
    }
   },
   "outputs": [],
   "source": [
    "# define a transformer step based on the sample\n",
    "if not CACHING:\n",
    "    preprocessor = make_simple_transformer(\n",
    "            impute_median_columns=sample_post_boruta.features_by_type(Sample.DTYPE_NUMERICAL).columns,\n",
    "            one_hot_encode_columns=sample_post_boruta.features_by_type(Sample.DTYPE_OBJECT).columns,\n",
    "    )\n",
    "    preprocessor"
   ]
  },
  {
   "cell_type": "code",
   "execution_count": 12,
   "metadata": {
    "ExecuteTime": {
     "end_time": "2019-06-28T16:27:38.635718Z",
     "start_time": "2019-06-28T16:27:38.604488Z"
    },
    "pycharm": {
     "is_executing": false
    }
   },
   "outputs": [],
   "source": [
    "if not CACHING:\n",
    "    # define a Model with a preprocessing pipeline\n",
    "    lgbm = ModelGrid(\n",
    "                model=Model(\n",
    "                    preprocessing=preprocessor, estimator=LGBMRegressor()\n",
    "                ),\n",
    "                estimator_parameters={\n",
    "                    \"max_depth\": [5],\n",
    "                    \"min_split_gain\": [0.1],\n",
    "                    \"num_leaves\": [50],\n",
    "                    \"random_state\": [42],\n",
    "                    \"n_estimators\": [500]\n",
    "                },\n",
    "    )\n",
    "    lgbm"
   ]
  },
  {
   "cell_type": "code",
   "execution_count": 13,
   "metadata": {
    "ExecuteTime": {
     "end_time": "2019-06-28T16:27:38.666961Z",
     "start_time": "2019-06-28T16:27:38.635718Z"
    },
    "pycharm": {
     "is_executing": false
    }
   },
   "outputs": [],
   "source": [
    "if not CACHING:\n",
    "    # define a Model with a preprocessing pipeline\n",
    "    rf = ModelGrid(\n",
    "                model=Model(\n",
    "                    preprocessing=preprocessor, estimator=RandomForestRegressor()\n",
    "                ),\n",
    "                estimator_parameters={\n",
    "                    \"max_depth\": [5],\n",
    "                    \"random_state\": [42],\n",
    "                    \"n_estimators\": [500]\n",
    "                },\n",
    "    )\n",
    "    rf"
   ]
  },
  {
   "cell_type": "code",
   "execution_count": 14,
   "metadata": {
    "ExecuteTime": {
     "end_time": "2019-06-28T16:27:56.074958Z",
     "start_time": "2019-06-28T16:27:38.666961Z"
    },
    "pycharm": {
     "is_executing": false
    }
   },
   "outputs": [
    {
     "name": "stderr",
     "output_type": "stream",
     "text": [
      "C:\\Users\\martin florent\\AppData\\Local\\Continuum\\anaconda3\\envs\\yield-engine\\lib\\site-packages\\sklearn\\model_selection\\_search.py:813: DeprecationWarning: The default of the `iid` parameter will change from True to False in version 0.22 and will be removed in 0.24. This will change numeric results when test-set sizes are unequal.\n",
      "  DeprecationWarning)\n"
     ]
    },
    {
     "data": {
      "text/html": [
       "[ModelEvaluation(model=<yieldengine.model.Model object at 0x00000244DDB40E08>, parameters={'estimator__max_depth': 5, 'estimator__n_estimators': 500, 'estimator__random_state': 42}, scoring={'test_score': <yieldengine.model.selection.ModelScoring object at 0x00000244DE365E80>}, ranking_score=-1.2138370212629794)]"
      ],
      "text/plain": [
       "[ModelEvaluation(model=<yieldengine.model.Model object at 0x00000244DDB40E08>, parameters={'estimator__max_depth': 5, 'estimator__n_estimators': 500, 'estimator__random_state': 42}, scoring={'test_score': <yieldengine.model.selection.ModelScoring object at 0x00000244DE365E80>}, ranking_score=-1.2138370212629794)]"
      ]
     },
     "execution_count": 14,
     "metadata": {},
     "output_type": "execute_result"
    }
   ],
   "source": [
    "if not CACHING:\n",
    "    # define a ModelRanker\n",
    "    model_ranker: ModelRanker = ModelRanker(\n",
    "            grids=[rf], cv=circular_cv, scoring=\"r2\"\n",
    "        )\n",
    "\n",
    "    # run the ModelRanker to retrieve a ranking\n",
    "    model_ranking = model_ranker.run(sample=sample_post_boruta)\n",
    "    # noinspection PyStatementEffect\n",
    "else:\n",
    "    model_ranking = None\n",
    "    \n",
    "model_ranking"
   ]
  },
  {
   "cell_type": "code",
   "execution_count": 15,
   "metadata": {
    "ExecuteTime": {
     "end_time": "2019-06-28T16:27:56.090329Z",
     "start_time": "2019-06-28T16:27:56.074958Z"
    },
    "pycharm": {
     "is_executing": false
    }
   },
   "outputs": [],
   "source": [
    "if not CACHING:\n",
    "    # retrieve the best model\n",
    "    best_model = model_ranking[0]\n",
    "    # noinspection PyStatementEffect\n",
    "    best_model\n",
    "else:\n",
    "    best_model = None"
   ]
  },
  {
   "cell_type": "code",
   "execution_count": 16,
   "metadata": {
    "ExecuteTime": {
     "end_time": "2019-06-28T16:27:56.121597Z",
     "start_time": "2019-06-28T16:27:56.090329Z"
    }
   },
   "outputs": [
    {
     "data": {
      "text/plain": [
       "ModelEvaluation(model=<yieldengine.model.Model object at 0x00000244DDB40E08>, parameters={'estimator__max_depth': 5, 'estimator__n_estimators': 500, 'estimator__random_state': 42}, scoring={'test_score': <yieldengine.model.selection.ModelScoring object at 0x00000244DE365E80>}, ranking_score=-1.2138370212629794)"
      ]
     },
     "execution_count": 16,
     "metadata": {},
     "output_type": "execute_result"
    }
   ],
   "source": [
    "best_model"
   ]
  },
  {
   "cell_type": "code",
   "execution_count": 17,
   "metadata": {
    "ExecuteTime": {
     "end_time": "2019-06-28T16:27:56.152824Z",
     "start_time": "2019-06-28T16:27:56.121597Z"
    },
    "pycharm": {
     "is_executing": false
    }
   },
   "outputs": [
    {
     "data": {
      "text/plain": [
       "<yieldengine.model.prediction.PredictorCV at 0x244ddb27af0>"
      ]
     },
     "execution_count": 17,
     "metadata": {},
     "output_type": "execute_result"
    }
   ],
   "source": [
    "if not CACHING:\n",
    "    # define a PredictorCV\n",
    "    mp = PredictorCV(\n",
    "        model=best_model.model,\n",
    "        cv=circular_cv,\n",
    "        sample=sample\n",
    "    )\n",
    "\n",
    "    with open(MP_PKL, 'wb') as f:\n",
    "        pickle.dump(mp, f)\n",
    "else:\n",
    "    with open(MP_PKL, 'rb') as f:\n",
    "        mp = pickle.load(f)\n",
    "\n",
    "mp"
   ]
  },
  {
   "cell_type": "markdown",
   "metadata": {},
   "source": [
    "# Test Predictor.predictions_for_all_samples"
   ]
  },
  {
   "cell_type": "code",
   "execution_count": 18,
   "metadata": {
    "ExecuteTime": {
     "end_time": "2019-06-28T16:27:56.179607Z",
     "start_time": "2019-06-28T16:27:56.152824Z"
    }
   },
   "outputs": [
    {
     "data": {
      "text/plain": [
       "RandomForestRegressor(bootstrap=True, criterion='mse', max_depth=5,\n",
       "                      max_features='auto', max_leaf_nodes=None,\n",
       "                      min_impurity_decrease=0.0, min_impurity_split=None,\n",
       "                      min_samples_leaf=1, min_samples_split=2,\n",
       "                      min_weight_fraction_leaf=0.0, n_estimators=500,\n",
       "                      n_jobs=None, oob_score=False, random_state=42, verbose=0,\n",
       "                      warm_start=False)"
      ]
     },
     "execution_count": 18,
     "metadata": {},
     "output_type": "execute_result"
    }
   ],
   "source": [
    "best_model.model.estimator"
   ]
  },
  {
   "cell_type": "code",
   "execution_count": 19,
   "metadata": {
    "ExecuteTime": {
     "end_time": "2019-06-28T16:27:56.187577Z",
     "start_time": "2019-06-28T16:27:56.182573Z"
    }
   },
   "outputs": [],
   "source": [
    "import time"
   ]
  },
  {
   "cell_type": "code",
   "execution_count": 20,
   "metadata": {
    "ExecuteTime": {
     "end_time": "2019-06-28T16:28:31.525625Z",
     "start_time": "2019-06-28T16:27:56.190579Z"
    }
   },
   "outputs": [
    {
     "name": "stdout",
     "output_type": "stream",
     "text": [
      "[Parallel(n_jobs=-1)]: Using backend LokyBackend with 8 concurrent workers.\n",
      "[Parallel(n_jobs=-1)]: Done   1 tasks      | elapsed:    5.9s\n",
      "[Parallel(n_jobs=-1)]: Done   2 out of  10 | elapsed:    8.0s remaining:   32.3s\n",
      "[Parallel(n_jobs=-1)]: Done   3 out of  10 | elapsed:    9.4s remaining:   22.1s\n",
      "[Parallel(n_jobs=-1)]: Done   4 out of  10 | elapsed:   11.3s remaining:   17.1s\n",
      "[Parallel(n_jobs=-1)]: Done   5 out of  10 | elapsed:   13.2s remaining:   13.2s\n",
      "[Parallel(n_jobs=-1)]: Done   6 out of  10 | elapsed:   15.0s remaining:    9.9s\n",
      "[Parallel(n_jobs=-1)]: Done   7 out of  10 | elapsed:   16.7s remaining:    7.1s\n",
      "[Parallel(n_jobs=-1)]: Done   8 out of  10 | elapsed:   17.0s remaining:    4.2s\n",
      "[Parallel(n_jobs=-1)]: Done  10 out of  10 | elapsed:   18.1s remaining:    0.0s\n",
      "[Parallel(n_jobs=-1)]: Done  10 out of  10 | elapsed:   18.1s finished\n",
      "time: 35.29571318626404 sec\n"
     ]
    }
   ],
   "source": [
    "t = time.time()\n",
    "predictor = PredictorCV(model=best_model.model, cv=circular_cv, sample=sample, n_jobs=-1)\n",
    "predictions = predictor.predictions_for_all_samples()\n",
    "print(f\"time: {time.time()-t} sec\")"
   ]
  },
  {
   "cell_type": "code",
   "execution_count": 21,
   "metadata": {
    "ExecuteTime": {
     "end_time": "2019-06-28T16:28:48.868502Z",
     "start_time": "2019-06-28T16:28:31.525625Z"
    }
   },
   "outputs": [
    {
     "name": "stdout",
     "output_type": "stream",
     "text": [
      "[Parallel(n_jobs=1)]: Using backend SequentialBackend with 1 concurrent workers.\n",
      "[Parallel(n_jobs=1)]: Done   1 out of   1 | elapsed:    0.0s remaining:    0.0s\n",
      "[Parallel(n_jobs=1)]: Done   2 out of   2 | elapsed:    0.0s remaining:    0.0s\n",
      "[Parallel(n_jobs=1)]: Done   3 out of   3 | elapsed:    0.0s remaining:    0.0s\n",
      "[Parallel(n_jobs=1)]: Done   4 out of   4 | elapsed:    0.0s remaining:    0.0s\n",
      "[Parallel(n_jobs=1)]: Done   5 out of   5 | elapsed:    0.0s remaining:    0.0s\n",
      "[Parallel(n_jobs=1)]: Done   6 out of   6 | elapsed:    0.0s remaining:    0.0s\n",
      "[Parallel(n_jobs=1)]: Done   7 out of   7 | elapsed:    0.1s remaining:    0.0s\n",
      "[Parallel(n_jobs=1)]: Done   8 out of   8 | elapsed:    0.1s remaining:    0.0s\n",
      "[Parallel(n_jobs=1)]: Done   9 out of   9 | elapsed:    0.1s remaining:    0.0s\n",
      "[Parallel(n_jobs=1)]: Done  10 out of  10 | elapsed:    0.1s remaining:    0.0s\n",
      "[Parallel(n_jobs=1)]: Done  10 out of  10 | elapsed:    0.1s finished\n",
      "time:17.32719111442566 sec\n"
     ]
    }
   ],
   "source": [
    "t = time.time()\n",
    "predictor = PredictorCV(model=best_model.model, cv=circular_cv, sample=sample, n_jobs=1)\n",
    "predictions = predictor.predictions_for_all_samples()\n",
    "print(f\"time:{time.time()-t} sec\")"
   ]
  }
 ],
 "metadata": {
  "kernelspec": {
   "display_name": "Python 3",
   "language": "python",
   "name": "python3"
  },
  "language_info": {
   "codemirror_mode": {
    "name": "ipython",
    "version": 3
   },
   "file_extension": ".py",
   "mimetype": "text/x-python",
   "name": "python",
   "nbconvert_exporter": "python",
   "pygments_lexer": "ipython3",
   "version": "3.6.7"
  },
  "pycharm": {
   "stem_cell": {
    "cell_type": "raw",
    "metadata": {
     "collapsed": false
    },
    "source": []
   }
  },
  "toc": {
   "base_numbering": 1,
   "nav_menu": {},
   "number_sections": true,
   "sideBar": true,
   "skip_h1_title": false,
   "title_cell": "Table of Contents",
   "title_sidebar": "Contents",
   "toc_cell": false,
   "toc_position": {},
   "toc_section_display": true,
   "toc_window_display": false
  }
 },
 "nbformat": 4,
 "nbformat_minor": 2
}
